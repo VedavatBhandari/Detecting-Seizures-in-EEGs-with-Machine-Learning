{
 "cells": [
  {
   "cell_type": "code",
   "execution_count": 38,
   "metadata": {},
   "outputs": [
    {
     "data": {
      "application/vnd.jupyter.widget-view+json": {
       "model_id": "818f9fa05dcf4a389457e9d9cf43f762",
       "version_major": 2,
       "version_minor": 0
      },
      "text/plain": [
       "VBox()"
      ]
     },
     "metadata": {},
     "output_type": "display_data"
    },
    {
     "data": {
      "application/vnd.jupyter.widget-view+json": {
       "model_id": "",
       "version_major": 2,
       "version_minor": 0
      },
      "text/plain": [
       "FloatProgress(value=0.0, bar_style='info', description='Progress:', layout=Layout(height='25px', width='50%'),…"
      ]
     },
     "metadata": {},
     "output_type": "display_data"
    }
   ],
   "source": [
    "\n",
    "\n",
    "\n",
    "from datetime import time\n",
    "from datetime import datetime \n",
    "import mne\n",
    "import pandas as pd\n",
    "from mne.channels.montage import get_builtin_montages\n",
    "import numpy as np\n",
    "import sys\n",
    "from datetime import time\n",
    "from datetime import datetime \n",
    "\n",
    "\n",
    "\n",
    "\n",
    "\n",
    "from sklearn.model_selection import GridSearchCV, StratifiedKFold\n",
    "from sklearn.metrics import roc_curve, precision_recall_curve, auc, make_scorer, recall_score, accuracy_score, precision_score, confusion_matrix\n",
    "\n",
    "import matplotlib.pyplot as plt\n",
    "plt.style.use(\"ggplot\")\n",
    "\n",
    "from mne import io, EvokedArray\n",
    "from mne.decoding import Vectorizer, get_coef\n",
    "from mne.decoding import SlidingEstimator, cross_val_multiscore\n",
    "\n",
    "from imblearn.ensemble import BalancedRandomForestClassifier\n",
    "\n",
    "\n",
    "# from sklearn.ensemble import GradientBoostingClassifier\n",
    "# from sklearn.ensemble import RandomForestClassifier\n",
    "# from sklearn.utils import resample\n",
    "\n",
    "# from sklearn.metrics import confusion_matrix, accuracy_score, f1_score, recall_score, precision_score, classification_report\n",
    "# from sklearn.preprocessing import StandardScaler\n",
    "# from sklearn.metrics import roc_curve, auc, precision_recall_curve\n",
    "# from sklearn.linear_model import LogisticRegression\n",
    "# from sklearn.pipeline import make_pipeline\n",
    "# from sklearn.model_selection import cross_val_score, cross_validate\n",
    "\n",
    "\n",
    "\n",
    "# # import a linear classifier from mne.decoding\n",
    "# from mne.decoding import LinearModel"
   ]
  },
  {
   "cell_type": "code",
   "execution_count": 1,
   "metadata": {},
   "outputs": [
    {
     "data": {
      "application/vnd.jupyter.widget-view+json": {
       "model_id": "91b625beba1c4b5bb54ed99e32077ffb",
       "version_major": 2,
       "version_minor": 0
      },
      "text/plain": [
       "VBox()"
      ]
     },
     "metadata": {},
     "output_type": "display_data"
    },
    {
     "name": "stdout",
     "output_type": "stream",
     "text": [
      "Starting Spark application\n"
     ]
    },
    {
     "data": {
      "text/html": [
       "<table>\n",
       "<tr><th>ID</th><th>YARN Application ID</th><th>Kind</th><th>State</th><th>Spark UI</th><th>Driver log</th><th>Current session?</th></tr><tr><td>0</td><td>application_1572897625407_0001</td><td>pyspark</td><td>idle</td><td><a target=\"_blank\" href=\"http://ip-172-31-33-41.ec2.internal:20888/proxy/application_1572897625407_0001/\">Link</a></td><td><a target=\"_blank\" href=\"http://ip-172-31-33-41.ec2.internal:8042/node/containerlogs/container_1572897625407_0001_01_000001/livy\">Link</a></td><td>✔</td></tr></table>"
      ],
      "text/plain": [
       "<IPython.core.display.HTML object>"
      ]
     },
     "metadata": {},
     "output_type": "display_data"
    },
    {
     "data": {
      "application/vnd.jupyter.widget-view+json": {
       "model_id": "",
       "version_major": 2,
       "version_minor": 0
      },
      "text/plain": [
       "FloatProgress(value=0.0, bar_style='info', description='Progress:', layout=Layout(height='25px', width='50%'),…"
      ]
     },
     "metadata": {},
     "output_type": "display_data"
    },
    {
     "name": "stdout",
     "output_type": "stream",
     "text": [
      "SparkSession available as 'spark'.\n"
     ]
    },
    {
     "data": {
      "application/vnd.jupyter.widget-view+json": {
       "model_id": "",
       "version_major": 2,
       "version_minor": 0
      },
      "text/plain": [
       "FloatProgress(value=0.0, bar_style='info', description='Progress:', layout=Layout(height='25px', width='50%'),…"
      ]
     },
     "metadata": {},
     "output_type": "display_data"
    },
    {
     "name": "stdout",
     "output_type": "stream",
     "text": [
      "Welcome to my EMR Notebook!"
     ]
    }
   ],
   "source": [
    "print(\"Welcome to my EMR Notebook!\")"
   ]
  },
  {
   "cell_type": "code",
   "execution_count": 2,
   "metadata": {},
   "outputs": [
    {
     "data": {
      "text/html": [
       "Current session configs: <tt>{'conf': {'spark.pyspark.python': 'python3', 'spark.pyspark.virtualenv.enabled': 'true', 'spark.pyspark.virtualenv.type': 'native', 'spark.pyspark.virtualenv.bin.path': '/usr/bin/virtualenv'}, 'kind': 'pyspark'}</tt><br>"
      ],
      "text/plain": [
       "<IPython.core.display.HTML object>"
      ]
     },
     "metadata": {},
     "output_type": "display_data"
    },
    {
     "data": {
      "text/html": [
       "<table>\n",
       "<tr><th>ID</th><th>YARN Application ID</th><th>Kind</th><th>State</th><th>Spark UI</th><th>Driver log</th><th>Current session?</th></tr><tr><td>0</td><td>application_1572897625407_0001</td><td>pyspark</td><td>idle</td><td><a target=\"_blank\" href=\"http://ip-172-31-33-41.ec2.internal:20888/proxy/application_1572897625407_0001/\">Link</a></td><td><a target=\"_blank\" href=\"http://ip-172-31-33-41.ec2.internal:8042/node/containerlogs/container_1572897625407_0001_01_000001/livy\">Link</a></td><td>✔</td></tr></table>"
      ],
      "text/plain": [
       "<IPython.core.display.HTML object>"
      ]
     },
     "metadata": {},
     "output_type": "display_data"
    }
   ],
   "source": [
    "%%info\n"
   ]
  },
  {
   "cell_type": "code",
   "execution_count": 5,
   "metadata": {},
   "outputs": [
    {
     "data": {
      "application/vnd.jupyter.widget-view+json": {
       "model_id": "9ad589219fb3420185b84fd28ce1c3d4",
       "version_major": 2,
       "version_minor": 0
      },
      "text/plain": [
       "VBox()"
      ]
     },
     "metadata": {},
     "output_type": "display_data"
    },
    {
     "data": {
      "application/vnd.jupyter.widget-view+json": {
       "model_id": "",
       "version_major": 2,
       "version_minor": 0
      },
      "text/plain": [
       "FloatProgress(value=0.0, bar_style='info', description='Progress:', layout=Layout(height='25px', width='50%'),…"
      ]
     },
     "metadata": {},
     "output_type": "display_data"
    },
    {
     "name": "stdout",
     "output_type": "stream",
     "text": [
      "Package                    Version\n",
      "-------------------------- -------\n",
      "beautifulsoup4             4.8.0  \n",
      "boto                       2.49.0 \n",
      "cycler                     0.10.0 \n",
      "jmespath                   0.9.4  \n",
      "kiwisolver                 1.1.0  \n",
      "lxml                       4.4.1  \n",
      "matplotlib                 3.1.1  \n",
      "mysqlclient                1.4.4  \n",
      "nltk                       3.4.5  \n",
      "nose                       1.3.4  \n",
      "numpy                      1.14.5 \n",
      "pip                        19.3.1 \n",
      "py-dateutil                2.2    \n",
      "pyparsing                  2.4.2  \n",
      "python-dateutil            2.8.1  \n",
      "python36-sagemaker-pyspark 1.2.4  \n",
      "pytz                       2019.2 \n",
      "PyYAML                     3.11   \n",
      "setuptools                 41.6.0 \n",
      "six                        1.12.0 \n",
      "soupsieve                  1.9.3  \n",
      "wheel                      0.33.6 \n",
      "windmill                   1.6"
     ]
    }
   ],
   "source": [
    "sc.list_packages()"
   ]
  },
  {
   "cell_type": "code",
   "execution_count": 4,
   "metadata": {},
   "outputs": [
    {
     "data": {
      "application/vnd.jupyter.widget-view+json": {
       "model_id": "886c2b572863405fbfe3342e149ec895",
       "version_major": 2,
       "version_minor": 0
      },
      "text/plain": [
       "VBox()"
      ]
     },
     "metadata": {},
     "output_type": "display_data"
    },
    {
     "data": {
      "application/vnd.jupyter.widget-view+json": {
       "model_id": "",
       "version_major": 2,
       "version_minor": 0
      },
      "text/plain": [
       "FloatProgress(value=0.0, bar_style='info', description='Progress:', layout=Layout(height='25px', width='50%'),…"
      ]
     },
     "metadata": {},
     "output_type": "display_data"
    },
    {
     "name": "stdout",
     "output_type": "stream",
     "text": [
      "Collecting matplotlib\n",
      "  Downloading https://files.pythonhosted.org/packages/57/4f/dd381ecf6c6ab9bcdaa8ea912e866dedc6e696756156d8ecc087e20817e2/matplotlib-3.1.1-cp36-cp36m-manylinux1_x86_64.whl (13.1MB)\n",
      "Requirement already satisfied: numpy>=1.11 in /usr/local/lib64/python3.6/site-packages (from matplotlib) (1.14.5)\n",
      "Collecting kiwisolver>=1.0.1\n",
      "  Downloading https://files.pythonhosted.org/packages/f8/a1/5742b56282449b1c0968197f63eae486eca2c35dcd334bab75ad524e0de1/kiwisolver-1.1.0-cp36-cp36m-manylinux1_x86_64.whl (90kB)\n",
      "Collecting python-dateutil>=2.1\n",
      "  Downloading https://files.pythonhosted.org/packages/d4/70/d60450c3dd48ef87586924207ae8907090de0b306af2bce5d134d78615cb/python_dateutil-2.8.1-py2.py3-none-any.whl (227kB)\n",
      "Collecting pyparsing!=2.0.4,!=2.1.2,!=2.1.6,>=2.0.1\n",
      "  Downloading https://files.pythonhosted.org/packages/11/fa/0160cd525c62d7abd076a070ff02b2b94de589f1a9789774f17d7c54058e/pyparsing-2.4.2-py2.py3-none-any.whl (65kB)\n",
      "Collecting cycler>=0.10\n",
      "  Downloading https://files.pythonhosted.org/packages/f7/d2/e07d3ebb2bd7af696440ce7e754c59dd546ffe1bbe732c8ab68b9c834e61/cycler-0.10.0-py2.py3-none-any.whl\n",
      "Requirement already satisfied: setuptools in /mnt/tmp/1572898541245-0/lib/python3.6/site-packages (from kiwisolver>=1.0.1->matplotlib) (41.6.0)\n",
      "Requirement already satisfied: six>=1.5 in /usr/local/lib/python3.6/site-packages (from python-dateutil>=2.1->matplotlib) (1.12.0)\n",
      "Installing collected packages: kiwisolver, python-dateutil, pyparsing, cycler, matplotlib\n",
      "Successfully installed cycler-0.10.0 kiwisolver-1.1.0 matplotlib-3.1.1 pyparsing-2.4.2 python-dateutil-2.8.1"
     ]
    }
   ],
   "source": [
    "sc.install_pypi_package(\"matplotlib\", \"https://pypi.org/simple\")"
   ]
  },
  {
   "cell_type": "code",
   "execution_count": 8,
   "metadata": {},
   "outputs": [
    {
     "data": {
      "application/vnd.jupyter.widget-view+json": {
       "model_id": "af9510fc3abb4df1bd4c717b81199ee5",
       "version_major": 2,
       "version_minor": 0
      },
      "text/plain": [
       "VBox()"
      ]
     },
     "metadata": {},
     "output_type": "display_data"
    },
    {
     "data": {
      "application/vnd.jupyter.widget-view+json": {
       "model_id": "",
       "version_major": 2,
       "version_minor": 0
      },
      "text/plain": [
       "FloatProgress(value=0.0, bar_style='info', description='Progress:', layout=Layout(height='25px', width='50%'),…"
      ]
     },
     "metadata": {},
     "output_type": "display_data"
    },
    {
     "name": "stdout",
     "output_type": "stream",
     "text": [
      "Collecting mne==0.19.1\n",
      "  Downloading https://files.pythonhosted.org/packages/16/18/42a64bf66ec7b690d40fc63231bc3b323307ebd69b253137dd91b8ef7fb6/mne-0.19.1-py3-none-any.whl (6.4MB)\n",
      "Requirement already satisfied: numpy>=1.11.3 in /usr/local/lib64/python3.6/site-packages (from mne==0.19.1) (1.14.5)\n",
      "Collecting scipy>=0.17.1\n",
      "  Downloading https://files.pythonhosted.org/packages/29/50/a552a5aff252ae915f522e44642bb49a7b7b31677f9580cfd11bcc869976/scipy-1.3.1-cp36-cp36m-manylinux1_x86_64.whl (25.2MB)\n",
      "Installing collected packages: scipy, mne\n",
      "Successfully installed mne-0.19.1 scipy-1.3.1"
     ]
    }
   ],
   "source": [
    "sc.install_pypi_package(\"mne==0.19.1\", \"https://pypi.org/simple\")"
   ]
  },
  {
   "cell_type": "code",
   "execution_count": 9,
   "metadata": {},
   "outputs": [
    {
     "data": {
      "application/vnd.jupyter.widget-view+json": {
       "model_id": "11450785050a4a448f1084d7185cd18d",
       "version_major": 2,
       "version_minor": 0
      },
      "text/plain": [
       "VBox()"
      ]
     },
     "metadata": {},
     "output_type": "display_data"
    },
    {
     "data": {
      "application/vnd.jupyter.widget-view+json": {
       "model_id": "",
       "version_major": 2,
       "version_minor": 0
      },
      "text/plain": [
       "FloatProgress(value=0.0, bar_style='info', description='Progress:', layout=Layout(height='25px', width='50%'),…"
      ]
     },
     "metadata": {},
     "output_type": "display_data"
    },
    {
     "name": "stdout",
     "output_type": "stream",
     "text": [
      "Collecting pandas==0.25.1\n",
      "  Downloading https://files.pythonhosted.org/packages/73/9b/52e228545d14f14bb2a1622e225f38463c8726645165e1cb7dde95bfe6d4/pandas-0.25.1-cp36-cp36m-manylinux1_x86_64.whl (10.5MB)\n",
      "Requirement already satisfied: numpy>=1.13.3 in /usr/local/lib64/python3.6/site-packages (from pandas==0.25.1) (1.14.5)\n",
      "Requirement already satisfied: python-dateutil>=2.6.1 in /mnt/tmp/1572898541245-0/lib/python3.6/site-packages (from pandas==0.25.1) (2.8.1)\n",
      "Requirement already satisfied: pytz>=2017.2 in /usr/local/lib/python3.6/site-packages (from pandas==0.25.1) (2019.2)\n",
      "Requirement already satisfied: six>=1.5 in /usr/local/lib/python3.6/site-packages (from python-dateutil>=2.6.1->pandas==0.25.1) (1.12.0)\n",
      "Installing collected packages: pandas\n",
      "Successfully installed pandas-0.25.1"
     ]
    }
   ],
   "source": [
    "sc.install_pypi_package(\"pandas==0.25.1\")"
   ]
  },
  {
   "cell_type": "code",
   "execution_count": 10,
   "metadata": {},
   "outputs": [
    {
     "data": {
      "application/vnd.jupyter.widget-view+json": {
       "model_id": "d6b91ef43070433b94b2e9a2057bd1eb",
       "version_major": 2,
       "version_minor": 0
      },
      "text/plain": [
       "VBox()"
      ]
     },
     "metadata": {},
     "output_type": "display_data"
    },
    {
     "data": {
      "application/vnd.jupyter.widget-view+json": {
       "model_id": "",
       "version_major": 2,
       "version_minor": 0
      },
      "text/plain": [
       "FloatProgress(value=0.0, bar_style='info', description='Progress:', layout=Layout(height='25px', width='50%'),…"
      ]
     },
     "metadata": {},
     "output_type": "display_data"
    },
    {
     "name": "stdout",
     "output_type": "stream",
     "text": [
      "Collecting imbalanced-learn==0.5.0\n",
      "  Downloading https://files.pythonhosted.org/packages/e6/62/08c14224a7e242df2cef7b312d2ef821c3931ec9b015ff93bb52ec8a10a3/imbalanced_learn-0.5.0-py3-none-any.whl (173kB)\n",
      "Collecting joblib>=0.11\n",
      "  Downloading https://files.pythonhosted.org/packages/8f/42/155696f85f344c066e17af287359c9786b436b1bf86029bb3411283274f3/joblib-0.14.0-py2.py3-none-any.whl (294kB)\n",
      "Requirement already satisfied: scipy>=0.17 in /mnt/tmp/1572898541245-0/lib64/python3.6/site-packages (from imbalanced-learn==0.5.0) (1.3.1)\n",
      "Requirement already satisfied: numpy>=1.11 in /usr/local/lib64/python3.6/site-packages (from imbalanced-learn==0.5.0) (1.14.5)\n",
      "Collecting scikit-learn>=0.21\n",
      "  Downloading https://files.pythonhosted.org/packages/a0/c5/d2238762d780dde84a20b8c761f563fe882b88c5a5fb03c056547c442a19/scikit_learn-0.21.3-cp36-cp36m-manylinux1_x86_64.whl (6.7MB)\n",
      "Installing collected packages: joblib, scikit-learn, imbalanced-learn\n",
      "Successfully installed imbalanced-learn-0.5.0 joblib-0.14.0 scikit-learn-0.21.3"
     ]
    }
   ],
   "source": [
    "sc.install_pypi_package(\"imbalanced-learn==0.5.0\", \"https://pypi.org/simple\") "
   ]
  },
  {
   "cell_type": "code",
   "execution_count": 11,
   "metadata": {},
   "outputs": [
    {
     "data": {
      "application/vnd.jupyter.widget-view+json": {
       "model_id": "fcd17ffe58f34124903c58a0c1978067",
       "version_major": 2,
       "version_minor": 0
      },
      "text/plain": [
       "VBox()"
      ]
     },
     "metadata": {},
     "output_type": "display_data"
    },
    {
     "data": {
      "application/vnd.jupyter.widget-view+json": {
       "model_id": "",
       "version_major": 2,
       "version_minor": 0
      },
      "text/plain": [
       "FloatProgress(value=0.0, bar_style='info', description='Progress:', layout=Layout(height='25px', width='50%'),…"
      ]
     },
     "metadata": {},
     "output_type": "display_data"
    },
    {
     "name": "stdout",
     "output_type": "stream",
     "text": [
      "Requirement already satisfied: numpy in /usr/local/lib64/python3.6/site-packages (1.14.5)"
     ]
    }
   ],
   "source": [
    "sc.install_pypi_package(\"numpy\")"
   ]
  },
  {
   "cell_type": "code",
   "execution_count": 12,
   "metadata": {},
   "outputs": [
    {
     "data": {
      "application/vnd.jupyter.widget-view+json": {
       "model_id": "192c5e369cbd4abebcb457a4c0aa92bc",
       "version_major": 2,
       "version_minor": 0
      },
      "text/plain": [
       "VBox()"
      ]
     },
     "metadata": {},
     "output_type": "display_data"
    },
    {
     "data": {
      "application/vnd.jupyter.widget-view+json": {
       "model_id": "",
       "version_major": 2,
       "version_minor": 0
      },
      "text/plain": [
       "FloatProgress(value=0.0, bar_style='info', description='Progress:', layout=Layout(height='25px', width='50%'),…"
      ]
     },
     "metadata": {},
     "output_type": "display_data"
    },
    {
     "name": "stdout",
     "output_type": "stream",
     "text": [
      "Requirement already satisfied: scikit-learn==0.21.3 in /mnt/tmp/1572898541245-0/lib64/python3.6/site-packages (0.21.3)\n",
      "Requirement already satisfied: joblib>=0.11 in /mnt/tmp/1572898541245-0/lib/python3.6/site-packages (from scikit-learn==0.21.3) (0.14.0)\n",
      "Requirement already satisfied: scipy>=0.17.0 in /mnt/tmp/1572898541245-0/lib64/python3.6/site-packages (from scikit-learn==0.21.3) (1.3.1)\n",
      "Requirement already satisfied: numpy>=1.11.0 in /usr/local/lib64/python3.6/site-packages (from scikit-learn==0.21.3) (1.14.5)"
     ]
    }
   ],
   "source": [
    "sc.install_pypi_package(\"scikit-learn==0.21.3\", \"https://pypi.org/simple\")"
   ]
  },
  {
   "cell_type": "code",
   "execution_count": 13,
   "metadata": {},
   "outputs": [
    {
     "data": {
      "application/vnd.jupyter.widget-view+json": {
       "model_id": "3cb2eb1a608f468f91ff54b510c0bd96",
       "version_major": 2,
       "version_minor": 0
      },
      "text/plain": [
       "VBox()"
      ]
     },
     "metadata": {},
     "output_type": "display_data"
    },
    {
     "data": {
      "application/vnd.jupyter.widget-view+json": {
       "model_id": "",
       "version_major": 2,
       "version_minor": 0
      },
      "text/plain": [
       "FloatProgress(value=0.0, bar_style='info', description='Progress:', layout=Layout(height='25px', width='50%'),…"
      ]
     },
     "metadata": {},
     "output_type": "display_data"
    },
    {
     "name": "stderr",
     "output_type": "stream",
     "text": [
      "[Errno 2] No such file or directory: 's3://jtagueroeeg/RECORDS'\n",
      "Traceback (most recent call last):\n",
      "FileNotFoundError: [Errno 2] No such file or directory: 's3://jtagueroeeg/RECORDS'\n",
      "\n"
     ]
    }
   ],
   "source": [
    "recs_l = []\n",
    "with open('s3://jtagueroeeg/RECORDS') as f:\n",
    "    line_list = f.read().splitlines()\n",
    "    for elem in line_list:\n",
    "        if len(elem) > 1:\n",
    "            recs_l.append(elem)"
   ]
  },
  {
   "cell_type": "code",
   "execution_count": 14,
   "metadata": {},
   "outputs": [
    {
     "data": {
      "application/vnd.jupyter.widget-view+json": {
       "model_id": "eb0509bfca9f4e329013f946533cc122",
       "version_major": 2,
       "version_minor": 0
      },
      "text/plain": [
       "VBox()"
      ]
     },
     "metadata": {},
     "output_type": "display_data"
    },
    {
     "data": {
      "application/vnd.jupyter.widget-view+json": {
       "model_id": "",
       "version_major": 2,
       "version_minor": 0
      },
      "text/plain": [
       "FloatProgress(value=0.0, bar_style='info', description='Progress:', layout=Layout(height='25px', width='50%'),…"
      ]
     },
     "metadata": {},
     "output_type": "display_data"
    },
    {
     "name": "stderr",
     "output_type": "stream",
     "text": [
      "[Errno 2] No such file or directory: 's3://jtagueroeeg/RECORDS-WITH-SEIZURES'\n",
      "Traceback (most recent call last):\n",
      "FileNotFoundError: [Errno 2] No such file or directory: 's3://jtagueroeeg/RECORDS-WITH-SEIZURES'\n",
      "\n"
     ]
    }
   ],
   "source": [
    "rec_wsl = []\n",
    "with open('s3://jtagueroeeg/RECORDS-WITH-SEIZURES') as f:\n",
    "    line_list = f.readlines()\n",
    "    for elem in line_list:\n",
    "        if len(elem) > 1:\n",
    "            rec_wsl.append(elem.split(\"/\")[1].split('.')[0])\n",
    "rec_wsl[34] = 'chb07_19' "
   ]
  },
  {
   "cell_type": "code",
   "execution_count": 15,
   "metadata": {},
   "outputs": [
    {
     "data": {
      "application/vnd.jupyter.widget-view+json": {
       "model_id": "f07a54e3276349f68c654e8012219567",
       "version_major": 2,
       "version_minor": 0
      },
      "text/plain": [
       "VBox()"
      ]
     },
     "metadata": {},
     "output_type": "display_data"
    },
    {
     "data": {
      "application/vnd.jupyter.widget-view+json": {
       "model_id": "",
       "version_major": 2,
       "version_minor": 0
      },
      "text/plain": [
       "FloatProgress(value=0.0, bar_style='info', description='Progress:', layout=Layout(height='25px', width='50%'),…"
      ]
     },
     "metadata": {},
     "output_type": "display_data"
    }
   ],
   "source": [
    "records = sc.textFile('s3a://jtagueroeeg/RECORDS') "
   ]
  },
  {
   "cell_type": "code",
   "execution_count": 19,
   "metadata": {},
   "outputs": [
    {
     "data": {
      "application/vnd.jupyter.widget-view+json": {
       "model_id": "15ffb360f30a4e25affa929e2f11e51b",
       "version_major": 2,
       "version_minor": 0
      },
      "text/plain": [
       "VBox()"
      ]
     },
     "metadata": {},
     "output_type": "display_data"
    },
    {
     "data": {
      "application/vnd.jupyter.widget-view+json": {
       "model_id": "",
       "version_major": 2,
       "version_minor": 0
      },
      "text/plain": [
       "FloatProgress(value=0.0, bar_style='info', description='Progress:', layout=Layout(height='25px', width='50%'),…"
      ]
     },
     "metadata": {},
     "output_type": "display_data"
    },
    {
     "name": "stdout",
     "output_type": "stream",
     "text": [
      "chb01/chb01_01.edf\n",
      "chb01/chb01_02.edf\n",
      "chb01/chb01_03.edf\n",
      "chb01/chb01_04.edf\n",
      "chb01/chb01_05.edf\n",
      "chb01/chb01_06.edf\n",
      "chb01/chb01_07.edf\n",
      "chb01/chb01_08.edf\n",
      "chb01/chb01_09.edf\n",
      "chb01/chb01_10.edf\n",
      "chb01/chb01_11.edf\n",
      "chb01/chb01_12.edf\n",
      "chb01/chb01_13.edf\n",
      "chb01/chb01_14.edf\n",
      "chb01/chb01_15.edf\n",
      "chb01/chb01_16.edf\n",
      "chb01/chb01_17.edf\n",
      "chb01/chb01_18.edf\n",
      "chb01/chb01_19.edf\n",
      "chb01/chb01_20.edf\n",
      "chb01/chb01_21.edf\n",
      "chb01/chb01_22.edf\n",
      "chb01/chb01_23.edf\n",
      "chb01/chb01_24.edf\n",
      "chb01/chb01_25.edf\n",
      "chb01/chb01_26.edf\n",
      "chb01/chb01_27.edf\n",
      "chb01/chb01_29.edf\n",
      "chb01/chb01_30.edf\n",
      "chb01/chb01_31.edf\n",
      "chb01/chb01_32.edf\n",
      "chb01/chb01_33.edf\n",
      "chb01/chb01_34.edf\n",
      "chb01/chb01_36.edf\n",
      "chb01/chb01_37.edf\n",
      "chb01/chb01_38.edf\n",
      "chb01/chb01_39.edf\n",
      "chb01/chb01_40.edf\n",
      "chb01/chb01_41.edf\n",
      "chb01/chb01_42.edf\n",
      "chb01/chb01_43.edf\n",
      "chb01/chb01_46.edf\n",
      "chb02/chb02_01.edf\n",
      "chb02/chb02_02.edf\n",
      "chb02/chb02_03.edf\n",
      "chb02/chb02_04.edf\n",
      "chb02/chb02_05.edf\n",
      "chb02/chb02_06.edf\n",
      "chb02/chb02_07.edf\n",
      "chb02/chb02_08.edf\n",
      "chb02/chb02_09.edf\n",
      "chb02/chb02_10.edf\n",
      "chb02/chb02_11.edf\n",
      "chb02/chb02_12.edf\n",
      "chb02/chb02_13.edf\n",
      "chb02/chb02_14.edf\n",
      "chb02/chb02_15.edf\n",
      "chb02/chb02_16.edf\n",
      "chb02/chb02_16+.edf\n",
      "chb02/chb02_17.edf\n",
      "chb02/chb02_18.edf\n",
      "chb02/chb02_19.edf\n",
      "chb02/chb02_20.edf\n",
      "chb02/chb02_21.edf\n",
      "chb02/chb02_22.edf\n",
      "chb02/chb02_23.edf\n",
      "chb02/chb02_24.edf\n",
      "chb02/chb02_25.edf\n",
      "chb02/chb02_26.edf\n",
      "chb02/chb02_27.edf\n",
      "chb02/chb02_28.edf\n",
      "chb02/chb02_29.edf\n",
      "chb02/chb02_30.edf\n",
      "chb02/chb02_31.edf\n",
      "chb02/chb02_32.edf\n",
      "chb02/chb02_33.edf\n",
      "chb02/chb02_34.edf\n",
      "chb02/chb02_35.edf\n",
      "chb03/chb03_01.edf\n",
      "chb03/chb03_02.edf\n",
      "chb03/chb03_03.edf\n",
      "chb03/chb03_04.edf\n",
      "chb03/chb03_05.edf\n",
      "chb03/chb03_06.edf\n",
      "chb03/chb03_07.edf\n",
      "chb03/chb03_08.edf\n",
      "chb03/chb03_09.edf\n",
      "chb03/chb03_10.edf\n",
      "chb03/chb03_11.edf\n",
      "chb03/chb03_12.edf\n",
      "chb03/chb03_13.edf\n",
      "chb03/chb03_14.edf\n",
      "chb03/chb03_15.edf\n",
      "chb03/chb03_16.edf\n",
      "chb03/chb03_17.edf\n",
      "chb03/chb03_18.edf\n",
      "chb03/chb03_19.edf\n",
      "chb03/chb03_20.edf\n",
      "chb03/chb03_21.edf\n",
      "chb03/chb03_22.edf\n",
      "chb03/chb03_23.edf\n",
      "chb03/chb03_24.edf\n",
      "chb03/chb03_25.edf\n",
      "chb03/chb03_26.edf\n",
      "chb03/chb03_27.edf\n",
      "chb03/chb03_28.edf\n",
      "chb03/chb03_29.edf\n",
      "chb03/chb03_30.edf\n",
      "chb03/chb03_31.edf\n",
      "chb03/chb03_32.edf\n",
      "chb03/chb03_33.edf\n",
      "chb03/chb03_34.edf\n",
      "chb03/chb03_35.edf\n",
      "chb03/chb03_36.edf\n",
      "chb03/chb03_37.edf\n",
      "chb03/chb03_38.edf\n",
      "chb04/chb04_01.edf\n",
      "chb04/chb04_02.edf\n",
      "chb04/chb04_03.edf\n",
      "chb04/chb04_04.edf\n",
      "chb04/chb04_05.edf\n",
      "chb04/chb04_06.edf\n",
      "chb04/chb04_07.edf\n",
      "chb04/chb04_08.edf\n",
      "chb04/chb04_09.edf\n",
      "chb04/chb04_10.edf\n",
      "chb04/chb04_11.edf\n",
      "chb04/chb04_12.edf\n",
      "chb04/chb04_13.edf\n",
      "chb04/chb04_14.edf\n",
      "chb04/chb04_15.edf\n",
      "chb04/chb04_16.edf\n",
      "chb04/chb04_17.edf\n",
      "chb04/chb04_18.edf\n",
      "chb04/chb04_19.edf\n",
      "chb04/chb04_21.edf\n",
      "chb04/chb04_22.edf\n",
      "chb04/chb04_23.edf\n",
      "chb04/chb04_24.edf\n",
      "chb04/chb04_25.edf\n",
      "chb04/chb04_26.edf\n",
      "chb04/chb04_27.edf\n",
      "chb04/chb04_28.edf\n",
      "chb04/chb04_29.edf\n",
      "chb04/chb04_30.edf\n",
      "chb04/chb04_31.edf\n",
      "chb04/chb04_32.edf\n",
      "chb04/chb04_33.edf\n",
      "chb04/chb04_34.edf\n",
      "chb04/chb04_35.edf\n",
      "chb04/chb04_36.edf\n",
      "chb04/chb04_37.edf\n",
      "chb04/chb04_38.edf\n",
      "chb04/chb04_39.edf\n",
      "chb04/chb04_40.edf\n",
      "chb04/chb04_41.edf\n",
      "chb04/chb04_42.edf\n",
      "chb04/chb04_43.edf\n",
      "chb05/chb05_01.edf\n",
      "chb05/chb05_02.edf\n",
      "chb05/chb05_03.edf\n",
      "chb05/chb05_04.edf\n",
      "chb05/chb05_05.edf\n",
      "chb05/chb05_06.edf\n",
      "chb05/chb05_07.edf\n",
      "chb05/chb05_08.edf\n",
      "chb05/chb05_09.edf\n",
      "chb05/chb05_10.edf\n",
      "chb05/chb05_11.edf\n",
      "chb05/chb05_12.edf\n",
      "chb05/chb05_13.edf\n",
      "chb05/chb05_14.edf\n",
      "chb05/chb05_15.edf\n",
      "chb05/chb05_16.edf\n",
      "chb05/chb05_17.edf\n",
      "chb05/chb05_18.edf\n",
      "chb05/chb05_19.edf\n",
      "chb05/chb05_20.edf\n",
      "chb05/chb05_21.edf\n",
      "chb05/chb05_22.edf\n",
      "chb05/chb05_23.edf\n",
      "chb05/chb05_24.edf\n",
      "chb05/chb05_25.edf\n",
      "chb05/chb05_26.edf\n",
      "chb05/chb05_27.edf\n",
      "chb05/chb05_28.edf\n",
      "chb05/chb05_29.edf\n",
      "chb05/chb05_30.edf\n",
      "chb05/chb05_31.edf\n",
      "chb05/chb05_32.edf\n",
      "chb05/chb05_33.edf\n",
      "chb05/chb05_34.edf\n",
      "chb05/chb05_35.edf\n",
      "chb05/chb05_36.edf\n",
      "chb05/chb05_37.edf\n",
      "chb05/chb05_38.edf\n",
      "chb05/chb05_39.edf\n",
      "chb06/chb06_01.edf\n",
      "chb06/chb06_02.edf\n",
      "chb06/chb06_03.edf\n",
      "chb06/chb06_04.edf\n",
      "chb06/chb06_05.edf\n",
      "chb06/chb06_06.edf\n",
      "chb06/chb06_07.edf\n",
      "chb06/chb06_08.edf\n",
      "chb06/chb06_09.edf\n",
      "chb06/chb06_10.edf\n",
      "chb06/chb06_12.edf\n",
      "chb06/chb06_13.edf\n",
      "chb06/chb06_14.edf\n",
      "chb06/chb06_15.edf\n",
      "chb06/chb06_16.edf\n",
      "chb06/chb06_17.edf\n",
      "chb06/chb06_18.edf\n",
      "chb06/chb06_24.edf\n",
      "chb07/chb07_01.edf\n",
      "chb07/chb07_02.edf\n",
      "chb07/chb07_03.edf\n",
      "chb07/chb07_04.edf\n",
      "chb07/chb07_05.edf\n",
      "chb07/chb07_06.edf\n",
      "chb07/chb07_07.edf\n",
      "chb07/chb07_08.edf\n",
      "chb07/chb07_09.edf\n",
      "chb07/chb07_10.edf\n",
      "chb07/chb07_11.edf\n",
      "chb07/chb07_12.edf\n",
      "chb07/chb07_13.edf\n",
      "chb07/chb07_14.edf\n",
      "chb07/chb07_15.edf\n",
      "chb07/chb07_16.edf\n",
      "chb07/chb07_17.edf\n",
      "chb07/chb07_18.edf\n",
      "chb07/chb07_19.edf\n",
      "chb08/chb08_02.edf\n",
      "chb08/chb08_03.edf\n",
      "chb08/chb08_04.edf\n",
      "chb08/chb08_05.edf\n",
      "chb08/chb08_10.edf\n",
      "chb08/chb08_11.edf\n",
      "chb08/chb08_12.edf\n",
      "chb08/chb08_13.edf\n",
      "chb08/chb08_14.edf\n",
      "chb08/chb08_15.edf\n",
      "chb08/chb08_16.edf\n",
      "chb08/chb08_17.edf\n",
      "chb08/chb08_18.edf\n",
      "chb08/chb08_19.edf\n",
      "chb08/chb08_20.edf\n",
      "chb08/chb08_21.edf\n",
      "chb08/chb08_22.edf\n",
      "chb08/chb08_23.edf\n",
      "chb08/chb08_24.edf\n",
      "chb08/chb08_29.edf\n",
      "chb09/chb09_01.edf\n",
      "chb09/chb09_02.edf\n",
      "chb09/chb09_03.edf\n",
      "chb09/chb09_04.edf\n",
      "chb09/chb09_05.edf\n",
      "chb09/chb09_06.edf\n",
      "chb09/chb09_07.edf\n",
      "chb09/chb09_08.edf\n",
      "chb09/chb09_09.edf\n",
      "chb09/chb09_10.edf\n",
      "chb09/chb09_11.edf\n",
      "chb09/chb09_12.edf\n",
      "chb09/chb09_13.edf\n",
      "chb09/chb09_14.edf\n",
      "chb09/chb09_15.edf\n",
      "chb09/chb09_16.edf\n",
      "chb09/chb09_17.edf\n",
      "chb09/chb09_18.edf\n",
      "chb09/chb09_19.edf\n",
      "chb10/chb10_01.edf\n",
      "chb10/chb10_02.edf\n",
      "chb10/chb10_03.edf\n",
      "chb10/chb10_04.edf\n",
      "chb10/chb10_05.edf\n",
      "chb10/chb10_06.edf\n",
      "chb10/chb10_07.edf\n",
      "chb10/chb10_08.edf\n",
      "chb10/chb10_12.edf\n",
      "chb10/chb10_13.edf\n",
      "chb10/chb10_14.edf\n",
      "chb10/chb10_15.edf\n",
      "chb10/chb10_16.edf\n",
      "chb10/chb10_17.edf\n",
      "chb10/chb10_18.edf\n",
      "chb10/chb10_19.edf\n",
      "chb10/chb10_20.edf\n",
      "chb10/chb10_21.edf\n",
      "chb10/chb10_22.edf\n",
      "chb10/chb10_27.edf\n",
      "chb10/chb10_28.edf\n",
      "chb10/chb10_30.edf\n",
      "chb10/chb10_31.edf\n",
      "chb10/chb10_38.edf\n",
      "chb10/chb10_89.edf\n",
      "chb11/chb11_01.edf\n",
      "chb11/chb11_02.edf\n",
      "chb11/chb11_03.edf\n",
      "chb11/chb11_04.edf\n",
      "chb11/chb11_05.edf\n",
      "chb11/chb11_06.edf\n",
      "chb11/chb11_07.edf\n",
      "chb11/chb11_08.edf\n",
      "chb11/chb11_09.edf\n",
      "chb11/chb11_10.edf\n",
      "chb11/chb11_11.edf\n",
      "chb11/chb11_12.edf\n",
      "chb11/chb11_13.edf\n",
      "chb11/chb11_14.edf\n",
      "chb11/chb11_15.edf\n",
      "chb11/chb11_16.edf\n",
      "chb11/chb11_17.edf\n",
      "chb11/chb11_18.edf\n",
      "chb11/chb11_19.edf\n",
      "chb11/chb11_24.edf\n",
      "chb11/chb11_25.edf\n",
      "chb11/chb11_26.edf\n",
      "chb11/chb11_27.edf\n",
      "chb11/chb11_53.edf\n",
      "chb11/chb11_54.edf\n",
      "chb11/chb11_55.edf\n",
      "chb11/chb11_56.edf\n",
      "chb11/chb11_58.edf\n",
      "chb11/chb11_60.edf\n",
      "chb11/chb11_61.edf\n",
      "chb11/chb11_62.edf\n",
      "chb11/chb11_63.edf\n",
      "chb11/chb11_82.edf\n",
      "chb11/chb11_92.edf\n",
      "chb11/chb11_99.edf\n",
      "chb12/chb12_06.edf\n",
      "chb12/chb12_08.edf\n",
      "chb12/chb12_09.edf\n",
      "chb12/chb12_10.edf\n",
      "chb12/chb12_11.edf\n",
      "chb12/chb12_19.edf\n",
      "chb12/chb12_20.edf\n",
      "chb12/chb12_21.edf\n",
      "chb12/chb12_23.edf\n",
      "chb12/chb12_24.edf\n",
      "chb12/chb12_27.edf\n",
      "chb12/chb12_28.edf\n",
      "chb12/chb12_29.edf\n",
      "chb12/chb12_32.edf\n",
      "chb12/chb12_33.edf\n",
      "chb12/chb12_34.edf\n",
      "chb12/chb12_35.edf\n",
      "chb12/chb12_36.edf\n",
      "chb12/chb12_37.edf\n",
      "chb12/chb12_38.edf\n",
      "chb12/chb12_39.edf\n",
      "chb12/chb12_40.edf\n",
      "chb12/chb12_41.edf\n",
      "chb12/chb12_42.edf\n",
      "chb13/chb13_02.edf\n",
      "chb13/chb13_03.edf\n",
      "chb13/chb13_04.edf\n",
      "chb13/chb13_05.edf\n",
      "chb13/chb13_06.edf\n",
      "chb13/chb13_07.edf\n",
      "chb13/chb13_08.edf\n",
      "chb13/chb13_09.edf\n",
      "chb13/chb13_10.edf\n",
      "chb13/chb13_11.edf\n",
      "chb13/chb13_12.edf\n",
      "chb13/chb13_13.edf\n",
      "chb13/chb13_14.edf\n",
      "chb13/chb13_15.edf\n",
      "chb13/chb13_16.edf\n",
      "chb13/chb13_18.edf\n",
      "chb13/chb13_19.edf\n",
      "chb13/chb13_21.edf\n",
      "chb13/chb13_22.edf\n",
      "chb13/chb13_24.edf\n",
      "chb13/chb13_30.edf\n",
      "chb13/chb13_36.edf\n",
      "chb13/chb13_37.edf\n",
      "chb13/chb13_38.edf\n",
      "chb13/chb13_39.edf\n",
      "chb13/chb13_40.edf\n",
      "chb13/chb13_47.edf\n",
      "chb13/chb13_55.edf\n",
      "chb13/chb13_56.edf\n",
      "chb13/chb13_58.edf\n",
      "chb13/chb13_59.edf\n",
      "chb13/chb13_60.edf\n",
      "chb13/chb13_62.edf\n",
      "chb14/chb14_01.edf\n",
      "chb14/chb14_02.edf\n",
      "chb14/chb14_03.edf\n",
      "chb14/chb14_04.edf\n",
      "chb14/chb14_06.edf\n",
      "chb14/chb14_07.edf\n",
      "chb14/chb14_11.edf\n",
      "chb14/chb14_12.edf\n",
      "chb14/chb14_13.edf\n",
      "chb14/chb14_14.edf\n",
      "chb14/chb14_16.edf\n",
      "chb14/chb14_17.edf\n",
      "chb14/chb14_18.edf\n",
      "chb14/chb14_19.edf\n",
      "chb14/chb14_20.edf\n",
      "chb14/chb14_22.edf\n",
      "chb14/chb14_24.edf\n",
      "chb14/chb14_25.edf\n",
      "chb14/chb14_26.edf\n",
      "chb14/chb14_27.edf\n",
      "chb14/chb14_29.edf\n",
      "chb14/chb14_30.edf\n",
      "chb14/chb14_32.edf\n",
      "chb14/chb14_37.edf\n",
      "chb14/chb14_39.edf\n",
      "chb14/chb14_42.edf\n",
      "chb15/chb15_01.edf\n",
      "chb15/chb15_02.edf\n",
      "chb15/chb15_03.edf\n",
      "chb15/chb15_04.edf\n",
      "chb15/chb15_05.edf\n",
      "chb15/chb15_06.edf\n",
      "chb15/chb15_07.edf\n",
      "chb15/chb15_08.edf\n",
      "chb15/chb15_09.edf\n",
      "chb15/chb15_10.edf\n",
      "chb15/chb15_11.edf\n",
      "chb15/chb15_12.edf\n",
      "chb15/chb15_13.edf\n",
      "chb15/chb15_14.edf\n",
      "chb15/chb15_15.edf\n",
      "chb15/chb15_16.edf\n",
      "chb15/chb15_17.edf\n",
      "chb15/chb15_19.edf\n",
      "chb15/chb15_20.edf\n",
      "chb15/chb15_22.edf\n",
      "chb15/chb15_26.edf\n",
      "chb15/chb15_28.edf\n",
      "chb15/chb15_29.edf\n",
      "chb15/chb15_30.edf\n",
      "chb15/chb15_31.edf\n",
      "chb15/chb15_32.edf\n",
      "chb15/chb15_33.edf\n",
      "chb15/chb15_35.edf\n",
      "chb15/chb15_37.edf\n",
      "chb15/chb15_40.edf\n",
      "chb15/chb15_45.edf\n",
      "chb15/chb15_46.edf\n",
      "chb15/chb15_49.edf\n",
      "chb15/chb15_50.edf\n",
      "chb15/chb15_51.edf\n",
      "chb15/chb15_52.edf\n",
      "chb15/chb15_54.edf\n",
      "chb15/chb15_61.edf\n",
      "chb15/chb15_62.edf\n",
      "chb15/chb15_63.edf\n",
      "chb16/chb16_01.edf\n",
      "chb16/chb16_02.edf\n",
      "chb16/chb16_03.edf\n",
      "chb16/chb16_04.edf\n",
      "chb16/chb16_05.edf\n",
      "chb16/chb16_06.edf\n",
      "chb16/chb16_07.edf\n",
      "chb16/chb16_08.edf\n",
      "chb16/chb16_09.edf\n",
      "chb16/chb16_10.edf\n",
      "chb16/chb16_11.edf\n",
      "chb16/chb16_12.edf\n",
      "chb16/chb16_13.edf\n",
      "chb16/chb16_14.edf\n",
      "chb16/chb16_15.edf\n",
      "chb16/chb16_16.edf\n",
      "chb16/chb16_17.edf\n",
      "chb16/chb16_18.edf\n",
      "chb16/chb16_19.edf\n",
      "chb17/chb17a_03.edf\n",
      "chb17/chb17a_04.edf\n",
      "chb17/chb17a_05.edf\n",
      "chb17/chb17a_06.edf\n",
      "chb17/chb17a_08.edf\n",
      "chb17/chb17b_57.edf\n",
      "chb17/chb17b_58.edf\n",
      "chb17/chb17b_59.edf\n",
      "chb17/chb17b_60.edf\n",
      "chb17/chb17b_63.edf\n",
      "chb17/chb17b_67.edf\n",
      "chb17/chb17b_68.edf\n",
      "chb17/chb17b_69.edf\n",
      "chb17/chb17c_02.edf\n",
      "chb17/chb17c_03.edf\n",
      "chb17/chb17c_04.edf\n",
      "chb17/chb17c_05.edf\n",
      "chb17/chb17c_06.edf\n",
      "chb17/chb17c_07.edf\n",
      "chb17/chb17c_08.edf\n",
      "chb17/chb17c_13.edf\n",
      "chb18/chb18_01.edf\n",
      "chb18/chb18_02.edf\n",
      "chb18/chb18_03.edf\n",
      "chb18/chb18_04.edf\n",
      "chb18/chb18_05.edf\n",
      "chb18/chb18_06.edf\n",
      "chb18/chb18_07.edf\n",
      "chb18/chb18_08.edf\n",
      "chb18/chb18_09.edf\n",
      "chb18/chb18_10.edf\n",
      "chb18/chb18_11.edf\n",
      "chb18/chb18_12.edf\n",
      "chb18/chb18_13.edf\n",
      "chb18/chb18_14.edf\n",
      "chb18/chb18_15.edf\n",
      "chb18/chb18_16.edf\n",
      "chb18/chb18_17.edf\n",
      "chb18/chb18_18.edf\n",
      "chb18/chb18_19.edf\n",
      "chb18/chb18_20.edf\n",
      "chb18/chb18_21.edf\n",
      "chb18/chb18_22.edf\n",
      "chb18/chb18_23.edf\n",
      "chb18/chb18_24.edf\n",
      "chb18/chb18_25.edf\n",
      "chb18/chb18_26.edf\n",
      "chb18/chb18_27.edf\n",
      "chb18/chb18_28.edf\n",
      "chb18/chb18_29.edf\n",
      "chb18/chb18_30.edf\n",
      "chb18/chb18_31.edf\n",
      "chb18/chb18_32.edf\n",
      "chb18/chb18_33.edf\n",
      "chb18/chb18_34.edf\n",
      "chb18/chb18_35.edf\n",
      "chb18/chb18_36.edf\n",
      "chb19/chb19_01.edf\n",
      "chb19/chb19_02.edf\n",
      "chb19/chb19_03.edf\n",
      "chb19/chb19_04.edf\n",
      "chb19/chb19_05.edf\n",
      "chb19/chb19_06.edf\n",
      "chb19/chb19_07.edf\n",
      "chb19/chb19_08.edf\n",
      "chb19/chb19_09.edf\n",
      "chb19/chb19_10.edf\n",
      "chb19/chb19_11.edf\n",
      "chb19/chb19_12.edf\n",
      "chb19/chb19_13.edf\n",
      "chb19/chb19_14.edf\n",
      "chb19/chb19_15.edf\n",
      "chb19/chb19_16.edf\n",
      "chb19/chb19_17.edf\n",
      "chb19/chb19_18.edf\n",
      "chb19/chb19_19.edf\n",
      "chb19/chb19_20.edf\n",
      "chb19/chb19_21.edf\n",
      "chb19/chb19_22.edf\n",
      "chb19/chb19_23.edf\n",
      "chb19/chb19_24.edf\n",
      "chb19/chb19_25.edf\n",
      "chb19/chb19_26.edf\n",
      "chb19/chb19_27.edf\n",
      "chb19/chb19_28.edf\n",
      "chb19/chb19_29.edf\n",
      "chb19/chb19_30.edf\n",
      "chb20/chb20_01.edf\n",
      "chb20/chb20_02.edf\n",
      "chb20/chb20_03.edf\n",
      "chb20/chb20_04.edf\n",
      "chb20/chb20_05.edf\n",
      "chb20/chb20_06.edf\n",
      "chb20/chb20_07.edf\n",
      "chb20/chb20_08.edf\n",
      "chb20/chb20_11.edf\n",
      "chb20/chb20_12.edf\n",
      "chb20/chb20_13.edf\n",
      "chb20/chb20_14.edf\n",
      "chb20/chb20_15.edf\n",
      "chb20/chb20_16.edf\n",
      "chb20/chb20_17.edf\n",
      "chb20/chb20_21.edf\n",
      "chb20/chb20_22.edf\n",
      "chb20/chb20_23.edf\n",
      "chb20/chb20_25.edf\n",
      "chb20/chb20_26.edf\n",
      "chb20/chb20_27.edf\n",
      "chb20/chb20_28.edf\n",
      "chb20/chb20_29.edf\n",
      "chb20/chb20_30.edf\n",
      "chb20/chb20_31.edf\n",
      "chb20/chb20_34.edf\n",
      "chb20/chb20_59.edf\n",
      "chb20/chb20_60.edf\n",
      "chb20/chb20_68.edf\n",
      "chb21/chb21_01.edf\n",
      "chb21/chb21_02.edf\n",
      "chb21/chb21_03.edf\n",
      "chb21/chb21_04.edf\n",
      "chb21/chb21_05.edf\n",
      "chb21/chb21_06.edf\n",
      "chb21/chb21_07.edf\n",
      "chb21/chb21_08.edf\n",
      "chb21/chb21_09.edf\n",
      "chb21/chb21_10.edf\n",
      "chb21/chb21_11.edf\n",
      "chb21/chb21_12.edf\n",
      "chb21/chb21_13.edf\n",
      "chb21/chb21_14.edf\n",
      "chb21/chb21_15.edf\n",
      "chb21/chb21_16.edf\n",
      "chb21/chb21_17.edf\n",
      "chb21/chb21_18.edf\n",
      "chb21/chb21_19.edf\n",
      "chb21/chb21_20.edf\n",
      "chb21/chb21_21.edf\n",
      "chb21/chb21_22.edf\n",
      "chb21/chb21_23.edf\n",
      "chb21/chb21_24.edf\n",
      "chb21/chb21_25.edf\n",
      "chb21/chb21_26.edf\n",
      "chb21/chb21_27.edf\n",
      "chb21/chb21_28.edf\n",
      "chb21/chb21_29.edf\n",
      "chb21/chb21_30.edf\n",
      "chb21/chb21_31.edf\n",
      "chb21/chb21_32.edf\n",
      "chb21/chb21_33.edf\n",
      "chb22/chb22_01.edf\n",
      "chb22/chb22_02.edf\n",
      "chb22/chb22_03.edf\n",
      "chb22/chb22_04.edf\n",
      "chb22/chb22_05.edf\n",
      "chb22/chb22_06.edf\n",
      "chb22/chb22_07.edf\n",
      "chb22/chb22_08.edf\n",
      "chb22/chb22_09.edf\n",
      "chb22/chb22_10.edf\n",
      "chb22/chb22_11.edf\n",
      "chb22/chb22_15.edf\n",
      "chb22/chb22_16.edf\n",
      "chb22/chb22_17.edf\n",
      "chb22/chb22_18.edf\n",
      "chb22/chb22_19.edf\n",
      "chb22/chb22_20.edf\n",
      "chb22/chb22_21.edf\n",
      "chb22/chb22_22.edf\n",
      "chb22/chb22_23.edf\n",
      "chb22/chb22_24.edf\n",
      "chb22/chb22_25.edf\n",
      "chb22/chb22_26.edf\n",
      "chb22/chb22_27.edf\n",
      "chb22/chb22_28.edf\n",
      "chb22/chb22_29.edf\n",
      "chb22/chb22_30.edf\n",
      "chb22/chb22_38.edf\n",
      "chb22/chb22_51.edf\n",
      "chb22/chb22_54.edf\n",
      "chb22/chb22_77.edf\n",
      "chb23/chb23_06.edf\n",
      "chb23/chb23_07.edf\n",
      "chb23/chb23_08.edf\n",
      "chb23/chb23_09.edf\n",
      "chb23/chb23_10.edf\n",
      "chb23/chb23_16.edf\n",
      "chb23/chb23_17.edf\n",
      "chb23/chb23_19.edf\n",
      "chb23/chb23_20.edf\n",
      "chb24/chb24_01.edf\n",
      "chb24/chb24_02.edf\n",
      "chb24/chb24_03.edf\n",
      "chb24/chb24_04.edf\n",
      "chb24/chb24_05.edf\n",
      "chb24/chb24_06.edf\n",
      "chb24/chb24_07.edf\n",
      "chb24/chb24_08.edf\n",
      "chb24/chb24_09.edf\n",
      "chb24/chb24_10.edf\n",
      "chb24/chb24_11.edf\n",
      "chb24/chb24_12.edf\n",
      "chb24/chb24_13.edf\n",
      "chb24/chb24_14.edf\n",
      "chb24/chb24_15.edf\n",
      "chb24/chb24_16.edf\n",
      "chb24/chb24_17.edf\n",
      "chb24/chb24_18.edf\n",
      "chb24/chb24_19.edf\n",
      "chb24/chb24_20.edf\n",
      "chb24/chb24_21.edf\n",
      "chb24/chb24_22.edf"
     ]
    }
   ],
   "source": [
    "rec_list1 = records.collect()\n",
    "\n"
   ]
  },
  {
   "cell_type": "code",
   "execution_count": 22,
   "metadata": {},
   "outputs": [
    {
     "data": {
      "application/vnd.jupyter.widget-view+json": {
       "model_id": "07c80722945b482f852f5aa60c467dde",
       "version_major": 2,
       "version_minor": 0
      },
      "text/plain": [
       "VBox()"
      ]
     },
     "metadata": {},
     "output_type": "display_data"
    },
    {
     "data": {
      "application/vnd.jupyter.widget-view+json": {
       "model_id": "",
       "version_major": 2,
       "version_minor": 0
      },
      "text/plain": [
       "FloatProgress(value=0.0, bar_style='info', description='Progress:', layout=Layout(height='25px', width='50%'),…"
      ]
     },
     "metadata": {},
     "output_type": "display_data"
    },
    {
     "name": "stderr",
     "output_type": "stream",
     "text": [
      "IOPub data rate exceeded.\n",
      "The notebook server will temporarily stop sending output\n",
      "to the client in order to avoid crashing it.\n",
      "To change this limit, set the config variable\n",
      "`--NotebookApp.iopub_data_rate_limit`.\n",
      "\n",
      "Current values:\n",
      "NotebookApp.iopub_data_rate_limit=1000000.0 (bytes/sec)\n",
      "NotebookApp.rate_limit_window=3.0 (secs)\n",
      "\n"
     ]
    }
   ],
   "source": [
    "recs_l = []\n",
    "\n",
    "# print line one by line\n",
    "\n",
    "for elem in rec_list1:\n",
    "    if len(elem) > 1:\n",
    "        recs_l.append(elem)\n"
   ]
  },
  {
   "cell_type": "code",
   "execution_count": 28,
   "metadata": {},
   "outputs": [
    {
     "data": {
      "application/vnd.jupyter.widget-view+json": {
       "model_id": "d7617a89a4af4f6281d244a0788d7e0c",
       "version_major": 2,
       "version_minor": 0
      },
      "text/plain": [
       "VBox()"
      ]
     },
     "metadata": {},
     "output_type": "display_data"
    },
    {
     "data": {
      "application/vnd.jupyter.widget-view+json": {
       "model_id": "",
       "version_major": 2,
       "version_minor": 0
      },
      "text/plain": [
       "FloatProgress(value=0.0, bar_style='info', description='Progress:', layout=Layout(height='25px', width='50%'),…"
      ]
     },
     "metadata": {},
     "output_type": "display_data"
    }
   ],
   "source": [
    "rec_wsl = []\n",
    "records_ws = sc.textFile('s3a://jtagueroeeg/RECORDS-WITH-SEIZURES')\n",
    "records_wsc = records_ws.collect()\n",
    "\n",
    "for elem in records_wsc:\n",
    "    if len(elem) > 1:\n",
    "        rec_wsl.append(elem.split(\"/\")[1].split('.')[0])\n",
    "rec_wsl[34] = 'chb07_19'    "
   ]
  },
  {
   "cell_type": "code",
   "execution_count": 29,
   "metadata": {},
   "outputs": [
    {
     "data": {
      "application/vnd.jupyter.widget-view+json": {
       "model_id": "1a1af3e3ec4d46c1a7a25fcf86283c25",
       "version_major": 2,
       "version_minor": 0
      },
      "text/plain": [
       "VBox()"
      ]
     },
     "metadata": {},
     "output_type": "display_data"
    },
    {
     "data": {
      "application/vnd.jupyter.widget-view+json": {
       "model_id": "",
       "version_major": 2,
       "version_minor": 0
      },
      "text/plain": [
       "FloatProgress(value=0.0, bar_style='info', description='Progress:', layout=Layout(height='25px', width='50%'),…"
      ]
     },
     "metadata": {},
     "output_type": "display_data"
    },
    {
     "name": "stdout",
     "output_type": "stream",
     "text": [
      "'chb07_19'"
     ]
    }
   ],
   "source": [
    "rec_wsl[34]"
   ]
  },
  {
   "cell_type": "code",
   "execution_count": 30,
   "metadata": {},
   "outputs": [
    {
     "data": {
      "application/vnd.jupyter.widget-view+json": {
       "model_id": "fbc0da8cee9440aebd966012fba038ef",
       "version_major": 2,
       "version_minor": 0
      },
      "text/plain": [
       "VBox()"
      ]
     },
     "metadata": {},
     "output_type": "display_data"
    },
    {
     "data": {
      "application/vnd.jupyter.widget-view+json": {
       "model_id": "",
       "version_major": 2,
       "version_minor": 0
      },
      "text/plain": [
       "FloatProgress(value=0.0, bar_style='info', description='Progress:', layout=Layout(height='25px', width='50%'),…"
      ]
     },
     "metadata": {},
     "output_type": "display_data"
    }
   ],
   "source": [
    "rec_wos = []\n",
    "for rec in recs_l:\n",
    "    rec_name = rec.split('/')[1].split('.')[0]\n",
    "    rec_wos.append(rec_name)"
   ]
  },
  {
   "cell_type": "code",
   "execution_count": 40,
   "metadata": {},
   "outputs": [
    {
     "data": {
      "application/vnd.jupyter.widget-view+json": {
       "model_id": "c5e7fe43ff6c47ecb658a1d47ada9b41",
       "version_major": 2,
       "version_minor": 0
      },
      "text/plain": [
       "VBox()"
      ]
     },
     "metadata": {},
     "output_type": "display_data"
    },
    {
     "data": {
      "application/vnd.jupyter.widget-view+json": {
       "model_id": "",
       "version_major": 2,
       "version_minor": 0
      },
      "text/plain": [
       "FloatProgress(value=0.0, bar_style='info', description='Progress:', layout=Layout(height='25px', width='50%'),…"
      ]
     },
     "metadata": {},
     "output_type": "display_data"
    },
    {
     "name": "stdout",
     "output_type": "stream",
     "text": [
      "686"
     ]
    }
   ],
   "source": [
    "len(rec_wos)"
   ]
  },
  {
   "cell_type": "code",
   "execution_count": 31,
   "metadata": {},
   "outputs": [
    {
     "data": {
      "application/vnd.jupyter.widget-view+json": {
       "model_id": "edfa144ab6a14d469d4eca9d5efcd225",
       "version_major": 2,
       "version_minor": 0
      },
      "text/plain": [
       "VBox()"
      ]
     },
     "metadata": {},
     "output_type": "display_data"
    },
    {
     "data": {
      "application/vnd.jupyter.widget-view+json": {
       "model_id": "",
       "version_major": 2,
       "version_minor": 0
      },
      "text/plain": [
       "FloatProgress(value=0.0, bar_style='info', description='Progress:', layout=Layout(height='25px', width='50%'),…"
      ]
     },
     "metadata": {},
     "output_type": "display_data"
    }
   ],
   "source": [
    "d = {}\n",
    "\n",
    "\n",
    "seizures = sc.textFile('s3a://jtagueroeeg/seizures.txt')\n",
    "seizures_txt = seizures.collect()\n",
    "\n",
    "for elem in seizures_txt:\n",
    "    if elem[0:9] == 'File Name':\n",
    "        elem2 = elem.split(\":\")[1]\n",
    "        fn = elem2.split(\".\")[0].strip()\n",
    "        d[fn]={}\n",
    "\n",
    "    if elem[0:26] == 'Number of Seizures in File':\n",
    "        numb = int(elem.split(\":\")[1])\n",
    "        d[fn]['Number of Seizures in File'] = numb\n",
    "\n",
    "\n",
    "    if (elem[0:18]   ==  'Seizure Start Time') or (elem[0:20]   ==  'Seizure 1 Start Time'):\n",
    "            elem2 = elem.split(\":\")[1]\n",
    "            elem3 = int(elem2.split()[0])\n",
    "            d[fn]['Seizure 1 Start Time'] = elem3\n",
    "\n",
    "\n",
    "    if (elem[0:16]   ==  'Seizure End Time') or (elem[0:18]   ==  'Seizure 1 End Time'):\n",
    "            elem2 = elem.split(\":\")[1]\n",
    "            elem3 = int(elem2.split()[0])\n",
    "            d[fn]['Seizure 1 End Time'] = elem3\n",
    "            d[fn]['Seizure 1 Duration'] = elem3 - d[fn]['Seizure 1 Start Time']    \n",
    "\n",
    "\n",
    "    if elem[0:20]   ==  'Seizure 2 Start Time':\n",
    "        elem2 = elem.split(\":\")[1]\n",
    "        elem3 = int(elem2.split()[0])\n",
    "        d[fn]['Seizure 2 Start Time'] = elem3\n",
    "\n",
    "\n",
    "    if elem[0:18]   ==  'Seizure 2 End Time':\n",
    "        elem2 = elem.split(\":\")[1]\n",
    "        elem3 = int(elem2.split()[0])\n",
    "        d[fn]['Seizure 2 End Time'] = elem3\n",
    "        d[fn]['Seizure 2 Duration'] = elem3 - d[fn]['Seizure 2 Start Time']  \n",
    "\n",
    "    if elem[0:20]   ==  'Seizure 3 Start Time':\n",
    "        elem2 = elem.split(\":\")[1]\n",
    "        elem3 = int(elem2.split()[0])\n",
    "        d[fn]['Seizure 3 Start Time'] = elem3\n",
    "\n",
    "\n",
    "    if elem[0:18]   ==  'Seizure 3 End Time':\n",
    "        elem2 = elem.split(\":\")[1]\n",
    "        elem3 = int(elem2.split()[0])\n",
    "        d[fn]['Seizure 3 End Time'] = elem3\n",
    "        d[fn]['Seizure 3 Duration'] = elem3 - d[fn]['Seizure 3 Start Time']  \n",
    "\n",
    "    if elem[0:20]   ==  'Seizure 4 Start Time':\n",
    "        elem2 = elem.split(\":\")[1]\n",
    "        elem3 = int(elem2.split()[0])\n",
    "        d[fn]['Seizure 4 Start Time'] = elem3\n",
    "\n",
    "\n",
    "    if elem[0:18]   ==  'Seizure 4 End Time':\n",
    "        elem2 = elem.split(\":\")[1]\n",
    "        elem3 = int(elem2.split()[0])\n",
    "        d[fn]['Seizure 4 End Time'] = elem3\n",
    "        d[fn]['Seizure 4 Duration'] = elem3 - d[fn]['Seizure 4 Start Time']   \n",
    "\n",
    "\n",
    "    if elem[0:20]   ==  'Seizure 5 Start Time':\n",
    "        elem2 = elem.split(\":\")[1]\n",
    "        elem3 = int(elem2.split()[0])\n",
    "        d[fn]['Seizure 5 Start Time'] = elem3\n",
    "\n",
    "\n",
    "    if elem[0:18]   ==  'Seizure 5 End Time':\n",
    "        elem2 = elem.split(\":\")[1]\n",
    "        elem3 = int(elem2.split()[0])\n",
    "        d[fn]['Seizure 5 End Time'] = elem3\n",
    "        d[fn]['Seizure 5 Duration'] = elem3 - d[fn]['Seizure 5 Start Time'] "
   ]
  },
  {
   "cell_type": "code",
   "execution_count": 39,
   "metadata": {},
   "outputs": [
    {
     "data": {
      "application/vnd.jupyter.widget-view+json": {
       "model_id": "a5b56101922c45ac9835c6d43ae800df",
       "version_major": 2,
       "version_minor": 0
      },
      "text/plain": [
       "VBox()"
      ]
     },
     "metadata": {},
     "output_type": "display_data"
    },
    {
     "data": {
      "application/vnd.jupyter.widget-view+json": {
       "model_id": "",
       "version_major": 2,
       "version_minor": 0
      },
      "text/plain": [
       "FloatProgress(value=0.0, bar_style='info', description='Progress:', layout=Layout(height='25px', width='50%'),…"
      ]
     },
     "metadata": {},
     "output_type": "display_data"
    }
   ],
   "source": [
    "\n",
    "anno_nm_lst = [n for n in range(141)]\n",
    "anno_lst = [n for n in range(141)]\n",
    "idx = 0\n",
    "for elem in d.keys():\n",
    "    \n",
    "    df = d[elem]\n",
    "    numb = df[list(df)[0]]\n",
    "    duration = [df[list(df)[i]] for i in range(3, df[list(df)[0]]*3 + 1, 3)]\n",
    "    onset = [df[list(df)[i]] for i in range(1, 3*numb + 1, 3)]\n",
    "    description1=['Seizure']*numb\n",
    "    onset3 = [0.0]\n",
    "    onset2 = [onset[i] + duration[i] for i in range(numb)]\n",
    "    onset2 = onset3 + onset2\n",
    "    duree = [onset[i] - onset2[i] for i in range(numb)]    \n",
    "\n",
    "    duration2 = [df[list(df)[-1]] - onset2[-1]]\n",
    "    \n",
    "    \n",
    "    description2 = ['Nonseizure']*(numb + 1)\n",
    "    onset = onset2 + onset\n",
    "    duration = duree + duration2 + duration\n",
    "    \n",
    "    description = description2 + description1\n",
    "\n",
    "    \n",
    "    anno = elem \n",
    "    \n",
    "    anno_nm_lst[idx] = anno\n",
    "    anno = mne.Annotations(onset=onset,\n",
    "                            duration=duration,\n",
    "                            description=description)\n",
    "\n",
    "    \n",
    "    \n",
    "    anno_lst[idx] = anno\n",
    "    idx += 1\n",
    "\n",
    "anno_dict = {anno_nm_lst[i]: anno_lst[i] for i in range(141)}"
   ]
  },
  {
   "cell_type": "code",
   "execution_count": 41,
   "metadata": {},
   "outputs": [
    {
     "data": {
      "application/vnd.jupyter.widget-view+json": {
       "model_id": "b2fe361781d94d12982449c546e13787",
       "version_major": 2,
       "version_minor": 0
      },
      "text/plain": [
       "VBox()"
      ]
     },
     "metadata": {},
     "output_type": "display_data"
    },
    {
     "data": {
      "application/vnd.jupyter.widget-view+json": {
       "model_id": "",
       "version_major": 2,
       "version_minor": 0
      },
      "text/plain": [
       "FloatProgress(value=0.0, bar_style='info', description='Progress:', layout=Layout(height='25px', width='50%'),…"
      ]
     },
     "metadata": {},
     "output_type": "display_data"
    }
   ],
   "source": [
    "fif_lst = [rec_name + '_raw.fif' for rec_name in rec_wos if rec_name[0:5] == 'chb09']"
   ]
  },
  {
   "cell_type": "code",
   "execution_count": 53,
   "metadata": {},
   "outputs": [
    {
     "data": {
      "application/vnd.jupyter.widget-view+json": {
       "model_id": "fa004f1602854ce38bf93fd6830deeb6",
       "version_major": 2,
       "version_minor": 0
      },
      "text/plain": [
       "VBox()"
      ]
     },
     "metadata": {},
     "output_type": "display_data"
    },
    {
     "data": {
      "application/vnd.jupyter.widget-view+json": {
       "model_id": "",
       "version_major": 2,
       "version_minor": 0
      },
      "text/plain": [
       "FloatProgress(value=0.0, bar_style='info', description='Progress:', layout=Layout(height='25px', width='50%'),…"
      ]
     },
     "metadata": {},
     "output_type": "display_data"
    },
    {
     "name": "stderr",
     "output_type": "stream",
     "text": [
      "'SparkContext' object is not callable\n",
      "Traceback (most recent call last):\n",
      "TypeError: 'SparkContext' object is not callable\n",
      "\n"
     ]
    }
   ],
   "source": [
    "# chb09_01 = 's3://jtagueroeeg/fif_9/chb09_01_raw.fif'\n",
    "# chb09_01_coll = chb09_01.collect()\n",
    "s = sc('s3://jtagueroeeg/fif_9/chb09_01_raw.fif')\n",
    "\n",
    "\n",
    "training_data = mne.io.read_raw_fif(s, preload=False)"
   ]
  },
  {
   "cell_type": "code",
   "execution_count": null,
   "metadata": {},
   "outputs": [],
   "source": [
    "#### data_path = 'fif_9/'\n",
    "\n",
    "seizures = sc.textFile('s3a://jtagueroeeg/seizures.txt')\n",
    "seizures_txt = seizures.collect()\n",
    "\n",
    "raws = mne.concatenate_raws([mne.io.read_raw_fif('s3://jtagueroeeg/fif_9/' + f, preload=False) for f in fif_lst])\n",
    "info = raws.info\n",
    "channels = raws.ch_names"
   ]
  },
  {
   "cell_type": "code",
   "execution_count": null,
   "metadata": {},
   "outputs": [],
   "source": [
    "\n",
    "event_id = dict(Seizure=1, Nonseizure=0)\n",
    "events_from_annot, event_dict = mne.events_from_annotations(raws, event_id=event_id, chunk_duration=1)"
   ]
  },
  {
   "cell_type": "code",
   "execution_count": null,
   "metadata": {},
   "outputs": [],
   "source": [
    "events_from_annot, np.count_nonzero(events_from_annot, axis=0)"
   ]
  },
  {
   "cell_type": "code",
   "execution_count": null,
   "metadata": {},
   "outputs": [],
   "source": [
    "tmin, tmax = -0.5, 0.5\n",
    "epochs = mne.Epochs(raws, events_from_annot, event_id, tmin, tmax, proj=True,\n",
    "                    decim=2, baseline=None, preload=True)\n",
    "\n",
    "labels = epochs.events[:, -1]\n",
    "\n",
    "# get MEG and EEG data\n",
    "fif_epochs = epochs.copy().pick_types(meg=False, eeg=True)\n",
    "fif_data = fif_epochs.get_data().reshape(len(labels), -1)\n",
    "picks = mne.pick_types(epochs.info, meg=False, eeg=True)\n",
    "X = epochs.get_data()[:, picks]\n",
    "y = epochs.events[:, 2]\n",
    "X.shape, y.shape\n",
    "\n",
    "X_2d = X.reshape(len(X), -1)"
   ]
  },
  {
   "cell_type": "code",
   "execution_count": null,
   "metadata": {},
   "outputs": [],
   "source": [
    "X_2d = X.reshape(len(X), -1)"
   ]
  },
  {
   "cell_type": "code",
   "execution_count": null,
   "metadata": {},
   "outputs": [],
   "source": [
    "from sklearn.model_selection import train_test_split\n",
    "X_train, X_test, y_train, y_test = train_test_split(\n",
    "X_2d, y, stratify=y)"
   ]
  },
  {
   "cell_type": "code",
   "execution_count": null,
   "metadata": {},
   "outputs": [],
   "source": [
    "y_test.sum() / len(y_test), len(y_test), y_test.sum()"
   ]
  },
  {
   "cell_type": "code",
   "execution_count": null,
   "metadata": {},
   "outputs": [],
   "source": [
    "unique_elements, counts_elements = np.unique(y_train, return_counts=True)\n",
    "print(\"Frequency of unique values of the said array:\")\n",
    "print(np.asarray((unique_elements, counts_elements)))"
   ]
  },
  {
   "cell_type": "code",
   "execution_count": null,
   "metadata": {},
   "outputs": [],
   "source": [
    "# concatenate our training data back together\n",
    "X_stack = np.column_stack((X_train, y_train))\n",
    "\n",
    "# separate minority and majority classes\n",
    "a = y_train == 1\n",
    "seizures = X_stack[a,:]\n",
    "nonseizures = X_stack[~a,:]\n",
    "nonseizures_downsampled = resample(nonseizures,\n",
    "                                replace = False, # sample without replacement\n",
    "                                n_samples = int(10*len(seizures)), # match minority n\n",
    "                                random_state = 27) # reproducible results\n",
    "\n",
    "# combine minority and downsampled majority\n",
    "downsampled = np.vstack((seizures, nonseizures_downsampled))\n",
    "\n",
    "# checking counts\n",
    "len(seizures), len(nonseizures_downsampled)"
   ]
  },
  {
   "cell_type": "code",
   "execution_count": null,
   "metadata": {},
   "outputs": [],
   "source": [
    "downsampled.shape\n",
    "downsampled[:,-1]\n",
    "X_down = np.delete(downsampled, -1, axis=1)\n",
    "X_down[:,-1]\n",
    "y_down = downsampled[:,-1]"
   ]
  },
  {
   "cell_type": "code",
   "execution_count": null,
   "metadata": {},
   "outputs": [],
   "source": [
    "clf = BalancedRandomForestClassifier(n_estimators=300, max_depth=3, random_state=0)\n",
    "clf.fit(X_down, y_down)  \n",
    "BalancedRandomForestClassifier(...)\n",
    "print(clf.feature_importances_) "
   ]
  },
  {
   "cell_type": "code",
   "execution_count": null,
   "metadata": {},
   "outputs": [],
   "source": [
    "brfc_pred = clf.predict(X_test)"
   ]
  },
  {
   "cell_type": "code",
   "execution_count": null,
   "metadata": {},
   "outputs": [],
   "source": [
    "# sensitivity, specificity, precision, f1\n",
    "tn, fp, fn, tp = confusion_matrix(y_test, brfc_pred).ravel()\n",
    "(tn, fp, fn, tp ), tp / (tp + fn),  tn / (tn + fp), tp / (tp + fp), 2*tp / (2*tp + fp + fn)"
   ]
  },
  {
   "cell_type": "code",
   "execution_count": null,
   "metadata": {},
   "outputs": [],
   "source": [
    "brfc_cr = classification_report(y_test, brfc_pred, digits=10)\n",
    "print(brfc_cr)"
   ]
  },
  {
   "cell_type": "code",
   "execution_count": null,
   "metadata": {},
   "outputs": [],
   "source": []
  },
  {
   "cell_type": "code",
   "execution_count": null,
   "metadata": {},
   "outputs": [],
   "source": []
  }
 ],
 "metadata": {
  "kernelspec": {
   "display_name": "Python 3",
   "language": "python",
   "name": "python3"
  },
  "language_info": {
   "codemirror_mode": {
    "name": "ipython",
    "version": 3
   },
   "file_extension": ".py",
   "mimetype": "text/x-python",
   "name": "python",
   "nbconvert_exporter": "python",
   "pygments_lexer": "ipython3",
   "version": "3.6.6"
  }
 },
 "nbformat": 4,
 "nbformat_minor": 2
}
