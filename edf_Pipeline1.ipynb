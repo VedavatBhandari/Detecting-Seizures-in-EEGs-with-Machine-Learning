{
 "cells": [
  {
   "cell_type": "code",
   "execution_count": 1,
   "metadata": {},
   "outputs": [
    {
     "name": "stderr",
     "output_type": "stream",
     "text": [
      "Using TensorFlow backend.\n",
      "//anaconda3/lib/python3.6/site-packages/tensorflow/python/framework/dtypes.py:516: FutureWarning: Passing (type, 1) or '1type' as a synonym of type is deprecated; in a future version of numpy, it will be understood as (type, (1,)) / '(1,)type'.\n",
      "  _np_qint8 = np.dtype([(\"qint8\", np.int8, 1)])\n",
      "//anaconda3/lib/python3.6/site-packages/tensorflow/python/framework/dtypes.py:517: FutureWarning: Passing (type, 1) or '1type' as a synonym of type is deprecated; in a future version of numpy, it will be understood as (type, (1,)) / '(1,)type'.\n",
      "  _np_quint8 = np.dtype([(\"quint8\", np.uint8, 1)])\n",
      "//anaconda3/lib/python3.6/site-packages/tensorflow/python/framework/dtypes.py:518: FutureWarning: Passing (type, 1) or '1type' as a synonym of type is deprecated; in a future version of numpy, it will be understood as (type, (1,)) / '(1,)type'.\n",
      "  _np_qint16 = np.dtype([(\"qint16\", np.int16, 1)])\n",
      "//anaconda3/lib/python3.6/site-packages/tensorflow/python/framework/dtypes.py:519: FutureWarning: Passing (type, 1) or '1type' as a synonym of type is deprecated; in a future version of numpy, it will be understood as (type, (1,)) / '(1,)type'.\n",
      "  _np_quint16 = np.dtype([(\"quint16\", np.uint16, 1)])\n",
      "//anaconda3/lib/python3.6/site-packages/tensorflow/python/framework/dtypes.py:520: FutureWarning: Passing (type, 1) or '1type' as a synonym of type is deprecated; in a future version of numpy, it will be understood as (type, (1,)) / '(1,)type'.\n",
      "  _np_qint32 = np.dtype([(\"qint32\", np.int32, 1)])\n",
      "//anaconda3/lib/python3.6/site-packages/tensorflow/python/framework/dtypes.py:525: FutureWarning: Passing (type, 1) or '1type' as a synonym of type is deprecated; in a future version of numpy, it will be understood as (type, (1,)) / '(1,)type'.\n",
      "  np_resource = np.dtype([(\"resource\", np.ubyte, 1)])\n",
      "//anaconda3/lib/python3.6/site-packages/tensorboard/compat/tensorflow_stub/dtypes.py:541: FutureWarning: Passing (type, 1) or '1type' as a synonym of type is deprecated; in a future version of numpy, it will be understood as (type, (1,)) / '(1,)type'.\n",
      "  _np_qint8 = np.dtype([(\"qint8\", np.int8, 1)])\n",
      "//anaconda3/lib/python3.6/site-packages/tensorboard/compat/tensorflow_stub/dtypes.py:542: FutureWarning: Passing (type, 1) or '1type' as a synonym of type is deprecated; in a future version of numpy, it will be understood as (type, (1,)) / '(1,)type'.\n",
      "  _np_quint8 = np.dtype([(\"quint8\", np.uint8, 1)])\n",
      "//anaconda3/lib/python3.6/site-packages/tensorboard/compat/tensorflow_stub/dtypes.py:543: FutureWarning: Passing (type, 1) or '1type' as a synonym of type is deprecated; in a future version of numpy, it will be understood as (type, (1,)) / '(1,)type'.\n",
      "  _np_qint16 = np.dtype([(\"qint16\", np.int16, 1)])\n",
      "//anaconda3/lib/python3.6/site-packages/tensorboard/compat/tensorflow_stub/dtypes.py:544: FutureWarning: Passing (type, 1) or '1type' as a synonym of type is deprecated; in a future version of numpy, it will be understood as (type, (1,)) / '(1,)type'.\n",
      "  _np_quint16 = np.dtype([(\"quint16\", np.uint16, 1)])\n",
      "//anaconda3/lib/python3.6/site-packages/tensorboard/compat/tensorflow_stub/dtypes.py:545: FutureWarning: Passing (type, 1) or '1type' as a synonym of type is deprecated; in a future version of numpy, it will be understood as (type, (1,)) / '(1,)type'.\n",
      "  _np_qint32 = np.dtype([(\"qint32\", np.int32, 1)])\n",
      "//anaconda3/lib/python3.6/site-packages/tensorboard/compat/tensorflow_stub/dtypes.py:550: FutureWarning: Passing (type, 1) or '1type' as a synonym of type is deprecated; in a future version of numpy, it will be understood as (type, (1,)) / '(1,)type'.\n",
      "  np_resource = np.dtype([(\"resource\", np.ubyte, 1)])\n"
     ]
    }
   ],
   "source": [
    "import matplotlib.pyplot as plt\n",
    "# %matplotlib inline\n",
    "%matplotlib qt5\n",
    "plt.style.use('ggplot')\n",
    "import mne\n",
    "import pandas as pd\n",
    "from mne.channels.montage import get_builtin_montages\n",
    "import numpy as np\n",
    "import sys\n",
    "from datetime import time\n",
    "from datetime import datetime \n",
    "\n",
    "\n",
    "\n",
    "\n",
    "\n",
    "from sklearn.model_selection import GridSearchCV, StratifiedKFold\n",
    "from sklearn.metrics import roc_curve, precision_recall_curve, auc, make_scorer, recall_score, accuracy_score, precision_score, confusion_matrix\n",
    "\n",
    "import matplotlib.pyplot as plt\n",
    "plt.style.use(\"ggplot\")\n",
    "\n",
    "from mne import io, EvokedArray\n",
    "from mne.decoding import Vectorizer, get_coef\n",
    "from mne.decoding import SlidingEstimator, cross_val_multiscore\n",
    "\n",
    "from imblearn.ensemble import BalancedRandomForestClassifier\n",
    "\n",
    "\n",
    "from sklearn.ensemble import GradientBoostingClassifier\n",
    "from sklearn.ensemble import RandomForestClassifier\n",
    "from sklearn.utils import resample\n",
    "\n",
    "from sklearn.metrics import confusion_matrix, accuracy_score, f1_score, recall_score, precision_score, classification_report\n",
    "from sklearn.preprocessing import StandardScaler\n",
    "from sklearn.metrics import roc_curve, auc, precision_recall_curve\n",
    "from sklearn.linear_model import LogisticRegression\n",
    "from sklearn.pipeline import make_pipeline\n",
    "from sklearn.model_selection import cross_val_score, cross_validate\n",
    "\n",
    "\n",
    "\n",
    "# import a linear classifier from mne.decoding\n",
    "from mne.decoding import LinearModel"
   ]
  },
  {
   "cell_type": "code",
   "execution_count": 7,
   "metadata": {},
   "outputs": [
    {
     "data": {
      "text/plain": [
       "['chb01_01',\n",
       " 'chb01_02',\n",
       " 'chb01_03',\n",
       " 'chb01_04',\n",
       " 'chb01_05',\n",
       " 'chb01_06',\n",
       " 'chb01_07',\n",
       " 'chb01_08',\n",
       " 'chb01_09',\n",
       " 'chb01_10',\n",
       " 'chb01_11',\n",
       " 'chb01_12',\n",
       " 'chb01_13',\n",
       " 'chb01_14',\n",
       " 'chb01_15',\n",
       " 'chb01_16',\n",
       " 'chb01_17',\n",
       " 'chb01_18',\n",
       " 'chb01_19',\n",
       " 'chb01_20',\n",
       " 'chb01_21',\n",
       " 'chb01_22',\n",
       " 'chb01_23',\n",
       " 'chb01_24',\n",
       " 'chb01_25',\n",
       " 'chb01_26',\n",
       " 'chb01_27',\n",
       " 'chb01_29',\n",
       " 'chb01_30',\n",
       " 'chb01_31',\n",
       " 'chb01_32',\n",
       " 'chb01_33',\n",
       " 'chb01_34',\n",
       " 'chb01_36',\n",
       " 'chb01_37',\n",
       " 'chb01_38',\n",
       " 'chb01_39',\n",
       " 'chb01_40',\n",
       " 'chb01_41',\n",
       " 'chb01_42',\n",
       " 'chb01_43',\n",
       " 'chb01_46',\n",
       " 'chb02_01',\n",
       " 'chb02_02',\n",
       " 'chb02_03',\n",
       " 'chb02_04',\n",
       " 'chb02_05',\n",
       " 'chb02_06',\n",
       " 'chb02_07',\n",
       " 'chb02_08',\n",
       " 'chb02_09',\n",
       " 'chb02_10',\n",
       " 'chb02_11',\n",
       " 'chb02_12',\n",
       " 'chb02_13',\n",
       " 'chb02_14',\n",
       " 'chb02_15',\n",
       " 'chb02_16',\n",
       " 'chb02_16+',\n",
       " 'chb02_17',\n",
       " 'chb02_18',\n",
       " 'chb02_19',\n",
       " 'chb02_20',\n",
       " 'chb02_21',\n",
       " 'chb02_22',\n",
       " 'chb02_23',\n",
       " 'chb02_24',\n",
       " 'chb02_25',\n",
       " 'chb02_26',\n",
       " 'chb02_27',\n",
       " 'chb02_28',\n",
       " 'chb02_29',\n",
       " 'chb02_30',\n",
       " 'chb02_31',\n",
       " 'chb02_32',\n",
       " 'chb02_33',\n",
       " 'chb02_34',\n",
       " 'chb02_35',\n",
       " 'chb03_01',\n",
       " 'chb03_02',\n",
       " 'chb03_03',\n",
       " 'chb03_04',\n",
       " 'chb03_05',\n",
       " 'chb03_06',\n",
       " 'chb03_07',\n",
       " 'chb03_08',\n",
       " 'chb03_09',\n",
       " 'chb03_10',\n",
       " 'chb03_11',\n",
       " 'chb03_12',\n",
       " 'chb03_13',\n",
       " 'chb03_14',\n",
       " 'chb03_15',\n",
       " 'chb03_16',\n",
       " 'chb03_17',\n",
       " 'chb03_18',\n",
       " 'chb03_19',\n",
       " 'chb03_20',\n",
       " 'chb03_21',\n",
       " 'chb03_22',\n",
       " 'chb03_23',\n",
       " 'chb03_24',\n",
       " 'chb03_25',\n",
       " 'chb03_26',\n",
       " 'chb03_27',\n",
       " 'chb03_28',\n",
       " 'chb03_29',\n",
       " 'chb03_30',\n",
       " 'chb03_31',\n",
       " 'chb03_32',\n",
       " 'chb03_33',\n",
       " 'chb03_34',\n",
       " 'chb03_35',\n",
       " 'chb03_36',\n",
       " 'chb03_37',\n",
       " 'chb03_38',\n",
       " 'chb04_01',\n",
       " 'chb04_02',\n",
       " 'chb04_03',\n",
       " 'chb04_04',\n",
       " 'chb04_05',\n",
       " 'chb04_06',\n",
       " 'chb04_07',\n",
       " 'chb04_08',\n",
       " 'chb04_09',\n",
       " 'chb04_10',\n",
       " 'chb04_11',\n",
       " 'chb04_12',\n",
       " 'chb04_13',\n",
       " 'chb04_14',\n",
       " 'chb04_15',\n",
       " 'chb04_16',\n",
       " 'chb04_17',\n",
       " 'chb04_18',\n",
       " 'chb04_19',\n",
       " 'chb04_21',\n",
       " 'chb04_22',\n",
       " 'chb04_23',\n",
       " 'chb04_24',\n",
       " 'chb04_25',\n",
       " 'chb04_26',\n",
       " 'chb04_27',\n",
       " 'chb04_28',\n",
       " 'chb04_29',\n",
       " 'chb04_30',\n",
       " 'chb04_31',\n",
       " 'chb04_32',\n",
       " 'chb04_33',\n",
       " 'chb04_34',\n",
       " 'chb04_35',\n",
       " 'chb04_36',\n",
       " 'chb04_37',\n",
       " 'chb04_38',\n",
       " 'chb04_39',\n",
       " 'chb04_40',\n",
       " 'chb04_41',\n",
       " 'chb04_42',\n",
       " 'chb04_43',\n",
       " 'chb05_01',\n",
       " 'chb05_02',\n",
       " 'chb05_03',\n",
       " 'chb05_04',\n",
       " 'chb05_05',\n",
       " 'chb05_06',\n",
       " 'chb05_07',\n",
       " 'chb05_08',\n",
       " 'chb05_09',\n",
       " 'chb05_10',\n",
       " 'chb05_11',\n",
       " 'chb05_12',\n",
       " 'chb05_13',\n",
       " 'chb05_14',\n",
       " 'chb05_15',\n",
       " 'chb05_16',\n",
       " 'chb05_17',\n",
       " 'chb05_18',\n",
       " 'chb05_19',\n",
       " 'chb05_20',\n",
       " 'chb05_21',\n",
       " 'chb05_22',\n",
       " 'chb05_23',\n",
       " 'chb05_24',\n",
       " 'chb05_25',\n",
       " 'chb05_26',\n",
       " 'chb05_27',\n",
       " 'chb05_28',\n",
       " 'chb05_29',\n",
       " 'chb05_30',\n",
       " 'chb05_31',\n",
       " 'chb05_32',\n",
       " 'chb05_33',\n",
       " 'chb05_34',\n",
       " 'chb05_35',\n",
       " 'chb05_36',\n",
       " 'chb05_37',\n",
       " 'chb05_38',\n",
       " 'chb05_39',\n",
       " 'chb06_01',\n",
       " 'chb06_02',\n",
       " 'chb06_03',\n",
       " 'chb06_04',\n",
       " 'chb06_05',\n",
       " 'chb06_06',\n",
       " 'chb06_07',\n",
       " 'chb06_08',\n",
       " 'chb06_09',\n",
       " 'chb06_10',\n",
       " 'chb06_12',\n",
       " 'chb06_13',\n",
       " 'chb06_14',\n",
       " 'chb06_15',\n",
       " 'chb06_16',\n",
       " 'chb06_17',\n",
       " 'chb06_18',\n",
       " 'chb06_24',\n",
       " 'chb07_01',\n",
       " 'chb07_02',\n",
       " 'chb07_03',\n",
       " 'chb07_04',\n",
       " 'chb07_05',\n",
       " 'chb07_06',\n",
       " 'chb07_07',\n",
       " 'chb07_08',\n",
       " 'chb07_09',\n",
       " 'chb07_10',\n",
       " 'chb07_11',\n",
       " 'chb07_12',\n",
       " 'chb07_13',\n",
       " 'chb07_14',\n",
       " 'chb07_15',\n",
       " 'chb07_16',\n",
       " 'chb07_17',\n",
       " 'chb07_18',\n",
       " 'chb07_19',\n",
       " 'chb08_02',\n",
       " 'chb08_03',\n",
       " 'chb08_04',\n",
       " 'chb08_05',\n",
       " 'chb08_10',\n",
       " 'chb08_11',\n",
       " 'chb08_12',\n",
       " 'chb08_13',\n",
       " 'chb08_14',\n",
       " 'chb08_15',\n",
       " 'chb08_16',\n",
       " 'chb08_17',\n",
       " 'chb08_18',\n",
       " 'chb08_19',\n",
       " 'chb08_20',\n",
       " 'chb08_21',\n",
       " 'chb08_22',\n",
       " 'chb08_23',\n",
       " 'chb08_24',\n",
       " 'chb08_29',\n",
       " 'chb09_01',\n",
       " 'chb09_02',\n",
       " 'chb09_03',\n",
       " 'chb09_04',\n",
       " 'chb09_05',\n",
       " 'chb09_06',\n",
       " 'chb09_07',\n",
       " 'chb09_08',\n",
       " 'chb09_09',\n",
       " 'chb09_10',\n",
       " 'chb09_11',\n",
       " 'chb09_12',\n",
       " 'chb09_13',\n",
       " 'chb09_14',\n",
       " 'chb09_15',\n",
       " 'chb09_16',\n",
       " 'chb09_17',\n",
       " 'chb09_18',\n",
       " 'chb09_19',\n",
       " 'chb10_01',\n",
       " 'chb10_02',\n",
       " 'chb10_03',\n",
       " 'chb10_04',\n",
       " 'chb10_05',\n",
       " 'chb10_06',\n",
       " 'chb10_07',\n",
       " 'chb10_08',\n",
       " 'chb10_12',\n",
       " 'chb10_13',\n",
       " 'chb10_14',\n",
       " 'chb10_15',\n",
       " 'chb10_16',\n",
       " 'chb10_17',\n",
       " 'chb10_18',\n",
       " 'chb10_19',\n",
       " 'chb10_20',\n",
       " 'chb10_21',\n",
       " 'chb10_22',\n",
       " 'chb10_27',\n",
       " 'chb10_28',\n",
       " 'chb10_30',\n",
       " 'chb10_31',\n",
       " 'chb10_38',\n",
       " 'chb10_89',\n",
       " 'chb11_01',\n",
       " 'chb11_02',\n",
       " 'chb11_03',\n",
       " 'chb11_04',\n",
       " 'chb11_05',\n",
       " 'chb11_06',\n",
       " 'chb11_07',\n",
       " 'chb11_08',\n",
       " 'chb11_09',\n",
       " 'chb11_10',\n",
       " 'chb11_11',\n",
       " 'chb11_12',\n",
       " 'chb11_13',\n",
       " 'chb11_14',\n",
       " 'chb11_15',\n",
       " 'chb11_16',\n",
       " 'chb11_17',\n",
       " 'chb11_18',\n",
       " 'chb11_19',\n",
       " 'chb11_24',\n",
       " 'chb11_25',\n",
       " 'chb11_26',\n",
       " 'chb11_27',\n",
       " 'chb11_53',\n",
       " 'chb11_54',\n",
       " 'chb11_55',\n",
       " 'chb11_56',\n",
       " 'chb11_58',\n",
       " 'chb11_60',\n",
       " 'chb11_61',\n",
       " 'chb11_62',\n",
       " 'chb11_63',\n",
       " 'chb11_82',\n",
       " 'chb11_92',\n",
       " 'chb11_99',\n",
       " 'chb12_06',\n",
       " 'chb12_08',\n",
       " 'chb12_09',\n",
       " 'chb12_10',\n",
       " 'chb12_11',\n",
       " 'chb12_19',\n",
       " 'chb12_20',\n",
       " 'chb12_21',\n",
       " 'chb12_23',\n",
       " 'chb12_24',\n",
       " 'chb12_27',\n",
       " 'chb12_28',\n",
       " 'chb12_29',\n",
       " 'chb12_32',\n",
       " 'chb12_33',\n",
       " 'chb12_34',\n",
       " 'chb12_35',\n",
       " 'chb12_36',\n",
       " 'chb12_37',\n",
       " 'chb12_38',\n",
       " 'chb12_39',\n",
       " 'chb12_40',\n",
       " 'chb12_41',\n",
       " 'chb12_42',\n",
       " 'chb13_02',\n",
       " 'chb13_03',\n",
       " 'chb13_04',\n",
       " 'chb13_05',\n",
       " 'chb13_06',\n",
       " 'chb13_07',\n",
       " 'chb13_08',\n",
       " 'chb13_09',\n",
       " 'chb13_10',\n",
       " 'chb13_11',\n",
       " 'chb13_12',\n",
       " 'chb13_13',\n",
       " 'chb13_14',\n",
       " 'chb13_15',\n",
       " 'chb13_16',\n",
       " 'chb13_18',\n",
       " 'chb13_19',\n",
       " 'chb13_21',\n",
       " 'chb13_22',\n",
       " 'chb13_24',\n",
       " 'chb13_30',\n",
       " 'chb13_36',\n",
       " 'chb13_37',\n",
       " 'chb13_38',\n",
       " 'chb13_39',\n",
       " 'chb13_40',\n",
       " 'chb13_47',\n",
       " 'chb13_55',\n",
       " 'chb13_56',\n",
       " 'chb13_58',\n",
       " 'chb13_59',\n",
       " 'chb13_60',\n",
       " 'chb13_62',\n",
       " 'chb14_01',\n",
       " 'chb14_02',\n",
       " 'chb14_03',\n",
       " 'chb14_04',\n",
       " 'chb14_06',\n",
       " 'chb14_07',\n",
       " 'chb14_11',\n",
       " 'chb14_12',\n",
       " 'chb14_13',\n",
       " 'chb14_14',\n",
       " 'chb14_16',\n",
       " 'chb14_17',\n",
       " 'chb14_18',\n",
       " 'chb14_19',\n",
       " 'chb14_20',\n",
       " 'chb14_22',\n",
       " 'chb14_24',\n",
       " 'chb14_25',\n",
       " 'chb14_26',\n",
       " 'chb14_27',\n",
       " 'chb14_29',\n",
       " 'chb14_30',\n",
       " 'chb14_32',\n",
       " 'chb14_37',\n",
       " 'chb14_39',\n",
       " 'chb14_42',\n",
       " 'chb15_01',\n",
       " 'chb15_02',\n",
       " 'chb15_03',\n",
       " 'chb15_04',\n",
       " 'chb15_05',\n",
       " 'chb15_06',\n",
       " 'chb15_07',\n",
       " 'chb15_08',\n",
       " 'chb15_09',\n",
       " 'chb15_10',\n",
       " 'chb15_11',\n",
       " 'chb15_12',\n",
       " 'chb15_13',\n",
       " 'chb15_14',\n",
       " 'chb15_15',\n",
       " 'chb15_16',\n",
       " 'chb15_17',\n",
       " 'chb15_19',\n",
       " 'chb15_20',\n",
       " 'chb15_22',\n",
       " 'chb15_26',\n",
       " 'chb15_28',\n",
       " 'chb15_29',\n",
       " 'chb15_30',\n",
       " 'chb15_31',\n",
       " 'chb15_32',\n",
       " 'chb15_33',\n",
       " 'chb15_35',\n",
       " 'chb15_37',\n",
       " 'chb15_40',\n",
       " 'chb15_45',\n",
       " 'chb15_46',\n",
       " 'chb15_49',\n",
       " 'chb15_50',\n",
       " 'chb15_51',\n",
       " 'chb15_52',\n",
       " 'chb15_54',\n",
       " 'chb15_61',\n",
       " 'chb15_62',\n",
       " 'chb15_63',\n",
       " 'chb16_01',\n",
       " 'chb16_02',\n",
       " 'chb16_03',\n",
       " 'chb16_04',\n",
       " 'chb16_05',\n",
       " 'chb16_06',\n",
       " 'chb16_07',\n",
       " 'chb16_08',\n",
       " 'chb16_09',\n",
       " 'chb16_10',\n",
       " 'chb16_11',\n",
       " 'chb16_12',\n",
       " 'chb16_13',\n",
       " 'chb16_14',\n",
       " 'chb16_15',\n",
       " 'chb16_16',\n",
       " 'chb16_17',\n",
       " 'chb16_18',\n",
       " 'chb16_19',\n",
       " 'chb17a_03',\n",
       " 'chb17a_04',\n",
       " 'chb17a_05',\n",
       " 'chb17a_06',\n",
       " 'chb17a_08',\n",
       " 'chb17b_57',\n",
       " 'chb17b_58',\n",
       " 'chb17b_59',\n",
       " 'chb17b_60',\n",
       " 'chb17b_63',\n",
       " 'chb17b_67',\n",
       " 'chb17b_68',\n",
       " 'chb17b_69',\n",
       " 'chb17c_02',\n",
       " 'chb17c_03',\n",
       " 'chb17c_04',\n",
       " 'chb17c_05',\n",
       " 'chb17c_06',\n",
       " 'chb17c_07',\n",
       " 'chb17c_08',\n",
       " 'chb17c_13',\n",
       " 'chb18_01',\n",
       " 'chb18_02',\n",
       " 'chb18_03',\n",
       " 'chb18_04',\n",
       " 'chb18_05',\n",
       " 'chb18_06',\n",
       " 'chb18_07',\n",
       " 'chb18_08',\n",
       " 'chb18_09',\n",
       " 'chb18_10',\n",
       " 'chb18_11',\n",
       " 'chb18_12',\n",
       " 'chb18_13',\n",
       " 'chb18_14',\n",
       " 'chb18_15',\n",
       " 'chb18_16',\n",
       " 'chb18_17',\n",
       " 'chb18_18',\n",
       " 'chb18_19',\n",
       " 'chb18_20',\n",
       " 'chb18_21',\n",
       " 'chb18_22',\n",
       " 'chb18_23',\n",
       " 'chb18_24',\n",
       " 'chb18_25',\n",
       " 'chb18_26',\n",
       " 'chb18_27',\n",
       " 'chb18_28',\n",
       " 'chb18_29',\n",
       " 'chb18_30',\n",
       " 'chb18_31',\n",
       " 'chb18_32',\n",
       " 'chb18_33',\n",
       " 'chb18_34',\n",
       " 'chb18_35',\n",
       " 'chb18_36',\n",
       " 'chb19_01',\n",
       " 'chb19_02',\n",
       " 'chb19_03',\n",
       " 'chb19_04',\n",
       " 'chb19_05',\n",
       " 'chb19_06',\n",
       " 'chb19_07',\n",
       " 'chb19_08',\n",
       " 'chb19_09',\n",
       " 'chb19_10',\n",
       " 'chb19_11',\n",
       " 'chb19_12',\n",
       " 'chb19_13',\n",
       " 'chb19_14',\n",
       " 'chb19_15',\n",
       " 'chb19_16',\n",
       " 'chb19_17',\n",
       " 'chb19_18',\n",
       " 'chb19_19',\n",
       " 'chb19_20',\n",
       " 'chb19_21',\n",
       " 'chb19_22',\n",
       " 'chb19_23',\n",
       " 'chb19_24',\n",
       " 'chb19_25',\n",
       " 'chb19_26',\n",
       " 'chb19_27',\n",
       " 'chb19_28',\n",
       " 'chb19_29',\n",
       " 'chb19_30',\n",
       " 'chb20_01',\n",
       " 'chb20_02',\n",
       " 'chb20_03',\n",
       " 'chb20_04',\n",
       " 'chb20_05',\n",
       " 'chb20_06',\n",
       " 'chb20_07',\n",
       " 'chb20_08',\n",
       " 'chb20_11',\n",
       " 'chb20_12',\n",
       " 'chb20_13',\n",
       " 'chb20_14',\n",
       " 'chb20_15',\n",
       " 'chb20_16',\n",
       " 'chb20_17',\n",
       " 'chb20_21',\n",
       " 'chb20_22',\n",
       " 'chb20_23',\n",
       " 'chb20_25',\n",
       " 'chb20_26',\n",
       " 'chb20_27',\n",
       " 'chb20_28',\n",
       " 'chb20_29',\n",
       " 'chb20_30',\n",
       " 'chb20_31',\n",
       " 'chb20_34',\n",
       " 'chb20_59',\n",
       " 'chb20_60',\n",
       " 'chb20_68',\n",
       " 'chb21_01',\n",
       " 'chb21_02',\n",
       " 'chb21_03',\n",
       " 'chb21_04',\n",
       " 'chb21_05',\n",
       " 'chb21_06',\n",
       " 'chb21_07',\n",
       " 'chb21_08',\n",
       " 'chb21_09',\n",
       " 'chb21_10',\n",
       " 'chb21_11',\n",
       " 'chb21_12',\n",
       " 'chb21_13',\n",
       " 'chb21_14',\n",
       " 'chb21_15',\n",
       " 'chb21_16',\n",
       " 'chb21_17',\n",
       " 'chb21_18',\n",
       " 'chb21_19',\n",
       " 'chb21_20',\n",
       " 'chb21_21',\n",
       " 'chb21_22',\n",
       " 'chb21_23',\n",
       " 'chb21_24',\n",
       " 'chb21_25',\n",
       " 'chb21_26',\n",
       " 'chb21_27',\n",
       " 'chb21_28',\n",
       " 'chb21_29',\n",
       " 'chb21_30',\n",
       " 'chb21_31',\n",
       " 'chb21_32',\n",
       " 'chb21_33',\n",
       " 'chb22_01',\n",
       " 'chb22_02',\n",
       " 'chb22_03',\n",
       " 'chb22_04',\n",
       " 'chb22_05',\n",
       " 'chb22_06',\n",
       " 'chb22_07',\n",
       " 'chb22_08',\n",
       " 'chb22_09',\n",
       " 'chb22_10',\n",
       " 'chb22_11',\n",
       " 'chb22_15',\n",
       " 'chb22_16',\n",
       " 'chb22_17',\n",
       " 'chb22_18',\n",
       " 'chb22_19',\n",
       " 'chb22_20',\n",
       " 'chb22_21',\n",
       " 'chb22_22',\n",
       " 'chb22_23',\n",
       " 'chb22_24',\n",
       " 'chb22_25',\n",
       " 'chb22_26',\n",
       " 'chb22_27',\n",
       " 'chb22_28',\n",
       " 'chb22_29',\n",
       " 'chb22_30',\n",
       " 'chb22_38',\n",
       " 'chb22_51',\n",
       " 'chb22_54',\n",
       " 'chb22_77',\n",
       " 'chb23_06',\n",
       " 'chb23_07',\n",
       " 'chb23_08',\n",
       " 'chb23_09',\n",
       " 'chb23_10',\n",
       " 'chb23_16',\n",
       " 'chb23_17',\n",
       " 'chb23_19',\n",
       " 'chb23_20',\n",
       " 'chb24_01',\n",
       " 'chb24_02',\n",
       " 'chb24_03',\n",
       " 'chb24_04',\n",
       " 'chb24_05',\n",
       " 'chb24_06',\n",
       " 'chb24_07',\n",
       " 'chb24_08',\n",
       " 'chb24_09',\n",
       " 'chb24_10',\n",
       " 'chb24_11',\n",
       " 'chb24_12',\n",
       " 'chb24_13',\n",
       " 'chb24_14',\n",
       " 'chb24_15',\n",
       " 'chb24_16',\n",
       " 'chb24_17',\n",
       " 'chb24_18',\n",
       " 'chb24_19',\n",
       " 'chb24_20',\n",
       " 'chb24_21',\n",
       " 'chb24_22']"
      ]
     },
     "execution_count": 7,
     "metadata": {},
     "output_type": "execute_result"
    }
   ],
   "source": [
    "rec_wos"
   ]
  },
  {
   "cell_type": "code",
   "execution_count": 2,
   "metadata": {},
   "outputs": [],
   "source": [
    "recs_l = []\n",
    "with open('chb-mit-scalp-eeg-database-1.0.0/RECORDS') as f:\n",
    "    line_list = f.read().splitlines()\n",
    "    for elem in line_list:\n",
    "        if len(elem) > 1:\n",
    "            recs_l.append(elem)\n",
    "      "
   ]
  },
  {
   "cell_type": "code",
   "execution_count": 3,
   "metadata": {},
   "outputs": [],
   "source": [
    "rec_wsl = []\n",
    "with open('chb-mit-scalp-eeg-database-1.0.0/RECORDS-WITH-SEIZURES') as f:\n",
    "    line_list = f.readlines()\n",
    "    for elem in line_list:\n",
    "        if len(elem) > 1:\n",
    "            rec_wsl.append(elem.split(\"/\")[1].split('.')[0])\n",
    "rec_wsl[34] = 'chb07_19'            "
   ]
  },
  {
   "cell_type": "code",
   "execution_count": 4,
   "metadata": {},
   "outputs": [],
   "source": [
    "rec_wos = []\n",
    "for rec in recs_l:\n",
    "    rec_name = rec.split('/')[1].split('.')[0]\n",
    "    rec_wos.append(rec_name)\n"
   ]
  },
  {
   "cell_type": "code",
   "execution_count": 5,
   "metadata": {},
   "outputs": [],
   "source": [
    "d = {}\n",
    "with open('seizures.txt') as f:\n",
    "    line_list = f.readlines()\n",
    "    for elem in line_list:\n",
    "        if elem[0:9] == 'File Name':\n",
    "            elem2 = elem.split(\":\")[1]\n",
    "            fn = elem2.split(\".\")[0].strip()\n",
    "            d[fn]={}\n",
    "            \n",
    "        if elem[0:26] == 'Number of Seizures in File':\n",
    "            numb = int(elem.split(\":\")[1])\n",
    "            d[fn]['Number of Seizures in File'] = numb\n",
    "            \n",
    "        \n",
    "        if (elem[0:18]   ==  'Seizure Start Time') or (elem[0:20]   ==  'Seizure 1 Start Time'):\n",
    "                elem2 = elem.split(\":\")[1]\n",
    "                elem3 = int(elem2.split()[0])\n",
    "                d[fn]['Seizure 1 Start Time'] = elem3\n",
    "\n",
    "\n",
    "        if (elem[0:16]   ==  'Seizure End Time') or (elem[0:18]   ==  'Seizure 1 End Time'):\n",
    "                elem2 = elem.split(\":\")[1]\n",
    "                elem3 = int(elem2.split()[0])\n",
    "                d[fn]['Seizure 1 End Time'] = elem3\n",
    "                d[fn]['Seizure 1 Duration'] = elem3 - d[fn]['Seizure 1 Start Time']    \n",
    "\n",
    "\n",
    "        if elem[0:20]   ==  'Seizure 2 Start Time':\n",
    "            elem2 = elem.split(\":\")[1]\n",
    "            elem3 = int(elem2.split()[0])\n",
    "            d[fn]['Seizure 2 Start Time'] = elem3\n",
    "\n",
    "\n",
    "        if elem[0:18]   ==  'Seizure 2 End Time':\n",
    "            elem2 = elem.split(\":\")[1]\n",
    "            elem3 = int(elem2.split()[0])\n",
    "            d[fn]['Seizure 2 End Time'] = elem3\n",
    "            d[fn]['Seizure 2 Duration'] = elem3 - d[fn]['Seizure 2 Start Time']  \n",
    "\n",
    "        if elem[0:20]   ==  'Seizure 3 Start Time':\n",
    "            elem2 = elem.split(\":\")[1]\n",
    "            elem3 = int(elem2.split()[0])\n",
    "            d[fn]['Seizure 3 Start Time'] = elem3\n",
    "\n",
    "\n",
    "        if elem[0:18]   ==  'Seizure 3 End Time':\n",
    "            elem2 = elem.split(\":\")[1]\n",
    "            elem3 = int(elem2.split()[0])\n",
    "            d[fn]['Seizure 3 End Time'] = elem3\n",
    "            d[fn]['Seizure 3 Duration'] = elem3 - d[fn]['Seizure 3 Start Time']  \n",
    "\n",
    "        if elem[0:20]   ==  'Seizure 4 Start Time':\n",
    "            elem2 = elem.split(\":\")[1]\n",
    "            elem3 = int(elem2.split()[0])\n",
    "            d[fn]['Seizure 4 Start Time'] = elem3\n",
    "\n",
    "\n",
    "        if elem[0:18]   ==  'Seizure 4 End Time':\n",
    "            elem2 = elem.split(\":\")[1]\n",
    "            elem3 = int(elem2.split()[0])\n",
    "            d[fn]['Seizure 4 End Time'] = elem3\n",
    "            d[fn]['Seizure 4 Duration'] = elem3 - d[fn]['Seizure 4 Start Time']   \n",
    "\n",
    "\n",
    "        if elem[0:20]   ==  'Seizure 5 Start Time':\n",
    "            elem2 = elem.split(\":\")[1]\n",
    "            elem3 = int(elem2.split()[0])\n",
    "            d[fn]['Seizure 5 Start Time'] = elem3\n",
    "\n",
    "\n",
    "        if elem[0:18]   ==  'Seizure 5 End Time':\n",
    "            elem2 = elem.split(\":\")[1]\n",
    "            elem3 = int(elem2.split()[0])\n",
    "            d[fn]['Seizure 5 End Time'] = elem3\n",
    "            d[fn]['Seizure 5 Duration'] = elem3 - d[fn]['Seizure 5 Start Time'] \n",
    "            \n",
    "            \n",
    "                    \n",
    "   "
   ]
  },
  {
   "cell_type": "code",
   "execution_count": 6,
   "metadata": {},
   "outputs": [],
   "source": [
    "with open('seizures.txt') as f:\n",
    "    line_list = f.readlines()\n",
    "    for elem in line_list:\n",
    "        if elem[0:9] == 'File Name':\n",
    "            elem2 = elem.split(\":\")[1]\n",
    "            fn = elem2.split(\".\")[0].strip()\n",
    "                    \n",
    "    \n",
    "    \n",
    "        if elem[0:15] == 'File Start Time':\n",
    "            fst = elem.split(\":\", 1)[1].strip()\n",
    "            if fst[0:2] == '24':\n",
    "                fstump = fst[2:9]\n",
    "                z = '00'\n",
    "                fst = z + fstump\n",
    "                \n",
    "            d[fn]['File Start Time'] = fst  \n",
    "            \n",
    "            std = datetime.strptime(fst, '%H:%M:%S')  \n",
    "            \n",
    "        if elem[0:13] == 'File End Time':\n",
    "            fet = elem.split(\":\", 1)[1].strip()\n",
    "            if fet[0:2] == '24':\n",
    "                fetump = fet[2:9]\n",
    "                z = '00'\n",
    "                fet = z + fetump\n",
    "            d[fn]['File End Time'] = fet    \n",
    "            \n",
    "            etd = datetime.strptime(fet, '%H:%M:%S')\n",
    "            \n",
    "            \n",
    "            td = etd - std\n",
    "            d[fn]['File length in seconds'] = td.total_seconds()  "
   ]
  },
  {
   "cell_type": "code",
   "execution_count": 7,
   "metadata": {},
   "outputs": [],
   "source": [
    "\n",
    "anno_nm_lst = [n for n in range(138)]\n",
    "anno_lst = [n for n in range(138)]\n",
    "idx = 0\n",
    "for elem in d.keys():\n",
    "    \n",
    "    df = d[elem]\n",
    "    numb = df[list(df)[0]]\n",
    "    duration = [df[list(df)[i]] for i in range(3, df[list(df)[0]]*3 + 1, 3)]\n",
    "    onset = [df[list(df)[i]] for i in range(1, 3*numb + 1, 3)]\n",
    "    description1=['Seizure']*numb\n",
    "    onset3 = [0.0]\n",
    "    onset2 = [onset[i] + duration[i] for i in range(numb)]\n",
    "    onset2 = onset3 + onset2\n",
    "    duree = [onset[i] - onset2[i] for i in range(numb)]    \n",
    "\n",
    "    duration2 = [df[list(df)[-1]] - onset2[-1]]\n",
    "    \n",
    "    \n",
    "    description2 = ['Nonseizure']*(numb + 1)\n",
    "    onset = onset2 + onset\n",
    "    duration = duree + duration2 + duration\n",
    "    \n",
    "    description = description2 + description1\n",
    "\n",
    "    \n",
    "    anno = elem \n",
    "    \n",
    "    anno_nm_lst[idx] = anno\n",
    "    anno = mne.Annotations(onset=onset,\n",
    "                            duration=duration,\n",
    "                            description=description)\n",
    "\n",
    "    \n",
    "    \n",
    "    anno_lst[idx] = anno\n",
    "    idx += 1\n",
    "\n",
    "anno_dict = {anno_nm_lst[i]: anno_lst[i] for i in range(138)}"
   ]
  },
  {
   "cell_type": "code",
   "execution_count": 6,
   "metadata": {},
   "outputs": [],
   "source": [
    "fif_lst = [rec_name + '_raw.fif' for rec_name in rec_wos if rec_name[0:5] == 'chb01']\n",
    "# fif_shrtl = fif_lst[0:10]"
   ]
  },
  {
   "cell_type": "code",
   "execution_count": null,
   "metadata": {},
   "outputs": [],
   "source": [
    "for rec in recs_l:\n",
    "    if rec[0:5] == 'chb01':\n",
    "        data_path = 'chb-mit-scalp-eeg-database-1.0.0/'\n",
    "        fname = data_path + rec\n",
    "        data = mne.io.read_raw_edf(fname, preload=True)\n",
    "        data = data.filter(1., 40., fir_design='firwin', n_jobs=1)\n",
    "        info = data.info\n",
    "        info['ch_names'] = ['AF7', 'FT7', 'TP7', 'PO7', 'AF3', 'FC3', 'CP3', 'PO3', 'AF4', 'FC4', 'CP4', 'PO4', 'AF8', 'FT8', 'TP8', 'PO8', 'FCz', 'CPz', 'T7', 'FT9', 'FT10', 'T8', 'TP8']\n",
    "        \n",
    "        for i in range(len(info['chs'])):\n",
    "            info['chs'][i]['ch_name'] = info['ch_names'][i]\n",
    "            \n",
    "        montage = mne.channels.read_montage(\"standard_1020\")\n",
    "        data.set_montage(montage)    \n",
    "            \n",
    "        rec_name = rec.split('/')[1].split('.')[0]\n",
    "        if rec_name in anno_dict:\n",
    "            anno = anno_dict[rec_name]\n",
    "            data.set_annotations(anno)\n",
    "            print()\n",
    "            event_id = dict(Seizure=1, Nonseizure=0)\n",
    "            events_from_annot, event_dict = mne.events_from_annotations(data, chunk_duration=1)\n",
    "            \n",
    "            \n",
    "        if rec_name not in anno_dict:\n",
    "            events = mne.make_fixed_length_events(data, id=0, start=0, stop=None, duration=1.0, first_samp=True, overlap=0.0)\n",
    "            \n",
    "            \n",
    "            mapping = {0: 'Nonseizure', 1: 'Seizure'}\n",
    "            onsets = events[:, 0] / data.info['sfreq']\n",
    "            durations = np.ones_like(onsets)  # assumes instantaneous events\n",
    "            descriptions = [mapping[event_id] for event_id in events[:, 2]]\n",
    "            annot_from_events = mne.Annotations(onset=onsets, duration=durations,\n",
    "                                                description=descriptions)\n",
    "            data.set_annotations(annot_from_events)    \n",
    "            \n",
    "        \n",
    "        \n",
    "        \n",
    "        fif_lst = []\n",
    "        fif = '_raw.fif'\n",
    "        file_nm = rec_name + fif\n",
    "        fif_lst.append(file_nm)\n",
    "        data.save(file_nm, picks='all', fmt='single')\n",
    "        "
   ]
  },
  {
   "cell_type": "code",
   "execution_count": 8,
   "metadata": {
    "scrolled": true
   },
   "outputs": [
    {
     "name": "stdout",
     "output_type": "stream",
     "text": [
      "Opening raw data file fif/chb01_01_raw.fif...\n",
      "    Range : 0 ... 921599 =      0.000 ...  3599.996 secs\n",
      "Ready.\n",
      "Opening raw data file fif/chb01_02_raw.fif...\n",
      "    Range : 0 ... 921599 =      0.000 ...  3599.996 secs\n",
      "Ready.\n",
      "Opening raw data file fif/chb01_03_raw.fif...\n",
      "    Range : 0 ... 921599 =      0.000 ...  3599.996 secs\n",
      "Ready.\n",
      "Opening raw data file fif/chb01_04_raw.fif...\n",
      "    Range : 0 ... 921599 =      0.000 ...  3599.996 secs\n",
      "Ready.\n",
      "Opening raw data file fif/chb01_05_raw.fif...\n",
      "    Range : 0 ... 921599 =      0.000 ...  3599.996 secs\n",
      "Ready.\n",
      "Opening raw data file fif/chb01_06_raw.fif...\n",
      "    Range : 0 ... 921599 =      0.000 ...  3599.996 secs\n",
      "Ready.\n",
      "Opening raw data file fif/chb01_07_raw.fif...\n",
      "    Range : 0 ... 921599 =      0.000 ...  3599.996 secs\n",
      "Ready.\n",
      "Opening raw data file fif/chb01_08_raw.fif...\n",
      "    Range : 0 ... 921599 =      0.000 ...  3599.996 secs\n",
      "Ready.\n",
      "Opening raw data file fif/chb01_09_raw.fif...\n",
      "    Range : 0 ... 921599 =      0.000 ...  3599.996 secs\n",
      "Ready.\n",
      "Opening raw data file fif/chb01_10_raw.fif...\n",
      "    Range : 0 ... 921599 =      0.000 ...  3599.996 secs\n",
      "Ready.\n",
      "Opening raw data file fif/chb01_11_raw.fif...\n",
      "    Range : 0 ... 921599 =      0.000 ...  3599.996 secs\n",
      "Ready.\n",
      "Opening raw data file fif/chb01_12_raw.fif...\n",
      "    Range : 0 ... 921599 =      0.000 ...  3599.996 secs\n",
      "Ready.\n",
      "Opening raw data file fif/chb01_13_raw.fif...\n",
      "    Range : 0 ... 921599 =      0.000 ...  3599.996 secs\n",
      "Ready.\n",
      "Opening raw data file fif/chb01_14_raw.fif...\n",
      "    Range : 0 ... 921599 =      0.000 ...  3599.996 secs\n",
      "Ready.\n",
      "Opening raw data file fif/chb01_15_raw.fif...\n",
      "    Range : 0 ... 921599 =      0.000 ...  3599.996 secs\n",
      "Ready.\n",
      "Opening raw data file fif/chb01_16_raw.fif...\n",
      "    Range : 0 ... 921599 =      0.000 ...  3599.996 secs\n",
      "Ready.\n",
      "Opening raw data file fif/chb01_17_raw.fif...\n",
      "    Range : 0 ... 921599 =      0.000 ...  3599.996 secs\n",
      "Ready.\n",
      "Opening raw data file fif/chb01_18_raw.fif...\n",
      "    Range : 0 ... 921599 =      0.000 ...  3599.996 secs\n",
      "Ready.\n",
      "Opening raw data file fif/chb01_19_raw.fif...\n",
      "    Range : 0 ... 921599 =      0.000 ...  3599.996 secs\n",
      "Ready.\n",
      "Opening raw data file fif/chb01_20_raw.fif...\n",
      "    Range : 0 ... 681727 =      0.000 ...  2662.996 secs\n",
      "Ready.\n",
      "Opening raw data file fif/chb01_21_raw.fif...\n",
      "    Range : 0 ... 921599 =      0.000 ...  3599.996 secs\n",
      "Ready.\n",
      "Opening raw data file fif/chb01_22_raw.fif...\n",
      "    Range : 0 ... 921599 =      0.000 ...  3599.996 secs\n",
      "Ready.\n",
      "Opening raw data file fif/chb01_23_raw.fif...\n",
      "    Range : 0 ... 921599 =      0.000 ...  3599.996 secs\n",
      "Ready.\n",
      "Opening raw data file fif/chb01_24_raw.fif...\n",
      "    Range : 0 ... 921599 =      0.000 ...  3599.996 secs\n",
      "Ready.\n",
      "Opening raw data file fif/chb01_25_raw.fif...\n",
      "    Range : 0 ... 921599 =      0.000 ...  3599.996 secs\n",
      "Ready.\n",
      "Opening raw data file fif/chb01_26_raw.fif...\n",
      "    Range : 0 ... 595199 =      0.000 ...  2324.996 secs\n",
      "Ready.\n",
      "Opening raw data file fif/chb01_27_raw.fif...\n",
      "    Range : 0 ... 153599 =      0.000 ...   599.996 secs\n",
      "Ready.\n",
      "Opening raw data file fif/chb01_29_raw.fif...\n",
      "    Range : 0 ... 921599 =      0.000 ...  3599.996 secs\n",
      "Ready.\n",
      "Opening raw data file fif/chb01_30_raw.fif...\n",
      "    Range : 0 ... 921599 =      0.000 ...  3599.996 secs\n",
      "Ready.\n",
      "Opening raw data file fif/chb01_31_raw.fif...\n",
      "    Range : 0 ... 921599 =      0.000 ...  3599.996 secs\n",
      "Ready.\n",
      "Opening raw data file fif/chb01_32_raw.fif...\n",
      "    Range : 0 ... 921599 =      0.000 ...  3599.996 secs\n",
      "Ready.\n",
      "Opening raw data file fif/chb01_33_raw.fif...\n",
      "    Range : 0 ... 921599 =      0.000 ...  3599.996 secs\n",
      "Ready.\n",
      "Opening raw data file fif/chb01_34_raw.fif...\n",
      "    Range : 0 ... 921599 =      0.000 ...  3599.996 secs\n",
      "Ready.\n",
      "Opening raw data file fif/chb01_36_raw.fif...\n",
      "    Range : 0 ... 921599 =      0.000 ...  3599.996 secs\n",
      "Ready.\n",
      "Opening raw data file fif/chb01_37_raw.fif...\n",
      "    Range : 0 ... 921599 =      0.000 ...  3599.996 secs\n",
      "Ready.\n",
      "Opening raw data file fif/chb01_38_raw.fif...\n",
      "    Range : 0 ... 921599 =      0.000 ...  3599.996 secs\n",
      "Ready.\n",
      "Opening raw data file fif/chb01_39_raw.fif...\n",
      "    Range : 0 ... 921599 =      0.000 ...  3599.996 secs\n",
      "Ready.\n",
      "Opening raw data file fif/chb01_40_raw.fif...\n",
      "    Range : 0 ... 921599 =      0.000 ...  3599.996 secs\n",
      "Ready.\n",
      "Opening raw data file fif/chb01_41_raw.fif...\n",
      "    Range : 0 ... 921599 =      0.000 ...  3599.996 secs\n",
      "Ready.\n",
      "Opening raw data file fif/chb01_42_raw.fif...\n",
      "    Range : 0 ... 921599 =      0.000 ...  3599.996 secs\n",
      "Ready.\n",
      "Opening raw data file fif/chb01_43_raw.fif...\n",
      "    Range : 0 ... 921599 =      0.000 ...  3599.996 secs\n",
      "Ready.\n",
      "Opening raw data file fif/chb01_46_raw.fif...\n",
      "    Range : 0 ... 921599 =      0.000 ...  3599.996 secs\n",
      "Ready.\n"
     ]
    }
   ],
   "source": [
    "\n",
    "\n",
    "data_path = 'fif/'\n",
    "\n",
    "raws = mne.concatenate_raws([mne.io.read_raw_fif('fif/' + f, preload=False) for f in fif_lst])\n",
    "info = raws.info\n",
    "channels = raws.ch_names\n"
   ]
  },
  {
   "cell_type": "code",
   "execution_count": 9,
   "metadata": {},
   "outputs": [
    {
     "name": "stdout",
     "output_type": "stream",
     "text": [
      "Used Annotations descriptions: ['Nonseizure', 'Seizure']\n"
     ]
    }
   ],
   "source": [
    "\n",
    "event_id = dict(Seizure=1, Nonseizure=0)\n",
    "events_from_annot, event_dict = mne.events_from_annotations(raws, event_id=event_id, chunk_duration=1)"
   ]
  },
  {
   "cell_type": "code",
   "execution_count": 10,
   "metadata": {},
   "outputs": [
    {
     "data": {
      "text/plain": [
       "(array([[       0,        0,        0],\n",
       "        [     256,        0,        0],\n",
       "        [     512,        0,        0],\n",
       "        ...,\n",
       "        [37372160,        0,        0],\n",
       "        [37372416,        0,        0],\n",
       "        [37372672,        0,        0]]), array([145987,      0,    442]))"
      ]
     },
     "execution_count": 10,
     "metadata": {},
     "output_type": "execute_result"
    }
   ],
   "source": [
    "events_from_annot, np.count_nonzero(events_from_annot, axis=0)"
   ]
  },
  {
   "cell_type": "code",
   "execution_count": 23,
   "metadata": {},
   "outputs": [],
   "source": []
  },
  {
   "cell_type": "code",
   "execution_count": 11,
   "metadata": {},
   "outputs": [
    {
     "name": "stdout",
     "output_type": "stream",
     "text": [
      "145988 matching events found\n",
      "No baseline correction applied\n",
      "Not setting metadata\n",
      "0 projection items activated\n",
      "Loading data for 145988 events and 257 original time points ...\n",
      "42 bad epochs dropped\n"
     ]
    },
    {
     "data": {
      "text/plain": [
       "((145946, 23, 129), (145946,))"
      ]
     },
     "execution_count": 11,
     "metadata": {},
     "output_type": "execute_result"
    }
   ],
   "source": [
    "tmin, tmax = -0.5, 0.5\n",
    "epochs = mne.Epochs(raws, events_from_annot, event_id, tmin, tmax, proj=True,\n",
    "                    decim=2, baseline=None, preload=True)\n",
    "\n",
    "labels = epochs.events[:, -1]\n",
    "\n",
    "# get MEG and EEG data\n",
    "fif_epochs = epochs.copy().pick_types(meg=False, eeg=True)\n",
    "fif_data = fif_epochs.get_data().reshape(len(labels), -1)\n",
    "picks = mne.pick_types(epochs.info, meg=False, eeg=True)\n",
    "X = epochs.get_data()[:, picks]\n",
    "y = epochs.events[:, 2]\n",
    "X.shape, y.shape\n",
    "\n",
    "X_2d = X.reshape(len(X), -1)"
   ]
  },
  {
   "cell_type": "code",
   "execution_count": 26,
   "metadata": {},
   "outputs": [],
   "source": [
    "X_2d = X.reshape(len(X), -1)"
   ]
  },
  {
   "cell_type": "code",
   "execution_count": 28,
   "metadata": {},
   "outputs": [
    {
     "data": {
      "text/plain": [
       "(0.0030421794063639103, 36487, 111)"
      ]
     },
     "execution_count": 28,
     "metadata": {},
     "output_type": "execute_result"
    }
   ],
   "source": [
    "y_test.sum() / len(y_test), len(y_test), y_test.sum()\n"
   ]
  },
  {
   "cell_type": "code",
   "execution_count": 27,
   "metadata": {},
   "outputs": [],
   "source": [
    "from sklearn.model_selection import train_test_split\n",
    "X_train, X_test, y_train, y_test = train_test_split(\n",
    "X_2d, y, stratify=y)"
   ]
  },
  {
   "cell_type": "code",
   "execution_count": 29,
   "metadata": {},
   "outputs": [
    {
     "name": "stdout",
     "output_type": "stream",
     "text": [
      "Frequency of unique values of the said array:\n",
      "[[     0      1]\n",
      " [109128    331]]\n"
     ]
    }
   ],
   "source": [
    "unique_elements, counts_elements = np.unique(y_train, return_counts=True)\n",
    "print(\"Frequency of unique values of the said array:\")\n",
    "print(np.asarray((unique_elements, counts_elements)))"
   ]
  },
  {
   "cell_type": "code",
   "execution_count": 30,
   "metadata": {},
   "outputs": [
    {
     "name": "stdout",
     "output_type": "stream",
     "text": [
      "Frequency of unique values of the said array:\n",
      "[[    0     1]\n",
      " [36376   111]]\n"
     ]
    }
   ],
   "source": [
    "unique_elements, counts_elements = np.unique(y_test, return_counts=True)\n",
    "print(\"Frequency of unique values of the said array:\")\n",
    "print(np.asarray((unique_elements, counts_elements)))"
   ]
  },
  {
   "cell_type": "code",
   "execution_count": 31,
   "metadata": {},
   "outputs": [],
   "source": [
    "from sklearn import metrics"
   ]
  },
  {
   "cell_type": "code",
   "execution_count": 43,
   "metadata": {},
   "outputs": [],
   "source": [
    "\n",
    "clf = make_pipeline(StandardScaler(), LogisticRegression(solver='lbfgs', max_iter=500))\n",
    "\n",
    "clf.fit(X_train, y_train)\n",
    "\n",
    "y_predict = clf.predict(X_test)\n",
    "\n",
    "# scores = cross_validate(clf, X_2d, y, cv=5, n_jobs=1)\n",
    "\n",
    "#Mean scores across cross-validation splits\n",
    "# print(\"Cross-Validation (Accuracy) score : %s\" % np.mean(scores))"
   ]
  },
  {
   "cell_type": "code",
   "execution_count": 44,
   "metadata": {},
   "outputs": [],
   "source": [
    "tn, fp, fn, tp = confusion_matrix(y_test, y_predict).ravel()"
   ]
  },
  {
   "cell_type": "code",
   "execution_count": null,
   "metadata": {},
   "outputs": [],
   "source": [
    "sensitivity, specificity, precision, f1"
   ]
  },
  {
   "cell_type": "code",
   "execution_count": 54,
   "metadata": {},
   "outputs": [
    {
     "data": {
      "text/plain": [
       "((7163, 3, 29, 3), 0.09375, 0.999581356405247, 0.5, 0.15789473684210525)"
      ]
     },
     "execution_count": 54,
     "metadata": {},
     "output_type": "execute_result"
    }
   ],
   "source": [
    "(tn, fp, fn, tp ), tp / (tp + fn),  tn / (tn + fp), tp / (tp + fp), 2*tp / (2*tp + fp + fn)"
   ]
  },
  {
   "cell_type": "code",
   "execution_count": 56,
   "metadata": {},
   "outputs": [],
   "source": [
    "# train model\n",
    "rfc = RandomForestClassifier(n_estimators=10).fit(X_train, y_train)\n",
    "\n",
    "# predict on test set\n",
    "rfc_pred = rfc.predict(X_test)"
   ]
  },
  {
   "cell_type": "code",
   "execution_count": 60,
   "metadata": {},
   "outputs": [
    {
     "data": {
      "text/plain": [
       "(0.9962489580439011, 0.2702702702702703, 0.15625)"
      ]
     },
     "execution_count": 60,
     "metadata": {},
     "output_type": "execute_result"
    }
   ],
   "source": [
    "accuracy_score(y_test, rfc_pred), f1_score(y_test, rfc_pred), recall_score(y_test, rfc_pred)\n"
   ]
  },
  {
   "cell_type": "code",
   "execution_count": 64,
   "metadata": {},
   "outputs": [
    {
     "name": "stdout",
     "output_type": "stream",
     "text": [
      "              precision    recall  f1-score   support\n",
      "\n",
      "           0       1.00      1.00      1.00      7166\n",
      "           1       1.00      0.16      0.27        32\n",
      "\n",
      "    accuracy                           1.00      7198\n",
      "   macro avg       1.00      0.58      0.63      7198\n",
      "weighted avg       1.00      1.00      0.99      7198\n",
      "\n"
     ]
    }
   ],
   "source": [
    "cr = classification_report(y_test, rfc_pred)\n",
    "print(cr)"
   ]
  },
  {
   "cell_type": "code",
   "execution_count": 68,
   "metadata": {},
   "outputs": [
    {
     "data": {
      "text/plain": [
       "((10797, 2967), (10797,))"
      ]
     },
     "execution_count": 68,
     "metadata": {},
     "output_type": "execute_result"
    }
   ],
   "source": [
    "X_train.shape, y_train.shape"
   ]
  },
  {
   "cell_type": "code",
   "execution_count": 190,
   "metadata": {},
   "outputs": [],
   "source": [
    "# concatenate our training data back together\n",
    "\n",
    "X_stack = np.column_stack((X_train, y_train))\n",
    "# separate minority and majority classes\n",
    "a = y_train == 1\n",
    "seizures = X_stack[a,:]\n",
    "nonseizures = X_stack[~a,:]\n",
    "# upsample minority\n",
    "seizures_upsampled = resample(seizures,\n",
    "                          replace=True, # sample with replacement\n",
    "                          n_samples=int(len(nonseizures)*.3), # match number in majority class\n",
    "                          random_state=27) # reproducible results\n",
    "\n",
    "# # combine majority and upsampled minority\n",
    "# upsampled = pd.concat([not_fraud, fraud_upsampled])\n",
    "# X_stack = np.column_stack((nonseizures, seizures_upsampled))\n",
    "\n",
    "# # check new class counts\n",
    "# upsampled.Class.value_counts()\n",
    "\n"
   ]
  },
  {
   "cell_type": "code",
   "execution_count": 157,
   "metadata": {},
   "outputs": [
    {
     "data": {
      "text/plain": [
       "(3228, 10762)"
      ]
     },
     "execution_count": 157,
     "metadata": {},
     "output_type": "execute_result"
    }
   ],
   "source": [
    "len(seizures_upsampled), len(nonseizures)"
   ]
  },
  {
   "cell_type": "code",
   "execution_count": 158,
   "metadata": {},
   "outputs": [],
   "source": [
    "upsampled = np.vstack((seizures_upsampled, nonseizures))"
   ]
  },
  {
   "cell_type": "code",
   "execution_count": 159,
   "metadata": {},
   "outputs": [
    {
     "data": {
      "text/plain": [
       "(13990, 2968)"
      ]
     },
     "execution_count": 159,
     "metadata": {},
     "output_type": "execute_result"
    }
   ],
   "source": [
    "upsampled.shape"
   ]
  },
  {
   "cell_type": "code",
   "execution_count": 161,
   "metadata": {},
   "outputs": [
    {
     "data": {
      "text/plain": [
       "(13990,)"
      ]
     },
     "execution_count": 161,
     "metadata": {},
     "output_type": "execute_result"
    }
   ],
   "source": [
    "\n",
    "y_up = upsampled[:,-1]\n",
    "y_up.shape"
   ]
  },
  {
   "cell_type": "code",
   "execution_count": 162,
   "metadata": {},
   "outputs": [],
   "source": [
    "X_up = np.delete(upsampled, -1, axis=1)\n"
   ]
  },
  {
   "cell_type": "code",
   "execution_count": 163,
   "metadata": {},
   "outputs": [
    {
     "data": {
      "text/plain": [
       "((13990, 2967),)"
      ]
     },
     "execution_count": 163,
     "metadata": {},
     "output_type": "execute_result"
    }
   ],
   "source": [
    "X_up.shape"
   ]
  },
  {
   "cell_type": "code",
   "execution_count": 164,
   "metadata": {},
   "outputs": [
    {
     "data": {
      "text/plain": [
       "array([-1.49429032e-05,  1.25744567e-04,  3.07818109e-05, ...,\n",
       "        1.33729430e-05, -2.22389652e-05,  2.81336007e-06])"
      ]
     },
     "execution_count": 164,
     "metadata": {},
     "output_type": "execute_result"
    }
   ],
   "source": [
    "X_up[:,-1]"
   ]
  },
  {
   "cell_type": "code",
   "execution_count": 165,
   "metadata": {},
   "outputs": [
    {
     "data": {
      "text/plain": [
       "(array([1., 1., 1., ..., 0., 0., 0.]), array([1., 1., 1., ..., 0., 0., 0.]))"
      ]
     },
     "execution_count": 165,
     "metadata": {},
     "output_type": "execute_result"
    }
   ],
   "source": [
    "upsampled[:,-1], y_up"
   ]
  },
  {
   "cell_type": "code",
   "execution_count": 153,
   "metadata": {},
   "outputs": [
    {
     "data": {
      "text/plain": [
       "6452.0"
      ]
     },
     "execution_count": 153,
     "metadata": {},
     "output_type": "execute_result"
    }
   ],
   "source": [
    "np.sum(y_trainup)"
   ]
  },
  {
   "cell_type": "code",
   "execution_count": 170,
   "metadata": {},
   "outputs": [
    {
     "data": {
      "text/plain": [
       "32"
      ]
     },
     "execution_count": 170,
     "metadata": {},
     "output_type": "execute_result"
    }
   ],
   "source": [
    "np.sum(y_test)"
   ]
  },
  {
   "cell_type": "code",
   "execution_count": 166,
   "metadata": {},
   "outputs": [],
   "source": [
    "rfc = RandomForestClassifier(n_estimators=10).fit(X_up, y_up)\n",
    "\n",
    "# predict on test set\n",
    "rfc_predup = rfc.predict(X_test)"
   ]
  },
  {
   "cell_type": "code",
   "execution_count": 168,
   "metadata": {},
   "outputs": [
    {
     "name": "stdout",
     "output_type": "stream",
     "text": [
      "              precision    recall  f1-score   support\n",
      "\n",
      "           0  0.9955543206 1.0000000000 0.9977722083      7166\n",
      "           1  0.0000000000 0.0000000000 0.0000000000        32\n",
      "\n",
      "    accuracy                      0.9955543206      7198\n",
      "   macro avg  0.4977771603 0.5000000000 0.4988861041      7198\n",
      "weighted avg  0.9911284054 0.9955543206 0.9933364330      7198\n",
      "\n"
     ]
    },
    {
     "name": "stderr",
     "output_type": "stream",
     "text": [
      "//anaconda3/lib/python3.6/site-packages/sklearn/metrics/classification.py:1437: UndefinedMetricWarning: Precision and F-score are ill-defined and being set to 0.0 in labels with no predicted samples.\n",
      "  'precision', 'predicted', average, warn_for)\n"
     ]
    }
   ],
   "source": [
    "crup = classification_report(y_test, rfc_predup, digits=10)\n",
    "print(crup)"
   ]
  },
  {
   "cell_type": "code",
   "execution_count": 148,
   "metadata": {},
   "outputs": [
    {
     "data": {
      "text/plain": [
       "((8610,), (8610,))"
      ]
     },
     "execution_count": 148,
     "metadata": {},
     "output_type": "execute_result"
    }
   ],
   "source": [
    "y_testup.shape, rfc_predup.shape"
   ]
  },
  {
   "cell_type": "code",
   "execution_count": 176,
   "metadata": {},
   "outputs": [
    {
     "name": "stdout",
     "output_type": "stream",
     "text": [
      "              precision    recall  f1-score   support\n",
      "\n",
      "           0  0.9955543206 1.0000000000 0.9977722083      7166\n",
      "           1  0.0000000000 0.0000000000 0.0000000000        32\n",
      "\n",
      "    accuracy                      0.9955543206      7198\n",
      "   macro avg  0.4977771603 0.5000000000 0.4988861041      7198\n",
      "weighted avg  0.9911284054 0.9955543206 0.9933364330      7198\n",
      "\n"
     ]
    }
   ],
   "source": [
    "crup = classification_report(y_test, rfc_predup, digits=10)\n",
    "print(crup)"
   ]
  },
  {
   "cell_type": "code",
   "execution_count": 177,
   "metadata": {},
   "outputs": [],
   "source": [
    "tn, fp, fn, tp = confusion_matrix(y_test, rfc_predup).ravel()"
   ]
  },
  {
   "cell_type": "code",
   "execution_count": null,
   "metadata": {},
   "outputs": [],
   "source": [
    "# sensitivity, specificity, precision, f1"
   ]
  },
  {
   "cell_type": "code",
   "execution_count": 178,
   "metadata": {},
   "outputs": [
    {
     "name": "stderr",
     "output_type": "stream",
     "text": [
      "//anaconda3/lib/python3.6/site-packages/ipykernel_launcher.py:1: RuntimeWarning: invalid value encountered in long_scalars\n",
      "  \"\"\"Entry point for launching an IPython kernel.\n"
     ]
    },
    {
     "data": {
      "text/plain": [
       "((7166, 0, 32, 0), 0.0, 1.0, nan, 0.0)"
      ]
     },
     "execution_count": 178,
     "metadata": {},
     "output_type": "execute_result"
    }
   ],
   "source": [
    "(tn, fp, fn, tp ), tp / (tp + fn),  tn / (tn + fp), tp / (tp + fp), 2*tp / (2*tp + fp + fn)"
   ]
  },
  {
   "cell_type": "code",
   "execution_count": 180,
   "metadata": {},
   "outputs": [],
   "source": [
    "clf = make_pipeline(StandardScaler(), LogisticRegression(solver='lbfgs', max_iter=500))\n",
    "\n",
    "clf.fit(X_up, y_up)\n",
    "\n",
    "yup_predict = clf.predict(X_test)"
   ]
  },
  {
   "cell_type": "code",
   "execution_count": 181,
   "metadata": {},
   "outputs": [],
   "source": [
    "tn, fp, fn, tp = confusion_matrix(y_test, yup_predict).ravel()"
   ]
  },
  {
   "cell_type": "code",
   "execution_count": 182,
   "metadata": {},
   "outputs": [
    {
     "data": {
      "text/plain": [
       "((7159, 7, 26, 6),\n",
       " 0.1875,\n",
       " 0.9990231649455763,\n",
       " 0.46153846153846156,\n",
       " 0.26666666666666666)"
      ]
     },
     "execution_count": 182,
     "metadata": {},
     "output_type": "execute_result"
    }
   ],
   "source": [
    "(tn, fp, fn, tp ), tp / (tp + fn),  tn / (tn + fp), tp / (tp + fp), 2*tp / (2*tp + fp + fn)"
   ]
  },
  {
   "cell_type": "code",
   "execution_count": 32,
   "metadata": {},
   "outputs": [
    {
     "data": {
      "text/plain": [
       "(331, 3310)"
      ]
     },
     "execution_count": 32,
     "metadata": {},
     "output_type": "execute_result"
    }
   ],
   "source": [
    "# concatenate our training data back together\n",
    "X_stack = np.column_stack((X_train, y_train))\n",
    "\n",
    "# separate minority and majority classes\n",
    "a = y_train == 1\n",
    "seizures = X_stack[a,:]\n",
    "nonseizures = X_stack[~a,:]\n",
    "nonseizures_downsampled = resample(nonseizures,\n",
    "                                replace = False, # sample without replacement\n",
    "                                n_samples = int(10*len(seizures)), # match minority n\n",
    "                                random_state = 27) # reproducible results\n",
    "\n",
    "# combine minority and downsampled majority\n",
    "downsampled = np.vstack((seizures, nonseizures_downsampled))\n",
    "\n",
    "# checking counts\n",
    "len(seizures), len(nonseizures_downsampled)"
   ]
  },
  {
   "cell_type": "code",
   "execution_count": 33,
   "metadata": {},
   "outputs": [
    {
     "data": {
      "text/plain": [
       "array([ 3.93200049e-05,  1.88509782e-04,  7.68374749e-05, ...,\n",
       "        5.76759466e-05,  4.61342833e-05, -2.02144023e-05])"
      ]
     },
     "execution_count": 33,
     "metadata": {},
     "output_type": "execute_result"
    }
   ],
   "source": [
    "downsampled.shape\n",
    "downsampled[:,-1]\n",
    "X_down = np.delete(downsampled, -1, axis=1)\n",
    "X_down[:,-1]"
   ]
  },
  {
   "cell_type": "code",
   "execution_count": 34,
   "metadata": {},
   "outputs": [],
   "source": [
    "y_down = downsampled[:,-1]"
   ]
  },
  {
   "cell_type": "code",
   "execution_count": 204,
   "metadata": {},
   "outputs": [],
   "source": [
    "rfc = RandomForestClassifier(n_estimators=10).fit(X_down, y_down)\n",
    "\n",
    "# predict on test set\n",
    "rfc_preddown = rfc.predict(X_test)"
   ]
  },
  {
   "cell_type": "code",
   "execution_count": 205,
   "metadata": {},
   "outputs": [],
   "source": [
    "tn, fp, fn, tp = confusion_matrix(y_test, rfc_preddown).ravel()"
   ]
  },
  {
   "cell_type": "code",
   "execution_count": 206,
   "metadata": {},
   "outputs": [
    {
     "data": {
      "text/plain": [
       "((7135, 31, 24, 8),\n",
       " 0.25,\n",
       " 0.9956740161875524,\n",
       " 0.20512820512820512,\n",
       " 0.22535211267605634)"
      ]
     },
     "execution_count": 206,
     "metadata": {},
     "output_type": "execute_result"
    }
   ],
   "source": [
    "(tn, fp, fn, tp ), tp / (tp + fn),  tn / (tn + fp), tp / (tp + fp), 2*tp / (2*tp + fp + fn)"
   ]
  },
  {
   "cell_type": "code",
   "execution_count": 207,
   "metadata": {},
   "outputs": [],
   "source": [
    "rfc = RandomForestClassifier(n_estimators=300).fit(X_down, y_down)\n",
    "\n",
    "# predict on test set\n",
    "rfc_preddown = rfc.predict(X_test)"
   ]
  },
  {
   "cell_type": "code",
   "execution_count": 208,
   "metadata": {},
   "outputs": [
    {
     "data": {
      "text/plain": [
       "((7158, 8, 20, 12), 0.375, 0.9988836170806586, 0.6, 0.46153846153846156)"
      ]
     },
     "execution_count": 208,
     "metadata": {},
     "output_type": "execute_result"
    }
   ],
   "source": [
    "tn, fp, fn, tp = confusion_matrix(y_test, rfc_preddown).ravel()\n",
    "(tn, fp, fn, tp ), tp / (tp + fn),  tn / (tn + fp), tp / (tp + fp), 2*tp / (2*tp + fp + fn)"
   ]
  },
  {
   "cell_type": "code",
   "execution_count": 209,
   "metadata": {},
   "outputs": [],
   "source": [
    "rfc = RandomForestClassifier(n_estimators=1000).fit(X_down, y_down)\n",
    "\n",
    "# predict on test set\n",
    "rfc_preddown = rfc.predict(X_test)"
   ]
  },
  {
   "cell_type": "code",
   "execution_count": 210,
   "metadata": {},
   "outputs": [
    {
     "data": {
      "text/plain": [
       "((7160, 6, 22, 10), 0.3125, 0.999162712810494, 0.625, 0.4166666666666667)"
      ]
     },
     "execution_count": 210,
     "metadata": {},
     "output_type": "execute_result"
    }
   ],
   "source": [
    "tn, fp, fn, tp = confusion_matrix(y_test, rfc_preddown).ravel()\n",
    "(tn, fp, fn, tp ), tp / (tp + fn),  tn / (tn + fp), tp / (tp + fp), 2*tp / (2*tp + fp + fn)"
   ]
  },
  {
   "cell_type": "code",
   "execution_count": 220,
   "metadata": {},
   "outputs": [],
   "source": [
    "rfc = RandomForestClassifier(n_estimators=500).fit(X_down, y_down)\n",
    "\n",
    "# predict on test set\n",
    "rfc_preddown = rfc.predict(X_test)"
   ]
  },
  {
   "cell_type": "code",
   "execution_count": 221,
   "metadata": {},
   "outputs": [
    {
     "data": {
      "text/plain": [
       "((7159, 7, 23, 9), 0.28125, 0.9990231649455763, 0.5625, 0.375)"
      ]
     },
     "execution_count": 221,
     "metadata": {},
     "output_type": "execute_result"
    }
   ],
   "source": [
    "tn, fp, fn, tp = confusion_matrix(y_test, rfc_preddown).ravel()\n",
    "(tn, fp, fn, tp ), tp / (tp + fn),  tn / (tn + fp), tp / (tp + fp), 2*tp / (2*tp + fp + fn)"
   ]
  },
  {
   "cell_type": "code",
   "execution_count": 213,
   "metadata": {},
   "outputs": [],
   "source": [
    "rfc = RandomForestClassifier(n_estimators=300, max_depth=3).fit(X_down, y_down)\n",
    "\n",
    "# predict on test set\n",
    "rfc_preddown = rfc.predict(X_test)"
   ]
  },
  {
   "cell_type": "code",
   "execution_count": 214,
   "metadata": {},
   "outputs": [
    {
     "data": {
      "text/plain": [
       "((7166, 0, 26, 6), 0.1875, 1.0, 1.0, 0.3157894736842105)"
      ]
     },
     "execution_count": 214,
     "metadata": {},
     "output_type": "execute_result"
    }
   ],
   "source": [
    "# sensitivity, specificity, precision, f1\n",
    "tn, fp, fn, tp = confusion_matrix(y_test, rfc_preddown).ravel()\n",
    "(tn, fp, fn, tp ), tp / (tp + fn),  tn / (tn + fp), tp / (tp + fp), 2*tp / (2*tp + fp + fn)"
   ]
  },
  {
   "cell_type": "code",
   "execution_count": 218,
   "metadata": {},
   "outputs": [],
   "source": [
    "rfc = RandomForestClassifier(n_estimators=300, max_depth=5).fit(X_down, y_down)\n",
    "\n",
    "# predict on test set\n",
    "rfc_preddown = rfc.predict(X_test)"
   ]
  },
  {
   "cell_type": "code",
   "execution_count": 219,
   "metadata": {},
   "outputs": [
    {
     "data": {
      "text/plain": [
       "((7161, 5, 21, 11), 0.34375, 0.9993022606754116, 0.6875, 0.4583333333333333)"
      ]
     },
     "execution_count": 219,
     "metadata": {},
     "output_type": "execute_result"
    }
   ],
   "source": [
    "# sensitivity, specificity, precision, f1\n",
    "tn, fp, fn, tp = confusion_matrix(y_test, rfc_preddown).ravel()\n",
    "(tn, fp, fn, tp ), tp / (tp + fn),  tn / (tn + fp), tp / (tp + fp), 2*tp / (2*tp + fp + fn)"
   ]
  },
  {
   "cell_type": "code",
   "execution_count": 222,
   "metadata": {},
   "outputs": [],
   "source": [
    "rfc = RandomForestClassifier(n_estimators=300, class_weight='balanced_subsample').fit(X_down, y_down)\n",
    "\n",
    "# predict on test set\n",
    "rfc_preddown = rfc.predict(X_test)"
   ]
  },
  {
   "cell_type": "code",
   "execution_count": 223,
   "metadata": {},
   "outputs": [
    {
     "data": {
      "text/plain": [
       "((7166, 0, 31, 1), 0.03125, 1.0, 1.0, 0.06060606060606061)"
      ]
     },
     "execution_count": 223,
     "metadata": {},
     "output_type": "execute_result"
    }
   ],
   "source": [
    "# sensitivity, specificity, precision, f1\n",
    "tn, fp, fn, tp = confusion_matrix(y_test, rfc_preddown).ravel()\n",
    "(tn, fp, fn, tp ), tp / (tp + fn),  tn / (tn + fp), tp / (tp + fp), 2*tp / (2*tp + fp + fn)"
   ]
  },
  {
   "cell_type": "code",
   "execution_count": 228,
   "metadata": {},
   "outputs": [],
   "source": [
    "rfc = RandomForestClassifier(n_estimators=300, class_weight='balanced').fit(X_down, y_down)\n",
    "\n",
    "# predict on test set\n",
    "rfc_preddown = rfc.predict(X_test)"
   ]
  },
  {
   "cell_type": "code",
   "execution_count": 229,
   "metadata": {},
   "outputs": [
    {
     "data": {
      "text/plain": [
       "((7166, 0, 31, 1), 0.03125, 1.0, 1.0, 0.06060606060606061)"
      ]
     },
     "execution_count": 229,
     "metadata": {},
     "output_type": "execute_result"
    }
   ],
   "source": [
    "# sensitivity, specificity, precision, f1\n",
    "tn, fp, fn, tp = confusion_matrix(y_test, rfc_preddown).ravel()\n",
    "(tn, fp, fn, tp ), tp / (tp + fn),  tn / (tn + fp), tp / (tp + fp), 2*tp / (2*tp + fp + fn)"
   ]
  },
  {
   "cell_type": "code",
   "execution_count": 230,
   "metadata": {},
   "outputs": [],
   "source": [
    "rfc = RandomForestClassifier(n_estimators=100, class_weight='balanced').fit(X_down, y_down)\n",
    "\n",
    "# predict on test set\n",
    "rfc_preddown = rfc.predict(X_test)"
   ]
  },
  {
   "cell_type": "code",
   "execution_count": 231,
   "metadata": {},
   "outputs": [
    {
     "data": {
      "text/plain": [
       "((7166, 0, 31, 1), 0.03125, 1.0, 1.0, 0.06060606060606061)"
      ]
     },
     "execution_count": 231,
     "metadata": {},
     "output_type": "execute_result"
    }
   ],
   "source": [
    "# sensitivity, specificity, precision, f1\n",
    "tn, fp, fn, tp = confusion_matrix(y_test, rfc_preddown).ravel()\n",
    "(tn, fp, fn, tp ), tp / (tp + fn),  tn / (tn + fp), tp / (tp + fp), 2*tp / (2*tp + fp + fn)"
   ]
  },
  {
   "cell_type": "code",
   "execution_count": 233,
   "metadata": {},
   "outputs": [
    {
     "name": "stdout",
     "output_type": "stream",
     "text": [
      "[0.00030879 0.         0.00532874 ... 0.         0.         0.        ]\n"
     ]
    }
   ],
   "source": [
    "\n",
    "clf = BalancedRandomForestClassifier(max_depth=2, random_state=0)\n",
    "clf.fit(X_down, y_down)  \n",
    "BalancedRandomForestClassifier(...)\n",
    "print(clf.feature_importances_) "
   ]
  },
  {
   "cell_type": "code",
   "execution_count": 237,
   "metadata": {},
   "outputs": [],
   "source": [
    "brfc_pred = clf.predict(X_test)"
   ]
  },
  {
   "cell_type": "code",
   "execution_count": 238,
   "metadata": {},
   "outputs": [
    {
     "data": {
      "text/plain": [
       "((6963, 203, 8, 24),\n",
       " 0.75,\n",
       " 0.9716717834217137,\n",
       " 0.10572687224669604,\n",
       " 0.18532818532818532)"
      ]
     },
     "execution_count": 238,
     "metadata": {},
     "output_type": "execute_result"
    }
   ],
   "source": [
    "# sensitivity, specificity, precision, f1\n",
    "tn, fp, fn, tp = confusion_matrix(y_test, brfc_pred).ravel()\n",
    "(tn, fp, fn, tp ), tp / (tp + fn),  tn / (tn + fp), tp / (tp + fp), 2*tp / (2*tp + fp + fn)"
   ]
  },
  {
   "cell_type": "code",
   "execution_count": 239,
   "metadata": {},
   "outputs": [
    {
     "name": "stdout",
     "output_type": "stream",
     "text": [
      "              precision    recall  f1-score   support\n",
      "\n",
      "           0  0.9988523885 0.9716717834 0.9850746269      7166\n",
      "           1  0.1057268722 0.7500000000 0.1853281853        32\n",
      "\n",
      "    accuracy                      0.9706863018      7198\n",
      "   macro avg  0.5522896304 0.8608358917 0.5852014061      7198\n",
      "weighted avg  0.9948818388 0.9706863018 0.9815192106      7198\n",
      "\n"
     ]
    }
   ],
   "source": [
    "brfc_cr = classification_report(y_test, brfc_pred, digits=10)\n",
    "print(brfc_cr)"
   ]
  },
  {
   "cell_type": "code",
   "execution_count": 243,
   "metadata": {},
   "outputs": [
    {
     "name": "stdout",
     "output_type": "stream",
     "text": [
      "[0.         0.         0.00503604 ... 0.         0.00086881 0.        ]\n"
     ]
    }
   ],
   "source": [
    "\n",
    "clf = BalancedRandomForestClassifier(max_depth=5, random_state=0)\n",
    "clf.fit(X_down, y_down)  \n",
    "BalancedRandomForestClassifier(...)\n",
    "print(clf.feature_importances_) "
   ]
  },
  {
   "cell_type": "code",
   "execution_count": 244,
   "metadata": {},
   "outputs": [
    {
     "name": "stdout",
     "output_type": "stream",
     "text": [
      "              precision    recall  f1-score   support\n",
      "\n",
      "           0  0.9994157172 0.9547864918 0.9765914930      7166\n",
      "           1  0.0795454545 0.8750000000 0.1458333333        32\n",
      "\n",
      "    accuracy                      0.9544317866      7198\n",
      "   macro avg  0.5394805859 0.9148932459 0.5612124132      7198\n",
      "weighted avg  0.9953262690 0.9544317866 0.9728982086      7198\n",
      "\n"
     ]
    }
   ],
   "source": [
    "brfc_pred2 = clf.predict(X_test)\n",
    "brfc_cr2 = classification_report(y_test, brfc_pred2, digits=10)\n",
    "print(brfc_cr2)"
   ]
  },
  {
   "cell_type": "code",
   "execution_count": 245,
   "metadata": {},
   "outputs": [
    {
     "name": "stdout",
     "output_type": "stream",
     "text": [
      "[0.00167918 0.00164754 0.00167868 ... 0.         0.00065994 0.        ]\n"
     ]
    }
   ],
   "source": [
    "clf = BalancedRandomForestClassifier(n_estimators=300, max_depth=5, random_state=0)\n",
    "clf.fit(X_down, y_down)  \n",
    "BalancedRandomForestClassifier(...)\n",
    "print(clf.feature_importances_) "
   ]
  },
  {
   "cell_type": "code",
   "execution_count": 246,
   "metadata": {},
   "outputs": [
    {
     "name": "stdout",
     "output_type": "stream",
     "text": [
      "              precision    recall  f1-score   support\n",
      "\n",
      "           0  0.9995628097 0.9571588055 0.9779013402      7166\n",
      "           1  0.0863095238 0.9062500000 0.1576086957        32\n",
      "\n",
      "    accuracy                      0.9569324812      7198\n",
      "   macro avg  0.5429361667 0.9317044027 0.5677550179      7198\n",
      "weighted avg  0.9955027784 0.9569324812 0.9742545821      7198\n",
      "\n"
     ]
    }
   ],
   "source": [
    "brfc_pred3 = clf.predict(X_test)\n",
    "brfc_cr3 = classification_report(y_test, brfc_pred3, digits=10)\n",
    "print(brfc_cr3)"
   ]
  },
  {
   "cell_type": "code",
   "execution_count": 247,
   "metadata": {},
   "outputs": [
    {
     "name": "stdout",
     "output_type": "stream",
     "text": [
      "[0.00289738 0.00098852 0.00209472 ... 0.         0.00039596 0.        ]\n"
     ]
    }
   ],
   "source": [
    "clf = BalancedRandomForestClassifier(n_estimators=500, max_depth=5, random_state=0)\n",
    "clf.fit(X_down, y_down)  \n",
    "BalancedRandomForestClassifier(...)\n",
    "print(clf.feature_importances_) "
   ]
  },
  {
   "cell_type": "code",
   "execution_count": 248,
   "metadata": {},
   "outputs": [
    {
     "name": "stdout",
     "output_type": "stream",
     "text": [
      "              precision    recall  f1-score   support\n",
      "\n",
      "           0  0.9995632552 0.9581356405 0.9784111151      7166\n",
      "           1  0.0881458967 0.9062500000 0.1606648199        32\n",
      "\n",
      "    accuracy                      0.9579049736      7198\n",
      "   macro avg  0.5438545759 0.9321928203 0.5695379675      7198\n",
      "weighted avg  0.9955113859 0.9579049736 0.9747756772      7198\n",
      "\n"
     ]
    }
   ],
   "source": [
    "brfc_pred4 = clf.predict(X_test)\n",
    "brfc_cr4 = classification_report(y_test, brfc_pred4, digits=10)\n",
    "print(brfc_cr4)"
   ]
  },
  {
   "cell_type": "code",
   "execution_count": 35,
   "metadata": {},
   "outputs": [
    {
     "name": "stdout",
     "output_type": "stream",
     "text": [
      "[5.48499350e-05 0.00000000e+00 0.00000000e+00 ... 1.88030655e-03\n",
      " 2.37024671e-06 0.00000000e+00]\n"
     ]
    }
   ],
   "source": [
    "clf = BalancedRandomForestClassifier(n_estimators=300, max_depth=4, random_state=0)\n",
    "clf.fit(X_down, y_down)  \n",
    "BalancedRandomForestClassifier(...)\n",
    "print(clf.feature_importances_) "
   ]
  },
  {
   "cell_type": "code",
   "execution_count": 250,
   "metadata": {},
   "outputs": [
    {
     "name": "stdout",
     "output_type": "stream",
     "text": [
      "              precision    recall  f1-score   support\n",
      "\n",
      "           0  0.9995628097 0.9571588055 0.9779013402      7166\n",
      "           1  0.0863095238 0.9062500000 0.1576086957        32\n",
      "\n",
      "    accuracy                      0.9569324812      7198\n",
      "   macro avg  0.5429361667 0.9317044027 0.5677550179      7198\n",
      "weighted avg  0.9955027784 0.9569324812 0.9742545821      7198\n",
      "\n"
     ]
    }
   ],
   "source": [
    "brfc_pred5 = clf.predict(X_test)\n",
    "brfc_cr5 = classification_report(y_test, brfc_pred5, digits=10)\n",
    "print(brfc_cr5)"
   ]
  },
  {
   "cell_type": "code",
   "execution_count": 251,
   "metadata": {},
   "outputs": [
    {
     "name": "stdout",
     "output_type": "stream",
     "text": [
      "[0.00177489 0.00164754 0.00167868 ... 0.         0.00065994 0.        ]\n"
     ]
    }
   ],
   "source": [
    "clf = BalancedRandomForestClassifier(n_estimators=300, max_depth=3, random_state=0)\n",
    "clf.fit(X_down, y_down)  \n",
    "BalancedRandomForestClassifier(...)\n",
    "print(clf.feature_importances_) "
   ]
  },
  {
   "cell_type": "code",
   "execution_count": 252,
   "metadata": {},
   "outputs": [
    {
     "name": "stdout",
     "output_type": "stream",
     "text": [
      "              precision    recall  f1-score   support\n",
      "\n",
      "           0  0.9995641435 0.9600893106 0.9794291409      7166\n",
      "           1  0.0920634921 0.9062500000 0.1671469741        32\n",
      "\n",
      "    accuracy                      0.9598499583      7198\n",
      "   macro avg  0.5458138178 0.9331696553 0.5732880575      7198\n",
      "weighted avg  0.9955296866 0.9598499583 0.9758179948      7198\n",
      "\n"
     ]
    }
   ],
   "source": [
    "brfc_pred6 = clf.predict(X_test)\n",
    "brfc_cr6 = classification_report(y_test, brfc_pred6, digits=10)\n",
    "print(brfc_cr6)"
   ]
  },
  {
   "cell_type": "code",
   "execution_count": 253,
   "metadata": {},
   "outputs": [
    {
     "name": "stdout",
     "output_type": "stream",
     "text": [
      "[0.00227976 0.0015361  0.00177625 ... 0.         0.         0.        ]\n"
     ]
    }
   ],
   "source": [
    "clf = BalancedRandomForestClassifier(n_estimators=300, max_depth=2, random_state=0)\n",
    "clf.fit(X_down, y_down)  \n",
    "BalancedRandomForestClassifier(...)\n",
    "print(clf.feature_importances_) "
   ]
  },
  {
   "cell_type": "code",
   "execution_count": 254,
   "metadata": {},
   "outputs": [
    {
     "name": "stdout",
     "output_type": "stream",
     "text": [
      "              precision    recall  f1-score   support\n",
      "\n",
      "           0  0.9989989990 0.9748813843 0.9867928526      7166\n",
      "           1  0.1219512195 0.7812500000 0.2109704641        32\n",
      "\n",
      "    accuracy                      0.9740205613      7198\n",
      "   macro avg  0.5604751093 0.8780656922 0.5988816584      7198\n",
      "weighted avg  0.9950999258 0.9740205613 0.9833437950      7198\n",
      "\n"
     ]
    }
   ],
   "source": [
    "brfc_pred7 = clf.predict(X_test)\n",
    "brfc_cr7 = classification_report(y_test, brfc_pred7, digits=10)\n",
    "print(brfc_cr7)"
   ]
  },
  {
   "cell_type": "code",
   "execution_count": 255,
   "metadata": {},
   "outputs": [
    {
     "name": "stdout",
     "output_type": "stream",
     "text": [
      "[0.0029548  0.00098852 0.00209472 ... 0.         0.00039596 0.        ]\n"
     ]
    }
   ],
   "source": [
    "clf = BalancedRandomForestClassifier(n_estimators=500, max_depth=3, random_state=0)\n",
    "clf.fit(X_down, y_down)  \n",
    "BalancedRandomForestClassifier(...)\n",
    "print(clf.feature_importances_) "
   ]
  },
  {
   "cell_type": "code",
   "execution_count": 256,
   "metadata": {},
   "outputs": [
    {
     "name": "stdout",
     "output_type": "stream",
     "text": [
      "              precision    recall  f1-score   support\n",
      "\n",
      "           0  0.9995642069 0.9602288585 0.9795017794      7166\n",
      "           1  0.0923566879 0.9062500000 0.1676300578        32\n",
      "\n",
      "    accuracy                      0.9599888858      7198\n",
      "   macro avg  0.5459604474 0.9332394292 0.5735659186      7198\n",
      "weighted avg  0.9955310531 0.9599888858 0.9758924580      7198\n",
      "\n"
     ]
    }
   ],
   "source": [
    "brfc_pred8 = clf.predict(X_test)\n",
    "brfc_cr8 = classification_report(y_test, brfc_pred8, digits=10)\n",
    "print(brfc_cr8)"
   ]
  },
  {
   "cell_type": "code",
   "execution_count": 258,
   "metadata": {},
   "outputs": [
    {
     "name": "stdout",
     "output_type": "stream",
     "text": [
      "[0. 0. 0. ... 0. 0. 0.]\n"
     ]
    }
   ],
   "source": [
    "clf = GradientBoostingClassifier(n_estimators=500, max_depth=3, random_state=0)\n",
    "clf.fit(X_down, y_down)  \n",
    "\n",
    "print(clf.feature_importances_) "
   ]
  },
  {
   "cell_type": "code",
   "execution_count": 259,
   "metadata": {},
   "outputs": [
    {
     "name": "stdout",
     "output_type": "stream",
     "text": [
      "              precision    recall  f1-score   support\n",
      "\n",
      "           0  0.9966522528 0.9970694948 0.9968608301      7166\n",
      "           1  0.2758620690 0.2500000000 0.2622950820        32\n",
      "\n",
      "    accuracy                      0.9937482634      7198\n",
      "   macro avg  0.6362571609 0.6235347474 0.6295779561      7198\n",
      "weighted avg  0.9934478507 0.9937482634 0.9935951864      7198\n",
      "\n"
     ]
    }
   ],
   "source": [
    "gbc_pred = clf.predict(X_test)\n",
    "gbc_cr = classification_report(y_test, gbc_pred, digits=10)\n",
    "print(gbc_cr)"
   ]
  },
  {
   "cell_type": "code",
   "execution_count": 260,
   "metadata": {},
   "outputs": [
    {
     "name": "stdout",
     "output_type": "stream",
     "text": [
      "[0. 0. 0. ... 0. 0. 0.]\n"
     ]
    }
   ],
   "source": [
    "clf = GradientBoostingClassifier(n_estimators=300, max_depth=3, random_state=0)\n",
    "clf.fit(X_down, y_down)  \n",
    "\n",
    "print(clf.feature_importances_) "
   ]
  },
  {
   "cell_type": "code",
   "execution_count": 261,
   "metadata": {},
   "outputs": [
    {
     "name": "stdout",
     "output_type": "stream",
     "text": [
      "              precision    recall  f1-score   support\n",
      "\n",
      "           0  0.9966522528 0.9970694948 0.9968608301      7166\n",
      "           1  0.2758620690 0.2500000000 0.2622950820        32\n",
      "\n",
      "    accuracy                      0.9937482634      7198\n",
      "   macro avg  0.6362571609 0.6235347474 0.6295779561      7198\n",
      "weighted avg  0.9934478507 0.9937482634 0.9935951864      7198\n",
      "\n"
     ]
    }
   ],
   "source": [
    "gbc_pred2 = clf.predict(X_test)\n",
    "gbc_cr2 = classification_report(y_test, gbc_pred2, digits=10)\n",
    "print(gbc_cr2)"
   ]
  },
  {
   "cell_type": "code",
   "execution_count": 262,
   "metadata": {},
   "outputs": [
    {
     "name": "stdout",
     "output_type": "stream",
     "text": [
      "[0. 0. 0. ... 0. 0. 0.]\n"
     ]
    }
   ],
   "source": [
    "clf = GradientBoostingClassifier(n_estimators=1000, max_depth=3, random_state=0)\n",
    "clf.fit(X_down, y_down)  \n",
    "\n",
    "print(clf.feature_importances_) "
   ]
  },
  {
   "cell_type": "code",
   "execution_count": 263,
   "metadata": {},
   "outputs": [
    {
     "name": "stdout",
     "output_type": "stream",
     "text": [
      "              precision    recall  f1-score   support\n",
      "\n",
      "           0  0.9966522528 0.9970694948 0.9968608301      7166\n",
      "           1  0.2758620690 0.2500000000 0.2622950820        32\n",
      "\n",
      "    accuracy                      0.9937482634      7198\n",
      "   macro avg  0.6362571609 0.6235347474 0.6295779561      7198\n",
      "weighted avg  0.9934478507 0.9937482634 0.9935951864      7198\n",
      "\n"
     ]
    }
   ],
   "source": [
    "gbc_pred3 = clf.predict(X_test)\n",
    "gbc_cr3 = classification_report(y_test, gbc_pred3, digits=10)\n",
    "print(gbc_cr3)"
   ]
  },
  {
   "cell_type": "code",
   "execution_count": 61,
   "metadata": {},
   "outputs": [
    {
     "name": "stdout",
     "output_type": "stream",
     "text": [
      "[9.86871409e-05 0.00000000e+00 1.02728506e-03 ... 1.11465550e-03\n",
      " 2.81412081e-06 0.00000000e+00]\n"
     ]
    }
   ],
   "source": [
    "clf = BalancedRandomForestClassifier(n_estimators=300, max_depth=3, random_state=0, oob_score=True)\n",
    "clf.fit(X_down, y_down)  \n",
    "BalancedRandomForestClassifier(...)\n",
    "print(clf.feature_importances_) "
   ]
  },
  {
   "cell_type": "code",
   "execution_count": 62,
   "metadata": {},
   "outputs": [
    {
     "data": {
      "text/plain": [
       "0.9489151332051634"
      ]
     },
     "execution_count": 62,
     "metadata": {},
     "output_type": "execute_result"
    }
   ],
   "source": [
    "clf.oob_score_"
   ]
  },
  {
   "cell_type": "code",
   "execution_count": 63,
   "metadata": {},
   "outputs": [
    {
     "name": "stdout",
     "output_type": "stream",
     "text": [
      "              precision    recall  f1-score   support\n",
      "\n",
      "           0  0.9999121600 0.9388058060 0.9683959790     36376\n",
      "           1  0.0462724936 0.9729729730 0.0883435583       111\n",
      "\n",
      "    accuracy                      0.9389097487     36487\n",
      "   macro avg  0.5230923268 0.9558893895 0.5283697686     36487\n",
      "weighted avg  0.9970110170 0.9389097487 0.9657187016     36487\n",
      "\n"
     ]
    }
   ],
   "source": [
    "brfc_pred9 = clf.predict(X_test)\n",
    "brfc_cr9 = classification_report(y_test, brfc_pred9, digits=10)\n",
    "print(brfc_cr9)"
   ]
  },
  {
   "cell_type": "code",
   "execution_count": 67,
   "metadata": {},
   "outputs": [
    {
     "name": "stdout",
     "output_type": "stream",
     "text": [
      "2967\n"
     ]
    }
   ],
   "source": [
    "clf = BalancedRandomForestClassifier(n_estimators=300, max_depth=3, max_features=20)\n",
    "clf.fit(X_down, y_down)  \n",
    "BalancedRandomForestClassifier(...)\n",
    "print(len(clf.feature_importances_))"
   ]
  },
  {
   "cell_type": "code",
   "execution_count": 39,
   "metadata": {},
   "outputs": [
    {
     "data": {
      "text/plain": [
       "(2967,)"
      ]
     },
     "execution_count": 39,
     "metadata": {},
     "output_type": "execute_result"
    }
   ],
   "source": [
    "clf.feature_importances_.shape"
   ]
  },
  {
   "cell_type": "code",
   "execution_count": 68,
   "metadata": {},
   "outputs": [
    {
     "name": "stdout",
     "output_type": "stream",
     "text": [
      "              precision    recall  f1-score   support\n",
      "\n",
      "           0  0.9999118399 0.9353969650 0.9665790782     36376\n",
      "           1  0.0439381611 0.9729729730 0.0840794083       111\n",
      "\n",
      "    accuracy                      0.9355112780     36487\n",
      "   macro avg  0.5219250005 0.9541849690 0.5253292433     36487\n",
      "weighted avg  0.9970035965 0.9355112780 0.9638943559     36487\n",
      "\n"
     ]
    }
   ],
   "source": [
    "brfc_pred10 = clf.predict(X_test)\n",
    "brfc_cr10 = classification_report(y_test, brfc_pred10, digits=10)\n",
    "print(brfc_cr10)"
   ]
  },
  {
   "cell_type": "code",
   "execution_count": 71,
   "metadata": {},
   "outputs": [
    {
     "data": {
      "text/plain": [
       "BalancedRandomForestClassifier(bootstrap=True, class_weight=None,\n",
       "                               criterion='gini', max_depth=None,\n",
       "                               max_features='auto', max_leaf_nodes=None,\n",
       "                               min_impurity_decrease=0.0, min_samples_leaf=2,\n",
       "                               min_samples_split=2,\n",
       "                               min_weight_fraction_leaf=0.0,\n",
       "                               n_estimators=Ellipsis, n_jobs=1, oob_score=False,\n",
       "                               random_state=None, replacement=False,\n",
       "                               sampling_strategy='auto', verbose=0,\n",
       "                               warm_start=False)"
      ]
     },
     "execution_count": 71,
     "metadata": {},
     "output_type": "execute_result"
    }
   ],
   "source": [
    "clf = BalancedRandomForestClassifier(n_estimators=300, max_depth=3, max_features=5)\n",
    "clf.fit(X_down, y_down)  \n",
    "BalancedRandomForestClassifier(...)\n"
   ]
  },
  {
   "cell_type": "code",
   "execution_count": 72,
   "metadata": {},
   "outputs": [
    {
     "name": "stdout",
     "output_type": "stream",
     "text": [
      "              precision    recall  f1-score   support\n",
      "\n",
      "           0  0.9999115227 0.9320431053 0.9647852254     36376\n",
      "           1  0.0418604651 0.9729729730 0.0802675585       111\n",
      "\n",
      "    accuracy                      0.9321676213     36487\n",
      "   macro avg  0.5208859939 0.9525080392 0.5225263920     36487\n",
      "weighted avg  0.9969969595 0.9321676213 0.9620943640     36487\n",
      "\n"
     ]
    }
   ],
   "source": [
    "brfc_pred11 = clf.predict(X_test)\n",
    "brfc_cr11 = classification_report(y_test, brfc_pred11, digits=10)\n",
    "print(brfc_cr11)"
   ]
  },
  {
   "cell_type": "code",
   "execution_count": null,
   "metadata": {},
   "outputs": [],
   "source": []
  },
  {
   "cell_type": "code",
   "execution_count": 73,
   "metadata": {},
   "outputs": [
    {
     "data": {
      "text/plain": [
       "((36487, 2), (36487,), array([[0.77699855, 0.22300145],\n",
       "        [0.6568757 , 0.3431243 ],\n",
       "        [0.52062841, 0.47937159],\n",
       "        ...,\n",
       "        [0.65605128, 0.34394872],\n",
       "        [0.62363396, 0.37636604],\n",
       "        [0.66761948, 0.33238052]]), array([0., 1.]))"
      ]
     },
     "execution_count": 73,
     "metadata": {},
     "output_type": "execute_result"
    }
   ],
   "source": [
    "brfc_pred_prob = clf.predict_proba(X_test)\n",
    "brfc_pred_prob.shape, y_test.shape, brfc_pred_prob, clf.classes_"
   ]
  },
  {
   "cell_type": "code",
   "execution_count": 288,
   "metadata": {},
   "outputs": [
    {
     "data": {
      "text/plain": [
       "(array([[0.92741478, 0.07258522],\n",
       "        [0.8406956 , 0.1593044 ],\n",
       "        [0.66113874, 0.33886126],\n",
       "        ...,\n",
       "        [0.7788996 , 0.2211004 ],\n",
       "        [0.92380012, 0.07619988],\n",
       "        [0.69099074, 0.30900926]]),\n",
       " array([0, 0, 0, 0, 0, 0, 0, 0, 0, 0]),\n",
       " array([0.07258522, 0.1593044 , 0.33886126, ..., 0.2211004 , 0.07619988,\n",
       "        0.30900926]))"
      ]
     },
     "execution_count": 288,
     "metadata": {},
     "output_type": "execute_result"
    }
   ],
   "source": [
    "brfc_pred_prob, y_test[0:10], brfc_pred_prob[:,-1]"
   ]
  },
  {
   "cell_type": "code",
   "execution_count": 74,
   "metadata": {},
   "outputs": [],
   "source": [
    "y_score = brfc_pred_prob[:,-1]"
   ]
  },
  {
   "cell_type": "code",
   "execution_count": 75,
   "metadata": {},
   "outputs": [],
   "source": [
    "fpr, tpr, thresholds = roc_curve(y_test, y_score, pos_label=1)  #fpr, tpr, thresholds = metrics.roc_curve(y, scores, pos_label=2)"
   ]
  },
  {
   "cell_type": "code",
   "execution_count": 86,
   "metadata": {},
   "outputs": [
    {
     "data": {
      "text/plain": [
       "0.990990990990991"
      ]
     },
     "execution_count": 86,
     "metadata": {},
     "output_type": "execute_result"
    }
   ],
   "source": [
    "tpr[119]"
   ]
  },
  {
   "cell_type": "code",
   "execution_count": 87,
   "metadata": {},
   "outputs": [
    {
     "data": {
      "text/plain": [
       "0.13610622388387947"
      ]
     },
     "execution_count": 87,
     "metadata": {},
     "output_type": "execute_result"
    }
   ],
   "source": [
    "fpr[119]"
   ]
  },
  {
   "cell_type": "code",
   "execution_count": 88,
   "metadata": {},
   "outputs": [
    {
     "data": {
      "text/plain": [
       "0.4345771672930259"
      ]
     },
     "execution_count": 88,
     "metadata": {},
     "output_type": "execute_result"
    }
   ],
   "source": [
    "thresholds[119]"
   ]
  },
  {
   "cell_type": "code",
   "execution_count": 351,
   "metadata": {},
   "outputs": [
    {
     "data": {
      "text/plain": [
       "(array([0.00000000e+00, 0.00000000e+00, 0.00000000e+00, 1.39547865e-04,\n",
       "        1.39547865e-04, 4.18643595e-04, 4.18643595e-04, 6.97739325e-04,\n",
       "        6.97739325e-04, 9.76835054e-04, 9.76835054e-04, 1.11638292e-03,\n",
       "        1.11638292e-03, 1.67457438e-03, 1.67457438e-03, 2.23276584e-03,\n",
       "        2.23276584e-03, 2.65140943e-03, 2.65140943e-03, 3.62824449e-03,\n",
       "        3.62824449e-03, 4.60507954e-03, 4.60507954e-03, 5.02372314e-03,\n",
       "        5.02372314e-03, 5.44236673e-03, 5.44236673e-03, 6.00055819e-03,\n",
       "        6.00055819e-03, 6.97739325e-03, 6.97739325e-03, 7.11694111e-03,\n",
       "        7.11694111e-03, 7.25648898e-03, 7.25648898e-03, 7.53558471e-03,\n",
       "        7.53558471e-03, 1.18615685e-02, 1.18615685e-02, 1.63271002e-02,\n",
       "        1.63271002e-02, 2.28858498e-02, 2.28858498e-02, 3.61428970e-02,\n",
       "        3.61428970e-02, 4.61903433e-02, 4.61903433e-02, 6.79598102e-02,\n",
       "        6.79598102e-02, 1.14987441e-01, 1.14987441e-01, 8.81384315e-01,\n",
       "        8.81663411e-01, 8.92687692e-01, 8.92966788e-01, 9.18922690e-01,\n",
       "        9.19201786e-01, 9.33854312e-01, 9.34133408e-01, 9.34691599e-01,\n",
       "        9.34970695e-01, 9.39575774e-01, 9.39854870e-01, 9.52832822e-01,\n",
       "        9.53111917e-01, 9.53809657e-01, 9.54088752e-01, 9.99581356e-01,\n",
       "        9.99860452e-01, 1.00000000e+00]),\n",
       " array([0.     , 0.03125, 0.125  , 0.125  , 0.15625, 0.15625, 0.1875 ,\n",
       "        0.1875 , 0.21875, 0.21875, 0.25   , 0.25   , 0.40625, 0.40625,\n",
       "        0.4375 , 0.4375 , 0.46875, 0.46875, 0.5    , 0.5    , 0.53125,\n",
       "        0.53125, 0.5625 , 0.5625 , 0.59375, 0.59375, 0.625  , 0.625  ,\n",
       "        0.65625, 0.65625, 0.6875 , 0.6875 , 0.71875, 0.71875, 0.75   ,\n",
       "        0.75   , 0.78125, 0.78125, 0.8125 , 0.8125 , 0.84375, 0.84375,\n",
       "        0.875  , 0.875  , 0.90625, 0.90625, 0.9375 , 0.9375 , 0.96875,\n",
       "        0.96875, 1.     , 1.     , 1.     , 1.     , 1.     , 1.     ,\n",
       "        1.     , 1.     , 1.     , 1.     , 1.     , 1.     , 1.     ,\n",
       "        1.     , 1.     , 1.     , 1.     , 1.     , 1.     , 1.     ]),\n",
       " array([1.88007639, 0.88007639, 0.78694004, 0.78448396, 0.7601283 ,\n",
       "        0.73859751, 0.73716802, 0.72332082, 0.71624216, 0.7106491 ,\n",
       "        0.70967217, 0.70271644, 0.69267307, 0.68872997, 0.68680962,\n",
       "        0.65547572, 0.6539021 , 0.64841766, 0.64794985, 0.6359132 ,\n",
       "        0.63511773, 0.62560075, 0.62558116, 0.62266826, 0.62218988,\n",
       "        0.61804551, 0.6172272 , 0.61469444, 0.61085462, 0.60369529,\n",
       "        0.60298581, 0.60298541, 0.60290959, 0.60257779, 0.60253729,\n",
       "        0.60213141, 0.60210289, 0.57832984, 0.57792528, 0.56755517,\n",
       "        0.56753116, 0.54201707, 0.54152408, 0.51026313, 0.51012872,\n",
       "        0.48929349, 0.48920316, 0.45573207, 0.45556697, 0.39801372,\n",
       "        0.39781212, 0.08669062, 0.08655936, 0.08259125, 0.08255936,\n",
       "        0.07571295, 0.07564432, 0.07080885, 0.07077232, 0.0706721 ,\n",
       "        0.07064432, 0.06933877, 0.06925544, 0.06481099, 0.06470346,\n",
       "        0.06462286, 0.06453321, 0.02439432, 0.02397766, 0.02064432]))"
      ]
     },
     "execution_count": 351,
     "metadata": {},
     "output_type": "execute_result"
    }
   ],
   "source": [
    "fpr, tpr, thresholds"
   ]
  },
  {
   "cell_type": "code",
   "execution_count": 89,
   "metadata": {},
   "outputs": [
    {
     "data": {
      "text/plain": [
       "0.9935548039792597"
      ]
     },
     "execution_count": 89,
     "metadata": {},
     "output_type": "execute_result"
    }
   ],
   "source": [
    "roc_auc = auc(fpr, tpr)\n",
    "roc_auc"
   ]
  },
  {
   "cell_type": "code",
   "execution_count": 92,
   "metadata": {},
   "outputs": [
    {
     "name": "stderr",
     "output_type": "stream",
     "text": [
      "No handles with labels found to put in legend.\n"
     ]
    }
   ],
   "source": [
    "plt.title('Receiver Operating Characteristic1')\n",
    "plt.plot(fpr, tpr) #'b', label = 'AUC = %0.2f' % roc_auc)\n",
    "plt.legend(loc = 'lower right')\n",
    "plt.plot([0, 1], [0, 1],'r--')\n",
    "plt.xlim([0, 1])\n",
    "plt.ylim([0, 1])\n",
    "plt.ylabel('True Positive Rate')\n",
    "plt.xlabel('False Positive Rate')\n",
    "plt.show()\n",
    "\n"
   ]
  },
  {
   "cell_type": "code",
   "execution_count": 94,
   "metadata": {},
   "outputs": [],
   "source": [
    "\n",
    "fpr = dict()\n",
    "tpr = dict()\n",
    "roc_auc = dict()\n",
    "for i in range(2):\n",
    "    fpr[i], tpr[i], _ = roc_curve(y_test, y_score, pos_label=1)\n",
    "    roc_auc[i] = auc(fpr[i], tpr[i])\n",
    "\n",
    "\n",
    "plt.figure()\n",
    "plt.plot(fpr[1], tpr[1])\n",
    "plt.xlim([0.0, 1.0])\n",
    "plt.ylim([0.0, 1.05])\n",
    "plt.xlabel('False Positive Rate')\n",
    "plt.ylabel('True Positive Rate')\n",
    "plt.title('Receiver operating characteristic2')\n",
    "plt.show()\n",
    "plt.savefig('ROC1')"
   ]
  },
  {
   "cell_type": "code",
   "execution_count": 100,
   "metadata": {},
   "outputs": [],
   "source": [
    "# calculate precision-recall curve\n",
    "precision, recall, thresholds = precision_recall_curve(y_test, y_score, pos_label=1)\n",
    "# calculate F1 score\n",
    "\n",
    "# calculate precision-recall AUC\n",
    "# auc_rp = auc(recall, precision)\n",
    "\n",
    "\n",
    "# # calculate scores\n",
    "# ns_f1, ns_auc = f1_score(testy, no_skill_probs), auc(ns_recall, ns_precision)\n",
    "# lr_f1, lr_auc = f1_score(testy, yhat), auc(lr_recall, lr_precision)\n",
    "# # summarize scores\n",
    "# print('No Skill: f1=%.3f auc=%.3f' % (ns_f1, ns_auc))\n",
    "# print('Logistic: f1=%.3f auc=%.3f' % (lr_f1, lr_auc))\n",
    "# plot the precision-recall curves\n",
    "\n",
    "plt.plot(recall, precision, marker='.', label='Balance Random Forest with downsampling')\n",
    "# axis labels\n",
    "plt.xlabel('Recall')\n",
    "plt.ylabel('Precision')\n",
    "# show the legend\n",
    "plt.legend()\n",
    "# show the plot\n",
    "plt.show()\n",
    "plt.savefig('Precision_Recall_curve1')"
   ]
  },
  {
   "cell_type": "code",
   "execution_count": 101,
   "metadata": {},
   "outputs": [
    {
     "data": {
      "text/plain": [
       "5063"
      ]
     },
     "execution_count": 101,
     "metadata": {},
     "output_type": "execute_result"
    }
   ],
   "source": [
    "len(precision)"
   ]
  },
  {
   "cell_type": "code",
   "execution_count": 110,
   "metadata": {},
   "outputs": [
    {
     "data": {
      "text/plain": [
       "(0.021739130434782608, 0.990990990990991, 0.4345880726835596)"
      ]
     },
     "execution_count": 110,
     "metadata": {},
     "output_type": "execute_result"
    }
   ],
   "source": [
    "precision[2], recall[2], thresholds[2] "
   ]
  },
  {
   "cell_type": "code",
   "execution_count": 109,
   "metadata": {},
   "outputs": [
    {
     "data": {
      "text/plain": [
       "array([1.        , 0.99099099, 0.99099099, 0.99099099, 0.99099099,\n",
       "       0.99099099, 0.99099099, 0.99099099, 0.99099099, 0.99099099,\n",
       "       0.99099099, 0.99099099, 0.99099099, 0.99099099, 0.99099099,\n",
       "       0.99099099, 0.99099099, 0.99099099, 0.99099099, 0.99099099,\n",
       "       0.99099099, 0.99099099, 0.99099099, 0.99099099, 0.99099099,\n",
       "       0.99099099, 0.99099099, 0.99099099, 0.99099099, 0.99099099,\n",
       "       0.99099099, 0.99099099, 0.99099099, 0.99099099, 0.99099099,\n",
       "       0.99099099, 0.99099099, 0.99099099, 0.99099099, 0.99099099,\n",
       "       0.99099099, 0.99099099, 0.99099099, 0.99099099, 0.99099099,\n",
       "       0.99099099, 0.99099099, 0.99099099, 0.99099099, 0.99099099,\n",
       "       0.99099099, 0.99099099, 0.99099099, 0.99099099, 0.99099099,\n",
       "       0.99099099, 0.99099099, 0.99099099, 0.99099099, 0.99099099,\n",
       "       0.99099099, 0.99099099, 0.99099099, 0.99099099, 0.99099099,\n",
       "       0.99099099, 0.99099099, 0.99099099, 0.99099099, 0.99099099,\n",
       "       0.99099099, 0.99099099, 0.99099099, 0.99099099, 0.99099099,\n",
       "       0.99099099, 0.99099099, 0.99099099, 0.99099099, 0.99099099,\n",
       "       0.99099099, 0.99099099, 0.99099099, 0.99099099, 0.99099099,\n",
       "       0.99099099, 0.99099099, 0.99099099, 0.99099099, 0.99099099,\n",
       "       0.99099099, 0.99099099, 0.99099099, 0.99099099, 0.99099099,\n",
       "       0.99099099, 0.99099099, 0.99099099, 0.99099099, 0.98198198,\n",
       "       0.98198198, 0.98198198, 0.98198198, 0.98198198, 0.98198198,\n",
       "       0.98198198, 0.98198198, 0.98198198, 0.98198198, 0.98198198,\n",
       "       0.98198198, 0.98198198, 0.98198198, 0.98198198, 0.98198198,\n",
       "       0.98198198, 0.98198198, 0.98198198, 0.98198198, 0.98198198,\n",
       "       0.98198198, 0.98198198, 0.98198198, 0.98198198, 0.98198198,\n",
       "       0.98198198, 0.98198198, 0.98198198, 0.98198198, 0.98198198,\n",
       "       0.98198198, 0.98198198, 0.98198198, 0.98198198, 0.98198198,\n",
       "       0.98198198, 0.98198198, 0.98198198, 0.98198198, 0.98198198,\n",
       "       0.98198198, 0.98198198, 0.98198198, 0.98198198, 0.98198198,\n",
       "       0.98198198, 0.98198198, 0.98198198, 0.98198198, 0.98198198])"
      ]
     },
     "execution_count": 109,
     "metadata": {},
     "output_type": "execute_result"
    }
   ],
   "source": [
    "recall[0:150]"
   ]
  },
  {
   "cell_type": "code",
   "execution_count": 111,
   "metadata": {},
   "outputs": [
    {
     "name": "stdout",
     "output_type": "stream",
     "text": [
      "(442, 23, 129)\n"
     ]
    }
   ],
   "source": [
    "\n",
    "epochs_data_sz = epochs['Seizure'].get_data()\n",
    "print(epochs_data_sz.shape)"
   ]
  },
  {
   "cell_type": "code",
   "execution_count": 112,
   "metadata": {},
   "outputs": [
    {
     "name": "stdout",
     "output_type": "stream",
     "text": [
      "<Evoked  |  'Seizure' (average, N=442), [-0.5, 0.5] sec, 23 ch, ~89 kB>\n"
     ]
    }
   ],
   "source": [
    "evoked = epochs['Seizure'].average()\n",
    "print(evoked)"
   ]
  },
  {
   "cell_type": "code",
   "execution_count": 113,
   "metadata": {},
   "outputs": [],
   "source": [
    "fig = evoked.plot()\n",
    "plt.savefig('evoked1')"
   ]
  },
  {
   "cell_type": "code",
   "execution_count": 115,
   "metadata": {},
   "outputs": [
    {
     "ename": "KeyboardInterrupt",
     "evalue": "",
     "output_type": "error",
     "traceback": [
      "\u001b[0;31m---------------------------------------------------------------------------\u001b[0m",
      "\u001b[0;31mKeyboardInterrupt\u001b[0m                         Traceback (most recent call last)",
      "\u001b[0;32m<ipython-input-115-ad23500f3ee2>\u001b[0m in \u001b[0;36m<module>\u001b[0;34m\u001b[0m\n\u001b[0;32m----> 1\u001b[0;31m \u001b[0mraws\u001b[0m\u001b[0;34m.\u001b[0m\u001b[0mplot\u001b[0m\u001b[0;34m(\u001b[0m\u001b[0mevents\u001b[0m\u001b[0;34m=\u001b[0m\u001b[0mevents_from_annot\u001b[0m\u001b[0;34m,\u001b[0m \u001b[0mn_channels\u001b[0m\u001b[0;34m=\u001b[0m\u001b[0;36m23\u001b[0m\u001b[0;34m)\u001b[0m\u001b[0;34m\u001b[0m\u001b[0m\n\u001b[0m",
      "\u001b[0;32m//anaconda3/lib/python3.6/site-packages/mne/io/base.py\u001b[0m in \u001b[0;36mplot\u001b[0;34m(self, events, duration, start, n_channels, bgcolor, color, bad_color, event_color, scalings, remove_dc, order, show_options, title, show, block, highpass, lowpass, filtorder, clipping, show_first_samp, proj, group_by, butterfly, decim, noise_cov, event_id, show_scrollbars, verbose)\u001b[0m\n\u001b[1;32m   1566\u001b[0m                         \u001b[0mgroup_by\u001b[0m\u001b[0;34m,\u001b[0m \u001b[0mbutterfly\u001b[0m\u001b[0;34m,\u001b[0m \u001b[0mdecim\u001b[0m\u001b[0;34m,\u001b[0m \u001b[0mnoise_cov\u001b[0m\u001b[0;34m=\u001b[0m\u001b[0mnoise_cov\u001b[0m\u001b[0;34m,\u001b[0m\u001b[0;34m\u001b[0m\u001b[0m\n\u001b[1;32m   1567\u001b[0m                         \u001b[0mevent_id\u001b[0m\u001b[0;34m=\u001b[0m\u001b[0mevent_id\u001b[0m\u001b[0;34m,\u001b[0m \u001b[0mshow_scrollbars\u001b[0m\u001b[0;34m=\u001b[0m\u001b[0mshow_scrollbars\u001b[0m\u001b[0;34m,\u001b[0m\u001b[0;34m\u001b[0m\u001b[0m\n\u001b[0;32m-> 1568\u001b[0;31m                         verbose=verbose)\n\u001b[0m\u001b[1;32m   1569\u001b[0m \u001b[0;34m\u001b[0m\u001b[0m\n\u001b[1;32m   1570\u001b[0m     \u001b[0;34m@\u001b[0m\u001b[0mverbose\u001b[0m\u001b[0;34m\u001b[0m\u001b[0m\n",
      "\u001b[0;32m<//anaconda3/lib/python3.6/site-packages/mne/externals/decorator.py:decorator-gen-132>\u001b[0m in \u001b[0;36mplot_raw\u001b[0;34m(raw, events, duration, start, n_channels, bgcolor, color, bad_color, event_color, scalings, remove_dc, order, show_options, title, show, block, highpass, lowpass, filtorder, clipping, show_first_samp, proj, group_by, butterfly, decim, noise_cov, event_id, show_scrollbars, verbose)\u001b[0m\n",
      "\u001b[0;32m//anaconda3/lib/python3.6/site-packages/mne/utils/_logging.py\u001b[0m in \u001b[0;36mwrapper\u001b[0;34m(*args, **kwargs)\u001b[0m\n\u001b[1;32m     88\u001b[0m             \u001b[0;32mwith\u001b[0m \u001b[0muse_log_level\u001b[0m\u001b[0;34m(\u001b[0m\u001b[0mverbose_level\u001b[0m\u001b[0;34m)\u001b[0m\u001b[0;34m:\u001b[0m\u001b[0;34m\u001b[0m\u001b[0m\n\u001b[1;32m     89\u001b[0m                 \u001b[0;32mreturn\u001b[0m \u001b[0mfunction\u001b[0m\u001b[0;34m(\u001b[0m\u001b[0;34m*\u001b[0m\u001b[0margs\u001b[0m\u001b[0;34m,\u001b[0m \u001b[0;34m**\u001b[0m\u001b[0mkwargs\u001b[0m\u001b[0;34m)\u001b[0m\u001b[0;34m\u001b[0m\u001b[0m\n\u001b[0;32m---> 90\u001b[0;31m         \u001b[0;32mreturn\u001b[0m \u001b[0mfunction\u001b[0m\u001b[0;34m(\u001b[0m\u001b[0;34m*\u001b[0m\u001b[0margs\u001b[0m\u001b[0;34m,\u001b[0m \u001b[0;34m**\u001b[0m\u001b[0mkwargs\u001b[0m\u001b[0;34m)\u001b[0m\u001b[0;34m\u001b[0m\u001b[0m\n\u001b[0m\u001b[1;32m     91\u001b[0m     return FunctionMaker.create(\n\u001b[1;32m     92\u001b[0m         \u001b[0mfunction\u001b[0m\u001b[0;34m,\u001b[0m \u001b[0;34m'return decfunc(%(signature)s)'\u001b[0m\u001b[0;34m,\u001b[0m\u001b[0;34m\u001b[0m\u001b[0m\n",
      "\u001b[0;32m//anaconda3/lib/python3.6/site-packages/mne/viz/raw.py\u001b[0m in \u001b[0;36mplot_raw\u001b[0;34m(raw, events, duration, start, n_channels, bgcolor, color, bad_color, event_color, scalings, remove_dc, order, show_options, title, show, block, highpass, lowpass, filtorder, clipping, show_first_samp, proj, group_by, butterfly, decim, noise_cov, event_id, show_scrollbars, verbose)\u001b[0m\n\u001b[1;32m    419\u001b[0m                                  event_color=event_color)\n\u001b[1;32m    420\u001b[0m \u001b[0;34m\u001b[0m\u001b[0m\n\u001b[0;32m--> 421\u001b[0;31m     \u001b[0m_plot_annotations\u001b[0m\u001b[0;34m(\u001b[0m\u001b[0mraw\u001b[0m\u001b[0;34m,\u001b[0m \u001b[0mparams\u001b[0m\u001b[0;34m)\u001b[0m\u001b[0;34m\u001b[0m\u001b[0m\n\u001b[0m\u001b[1;32m    422\u001b[0m \u001b[0;34m\u001b[0m\u001b[0m\n\u001b[1;32m    423\u001b[0m     \u001b[0mparams\u001b[0m\u001b[0;34m[\u001b[0m\u001b[0;34m'update_fun'\u001b[0m\u001b[0;34m]\u001b[0m \u001b[0;34m=\u001b[0m \u001b[0mpartial\u001b[0m\u001b[0;34m(\u001b[0m\u001b[0m_update_raw_data\u001b[0m\u001b[0;34m,\u001b[0m \u001b[0mparams\u001b[0m\u001b[0;34m=\u001b[0m\u001b[0mparams\u001b[0m\u001b[0;34m)\u001b[0m\u001b[0;34m\u001b[0m\u001b[0m\n",
      "\u001b[0;32m//anaconda3/lib/python3.6/site-packages/mne/viz/utils.py\u001b[0m in \u001b[0;36m_plot_annotations\u001b[0;34m(raw, params)\u001b[0m\n\u001b[1;32m   2095\u001b[0m         params['ax_hscroll'].fill_betweenx(\n\u001b[1;32m   2096\u001b[0m             \u001b[0;34m(\u001b[0m\u001b[0;36m0.\u001b[0m\u001b[0;34m,\u001b[0m \u001b[0;36m1.\u001b[0m\u001b[0;34m)\u001b[0m\u001b[0;34m,\u001b[0m \u001b[0mannot_start\u001b[0m\u001b[0;34m,\u001b[0m \u001b[0mannot_end\u001b[0m\u001b[0;34m,\u001b[0m \u001b[0malpha\u001b[0m\u001b[0;34m=\u001b[0m\u001b[0;36m0.3\u001b[0m\u001b[0;34m,\u001b[0m\u001b[0;34m\u001b[0m\u001b[0m\n\u001b[0;32m-> 2097\u001b[0;31m             color=params['segment_colors'][annot['description']])\n\u001b[0m\u001b[1;32m   2098\u001b[0m     \u001b[0;31m# Do not adjust half a sample backward (even though this would make it\u001b[0m\u001b[0;34m\u001b[0m\u001b[0;34m\u001b[0m\u001b[0m\n\u001b[1;32m   2099\u001b[0m     \u001b[0;31m# clearer what is included) because this breaks click-drag functionality\u001b[0m\u001b[0;34m\u001b[0m\u001b[0;34m\u001b[0m\u001b[0m\n",
      "\u001b[0;32m//anaconda3/lib/python3.6/site-packages/matplotlib/__init__.py\u001b[0m in \u001b[0;36minner\u001b[0;34m(ax, data, *args, **kwargs)\u001b[0m\n\u001b[1;32m   1599\u001b[0m     \u001b[0;32mdef\u001b[0m \u001b[0minner\u001b[0m\u001b[0;34m(\u001b[0m\u001b[0max\u001b[0m\u001b[0;34m,\u001b[0m \u001b[0;34m*\u001b[0m\u001b[0margs\u001b[0m\u001b[0;34m,\u001b[0m \u001b[0mdata\u001b[0m\u001b[0;34m=\u001b[0m\u001b[0;32mNone\u001b[0m\u001b[0;34m,\u001b[0m \u001b[0;34m**\u001b[0m\u001b[0mkwargs\u001b[0m\u001b[0;34m)\u001b[0m\u001b[0;34m:\u001b[0m\u001b[0;34m\u001b[0m\u001b[0m\n\u001b[1;32m   1600\u001b[0m         \u001b[0;32mif\u001b[0m \u001b[0mdata\u001b[0m \u001b[0;32mis\u001b[0m \u001b[0;32mNone\u001b[0m\u001b[0;34m:\u001b[0m\u001b[0;34m\u001b[0m\u001b[0m\n\u001b[0;32m-> 1601\u001b[0;31m             \u001b[0;32mreturn\u001b[0m \u001b[0mfunc\u001b[0m\u001b[0;34m(\u001b[0m\u001b[0max\u001b[0m\u001b[0;34m,\u001b[0m \u001b[0;34m*\u001b[0m\u001b[0mmap\u001b[0m\u001b[0;34m(\u001b[0m\u001b[0msanitize_sequence\u001b[0m\u001b[0;34m,\u001b[0m \u001b[0margs\u001b[0m\u001b[0;34m)\u001b[0m\u001b[0;34m,\u001b[0m \u001b[0;34m**\u001b[0m\u001b[0mkwargs\u001b[0m\u001b[0;34m)\u001b[0m\u001b[0;34m\u001b[0m\u001b[0m\n\u001b[0m\u001b[1;32m   1602\u001b[0m \u001b[0;34m\u001b[0m\u001b[0m\n\u001b[1;32m   1603\u001b[0m         \u001b[0mbound\u001b[0m \u001b[0;34m=\u001b[0m \u001b[0mnew_sig\u001b[0m\u001b[0;34m.\u001b[0m\u001b[0mbind\u001b[0m\u001b[0;34m(\u001b[0m\u001b[0max\u001b[0m\u001b[0;34m,\u001b[0m \u001b[0;34m*\u001b[0m\u001b[0margs\u001b[0m\u001b[0;34m,\u001b[0m \u001b[0;34m**\u001b[0m\u001b[0mkwargs\u001b[0m\u001b[0;34m)\u001b[0m\u001b[0;34m\u001b[0m\u001b[0m\n",
      "\u001b[0;32m//anaconda3/lib/python3.6/site-packages/matplotlib/axes/_axes.py\u001b[0m in \u001b[0;36mfill_betweenx\u001b[0;34m(self, y, x1, x2, where, step, interpolate, **kwargs)\u001b[0m\n\u001b[1;32m   5485\u001b[0m                                          updatex=True, updatey=False)\n\u001b[1;32m   5486\u001b[0m         \u001b[0mself\u001b[0m\u001b[0;34m.\u001b[0m\u001b[0madd_collection\u001b[0m\u001b[0;34m(\u001b[0m\u001b[0mcollection\u001b[0m\u001b[0;34m,\u001b[0m \u001b[0mautolim\u001b[0m\u001b[0;34m=\u001b[0m\u001b[0;32mFalse\u001b[0m\u001b[0;34m)\u001b[0m\u001b[0;34m\u001b[0m\u001b[0m\n\u001b[0;32m-> 5487\u001b[0;31m         \u001b[0mself\u001b[0m\u001b[0;34m.\u001b[0m\u001b[0mautoscale_view\u001b[0m\u001b[0;34m(\u001b[0m\u001b[0;34m)\u001b[0m\u001b[0;34m\u001b[0m\u001b[0m\n\u001b[0m\u001b[1;32m   5488\u001b[0m         \u001b[0;32mreturn\u001b[0m \u001b[0mcollection\u001b[0m\u001b[0;34m\u001b[0m\u001b[0m\n\u001b[1;32m   5489\u001b[0m \u001b[0;34m\u001b[0m\u001b[0m\n",
      "\u001b[0;32m//anaconda3/lib/python3.6/site-packages/matplotlib/axes/_base.py\u001b[0m in \u001b[0;36mautoscale_view\u001b[0;34m(self, tight, scalex, scaley)\u001b[0m\n\u001b[1;32m   2413\u001b[0m                 \u001b[0;34m(\u001b[0m\u001b[0mself\u001b[0m\u001b[0;34m.\u001b[0m\u001b[0m_xmargin\u001b[0m \u001b[0;32mand\u001b[0m \u001b[0mscalex\u001b[0m \u001b[0;32mand\u001b[0m \u001b[0mself\u001b[0m\u001b[0;34m.\u001b[0m\u001b[0m_autoscaleXon\u001b[0m\u001b[0;34m)\u001b[0m \u001b[0;32mor\u001b[0m\u001b[0;34m\u001b[0m\u001b[0m\n\u001b[1;32m   2414\u001b[0m                 (self._ymargin and scaley and self._autoscaleYon)):\n\u001b[0;32m-> 2415\u001b[0;31m             \u001b[0mstickies\u001b[0m \u001b[0;34m=\u001b[0m \u001b[0;34m[\u001b[0m\u001b[0martist\u001b[0m\u001b[0;34m.\u001b[0m\u001b[0msticky_edges\u001b[0m \u001b[0;32mfor\u001b[0m \u001b[0martist\u001b[0m \u001b[0;32min\u001b[0m \u001b[0mself\u001b[0m\u001b[0;34m.\u001b[0m\u001b[0mget_children\u001b[0m\u001b[0;34m(\u001b[0m\u001b[0;34m)\u001b[0m\u001b[0;34m]\u001b[0m\u001b[0;34m\u001b[0m\u001b[0m\n\u001b[0m\u001b[1;32m   2416\u001b[0m             \u001b[0mx_stickies\u001b[0m \u001b[0;34m=\u001b[0m \u001b[0mnp\u001b[0m\u001b[0;34m.\u001b[0m\u001b[0marray\u001b[0m\u001b[0;34m(\u001b[0m\u001b[0;34m[\u001b[0m\u001b[0mx\u001b[0m \u001b[0;32mfor\u001b[0m \u001b[0msticky\u001b[0m \u001b[0;32min\u001b[0m \u001b[0mstickies\u001b[0m \u001b[0;32mfor\u001b[0m \u001b[0mx\u001b[0m \u001b[0;32min\u001b[0m \u001b[0msticky\u001b[0m\u001b[0;34m.\u001b[0m\u001b[0mx\u001b[0m\u001b[0;34m]\u001b[0m\u001b[0;34m)\u001b[0m\u001b[0;34m\u001b[0m\u001b[0m\n\u001b[1;32m   2417\u001b[0m             \u001b[0my_stickies\u001b[0m \u001b[0;34m=\u001b[0m \u001b[0mnp\u001b[0m\u001b[0;34m.\u001b[0m\u001b[0marray\u001b[0m\u001b[0;34m(\u001b[0m\u001b[0;34m[\u001b[0m\u001b[0my\u001b[0m \u001b[0;32mfor\u001b[0m \u001b[0msticky\u001b[0m \u001b[0;32min\u001b[0m \u001b[0mstickies\u001b[0m \u001b[0;32mfor\u001b[0m \u001b[0my\u001b[0m \u001b[0;32min\u001b[0m \u001b[0msticky\u001b[0m\u001b[0;34m.\u001b[0m\u001b[0my\u001b[0m\u001b[0;34m]\u001b[0m\u001b[0;34m)\u001b[0m\u001b[0;34m\u001b[0m\u001b[0m\n",
      "\u001b[0;32m//anaconda3/lib/python3.6/site-packages/matplotlib/axes/_base.py\u001b[0m in \u001b[0;36m<listcomp>\u001b[0;34m(.0)\u001b[0m\n\u001b[1;32m   2413\u001b[0m                 \u001b[0;34m(\u001b[0m\u001b[0mself\u001b[0m\u001b[0;34m.\u001b[0m\u001b[0m_xmargin\u001b[0m \u001b[0;32mand\u001b[0m \u001b[0mscalex\u001b[0m \u001b[0;32mand\u001b[0m \u001b[0mself\u001b[0m\u001b[0;34m.\u001b[0m\u001b[0m_autoscaleXon\u001b[0m\u001b[0;34m)\u001b[0m \u001b[0;32mor\u001b[0m\u001b[0;34m\u001b[0m\u001b[0m\n\u001b[1;32m   2414\u001b[0m                 (self._ymargin and scaley and self._autoscaleYon)):\n\u001b[0;32m-> 2415\u001b[0;31m             \u001b[0mstickies\u001b[0m \u001b[0;34m=\u001b[0m \u001b[0;34m[\u001b[0m\u001b[0martist\u001b[0m\u001b[0;34m.\u001b[0m\u001b[0msticky_edges\u001b[0m \u001b[0;32mfor\u001b[0m \u001b[0martist\u001b[0m \u001b[0;32min\u001b[0m \u001b[0mself\u001b[0m\u001b[0;34m.\u001b[0m\u001b[0mget_children\u001b[0m\u001b[0;34m(\u001b[0m\u001b[0;34m)\u001b[0m\u001b[0;34m]\u001b[0m\u001b[0;34m\u001b[0m\u001b[0m\n\u001b[0m\u001b[1;32m   2416\u001b[0m             \u001b[0mx_stickies\u001b[0m \u001b[0;34m=\u001b[0m \u001b[0mnp\u001b[0m\u001b[0;34m.\u001b[0m\u001b[0marray\u001b[0m\u001b[0;34m(\u001b[0m\u001b[0;34m[\u001b[0m\u001b[0mx\u001b[0m \u001b[0;32mfor\u001b[0m \u001b[0msticky\u001b[0m \u001b[0;32min\u001b[0m \u001b[0mstickies\u001b[0m \u001b[0;32mfor\u001b[0m \u001b[0mx\u001b[0m \u001b[0;32min\u001b[0m \u001b[0msticky\u001b[0m\u001b[0;34m.\u001b[0m\u001b[0mx\u001b[0m\u001b[0;34m]\u001b[0m\u001b[0;34m)\u001b[0m\u001b[0;34m\u001b[0m\u001b[0m\n\u001b[1;32m   2417\u001b[0m             \u001b[0my_stickies\u001b[0m \u001b[0;34m=\u001b[0m \u001b[0mnp\u001b[0m\u001b[0;34m.\u001b[0m\u001b[0marray\u001b[0m\u001b[0;34m(\u001b[0m\u001b[0;34m[\u001b[0m\u001b[0my\u001b[0m \u001b[0;32mfor\u001b[0m \u001b[0msticky\u001b[0m \u001b[0;32min\u001b[0m \u001b[0mstickies\u001b[0m \u001b[0;32mfor\u001b[0m \u001b[0my\u001b[0m \u001b[0;32min\u001b[0m \u001b[0msticky\u001b[0m\u001b[0;34m.\u001b[0m\u001b[0my\u001b[0m\u001b[0;34m]\u001b[0m\u001b[0;34m)\u001b[0m\u001b[0;34m\u001b[0m\u001b[0m\n",
      "\u001b[0;32m//anaconda3/lib/python3.6/site-packages/matplotlib/artist.py\u001b[0m in \u001b[0;36msticky_edges\u001b[0;34m(self)\u001b[0m\n\u001b[1;32m   1018\u001b[0m         \u001b[0mself\u001b[0m\u001b[0;34m.\u001b[0m\u001b[0mstale\u001b[0m \u001b[0;34m=\u001b[0m \u001b[0;32mTrue\u001b[0m\u001b[0;34m\u001b[0m\u001b[0m\n\u001b[1;32m   1019\u001b[0m \u001b[0;34m\u001b[0m\u001b[0m\n\u001b[0;32m-> 1020\u001b[0;31m     \u001b[0;34m@\u001b[0m\u001b[0mproperty\u001b[0m\u001b[0;34m\u001b[0m\u001b[0m\n\u001b[0m\u001b[1;32m   1021\u001b[0m     \u001b[0;32mdef\u001b[0m \u001b[0msticky_edges\u001b[0m\u001b[0;34m(\u001b[0m\u001b[0mself\u001b[0m\u001b[0;34m)\u001b[0m\u001b[0;34m:\u001b[0m\u001b[0;34m\u001b[0m\u001b[0m\n\u001b[1;32m   1022\u001b[0m         \"\"\"\n",
      "\u001b[0;31mKeyboardInterrupt\u001b[0m: "
     ]
    }
   ],
   "source": [
    "raws.plot(events=events_from_annot, n_channels=23)"
   ]
  },
  {
   "cell_type": "code",
   "execution_count": 56,
   "metadata": {},
   "outputs": [],
   "source": [
    "\n",
    "clf = BalancedRandomForestClassifier(n_jobs=1)\n",
    "\n",
    "param_grid = {\n",
    "    'min_samples_split': [3, 5, 10], \n",
    "    'n_estimators' : [100, 200, 300, 400],\n",
    "    'max_depth': [3, 5, 15],\n",
    "    'max_features': [3, 5, 10, 20]\n",
    "}\n",
    "\n",
    "scorers = {\n",
    "    'precision_score': make_scorer(precision_score),\n",
    "    'recall_score': make_scorer(recall_score),\n",
    "    'accuracy_score': make_scorer(accuracy_score)\n",
    "}"
   ]
  },
  {
   "cell_type": "code",
   "execution_count": 41,
   "metadata": {},
   "outputs": [],
   "source": [
    "def adjusted_classes(y_scores, t):\n",
    "    \"\"\"\n",
    "    This function adjusts class predictions based on the prediction threshold (t).\n",
    "    Will only work for binary classification problems.\n",
    "    \"\"\"\n",
    "    return [1 if y >= t else 0 for y in y_scores]\n",
    "\n",
    "def precision_recall_threshold(p, r, thresholds, t=0.5):\n",
    "    \"\"\"\n",
    "    plots the precision recall curve and shows the current value for each\n",
    "    by identifying the classifier's threshold (t).\n",
    "    \"\"\"\n",
    "    \n",
    "    # generate new class predictions based on the adjusted_classes\n",
    "    # function above and view the resulting confusion matrix.\n",
    "    y_pred_adj = adjusted_classes(y_scores, t)\n",
    "    print(pd.DataFrame(confusion_matrix(y_test, y_pred_adj),\n",
    "                       columns=['pred_neg', 'pred_pos'], \n",
    "                       index=['neg', 'pos']))\n",
    "    \n",
    "    # plot the curve\n",
    "    plt.figure(figsize=(8,8))\n",
    "    plt.title(\"Precision and Recall curve ^ = current threshold\")\n",
    "    plt.step(r, p, color='b', alpha=0.2,\n",
    "             where='post')\n",
    "    plt.fill_between(r, p, step='post', alpha=0.2,\n",
    "                     color='b')\n",
    "    plt.ylim([0.5, 1.01]);\n",
    "    plt.xlim([0.5, 1.01]);\n",
    "    plt.xlabel('Recall');\n",
    "    plt.ylabel('Precision');\n",
    "    \n",
    "    # plot the current threshold on the line\n",
    "    close_default_clf = np.argmin(np.abs(thresholds - t))\n",
    "    plt.plot(r[close_default_clf], p[close_default_clf], '^', c='k',\n",
    "            markersize=15)"
   ]
  },
  {
   "cell_type": "code",
   "execution_count": 54,
   "metadata": {},
   "outputs": [],
   "source": [
    "def grid_search_wrapper(X_train=X_train, y_train=y_train, X_test=X_test, y_test=y_test, refit_score='recall_score'):\n",
    "    \"\"\"\n",
    "    fits a GridSearchCV classifier using refit_score for optimization\n",
    "    prints classifier performance metrics\n",
    "    \"\"\"\n",
    "    skf = StratifiedKFold(n_splits=10)\n",
    "    grid_search = GridSearchCV(clf, param_grid, n_jobs=2, scoring=scorers, refit=refit_score,\n",
    "                           cv=skf, return_train_score=True, )\n",
    "    grid_search.fit(X_train, y_train)\n",
    "\n",
    "    # make the predictions\n",
    "    y_pred = grid_search.predict(X_test)\n",
    "\n",
    "    print('Best params for {}'.format(refit_score))\n",
    "    print(grid_search.best_params_)\n",
    "\n",
    "    # confusion matrix on the test data.\n",
    "    print('\\nConfusion matrix of Random Forest optimized for {} on the test data:'.format(refit_score))\n",
    "    print(pd.DataFrame(confusion_matrix(y_test, y_pred),\n",
    "                 columns=['pred_neg', 'pred_pos'], index=['neg', 'pos']))\n",
    "    return grid_search"
   ]
  },
  {
   "cell_type": "code",
   "execution_count": 43,
   "metadata": {},
   "outputs": [],
   "source": [
    "def plot_precision_recall_vs_threshold(precisions, recalls, thresholds):\n",
    "    \"\"\"\n",
    "    Modified from:\n",
    "    Hands-On Machine learning with Scikit-Learn\n",
    "    and TensorFlow; p.89\n",
    "    \"\"\"\n",
    "    plt.figure(figsize=(8, 8))\n",
    "    plt.title(\"Precision and Recall Scores as a function of the decision threshold\")\n",
    "    plt.plot(thresholds, precisions[:-1], \"b--\", label=\"Precision\")\n",
    "    plt.plot(thresholds, recalls[:-1], \"g-\", label=\"Recall\")\n",
    "    plt.ylabel(\"Score\")\n",
    "    plt.xlabel(\"Decision Threshold\")\n",
    "    plt.legend(loc='best')"
   ]
  },
  {
   "cell_type": "code",
   "execution_count": 44,
   "metadata": {},
   "outputs": [],
   "source": [
    "def plot_roc_curve(fpr, tpr, label=None):\n",
    "    \"\"\"\n",
    "    The ROC curve, modified from \n",
    "    Hands-On Machine learning with Scikit-Learn and TensorFlow; p.91\n",
    "    \"\"\"\n",
    "    plt.figure(figsize=(8,8))\n",
    "    plt.title('ROC Curve')\n",
    "    plt.plot(fpr, tpr, linewidth=2, label=label)\n",
    "    plt.plot([0, 1], [0, 1], 'k--')\n",
    "    plt.axis([-0.005, 1, 0, 1.005])\n",
    "    plt.xticks(np.arange(0,1, 0.05), rotation=90)\n",
    "    plt.xlabel(\"False Positive Rate\")\n",
    "    plt.ylabel(\"True Positive Rate (Recall)\")\n",
    "    plt.legend(loc='best')"
   ]
  },
  {
   "cell_type": "code",
   "execution_count": null,
   "metadata": {},
   "outputs": [],
   "source": []
  },
  {
   "cell_type": "code",
   "execution_count": null,
   "metadata": {},
   "outputs": [],
   "source": []
  },
  {
   "cell_type": "code",
   "execution_count": null,
   "metadata": {},
   "outputs": [],
   "source": []
  },
  {
   "cell_type": "code",
   "execution_count": null,
   "metadata": {},
   "outputs": [],
   "source": []
  },
  {
   "cell_type": "code",
   "execution_count": 58,
   "metadata": {},
   "outputs": [],
   "source": [
    "#grid_search_clf = grid_search_wrapper(X_train=X_down, y_train=y_down, X_test=X_test, y_test=y_test, refit_score='recall_score')"
   ]
  },
  {
   "cell_type": "code",
   "execution_count": null,
   "metadata": {},
   "outputs": [],
   "source": [
    "data.times[766976], data.times[776960], 766976/2996"
   ]
  },
  {
   "cell_type": "code",
   "execution_count": null,
   "metadata": {},
   "outputs": [],
   "source": [
    "data.times[-1]"
   ]
  },
  {
   "cell_type": "code",
   "execution_count": null,
   "metadata": {},
   "outputs": [],
   "source": [
    "\n",
    "tmin, tmax = -0.5, 0.5\n",
    "epochs = mne.Epochs(raws, events_from_annot, event_id, tmin, tmax, proj=True,\n",
    "                    decim=2, baseline=None, preload=True)\n",
    "\n",
    "labels = epochs.events[:, -1]\n",
    "\n",
    "# get MEG and EEG data\n",
    "fif_epochs = epochs.copy().pick_types(meg=False, eeg=True)\n",
    "fif_data = fif_epochs.get_data().reshape(len(labels), -1)"
   ]
  },
  {
   "cell_type": "code",
   "execution_count": null,
   "metadata": {},
   "outputs": [],
   "source": [
    "2996.0"
   ]
  },
  {
   "cell_type": "code",
   "execution_count": null,
   "metadata": {
    "scrolled": true
   },
   "outputs": [],
   "source": [
    "evoked = epochs.average()\n",
    "evoked.plot(spatial_colors=True)"
   ]
  },
  {
   "cell_type": "code",
   "execution_count": null,
   "metadata": {},
   "outputs": [],
   "source": [
    "# clf = LogisticRegression(solver='lbfgs', max_iter=1000)\n",
    "# scaler = StandardScaler()\n",
    "\n",
    "# # create a linear model with LogisticRegression\n",
    "# model = LinearModel(clf)\n",
    "\n",
    "# # fit the classifier on fif data\n",
    "# X = scaler.fit_transform(fif_data)\n",
    "# model.fit(X, labels)\n",
    "\n",
    "# # Extract and plot spatial filters and spatial patterns\n",
    "# for name, coef in (('patterns', model.patterns_), ('filters', model.filters_)):\n",
    "#     # We fitted the linear model onto Z-scored data. To make the filters\n",
    "#     # interpretable, we must reverse this normalization step\n",
    "#     coef = scaler.inverse_transform([coef])[0]\n",
    "\n",
    "#     # The data was vectorized to fit a single model across all time points and\n",
    "#     # all channels. We thus reshape it:\n",
    "#     coef = coef.reshape(len(fif_epochs.ch_names), -1)\n",
    "\n",
    "#     # Plot\n",
    "#     evoked = EvokedArray(coef, fif_epochs.info, tmin=epochs.tmin)\n",
    "#     evoked.plot_topomap(title='EEG %s' % name, time_unit='s')"
   ]
  },
  {
   "cell_type": "code",
   "execution_count": null,
   "metadata": {},
   "outputs": [],
   "source": [
    "picks = mne.pick_types(epochs.info, meg=False, eeg=True)\n",
    "X = epochs.get_data()[:, picks]\n",
    "y = epochs.events[:, 2]\n",
    "\n",
    "clf = make_pipeline(StandardScaler(), LogisticRegression())\n",
    "\n",
    "X_2d = X.reshape(len(X), -1)\n",
    "scores = cross_val_score(clf, X_2d, y, cv=5, n_jobs=1, scoring='accuracy')\n",
    "\n",
    "#Mean scores across cross-validation splits\n",
    "print(\"Cross-Validation (Accuracy) score : %s\" % np.mean(scores))\n"
   ]
  },
  {
   "cell_type": "code",
   "execution_count": null,
   "metadata": {},
   "outputs": [],
   "source": []
  },
  {
   "cell_type": "code",
   "execution_count": null,
   "metadata": {},
   "outputs": [],
   "source": [
    "d = {}\n",
    "with open('seizures.txt') as f:\n",
    "    line_list = f.readlines()\n",
    "    for elem in line_list:\n",
    "        if elem[0:9] == 'File Name':\n",
    "            elem2 = elem.split(\":\")[1]\n",
    "            fn = elem2.split(\".\")[0].strip()\n",
    "            d[fn]={}\n",
    "            \n",
    "        if elem[0:26] == 'Number of Seizures in File':\n",
    "            numb = int(elem.split(\":\")[1])\n",
    "            d[fn]['Number of Seizures in File'] = numb\n",
    "            \n",
    "        \n",
    "        if (elem[0:18]   ==  'Seizure Start Time') or (elem[0:20]   ==  'Seizure 1 Start Time'):\n",
    "                elem2 = elem.split(\":\")[1]\n",
    "                elem3 = int(elem2.split()[0])\n",
    "                d[fn]['Seizure 1 Start Time'] = elem3\n",
    "\n",
    "\n",
    "        if (elem[0:16]   ==  'Seizure End Time') or (elem[0:18]   ==  'Seizure 1 End Time'):\n",
    "                elem2 = elem.split(\":\")[1]\n",
    "                elem3 = int(elem2.split()[0])\n",
    "                d[fn]['Seizure 1 End Time'] = elem3\n",
    "                d[fn]['Seizure 1 Duration'] = elem3 - d[fn]['Seizure 1 Start Time']    \n",
    "\n",
    "\n",
    "        if elem[0:20]   ==  'Seizure 2 Start Time':\n",
    "            elem2 = elem.split(\":\")[1]\n",
    "            elem3 = int(elem2.split()[0])\n",
    "            d[fn]['Seizure 2 Start Time'] = elem3\n",
    "\n",
    "\n",
    "        if elem[0:18]   ==  'Seizure 2 End Time':\n",
    "            elem2 = elem.split(\":\")[1]\n",
    "            elem3 = int(elem2.split()[0])\n",
    "            d[fn]['Seizure 2 End Time'] = elem3\n",
    "            d[fn]['Seizure 2 Duration'] = elem3 - d[fn]['Seizure 2 Start Time']  \n",
    "\n",
    "        if elem[0:20]   ==  'Seizure 3 Start Time':\n",
    "            elem2 = elem.split(\":\")[1]\n",
    "            elem3 = int(elem2.split()[0])\n",
    "            d[fn]['Seizure 3 Start Time'] = elem3\n",
    "\n",
    "\n",
    "        if elem[0:18]   ==  'Seizure 3 End Time':\n",
    "            elem2 = elem.split(\":\")[1]\n",
    "            elem3 = int(elem2.split()[0])\n",
    "            d[fn]['Seizure 3 End Time'] = elem3\n",
    "            d[fn]['Seizure 3 Duration'] = elem3 - d[fn]['Seizure 3 Start Time']  \n",
    "\n",
    "        if elem[0:20]   ==  'Seizure 4 Start Time':\n",
    "            elem2 = elem.split(\":\")[1]\n",
    "            elem3 = int(elem2.split()[0])\n",
    "            d[fn]['Seizure 4 Start Time'] = elem3\n",
    "\n",
    "\n",
    "        if elem[0:18]   ==  'Seizure 4 End Time':\n",
    "            elem2 = elem.split(\":\")[1]\n",
    "            elem3 = int(elem2.split()[0])\n",
    "            d[fn]['Seizure 4 End Time'] = elem3\n",
    "            d[fn]['Seizure 4 Duration'] = elem3 - d[fn]['Seizure 4 Start Time']   \n",
    "\n",
    "\n",
    "        if elem[0:20]   ==  'Seizure 5 Start Time':\n",
    "            elem2 = elem.split(\":\")[1]\n",
    "            elem3 = int(elem2.split()[0])\n",
    "            d[fn]['Seizure 5 Start Time'] = elem3\n",
    "\n",
    "\n",
    "        if elem[0:18]   ==  'Seizure 5 End Time':\n",
    "            elem2 = elem.split(\":\")[1]\n",
    "            elem3 = int(elem2.split()[0])\n",
    "            d[fn]['Seizure 5 End Time'] = elem3\n",
    "            d[fn]['Seizure 5 Duration'] = elem3 - d[fn]['Seizure 5 Start Time'] \n",
    "            \n",
    "            \n",
    "                    \n",
    "   "
   ]
  },
  {
   "cell_type": "code",
   "execution_count": null,
   "metadata": {},
   "outputs": [],
   "source": [
    "with open('seizures.txt') as f:\n",
    "    line_list = f.readlines()\n",
    "    for elem in line_list:\n",
    "        if elem[0:9] == 'File Name':\n",
    "            elem2 = elem.split(\":\")[1]\n",
    "            fn = elem2.split(\".\")[0].strip()\n",
    "                    \n",
    "    \n",
    "    \n",
    "        if elem[0:15] == 'File Start Time':\n",
    "            fst = elem.split(\":\", 1)[1].strip()\n",
    "            if fst[0:2] == '24':\n",
    "                fstump = fst[2:9]\n",
    "                z = '00'\n",
    "                fst = z + fstump\n",
    "                \n",
    "            d[fn]['File Start Time'] = fst  \n",
    "            \n",
    "            std = datetime.strptime(fst, '%H:%M:%S')  \n",
    "            \n",
    "        if elem[0:13] == 'File End Time':\n",
    "            fet = elem.split(\":\", 1)[1].strip()\n",
    "            if fet[0:2] == '24':\n",
    "                fetump = fet[2:9]\n",
    "                z = '00'\n",
    "                fet = z + fetump\n",
    "            d[fn]['File End Time'] = fet    \n",
    "            \n",
    "            etd = datetime.strptime(fet, '%H:%M:%S')\n",
    "            \n",
    "            \n",
    "            td = etd - std\n",
    "            d[fn]['File length in seconds'] = td.total_seconds()  "
   ]
  },
  {
   "cell_type": "code",
   "execution_count": null,
   "metadata": {},
   "outputs": [],
   "source": [
    "anno_dict = {anno_nm_lst[i]: anno_lst[i] for i in range(138)}\n"
   ]
  },
  {
   "cell_type": "code",
   "execution_count": null,
   "metadata": {},
   "outputs": [],
   "source": [
    "numpy.fft.fftn(a, s=None, axes=None, norm=None)"
   ]
  },
  {
   "cell_type": "code",
   "execution_count": null,
   "metadata": {},
   "outputs": [],
   "source": [
    "anno_dict"
   ]
  },
  {
   "cell_type": "code",
   "execution_count": null,
   "metadata": {},
   "outputs": [],
   "source": [
    "d"
   ]
  },
  {
   "cell_type": "code",
   "execution_count": null,
   "metadata": {},
   "outputs": [],
   "source": [
    "len(anno_dict), len(anno_lst)"
   ]
  },
  {
   "cell_type": "code",
   "execution_count": null,
   "metadata": {},
   "outputs": [],
   "source": [
    "duration"
   ]
  },
  {
   "cell_type": "code",
   "execution_count": null,
   "metadata": {},
   "outputs": [],
   "source": [
    "df = d['chb01_03']\n",
    "duration = [df[list(df)[i]] for i in range(3, df[list(df)[0]]*3 + 1, 3)]"
   ]
  },
  {
   "cell_type": "code",
   "execution_count": null,
   "metadata": {},
   "outputs": [],
   "source": [
    "d['chb01_03']"
   ]
  },
  {
   "cell_type": "code",
   "execution_count": null,
   "metadata": {},
   "outputs": [],
   "source": [
    "d"
   ]
  },
  {
   "cell_type": "code",
   "execution_count": null,
   "metadata": {},
   "outputs": [],
   "source": [
    "anno_dict['chb01_03'].onset, anno_dict['chb01_03'].duration\n"
   ]
  },
  {
   "cell_type": "code",
   "execution_count": null,
   "metadata": {},
   "outputs": [],
   "source": [
    "fif = '_raw.fif'\n",
    "rec_name = 'chb12_27'\n",
    "file_nm = rec_name + fif\n",
    "file_nm"
   ]
  },
  {
   "cell_type": "code",
   "execution_count": null,
   "metadata": {},
   "outputs": [],
   "source": [
    "rec_wsl[59]"
   ]
  },
  {
   "cell_type": "code",
   "execution_count": null,
   "metadata": {},
   "outputs": [],
   "source": []
  },
  {
   "cell_type": "code",
   "execution_count": null,
   "metadata": {},
   "outputs": [],
   "source": [
    "bool_lst = []\n",
    "for rec in rec_wsl:\n",
    "    if rec in anno_dict:\n",
    "        bool_lst.append('True')\n",
    "    else:\n",
    "        bool_lst.append('False')\n",
    "for idx, elem in enumerate(bool_lst):\n",
    "    print(idx, elem)"
   ]
  },
  {
   "cell_type": "code",
   "execution_count": null,
   "metadata": {},
   "outputs": [],
   "source": [
    "folder_nms = []\n",
    "for rec in rec_wsl:\n",
    "    fold = rec.split('_')[0]\n",
    "    folder_nms.append(fold[0:5])\n",
    "folder_nms = set(folder_nms)   \n",
    "folder_nms = list(folder_nms)\n",
    "folder_nms.sort()\n",
    "folder_nms\n",
    "summ_paths = [elem + '/' + elem + '-summary.txt' for elem in folder_nms]\n",
    "summ_paths"
   ]
  },
  {
   "cell_type": "code",
   "execution_count": null,
   "metadata": {},
   "outputs": [],
   "source": [
    "rec_wsl"
   ]
  },
  {
   "cell_type": "code",
   "execution_count": null,
   "metadata": {},
   "outputs": [],
   "source": [
    "rec_wsl = []\n",
    "with open('chb-mit-scalp-eeg-database-1.0.0/RECORDS-WITH-SEIZURES') as f:\n",
    "    line_list = f.readlines()\n",
    "    for elem in line_list:\n",
    "        if len(elem) > 1:\n",
    "            rec_wsl.append(elem.split(\"/\")[1].split('.')[0])"
   ]
  }
 ],
 "metadata": {
  "kernelspec": {
   "display_name": "Python 3",
   "language": "python",
   "name": "python3"
  },
  "language_info": {
   "codemirror_mode": {
    "name": "ipython",
    "version": 3
   },
   "file_extension": ".py",
   "mimetype": "text/x-python",
   "name": "python",
   "nbconvert_exporter": "python",
   "pygments_lexer": "ipython3",
   "version": "3.6.6"
  }
 },
 "nbformat": 4,
 "nbformat_minor": 2
}
