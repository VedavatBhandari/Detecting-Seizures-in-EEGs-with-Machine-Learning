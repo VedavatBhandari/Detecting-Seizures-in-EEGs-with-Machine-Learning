{
 "cells": [
  {
   "cell_type": "code",
   "execution_count": 12,
   "metadata": {},
   "outputs": [],
   "source": [
    "import matplotlib.pyplot as plt\n",
    "# %matplotlib inline\n",
    "%matplotlib qt5\n",
    "import mne\n",
    "import pandas as pd\n",
    "from mne.channels.montage import get_builtin_montages\n"
   ]
  },
  {
   "cell_type": "code",
   "execution_count": 7,
   "metadata": {},
   "outputs": [
    {
     "name": "stdout",
     "output_type": "stream",
     "text": [
      "Extracting EDF parameters from /Users/johnaguero/assignments/Machine-Learning-Projects/edf/chb01_03.edf...\n",
      "EDF file detected\n",
      "Setting channel info structure...\n",
      "Creating raw.info structure...\n",
      "Reading 0 ... 921599  =      0.000 ...  3599.996 secs...\n"
     ]
    },
    {
     "name": "stderr",
     "output_type": "stream",
     "text": [
      "<ipython-input-7-56c09b66527c>:1: RuntimeWarning: Channel names are not unique, found duplicates for: {'T8-P8'}. Applying running numbers for duplicates.\n",
      "  data = mne.io.read_raw_edf(\"edf/chb01_03.edf\", preload=True)\n"
     ]
    },
    {
     "data": {
      "text/plain": [
       "(216135784, 0)"
      ]
     },
     "execution_count": 7,
     "metadata": {},
     "output_type": "execute_result"
    }
   ],
   "source": [
    "data = mne.io.read_raw_edf(\"edf/chb01_03.edf\", preload=True)\n",
    "info = data.info\n",
    "channels = data.ch_names\n",
    "channels\n",
    "info['meas_date']"
   ]
  },
  {
   "cell_type": "code",
   "execution_count": 22,
   "metadata": {},
   "outputs": [
    {
     "data": {
      "text/plain": [
       "{'FP1-F7': 'AF7',\n",
       " 'F7-T7': 'FT7',\n",
       " 'T7-P7': 'TP7',\n",
       " 'P7-O1': 'PO7',\n",
       " 'FP1-F3': 'AF3',\n",
       " 'F3-C3': 'FC3',\n",
       " 'C3-P3': 'CP3',\n",
       " 'P3-O1': 'PO3',\n",
       " 'FP2-F4': 'AF4',\n",
       " 'F4-C4': 'FC4',\n",
       " 'C4-P4': 'CP4',\n",
       " 'P4-O2': 'PO4',\n",
       " 'FP2-F8': 'AF8',\n",
       " 'F8-T8': 'FT8',\n",
       " 'T8-P8-0': 'TP8',\n",
       " 'P8-O2': 'PO8',\n",
       " 'FZ-CZ': 'FCz',\n",
       " 'CZ-PZ': 'CPz',\n",
       " 'P7-T7': 'T7',\n",
       " 'T7-FT9': 'FT9',\n",
       " 'FT9-FT10': 'FT10',\n",
       " 'FT10-T8': 'T8',\n",
       " 'T8-P8-1': 'P8'}"
      ]
     },
     "execution_count": 22,
     "metadata": {},
     "output_type": "execute_result"
    }
   ],
   "source": [
    "ch_dict = {'FP1-F7' : 'AF7',\n",
    " 'F7-T7' : 'FT7',\n",
    " 'T7-P7' : 'TP7',\n",
    " 'P7-O1' : 'PO7',\n",
    " 'FP1-F3' : 'AF3',\n",
    " 'F3-C3' : 'FC3',\n",
    " 'C3-P3' : 'CP3',\n",
    " 'P3-O1' : 'PO3',\n",
    " 'FP2-F4' : 'AF4',\n",
    " 'F4-C4' : 'FC4',\n",
    " 'C4-P4' : 'CP4',\n",
    " 'P4-O2' : 'PO4',\n",
    " 'FP2-F8' : 'AF8',\n",
    " 'F8-T8' : 'FT8',\n",
    " 'T8-P8-0' : 'TP8',\n",
    " 'P8-O2' : 'PO8',\n",
    " 'FZ-CZ' : 'FCz',\n",
    " 'CZ-PZ' : 'CPz',\n",
    " 'P7-T7' : 'T7',\n",
    " 'T7-FT9' : 'FT9',\n",
    " 'FT9-FT10' : 'FT10',\n",
    " 'FT10-T8' : 'T8',\n",
    " 'T8-P8-1' : 'P8'}\n",
    "ch_dict"
   ]
  },
  {
   "cell_type": "code",
   "execution_count": 30,
   "metadata": {},
   "outputs": [
    {
     "data": {
      "text/plain": [
       "(23, 921600)"
      ]
     },
     "execution_count": 30,
     "metadata": {},
     "output_type": "execute_result"
    }
   ],
   "source": [
    "data.get_data().shape"
   ]
  },
  {
   "cell_type": "code",
   "execution_count": 8,
   "metadata": {},
   "outputs": [
    {
     "name": "stdout",
     "output_type": "stream",
     "text": [
      "['AF7', 'FT7', 'TP7', 'PO7', 'AF3', 'FC3', 'CP3', 'PO3', 'AF4', 'FC4', 'CP4', 'PO4', 'AF8', 'FT8', 'TP8', 'PO8', 'FCz', 'CPz', 'T7', 'FT9', 'FT10', 'T8', 'TP8']\n"
     ]
    }
   ],
   "source": [
    "info['ch_names'] = ['AF7', 'FT7', 'TP7', 'PO7', 'AF3', 'FC3', 'CP3', 'PO3', 'AF4', 'FC4', 'CP4', 'PO4', 'AF8', 'FT8', 'TP8', 'PO8', 'FCz', 'CPz', 'T7', 'FT9', 'FT10', 'T8', 'TP8']\n",
    "print(info['ch_names'])"
   ]
  },
  {
   "cell_type": "code",
   "execution_count": null,
   "metadata": {},
   "outputs": [],
   "source": [
    "['AF7', 'FT7', 'TP7', 'PO7', 'AF3', 'FC3', 'CP3', 'PO3', 'AF4', 'FC4', 'CP4', 'PO4', 'AF8', 'FT8', 'TP8', 'PO8', 'FCz', 'CPz', 'T7', 'FT9', 'FT10', 'T8', 'TP8']"
   ]
  },
  {
   "cell_type": "code",
   "execution_count": 15,
   "metadata": {},
   "outputs": [
    {
     "name": "stdout",
     "output_type": "stream",
     "text": [
      "dict_keys(['acq_pars', 'acq_stim', 'ctf_head_t', 'description', 'dev_ctf_t', 'dig', 'experimenter', 'utc_offset', 'device_info', 'file_id', 'highpass', 'hpi_subsystem', 'kit_system_id', 'helium_info', 'line_freq', 'lowpass', 'meas_date', 'meas_id', 'proj_id', 'proj_name', 'subject_info', 'xplotter_layout', 'gantry_angle', 'bads', 'chs', 'comps', 'events', 'hpi_meas', 'hpi_results', 'projs', 'proc_history', 'custom_ref_applied', 'sfreq', 'dev_head_t', 'ch_names', 'nchan'])\n",
      "['AF7', 'FT7', 'TP7', 'PO7', 'AF3', 'FC3', 'CP3', 'PO3', 'AF4', 'FC4', 'CP4', 'PO4', 'AF8', 'FT8', 'TP8-0', 'PO8', 'FCz', 'CPz', 'T7', 'FT9', 'FT10', 'T8', 'TP8-1']\n",
      "dict_keys(['cal', 'logno', 'scanno', 'range', 'unit_mul', 'ch_name', 'unit', 'coord_frame', 'coil_type', 'kind', 'loc'])\n"
     ]
    },
    {
     "data": {
      "text/plain": [
       "(<Info | 17 non-empty fields\n",
       "     bads : list | 0 items\n",
       "     ch_names : list | AF7, FT7, TP7, PO7, AF3, FC3, CP3, PO3, AF4, ...\n",
       "     chs : list | 23 items (EEG: 23)\n",
       "     comps : list | 0 items\n",
       "     custom_ref_applied : bool | False\n",
       "     dev_head_t : Transform | 3 items\n",
       "     dig : Digitization | 24 items (3 Cardinal, 21 EEG)\n",
       "     events : list | 0 items\n",
       "     highpass : float | 0.0 Hz\n",
       "     hpi_meas : list | 0 items\n",
       "     hpi_results : list | 0 items\n",
       "     lowpass : float | 128.0 Hz\n",
       "     meas_date : tuple | 1976-11-06 13:43:04 GMT\n",
       "     nchan : int | 23\n",
       "     proc_history : list | 0 items\n",
       "     projs : list | 0 items\n",
       "     sfreq : float | 256.0 Hz\n",
       "     acq_pars : NoneType\n",
       "     acq_stim : NoneType\n",
       "     ctf_head_t : NoneType\n",
       "     description : NoneType\n",
       "     dev_ctf_t : NoneType\n",
       "     device_info : NoneType\n",
       "     experimenter : NoneType\n",
       "     file_id : NoneType\n",
       "     gantry_angle : NoneType\n",
       "     helium_info : NoneType\n",
       "     hpi_subsystem : NoneType\n",
       "     kit_system_id : NoneType\n",
       "     line_freq : NoneType\n",
       "     meas_id : NoneType\n",
       "     proj_id : NoneType\n",
       "     proj_name : NoneType\n",
       "     subject_info : NoneType\n",
       "     utc_offset : NoneType\n",
       "     xplotter_layout : NoneType\n",
       " >, None, None, None)"
      ]
     },
     "execution_count": 15,
     "metadata": {},
     "output_type": "execute_result"
    }
   ],
   "source": [
    "info, print(info.keys()), print(info['ch_names']), print(info['chs'][0].keys())"
   ]
  },
  {
   "cell_type": "code",
   "execution_count": 7,
   "metadata": {},
   "outputs": [
    {
     "name": "stdout",
     "output_type": "stream",
     "text": [
      "TP8\n"
     ]
    },
    {
     "data": {
      "text/plain": [
       "23"
      ]
     },
     "execution_count": 7,
     "metadata": {},
     "output_type": "execute_result"
    }
   ],
   "source": [
    "print(info['chs'][22]['ch_name'])\n",
    "len(info['chs'])"
   ]
  },
  {
   "cell_type": "code",
   "execution_count": 9,
   "metadata": {},
   "outputs": [],
   "source": [
    "for i in range(len(info['chs'])):\n",
    "    info['chs'][i]['ch_name'] = info['ch_names'][i]\n",
    "    \n"
   ]
  },
  {
   "cell_type": "code",
   "execution_count": 8,
   "metadata": {},
   "outputs": [
    {
     "data": {
      "text/plain": [
       "23"
      ]
     },
     "execution_count": 8,
     "metadata": {},
     "output_type": "execute_result"
    }
   ],
   "source": [
    "len(info['chs'])"
   ]
  },
  {
   "cell_type": "code",
   "execution_count": 10,
   "metadata": {},
   "outputs": [
    {
     "name": "stdout",
     "output_type": "stream",
     "text": [
      "4 duplicate electrode labels found:\n",
      "T7/T3, T8/T4, P7/T5, P8/T6\n",
      "Plotting 93 unique labels.\n"
     ]
    },
    {
     "name": "stderr",
     "output_type": "stream",
     "text": [
      "//anaconda3/lib/python3.6/site-packages/mne/utils/docs.py:824: DeprecationWarning: Function read_montage is deprecated; ``read_montage`` is deprecated and will be removed in v0.20. Please use ``read_dig_fif``, ``read_dig_egi``, ``read_custom_montage``, or ``read_dig_captrack`` to read a digitization based on your needs instead; or ``make_standard_montage`` to create ``DigMontage`` based on template; or ``make_dig_montage`` to create a ``DigMontage`` out of np.arrays\n",
      "  warnings.warn(msg, category=DeprecationWarning)\n",
      "//anaconda3/lib/python3.6/site-packages/mne/utils/docs.py:807: DeprecationWarning: Class Montage is deprecated; Montage class is deprecated and will be removed in v0.20. Please use DigMontage instead.\n",
      "  warnings.warn(msg, category=DeprecationWarning)\n",
      "<ipython-input-10-4cb83f563cce>:2: DeprecationWarning: Setting a montage using anything rather than DigMontage is deprecated and will raise an error in v0.20. Please use ``read_dig_fif``, ``read_dig_egi``, ``read_dig_polhemus_isotrak``, or ``read_dig_captrack`` ``read_dig_hpts``, ``read_dig_captrack`` or ``read_custom_montage`` to read a digitization based on your needs instead; or ``make_standard_montage`` to create ``DigMontage`` based on template; or ``make_dig_montage`` to create a ``DigMontage`` out of np.arrays.\n",
      "  montage.plot()\n"
     ]
    },
    {
     "data": {
      "image/png": "[encoded data removed]",
      "text/plain": [
       "<Figure size 432x432 with 1 Axes>"
      ]
     },
     "metadata": {},
     "output_type": "display_data"
    },
    {
     "data": {
      "image/png": "[encoded data removed]",
      "text/plain": [
       "<Figure size 432x432 with 1 Axes>"
      ]
     },
     "execution_count": 10,
     "metadata": {},
     "output_type": "execute_result"
    }
   ],
   "source": [
    "montage = mne.channels.read_montage(\"standard_1020\")\n",
    "montage.plot()\n",
    "# plt.savefig('Montage1')"
   ]
  },
  {
   "cell_type": "code",
   "execution_count": 11,
   "metadata": {},
   "outputs": [
    {
     "name": "stderr",
     "output_type": "stream",
     "text": [
      "<ipython-input-11-35f4347ba5d0>:1: DeprecationWarning: Setting a montage using anything rather than DigMontage is deprecated and will raise an error in v0.20. Please use ``read_dig_fif``, ``read_dig_egi``, ``read_dig_polhemus_isotrak``, or ``read_dig_captrack`` ``read_dig_hpts``, ``read_dig_captrack`` or ``read_custom_montage`` to read a digitization based on your needs instead; or ``make_standard_montage`` to create ``DigMontage`` based on template; or ``make_dig_montage`` to create a ``DigMontage`` out of np.arrays.\n",
      "  data.set_montage(montage)\n",
      "<ipython-input-11-35f4347ba5d0>:1: RuntimeWarning: Channel names are not unique, found duplicates for: {'TP8'}. Applying running numbers for duplicates.\n",
      "  data.set_montage(montage)\n",
      "<ipython-input-11-35f4347ba5d0>:1: RuntimeWarning: The following EEG sensors did not have a position specified in the selected montage: ['TP8-1']. Their position has been left untouched.\n",
      "  data.set_montage(montage)\n"
     ]
    },
    {
     "data": {
      "text/plain": [
       "<RawEDF  |  chb01_03.edf, n_channels x n_times : 23 x 921600 (3600.0 sec), ~161.8 MB, data loaded>"
      ]
     },
     "execution_count": 11,
     "metadata": {},
     "output_type": "execute_result"
    }
   ],
   "source": [
    "data.set_montage(montage)"
   ]
  },
  {
   "cell_type": "code",
   "execution_count": 12,
   "metadata": {},
   "outputs": [
    {
     "data": {
      "text/plain": [
       "{'eeg': [0,\n",
       "  1,\n",
       "  2,\n",
       "  3,\n",
       "  4,\n",
       "  5,\n",
       "  6,\n",
       "  7,\n",
       "  8,\n",
       "  9,\n",
       "  10,\n",
       "  11,\n",
       "  12,\n",
       "  13,\n",
       "  14,\n",
       "  15,\n",
       "  16,\n",
       "  17,\n",
       "  18,\n",
       "  19,\n",
       "  20,\n",
       "  21,\n",
       "  22],\n",
       " 'stim': [],\n",
       " 'eog': [],\n",
       " 'ecg': [],\n",
       " 'emg': [],\n",
       " 'misc': [],\n",
       " 'resp': [],\n",
       " 'chpi': [],\n",
       " 'exci': [],\n",
       " 'ias': [],\n",
       " 'syst': [],\n",
       " 'seeg': [],\n",
       " 'dipole': [],\n",
       " 'gof': [],\n",
       " 'bio': [],\n",
       " 'ecog': [],\n",
       " 'ref_meg': [],\n",
       " 'mag': [],\n",
       " 'grad': [],\n",
       " 'hbo': [],\n",
       " 'hbr': []}"
      ]
     },
     "execution_count": 12,
     "metadata": {},
     "output_type": "execute_result"
    }
   ],
   "source": [
    "mne.channel_indices_by_type(info)"
   ]
  },
  {
   "cell_type": "code",
   "execution_count": null,
   "metadata": {},
   "outputs": [],
   "source": [
    "channels, data.chs"
   ]
  },
  {
   "cell_type": "code",
   "execution_count": null,
   "metadata": {},
   "outputs": [],
   "source": [
    "info"
   ]
  },
  {
   "cell_type": "code",
   "execution_count": 19,
   "metadata": {},
   "outputs": [
    {
     "data": {
      "text/plain": [
       "0"
      ]
     },
     "execution_count": 19,
     "metadata": {},
     "output_type": "execute_result"
    }
   ],
   "source": [
    "len(data.annotations)"
   ]
  },
  {
   "cell_type": "code",
   "execution_count": 13,
   "metadata": {},
   "outputs": [
    {
     "data": {
      "text/plain": [
       "('0.19.0', 256.0)"
      ]
     },
     "execution_count": 13,
     "metadata": {},
     "output_type": "execute_result"
    }
   ],
   "source": [
    "mne.__version__, data.info[\"sfreq\"]"
   ]
  },
  {
   "cell_type": "code",
   "execution_count": 92,
   "metadata": {},
   "outputs": [
    {
     "name": "stderr",
     "output_type": "stream",
     "text": [
      "<ipython-input-92-c1da017e0ece>:1: RuntimeWarning: An average reference projection was already added. The data has been left untouched.\n",
      "  data.set_eeg_reference(\"average\", projection=True)\n"
     ]
    },
    {
     "data": {
      "text/plain": [
       "<RawEDF  |  chb01_03.edf, n_channels x n_times : 23 x 921600 (3600.0 sec), ~161.8 MB, data loaded>"
      ]
     },
     "execution_count": 92,
     "metadata": {},
     "output_type": "execute_result"
    }
   ],
   "source": [
    "data.set_eeg_reference(\"average\", projection=True)"
   ]
  },
  {
   "cell_type": "code",
   "execution_count": 44,
   "metadata": {},
   "outputs": [],
   "source": [
    "# data.copy().apply_proj().plot()\n"
   ]
  },
  {
   "cell_type": "code",
   "execution_count": 45,
   "metadata": {},
   "outputs": [],
   "source": [
    "# data.plot()"
   ]
  },
  {
   "cell_type": "code",
   "execution_count": 100,
   "metadata": {},
   "outputs": [
    {
     "name": "stdout",
     "output_type": "stream",
     "text": [
      "[20.0, 16.0]\n"
     ]
    }
   ],
   "source": [
    "print(plt.rcParams.get('figure.figsize'))\n",
    "fig_size = plt.rcParams[\"figure.figsize\"]\n",
    "fig_size[0] = 20\n",
    "fig_size[1] = 16\n",
    "plt.rcParams[\"figure.figsize\"] = fig_size"
   ]
  },
  {
   "cell_type": "code",
   "execution_count": 22,
   "metadata": {},
   "outputs": [],
   "source": [
    "data.plot(n_channels=23, scalings={\"eeg\": 75e-6})\n",
    "plt.savefig('EEG1')"
   ]
  },
  {
   "cell_type": "code",
   "execution_count": null,
   "metadata": {},
   "outputs": [],
   "source": [
    "lot(self, events=None, duration=10.0, start=0.0, n_channels=20, bgcolor='w', color=None, bad_color=(0.8, 0.8, 0.8), event_color='cyan', scalings=None, remove_dc=True, order=None, show_options=False, title=None, show=True, block=False, highpass=None, lowpass=None, filtorder=4, clipping=None, show_first_samp=False, proj=True, group_by='type', butterfly=False, decim='auto', noise_cov=None, event_id=None, show_scrollbars=True, verbose=None)"
   ]
  },
  {
   "cell_type": "code",
   "execution_count": 14,
   "metadata": {
    "scrolled": true
   },
   "outputs": [],
   "source": [
    "data.plot(duration=60, start=2990.0, n_channels=23, butterfly=True, scalings={\"eeg\": 20e-5})\n",
    "plt.show()\n",
    "plt.savefig('EEG Seizure Butterfly')"
   ]
  },
  {
   "cell_type": "code",
   "execution_count": 46,
   "metadata": {
    "scrolled": true
   },
   "outputs": [
    {
     "name": "stdout",
     "output_type": "stream",
     "text": [
      "Effective window size : 8.000 (s)\n"
     ]
    }
   ],
   "source": [
    "\n",
    "data.plot_psd(fmax=50)\n",
    "data.plot(duration=5, n_channels=23, scalings={\"eeg\": 75e-8})\n",
    "plt.show()"
   ]
  },
  {
   "cell_type": "code",
   "execution_count": 13,
   "metadata": {},
   "outputs": [
    {
     "name": "stdout",
     "output_type": "stream",
     "text": [
      "No projector specified for this dataset. Please consider the method self.add_proj.\n",
      "Effective window size : 8.000 (s)\n"
     ]
    },
    {
     "data": {
      "image/png": "[encoded data removed]",
      "text/plain": [
       "<Figure size 1280x960 with 1 Axes>"
      ]
     },
     "execution_count": 13,
     "metadata": {},
     "output_type": "execute_result"
    }
   ],
   "source": [
    "data.plot_psd_topo(tmin=2996, tmax=3036, fmin=1.0, fmax=100, proj=True, n_fft=2048, n_overlap=0, layout=None, color='k', fig_facecolor='w', axis_facecolor='k', dB=True, show=True, block=False, n_jobs=1, axes=None, verbose=None)\n",
    "\n",
    "\n"
   ]
  },
  {
   "cell_type": "code",
   "execution_count": 72,
   "metadata": {},
   "outputs": [
    {
     "name": "stdout",
     "output_type": "stream",
     "text": [
      "Created an SSP operator (subspace dimension = 1)\n",
      "1 projection items activated\n",
      "SSP projectors applied...\n",
      "Effective window size : 8.000 (s)\n"
     ]
    }
   ],
   "source": [
    "data.plot_psd(fmin=1.0, fmax=100.0, tmin=2996, tmax=3036, proj=True, n_fft=None, n_overlap=0, reject_by_annotation=True, picks=None, ax=None, color='black', xscale='linear', area_mode='std', area_alpha=0.33, dB=True, estimate='auto', show=True, n_jobs=1, average=False, line_alpha=None, spatial_colors=True, verbose=None)\n",
    "\n",
    "\n",
    "plt.savefig('Seizure 1 Power Spectral Density across all Channels')"
   ]
  },
  {
   "cell_type": "code",
   "execution_count": 77,
   "metadata": {},
   "outputs": [],
   "source": [
    "fig = plt.figure()\n",
    "ax2d = fig.add_subplot(121)\n",
    "# ax3d = fig.add_subplot(122, projection='3d')\n",
    "data.plot_sensors(kind='select', ch_type='eeg', show_names=True, axes=ax2d)\n",
    "\n",
    "plt.savefig('Montage')\n",
    "# ax3d.view_init(azim=70, elev=15)"
   ]
  },
  {
   "cell_type": "code",
   "execution_count": null,
   "metadata": {},
   "outputs": [],
   "source": [
    "mne.viz.plot_sensors(info, kind='topomap', ch_type=None, title=None, show_names=False, ch_groups=None, to_sphere=True, axes=None, block=False, show=True"
   ]
  },
  {
   "cell_type": "code",
   "execution_count": null,
   "metadata": {},
   "outputs": [],
   "source": [
    "my_annot = mne.Annotations(onset=[2996],\n",
    "                           duration=[40],\n",
    "                           description=['Seizure'], orig_time=data.info['meas_date'][0])\n",
    "\n",
    "\n",
    "\n",
    "data.set_annotations(my_annot)\n",
    "print(data.annotations)\n",
    "\n",
    "\n"
   ]
  },
  {
   "cell_type": "code",
   "execution_count": 19,
   "metadata": {},
   "outputs": [
    {
     "data": {
      "text/plain": [
       "(216135784.0, (216135784, 0))"
      ]
     },
     "execution_count": 19,
     "metadata": {},
     "output_type": "execute_result"
    }
   ],
   "source": [
    "data.info['meas_date']\n",
    "meas_date2 = data.info['meas_date'][0] + data.info['meas_date'][1] / 1e6\n",
    "meas_date2, data.info['meas_date']"
   ]
  },
  {
   "cell_type": "code",
   "execution_count": 101,
   "metadata": {},
   "outputs": [
    {
     "name": "stdout",
     "output_type": "stream",
     "text": [
      "Effective window size : 2.004 (s)\n"
     ]
    }
   ],
   "source": [
    "data.plot_psd(fmin=1., fmax =100., tmin=2996, tmax=2998, average=False)\n",
    "plt.savefig('PSD for first two seconds of first seizure')"
   ]
  },
  {
   "cell_type": "code",
   "execution_count": 87,
   "metadata": {},
   "outputs": [
    {
     "name": "stdout",
     "output_type": "stream",
     "text": [
      "Filtering raw data in 1 contiguous segment\n",
      "Setting up band-pass filter from 1 - 40 Hz\n",
      "\n",
      "FIR filter parameters\n",
      "---------------------\n",
      "Designing a one-pass, zero-phase, non-causal bandpass filter:\n",
      "- Windowed time-domain design (firwin) method\n",
      "- Hamming window with 0.0194 passband ripple and 53 dB stopband attenuation\n",
      "- Lower passband edge: 1.00\n",
      "- Lower transition bandwidth: 1.00 Hz (-6 dB cutoff frequency: 0.50 Hz)\n",
      "- Upper passband edge: 40.00 Hz\n",
      "- Upper transition bandwidth: 10.00 Hz (-6 dB cutoff frequency: 45.00 Hz)\n",
      "- Filter length: 845 samples (3.301 sec)\n",
      "\n"
     ]
    }
   ],
   "source": [
    "data = data.filter(1., 40., fir_design='firwin', n_jobs=1)\n",
    "#band pass between 1 Hz and 40Hz (based on scipy.signal)"
   ]
  },
  {
   "cell_type": "code",
   "execution_count": 104,
   "metadata": {},
   "outputs": [
    {
     "name": "stdout",
     "output_type": "stream",
     "text": [
      "Effective window size : 2.004 (s)\n"
     ]
    }
   ],
   "source": [
    "data.plot_psd(fmin=1., fmax =100., tmin=1, tmax=3, average=False)\n",
    "plt.savefig('PSD for the First two seconds of recording')"
   ]
  },
  {
   "cell_type": "code",
   "execution_count": null,
   "metadata": {},
   "outputs": [],
   "source": [
    "mne.viz.plot_events(events, data.info['sfreq'], data.first_samp, event_id=)"
   ]
  },
  {
   "cell_type": "code",
   "execution_count": null,
   "metadata": {},
   "outputs": [],
   "source": [
    "mne.make_fixed_length_events(data, id=1, start=0, stop=None, duration=1.0, first_samp=False, overlap=0.0)"
   ]
  },
  {
   "cell_type": "code",
   "execution_count": null,
   "metadata": {},
   "outputs": [],
   "source": []
  }
 ],
 "metadata": {
  "kernelspec": {
   "display_name": "Python 3",
   "language": "python",
   "name": "python3"
  },
  "language_info": {
   "codemirror_mode": {
    "name": "ipython",
    "version": 3
   },
   "file_extension": ".py",
   "mimetype": "text/x-python",
   "name": "python",
   "nbconvert_exporter": "python",
   "pygments_lexer": "ipython3",
   "version": "3.6.6"
  }
 },
 "nbformat": 4,
 "nbformat_minor": 2
}
