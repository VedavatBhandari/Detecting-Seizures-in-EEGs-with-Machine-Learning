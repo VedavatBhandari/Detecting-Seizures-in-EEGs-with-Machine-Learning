{
 "cells": [
  {
   "cell_type": "code",
   "execution_count": 1,
   "metadata": {},
   "outputs": [
    {
     "name": "stderr",
     "output_type": "stream",
     "text": [
      "Using TensorFlow backend.\n",
      "//anaconda3/lib/python3.6/site-packages/tensorflow/python/framework/dtypes.py:516: FutureWarning: Passing (type, 1) or '1type' as a synonym of type is deprecated; in a future version of numpy, it will be understood as (type, (1,)) / '(1,)type'.\n",
      "  _np_qint8 = np.dtype([(\"qint8\", np.int8, 1)])\n",
      "//anaconda3/lib/python3.6/site-packages/tensorflow/python/framework/dtypes.py:517: FutureWarning: Passing (type, 1) or '1type' as a synonym of type is deprecated; in a future version of numpy, it will be understood as (type, (1,)) / '(1,)type'.\n",
      "  _np_quint8 = np.dtype([(\"quint8\", np.uint8, 1)])\n",
      "//anaconda3/lib/python3.6/site-packages/tensorflow/python/framework/dtypes.py:518: FutureWarning: Passing (type, 1) or '1type' as a synonym of type is deprecated; in a future version of numpy, it will be understood as (type, (1,)) / '(1,)type'.\n",
      "  _np_qint16 = np.dtype([(\"qint16\", np.int16, 1)])\n",
      "//anaconda3/lib/python3.6/site-packages/tensorflow/python/framework/dtypes.py:519: FutureWarning: Passing (type, 1) or '1type' as a synonym of type is deprecated; in a future version of numpy, it will be understood as (type, (1,)) / '(1,)type'.\n",
      "  _np_quint16 = np.dtype([(\"quint16\", np.uint16, 1)])\n",
      "//anaconda3/lib/python3.6/site-packages/tensorflow/python/framework/dtypes.py:520: FutureWarning: Passing (type, 1) or '1type' as a synonym of type is deprecated; in a future version of numpy, it will be understood as (type, (1,)) / '(1,)type'.\n",
      "  _np_qint32 = np.dtype([(\"qint32\", np.int32, 1)])\n",
      "//anaconda3/lib/python3.6/site-packages/tensorflow/python/framework/dtypes.py:525: FutureWarning: Passing (type, 1) or '1type' as a synonym of type is deprecated; in a future version of numpy, it will be understood as (type, (1,)) / '(1,)type'.\n",
      "  np_resource = np.dtype([(\"resource\", np.ubyte, 1)])\n",
      "//anaconda3/lib/python3.6/site-packages/tensorboard/compat/tensorflow_stub/dtypes.py:541: FutureWarning: Passing (type, 1) or '1type' as a synonym of type is deprecated; in a future version of numpy, it will be understood as (type, (1,)) / '(1,)type'.\n",
      "  _np_qint8 = np.dtype([(\"qint8\", np.int8, 1)])\n",
      "//anaconda3/lib/python3.6/site-packages/tensorboard/compat/tensorflow_stub/dtypes.py:542: FutureWarning: Passing (type, 1) or '1type' as a synonym of type is deprecated; in a future version of numpy, it will be understood as (type, (1,)) / '(1,)type'.\n",
      "  _np_quint8 = np.dtype([(\"quint8\", np.uint8, 1)])\n",
      "//anaconda3/lib/python3.6/site-packages/tensorboard/compat/tensorflow_stub/dtypes.py:543: FutureWarning: Passing (type, 1) or '1type' as a synonym of type is deprecated; in a future version of numpy, it will be understood as (type, (1,)) / '(1,)type'.\n",
      "  _np_qint16 = np.dtype([(\"qint16\", np.int16, 1)])\n",
      "//anaconda3/lib/python3.6/site-packages/tensorboard/compat/tensorflow_stub/dtypes.py:544: FutureWarning: Passing (type, 1) or '1type' as a synonym of type is deprecated; in a future version of numpy, it will be understood as (type, (1,)) / '(1,)type'.\n",
      "  _np_quint16 = np.dtype([(\"quint16\", np.uint16, 1)])\n",
      "//anaconda3/lib/python3.6/site-packages/tensorboard/compat/tensorflow_stub/dtypes.py:545: FutureWarning: Passing (type, 1) or '1type' as a synonym of type is deprecated; in a future version of numpy, it will be understood as (type, (1,)) / '(1,)type'.\n",
      "  _np_qint32 = np.dtype([(\"qint32\", np.int32, 1)])\n",
      "//anaconda3/lib/python3.6/site-packages/tensorboard/compat/tensorflow_stub/dtypes.py:550: FutureWarning: Passing (type, 1) or '1type' as a synonym of type is deprecated; in a future version of numpy, it will be understood as (type, (1,)) / '(1,)type'.\n",
      "  np_resource = np.dtype([(\"resource\", np.ubyte, 1)])\n"
     ]
    }
   ],
   "source": [
    "import matplotlib.pyplot as plt\n",
    "# %matplotlib inline\n",
    "\n",
    "plt.style.use('ggplot')\n",
    "import mne\n",
    "import pandas as pd\n",
    "from mne.channels.montage import get_builtin_montages\n",
    "import numpy as np\n",
    "import sys\n",
    "from datetime import time\n",
    "from datetime import datetime \n",
    "\n",
    "from sklearn.ensemble import RandomForestClassifier\n",
    "from sklearn.metrics import accuracy_score\n",
    "from sklearn.metrics import confusion_matrix\n",
    "from sklearn.metrics import classification_report\n",
    "from sklearn.pipeline import make_pipeline\n",
    "from sklearn.preprocessing import FunctionTransformer\n",
    "from mne.time_frequency import psd_array_welch\n",
    "from mne.time_frequency import psd_welch\n",
    "\n",
    "\n",
    "\n",
    "import mne\n",
    "from mne.datasets.sleep_physionet.age import fetch_data\n",
    "from mne.time_frequency import psd_welch\n",
    "\n",
    "\n",
    "from sklearn.model_selection import GridSearchCV, StratifiedKFold\n",
    "from sklearn.metrics import roc_curve, precision_recall_curve, auc, make_scorer, recall_score, accuracy_score, precision_score, confusion_matrix\n",
    "\n",
    "import matplotlib.pyplot as plt\n",
    "plt.style.use(\"ggplot\")\n",
    "\n",
    "from mne import io, EvokedArray\n",
    "from mne.decoding import Vectorizer, get_coef\n",
    "from mne.decoding import SlidingEstimator, cross_val_multiscore\n",
    "\n",
    "from imblearn.ensemble import BalancedRandomForestClassifier\n",
    "\n",
    "\n",
    "from sklearn.ensemble import GradientBoostingClassifier\n",
    "from sklearn.ensemble import RandomForestClassifier\n",
    "from sklearn.utils import resample, shuffle\n",
    "\n",
    "from sklearn.metrics import confusion_matrix, accuracy_score, f1_score, recall_score, precision_score, classification_report\n",
    "from sklearn.preprocessing import StandardScaler\n",
    "from sklearn.metrics import roc_curve, auc, precision_recall_curve\n",
    "from sklearn.linear_model import LogisticRegression\n",
    "from sklearn.pipeline import make_pipeline\n",
    "from sklearn.model_selection import cross_val_score, cross_validate\n",
    "\n",
    "\n",
    "\n",
    "# import a linear classifier from mne.decoding\n",
    "from mne.decoding import LinearModel"
   ]
  },
  {
   "cell_type": "code",
   "execution_count": 3,
   "metadata": {},
   "outputs": [],
   "source": [
    "def get_records_lists():\n",
    "    \n",
    "    records_loc_lst = []\n",
    "    with open('chb-mit-scalp-eeg-database-1.0.0/RECORDS') as f:\n",
    "        line_list = f.read().splitlines()\n",
    "        for elem in line_list:\n",
    "            if len(elem) > 1:\n",
    "                records_loc_lst.append(elem)\n",
    "            \n",
    "            \n",
    "    records_w_seizures = []\n",
    "    with open('chb-mit-scalp-eeg-database-1.0.0/RECORDS-WITH-SEIZURES') as f:\n",
    "        line_list = f.readlines()\n",
    "        for elem in line_list:\n",
    "            if len(elem) > 1:\n",
    "                records_w_seizures.append(elem.split(\"/\")[1].split('.')[0])\n",
    "    records_w_seizures[34] = 'chb07_19'            \n",
    "\n",
    "    records_lst = []\n",
    "    for rec in records_loc_lst:\n",
    "        rec_name = rec.split('/')[1].split('.')[0]\n",
    "        records_lst.append(rec_name)\n",
    "\n",
    "    return    records_loc_lst, records_w_seizures, records_lst "
   ]
  },
  {
   "cell_type": "code",
   "execution_count": 4,
   "metadata": {},
   "outputs": [],
   "source": [
    "recs_l, rec_wsl, rec_wos = get_records_lists()"
   ]
  },
  {
   "cell_type": "code",
   "execution_count": 5,
   "metadata": {},
   "outputs": [],
   "source": [
    "def get_seizures_dictionary():\n",
    "\n",
    "    d = {}\n",
    "    with open('seizures.txt') as f:\n",
    "        line_list = f.readlines()\n",
    "        for elem in line_list:\n",
    "            if elem[0:9] == 'File Name':\n",
    "                elem2 = elem.split(\":\")[1]\n",
    "                fn = elem2.split(\".\")[0].strip()\n",
    "                d[fn]={}\n",
    "                \n",
    "            if elem[0:26] == 'Number of Seizures in File':\n",
    "                numb = int(elem.split(\":\")[1])\n",
    "                d[fn]['Number of Seizures in File'] = numb\n",
    "                \n",
    "            \n",
    "            if (elem[0:18]   ==  'Seizure Start Time') or (elem[0:20]   ==  'Seizure 1 Start Time'):\n",
    "                    elem2 = elem.split(\":\")[1]\n",
    "                    elem3 = int(elem2.split()[0])\n",
    "                    d[fn]['Seizure 1 Start Time'] = elem3\n",
    "\n",
    "\n",
    "            if (elem[0:16]   ==  'Seizure End Time') or (elem[0:18]   ==  'Seizure 1 End Time'):\n",
    "                    elem2 = elem.split(\":\")[1]\n",
    "                    elem3 = int(elem2.split()[0])\n",
    "                    d[fn]['Seizure 1 End Time'] = elem3\n",
    "                    d[fn]['Seizure 1 Duration'] = elem3 - d[fn]['Seizure 1 Start Time']    \n",
    "\n",
    "\n",
    "            if elem[0:20]   ==  'Seizure 2 Start Time':\n",
    "                elem2 = elem.split(\":\")[1]\n",
    "                elem3 = int(elem2.split()[0])\n",
    "                d[fn]['Seizure 2 Start Time'] = elem3\n",
    "\n",
    "\n",
    "            if elem[0:18]   ==  'Seizure 2 End Time':\n",
    "                elem2 = elem.split(\":\")[1]\n",
    "                elem3 = int(elem2.split()[0])\n",
    "                d[fn]['Seizure 2 End Time'] = elem3\n",
    "                d[fn]['Seizure 2 Duration'] = elem3 - d[fn]['Seizure 2 Start Time']  \n",
    "\n",
    "            if elem[0:20]   ==  'Seizure 3 Start Time':\n",
    "                elem2 = elem.split(\":\")[1]\n",
    "                elem3 = int(elem2.split()[0])\n",
    "                d[fn]['Seizure 3 Start Time'] = elem3\n",
    "\n",
    "\n",
    "            if elem[0:18]   ==  'Seizure 3 End Time':\n",
    "                elem2 = elem.split(\":\")[1]\n",
    "                elem3 = int(elem2.split()[0])\n",
    "                d[fn]['Seizure 3 End Time'] = elem3\n",
    "                d[fn]['Seizure 3 Duration'] = elem3 - d[fn]['Seizure 3 Start Time']  \n",
    "\n",
    "            if elem[0:20]   ==  'Seizure 4 Start Time':\n",
    "                elem2 = elem.split(\":\")[1]\n",
    "                elem3 = int(elem2.split()[0])\n",
    "                d[fn]['Seizure 4 Start Time'] = elem3\n",
    "\n",
    "\n",
    "            if elem[0:18]   ==  'Seizure 4 End Time':\n",
    "                elem2 = elem.split(\":\")[1]\n",
    "                elem3 = int(elem2.split()[0])\n",
    "                d[fn]['Seizure 4 End Time'] = elem3\n",
    "                d[fn]['Seizure 4 Duration'] = elem3 - d[fn]['Seizure 4 Start Time']   \n",
    "\n",
    "\n",
    "            if elem[0:20]   ==  'Seizure 5 Start Time':\n",
    "                elem2 = elem.split(\":\")[1]\n",
    "                elem3 = int(elem2.split()[0])\n",
    "                d[fn]['Seizure 5 Start Time'] = elem3\n",
    "\n",
    "\n",
    "            if elem[0:18]   ==  'Seizure 5 End Time':\n",
    "                elem2 = elem.split(\":\")[1]\n",
    "                elem3 = int(elem2.split()[0])\n",
    "                d[fn]['Seizure 5 End Time'] = elem3\n",
    "                d[fn]['Seizure 5 Duration'] = elem3 - d[fn]['Seizure 5 Start Time'] \n",
    "            \n",
    "    return d "
   ]
  },
  {
   "cell_type": "code",
   "execution_count": 6,
   "metadata": {},
   "outputs": [],
   "source": [
    "d = get_seizures_dictionary()"
   ]
  },
  {
   "cell_type": "code",
   "execution_count": 7,
   "metadata": {},
   "outputs": [],
   "source": [
    "def make_annotations_dict(d):\n",
    "    import mne\n",
    "\n",
    "    anno_nm_lst = [n for n in range(138)]\n",
    "    anno_lst = [n for n in range(138)]\n",
    "    idx = 0\n",
    "    for elem in d.keys():\n",
    "        \n",
    "        df = d[elem]\n",
    "        numb = df[list(df)[0]]\n",
    "        duration = [df[list(df)[i]] for i in range(3, df[list(df)[0]]*3 + 1, 3)]\n",
    "        onset = [df[list(df)[i]] for i in range(1, 3*numb + 1, 3)]\n",
    "        description1=['Seizure']*numb\n",
    "        onset3 = [0.0]\n",
    "        onset2 = [onset[i] + duration[i] for i in range(numb)]\n",
    "        onset2 = onset3 + onset2\n",
    "        duree = [onset[i] - onset2[i] for i in range(numb)]    \n",
    "\n",
    "        duration2 = [df[list(df)[-1]] - onset2[-1]]\n",
    "        \n",
    "        \n",
    "        description2 = ['Nonseizure']*(numb + 1)\n",
    "        onset = onset2 + onset\n",
    "        duration = duree + duration2 + duration\n",
    "        \n",
    "        description = description2 + description1\n",
    "\n",
    "        \n",
    "        anno = elem \n",
    "        \n",
    "        anno_nm_lst[idx] = anno\n",
    "        anno = mne.Annotations(onset=onset,\n",
    "                                duration=duration,\n",
    "                                description=description)\n",
    "\n",
    "        \n",
    "        \n",
    "        anno_lst[idx] = anno\n",
    "        idx += 1\n",
    "\n",
    "    annotations_dict = {anno_nm_lst[i]: anno_lst[i] for i in range(138)}\n",
    "\n",
    "    return annotations_dict"
   ]
  },
  {
   "cell_type": "code",
   "execution_count": 8,
   "metadata": {},
   "outputs": [],
   "source": [
    "annotations_dict = make_annotations_dict(d)"
   ]
  },
  {
   "cell_type": "code",
   "execution_count": 8,
   "metadata": {},
   "outputs": [],
   "source": [
    "def transform_raw_data_channelchanges(subject='chb03', annotations_dict=annotations_dict):\n",
    "    import numpy as np\n",
    "    import mne\n",
    "    from mne.channels.montage import get_builtin_montages\n",
    "    fif_lst = []\n",
    "    for rec in recs_l:\n",
    "\n",
    "        if rec[0:5] == subject:\n",
    "                data_path = ''\n",
    "                fname = data_path + rec\n",
    "                data = mne.io.read_raw_edf(fname, preload=True)\n",
    "                data = data.filter(1., 40., fir_design='firwin', n_jobs=1)\n",
    "                info = data.info\n",
    "                \n",
    "#                 info['ch_names'] = ['AF7', 'FT7', 'TP7', 'PO7', 'AF3', 'FC3', 'CP3', 'PO3', 'AF4', 'FC4', 'CP4', 'PO4', 'AF8', 'FT8', 'TP8', 'PO8', 'FCz', 'CPz', 'T7', 'FT9', 'FT10', 'T8', 'TP8-1']\n",
    "#                 numbs1 = [1, 2, 3, 4, 6, 7, 8, 9, 11, 12, 14, 15, 16, 17, 19, 20, 21, 22, 24, 25, 26, 27, 28] \n",
    "\n",
    "#                 numbs1n = [num-1 for num in numbs1]\n",
    "                \n",
    "#                 for j in range(len(numbs1n)):\n",
    "#                     info['chs'][numbs1n[j]]['ch_name'] = info['ch_names'][j]\n",
    "                    \n",
    "#                 montage = mne.channels.read_montage(\"standard_1020\")\n",
    "#                 data.set_montage(montage)    \n",
    "                    \n",
    "                rec_name = rec.split('/')[1].split('.')[0]\n",
    "                if rec_name in annotations_dict:\n",
    "                    anno = annotations_dict[rec_name]\n",
    "                    data.set_annotations(anno)\n",
    "            \n",
    "                    event_id = dict(Seizure=1, Nonseizure=0)\n",
    "                    events_from_annot, event_dict = mne.events_from_annotations(data, chunk_duration=1)\n",
    "                    \n",
    "                    \n",
    "                if rec_name not in annotations_dict:\n",
    "                    events = mne.make_fixed_length_events(data, id=0, start=0, stop=None, duration=1.0, first_samp=True, overlap=0.0)\n",
    "                    \n",
    "                    \n",
    "                    mapping = {0: 'Nonseizure', 1: 'Seizure'}\n",
    "                    onsets = events[:, 0] / data.info['sfreq']\n",
    "                    durations = np.ones_like(onsets)  # assumes instantaneous events\n",
    "                    descriptions = [mapping[event_id] for event_id in events[:, 2]]\n",
    "                    annot_from_events = mne.Annotations(onset=onsets, duration=durations,\n",
    "                                                        description=descriptions)\n",
    "                    data.set_annotations(annot_from_events)    \n",
    "                    \n",
    "                \n",
    "                \n",
    "                \n",
    "        \n",
    "                fif = '_raw.fif'\n",
    "                file_nm = rec_name + fif\n",
    "                fif_lst.append(file_nm)\n",
    "                file_nm = 'fif' + subject[3:5] + '/' + file_nm\n",
    "                data.save(file_nm, fmt='single')\n",
    "        \n",
    "    return fif_lst "
   ]
  },
  {
   "cell_type": "code",
   "execution_count": 24,
   "metadata": {},
   "outputs": [
    {
     "name": "stdout",
     "output_type": "stream",
     "text": [
      "Extracting EDF parameters from /home/ubuntu/chb21/chb21_01.edf...\n",
      "EDF file detected\n",
      "Setting channel info structure...\n",
      "Creating raw.info structure...\n",
      "Reading 0 ... 921599  =      0.000 ...  3599.996 secs...\n",
      "Filtering raw data in 1 contiguous segment\n",
      "Setting up band-pass filter from 1 - 40 Hz\n",
      "\n",
      "FIR filter parameters\n",
      "---------------------\n",
      "Designing a one-pass, zero-phase, non-causal bandpass filter:\n",
      "- Windowed time-domain design (firwin) method\n",
      "- Hamming window with 0.0194 passband ripple and 53 dB stopband attenuation\n",
      "- Lower passband edge: 1.00\n",
      "- Lower transition bandwidth: 1.00 Hz (-6 dB cutoff frequency: 0.50 Hz)\n",
      "- Upper passband edge: 40.00 Hz\n",
      "- Upper transition bandwidth: 10.00 Hz (-6 dB cutoff frequency: 45.00 Hz)\n",
      "- Filter length: 845 samples (3.301 sec)\n",
      "\n"
     ]
    },
    {
     "name": "stderr",
     "output_type": "stream",
     "text": [
      "<ipython-input-23-9b3b3297d477>:11: RuntimeWarning: Channel names are not unique, found duplicates for: {'T8-P8', '-'}. Applying running numbers for duplicates.\n",
      "  data = mne.io.read_raw_edf(fname, preload=True)\n",
      "<ipython-input-23-9b3b3297d477>:11: RuntimeWarning: Scaling factor is not defined in following channels:\n",
      "--0, --1, --2, --3, --4\n",
      "  data = mne.io.read_raw_edf(fname, preload=True)\n"
     ]
    },
    {
     "name": "stdout",
     "output_type": "stream",
     "text": [
      "Writing /home/ubuntu/fif21/chb21_01_raw.fif\n",
      "Closing /home/ubuntu/fif21/chb21_01_raw.fif [done]\n",
      "Extracting EDF parameters from /home/ubuntu/chb21/chb21_02.edf...\n",
      "EDF file detected\n",
      "Setting channel info structure...\n",
      "Creating raw.info structure...\n",
      "Reading 0 ... 921599  =      0.000 ...  3599.996 secs...\n",
      "Filtering raw data in 1 contiguous segment\n",
      "Setting up band-pass filter from 1 - 40 Hz\n",
      "\n",
      "FIR filter parameters\n",
      "---------------------\n",
      "Designing a one-pass, zero-phase, non-causal bandpass filter:\n",
      "- Windowed time-domain design (firwin) method\n",
      "- Hamming window with 0.0194 passband ripple and 53 dB stopband attenuation\n",
      "- Lower passband edge: 1.00\n",
      "- Lower transition bandwidth: 1.00 Hz (-6 dB cutoff frequency: 0.50 Hz)\n",
      "- Upper passband edge: 40.00 Hz\n",
      "- Upper transition bandwidth: 10.00 Hz (-6 dB cutoff frequency: 45.00 Hz)\n",
      "- Filter length: 845 samples (3.301 sec)\n",
      "\n"
     ]
    },
    {
     "name": "stderr",
     "output_type": "stream",
     "text": [
      "<ipython-input-23-9b3b3297d477>:11: RuntimeWarning: Channel names are not unique, found duplicates for: {'T8-P8', '-'}. Applying running numbers for duplicates.\n",
      "  data = mne.io.read_raw_edf(fname, preload=True)\n",
      "<ipython-input-23-9b3b3297d477>:11: RuntimeWarning: Scaling factor is not defined in following channels:\n",
      "--0, --1, --2, --3, --4\n",
      "  data = mne.io.read_raw_edf(fname, preload=True)\n"
     ]
    },
    {
     "name": "stdout",
     "output_type": "stream",
     "text": [
      "Writing /home/ubuntu/fif21/chb21_02_raw.fif\n",
      "Closing /home/ubuntu/fif21/chb21_02_raw.fif [done]\n",
      "Extracting EDF parameters from /home/ubuntu/chb21/chb21_03.edf...\n",
      "EDF file detected\n",
      "Setting channel info structure...\n",
      "Creating raw.info structure...\n",
      "Reading 0 ... 921599  =      0.000 ...  3599.996 secs...\n",
      "Filtering raw data in 1 contiguous segment\n",
      "Setting up band-pass filter from 1 - 40 Hz\n",
      "\n",
      "FIR filter parameters\n",
      "---------------------\n",
      "Designing a one-pass, zero-phase, non-causal bandpass filter:\n",
      "- Windowed time-domain design (firwin) method\n",
      "- Hamming window with 0.0194 passband ripple and 53 dB stopband attenuation\n",
      "- Lower passband edge: 1.00\n",
      "- Lower transition bandwidth: 1.00 Hz (-6 dB cutoff frequency: 0.50 Hz)\n",
      "- Upper passband edge: 40.00 Hz\n",
      "- Upper transition bandwidth: 10.00 Hz (-6 dB cutoff frequency: 45.00 Hz)\n",
      "- Filter length: 845 samples (3.301 sec)\n",
      "\n"
     ]
    },
    {
     "name": "stderr",
     "output_type": "stream",
     "text": [
      "<ipython-input-23-9b3b3297d477>:11: RuntimeWarning: Channel names are not unique, found duplicates for: {'T8-P8', '-'}. Applying running numbers for duplicates.\n",
      "  data = mne.io.read_raw_edf(fname, preload=True)\n",
      "<ipython-input-23-9b3b3297d477>:11: RuntimeWarning: Scaling factor is not defined in following channels:\n",
      "--0, --1, --2, --3, --4\n",
      "  data = mne.io.read_raw_edf(fname, preload=True)\n"
     ]
    },
    {
     "name": "stdout",
     "output_type": "stream",
     "text": [
      "Writing /home/ubuntu/fif21/chb21_03_raw.fif\n",
      "Closing /home/ubuntu/fif21/chb21_03_raw.fif [done]\n",
      "Extracting EDF parameters from /home/ubuntu/chb21/chb21_04.edf...\n",
      "EDF file detected\n",
      "Setting channel info structure...\n",
      "Creating raw.info structure...\n",
      "Reading 0 ... 921599  =      0.000 ...  3599.996 secs...\n",
      "Filtering raw data in 1 contiguous segment\n",
      "Setting up band-pass filter from 1 - 40 Hz\n",
      "\n",
      "FIR filter parameters\n",
      "---------------------\n",
      "Designing a one-pass, zero-phase, non-causal bandpass filter:\n",
      "- Windowed time-domain design (firwin) method\n",
      "- Hamming window with 0.0194 passband ripple and 53 dB stopband attenuation\n",
      "- Lower passband edge: 1.00\n",
      "- Lower transition bandwidth: 1.00 Hz (-6 dB cutoff frequency: 0.50 Hz)\n",
      "- Upper passband edge: 40.00 Hz\n",
      "- Upper transition bandwidth: 10.00 Hz (-6 dB cutoff frequency: 45.00 Hz)\n",
      "- Filter length: 845 samples (3.301 sec)\n",
      "\n"
     ]
    },
    {
     "name": "stderr",
     "output_type": "stream",
     "text": [
      "<ipython-input-23-9b3b3297d477>:11: RuntimeWarning: Channel names are not unique, found duplicates for: {'T8-P8', '-'}. Applying running numbers for duplicates.\n",
      "  data = mne.io.read_raw_edf(fname, preload=True)\n",
      "<ipython-input-23-9b3b3297d477>:11: RuntimeWarning: Scaling factor is not defined in following channels:\n",
      "--0, --1, --2, --3, --4\n",
      "  data = mne.io.read_raw_edf(fname, preload=True)\n"
     ]
    },
    {
     "name": "stdout",
     "output_type": "stream",
     "text": [
      "Writing /home/ubuntu/fif21/chb21_04_raw.fif\n",
      "Closing /home/ubuntu/fif21/chb21_04_raw.fif [done]\n",
      "Extracting EDF parameters from /home/ubuntu/chb21/chb21_05.edf...\n",
      "EDF file detected\n",
      "Setting channel info structure...\n",
      "Creating raw.info structure...\n",
      "Reading 0 ... 921599  =      0.000 ...  3599.996 secs...\n",
      "Filtering raw data in 1 contiguous segment\n",
      "Setting up band-pass filter from 1 - 40 Hz\n",
      "\n",
      "FIR filter parameters\n",
      "---------------------\n",
      "Designing a one-pass, zero-phase, non-causal bandpass filter:\n",
      "- Windowed time-domain design (firwin) method\n",
      "- Hamming window with 0.0194 passband ripple and 53 dB stopband attenuation\n",
      "- Lower passband edge: 1.00\n",
      "- Lower transition bandwidth: 1.00 Hz (-6 dB cutoff frequency: 0.50 Hz)\n",
      "- Upper passband edge: 40.00 Hz\n",
      "- Upper transition bandwidth: 10.00 Hz (-6 dB cutoff frequency: 45.00 Hz)\n",
      "- Filter length: 845 samples (3.301 sec)\n",
      "\n"
     ]
    },
    {
     "name": "stderr",
     "output_type": "stream",
     "text": [
      "<ipython-input-23-9b3b3297d477>:11: RuntimeWarning: Channel names are not unique, found duplicates for: {'T8-P8', '-'}. Applying running numbers for duplicates.\n",
      "  data = mne.io.read_raw_edf(fname, preload=True)\n",
      "<ipython-input-23-9b3b3297d477>:11: RuntimeWarning: Scaling factor is not defined in following channels:\n",
      "--0, --1, --2, --3, --4\n",
      "  data = mne.io.read_raw_edf(fname, preload=True)\n"
     ]
    },
    {
     "name": "stdout",
     "output_type": "stream",
     "text": [
      "Writing /home/ubuntu/fif21/chb21_05_raw.fif\n",
      "Closing /home/ubuntu/fif21/chb21_05_raw.fif [done]\n",
      "Extracting EDF parameters from /home/ubuntu/chb21/chb21_06.edf...\n",
      "EDF file detected\n",
      "Setting channel info structure...\n",
      "Creating raw.info structure...\n",
      "Reading 0 ... 921599  =      0.000 ...  3599.996 secs...\n",
      "Filtering raw data in 1 contiguous segment\n",
      "Setting up band-pass filter from 1 - 40 Hz\n",
      "\n",
      "FIR filter parameters\n",
      "---------------------\n",
      "Designing a one-pass, zero-phase, non-causal bandpass filter:\n",
      "- Windowed time-domain design (firwin) method\n",
      "- Hamming window with 0.0194 passband ripple and 53 dB stopband attenuation\n",
      "- Lower passband edge: 1.00\n",
      "- Lower transition bandwidth: 1.00 Hz (-6 dB cutoff frequency: 0.50 Hz)\n",
      "- Upper passband edge: 40.00 Hz\n",
      "- Upper transition bandwidth: 10.00 Hz (-6 dB cutoff frequency: 45.00 Hz)\n",
      "- Filter length: 845 samples (3.301 sec)\n",
      "\n"
     ]
    },
    {
     "name": "stderr",
     "output_type": "stream",
     "text": [
      "<ipython-input-23-9b3b3297d477>:11: RuntimeWarning: Channel names are not unique, found duplicates for: {'T8-P8', '-'}. Applying running numbers for duplicates.\n",
      "  data = mne.io.read_raw_edf(fname, preload=True)\n",
      "<ipython-input-23-9b3b3297d477>:11: RuntimeWarning: Scaling factor is not defined in following channels:\n",
      "--0, --1, --2, --3, --4\n",
      "  data = mne.io.read_raw_edf(fname, preload=True)\n"
     ]
    },
    {
     "name": "stdout",
     "output_type": "stream",
     "text": [
      "Writing /home/ubuntu/fif21/chb21_06_raw.fif\n",
      "Closing /home/ubuntu/fif21/chb21_06_raw.fif [done]\n",
      "Extracting EDF parameters from /home/ubuntu/chb21/chb21_07.edf...\n",
      "EDF file detected\n",
      "Setting channel info structure...\n",
      "Creating raw.info structure...\n",
      "Reading 0 ... 921599  =      0.000 ...  3599.996 secs...\n",
      "Filtering raw data in 1 contiguous segment\n",
      "Setting up band-pass filter from 1 - 40 Hz\n",
      "\n",
      "FIR filter parameters\n",
      "---------------------\n",
      "Designing a one-pass, zero-phase, non-causal bandpass filter:\n",
      "- Windowed time-domain design (firwin) method\n",
      "- Hamming window with 0.0194 passband ripple and 53 dB stopband attenuation\n",
      "- Lower passband edge: 1.00\n",
      "- Lower transition bandwidth: 1.00 Hz (-6 dB cutoff frequency: 0.50 Hz)\n",
      "- Upper passband edge: 40.00 Hz\n",
      "- Upper transition bandwidth: 10.00 Hz (-6 dB cutoff frequency: 45.00 Hz)\n",
      "- Filter length: 845 samples (3.301 sec)\n",
      "\n"
     ]
    },
    {
     "name": "stderr",
     "output_type": "stream",
     "text": [
      "<ipython-input-23-9b3b3297d477>:11: RuntimeWarning: Channel names are not unique, found duplicates for: {'T8-P8', '-'}. Applying running numbers for duplicates.\n",
      "  data = mne.io.read_raw_edf(fname, preload=True)\n",
      "<ipython-input-23-9b3b3297d477>:11: RuntimeWarning: Scaling factor is not defined in following channels:\n",
      "--0, --1, --2, --3, --4\n",
      "  data = mne.io.read_raw_edf(fname, preload=True)\n"
     ]
    },
    {
     "name": "stdout",
     "output_type": "stream",
     "text": [
      "Writing /home/ubuntu/fif21/chb21_07_raw.fif\n",
      "Closing /home/ubuntu/fif21/chb21_07_raw.fif [done]\n",
      "Extracting EDF parameters from /home/ubuntu/chb21/chb21_08.edf...\n",
      "EDF file detected\n",
      "Setting channel info structure...\n",
      "Creating raw.info structure...\n",
      "Reading 0 ... 921599  =      0.000 ...  3599.996 secs...\n",
      "Filtering raw data in 1 contiguous segment\n",
      "Setting up band-pass filter from 1 - 40 Hz\n",
      "\n",
      "FIR filter parameters\n",
      "---------------------\n",
      "Designing a one-pass, zero-phase, non-causal bandpass filter:\n",
      "- Windowed time-domain design (firwin) method\n",
      "- Hamming window with 0.0194 passband ripple and 53 dB stopband attenuation\n",
      "- Lower passband edge: 1.00\n",
      "- Lower transition bandwidth: 1.00 Hz (-6 dB cutoff frequency: 0.50 Hz)\n",
      "- Upper passband edge: 40.00 Hz\n",
      "- Upper transition bandwidth: 10.00 Hz (-6 dB cutoff frequency: 45.00 Hz)\n",
      "- Filter length: 845 samples (3.301 sec)\n",
      "\n"
     ]
    },
    {
     "name": "stderr",
     "output_type": "stream",
     "text": [
      "<ipython-input-23-9b3b3297d477>:11: RuntimeWarning: Channel names are not unique, found duplicates for: {'T8-P8', '-'}. Applying running numbers for duplicates.\n",
      "  data = mne.io.read_raw_edf(fname, preload=True)\n",
      "<ipython-input-23-9b3b3297d477>:11: RuntimeWarning: Scaling factor is not defined in following channels:\n",
      "--0, --1, --2, --3, --4\n",
      "  data = mne.io.read_raw_edf(fname, preload=True)\n"
     ]
    },
    {
     "name": "stdout",
     "output_type": "stream",
     "text": [
      "Writing /home/ubuntu/fif21/chb21_08_raw.fif\n",
      "Closing /home/ubuntu/fif21/chb21_08_raw.fif [done]\n",
      "Extracting EDF parameters from /home/ubuntu/chb21/chb21_09.edf...\n",
      "EDF file detected\n",
      "Setting channel info structure...\n",
      "Creating raw.info structure...\n",
      "Reading 0 ... 921599  =      0.000 ...  3599.996 secs...\n",
      "Filtering raw data in 1 contiguous segment\n",
      "Setting up band-pass filter from 1 - 40 Hz\n",
      "\n",
      "FIR filter parameters\n",
      "---------------------\n",
      "Designing a one-pass, zero-phase, non-causal bandpass filter:\n",
      "- Windowed time-domain design (firwin) method\n",
      "- Hamming window with 0.0194 passband ripple and 53 dB stopband attenuation\n",
      "- Lower passband edge: 1.00\n",
      "- Lower transition bandwidth: 1.00 Hz (-6 dB cutoff frequency: 0.50 Hz)\n",
      "- Upper passband edge: 40.00 Hz\n",
      "- Upper transition bandwidth: 10.00 Hz (-6 dB cutoff frequency: 45.00 Hz)\n",
      "- Filter length: 845 samples (3.301 sec)\n",
      "\n"
     ]
    },
    {
     "name": "stderr",
     "output_type": "stream",
     "text": [
      "<ipython-input-23-9b3b3297d477>:11: RuntimeWarning: Channel names are not unique, found duplicates for: {'T8-P8', '-'}. Applying running numbers for duplicates.\n",
      "  data = mne.io.read_raw_edf(fname, preload=True)\n",
      "<ipython-input-23-9b3b3297d477>:11: RuntimeWarning: Scaling factor is not defined in following channels:\n",
      "--0, --1, --2, --3, --4\n",
      "  data = mne.io.read_raw_edf(fname, preload=True)\n"
     ]
    },
    {
     "name": "stdout",
     "output_type": "stream",
     "text": [
      "Writing /home/ubuntu/fif21/chb21_09_raw.fif\n",
      "Closing /home/ubuntu/fif21/chb21_09_raw.fif [done]\n",
      "Extracting EDF parameters from /home/ubuntu/chb21/chb21_10.edf...\n",
      "EDF file detected\n",
      "Setting channel info structure...\n",
      "Creating raw.info structure...\n",
      "Reading 0 ... 921599  =      0.000 ...  3599.996 secs...\n",
      "Filtering raw data in 1 contiguous segment\n",
      "Setting up band-pass filter from 1 - 40 Hz\n",
      "\n",
      "FIR filter parameters\n",
      "---------------------\n",
      "Designing a one-pass, zero-phase, non-causal bandpass filter:\n",
      "- Windowed time-domain design (firwin) method\n",
      "- Hamming window with 0.0194 passband ripple and 53 dB stopband attenuation\n",
      "- Lower passband edge: 1.00\n",
      "- Lower transition bandwidth: 1.00 Hz (-6 dB cutoff frequency: 0.50 Hz)\n",
      "- Upper passband edge: 40.00 Hz\n",
      "- Upper transition bandwidth: 10.00 Hz (-6 dB cutoff frequency: 45.00 Hz)\n",
      "- Filter length: 845 samples (3.301 sec)\n",
      "\n"
     ]
    },
    {
     "name": "stderr",
     "output_type": "stream",
     "text": [
      "<ipython-input-23-9b3b3297d477>:11: RuntimeWarning: Channel names are not unique, found duplicates for: {'T8-P8', '-'}. Applying running numbers for duplicates.\n",
      "  data = mne.io.read_raw_edf(fname, preload=True)\n",
      "<ipython-input-23-9b3b3297d477>:11: RuntimeWarning: Scaling factor is not defined in following channels:\n",
      "--0, --1, --2, --3, --4\n",
      "  data = mne.io.read_raw_edf(fname, preload=True)\n"
     ]
    },
    {
     "name": "stdout",
     "output_type": "stream",
     "text": [
      "Writing /home/ubuntu/fif21/chb21_10_raw.fif\n",
      "Closing /home/ubuntu/fif21/chb21_10_raw.fif [done]\n",
      "Extracting EDF parameters from /home/ubuntu/chb21/chb21_11.edf...\n",
      "EDF file detected\n",
      "Setting channel info structure...\n",
      "Creating raw.info structure...\n",
      "Reading 0 ... 921599  =      0.000 ...  3599.996 secs...\n"
     ]
    },
    {
     "name": "stderr",
     "output_type": "stream",
     "text": [
      "<ipython-input-23-9b3b3297d477>:11: RuntimeWarning: Channel names are not unique, found duplicates for: {'T8-P8', '-'}. Applying running numbers for duplicates.\n",
      "  data = mne.io.read_raw_edf(fname, preload=True)\n",
      "<ipython-input-23-9b3b3297d477>:11: RuntimeWarning: Scaling factor is not defined in following channels:\n",
      "--0, --1, --2, --3, --4\n",
      "  data = mne.io.read_raw_edf(fname, preload=True)\n"
     ]
    },
    {
     "name": "stdout",
     "output_type": "stream",
     "text": [
      "Filtering raw data in 1 contiguous segment\n",
      "Setting up band-pass filter from 1 - 40 Hz\n",
      "\n",
      "FIR filter parameters\n",
      "---------------------\n",
      "Designing a one-pass, zero-phase, non-causal bandpass filter:\n",
      "- Windowed time-domain design (firwin) method\n",
      "- Hamming window with 0.0194 passband ripple and 53 dB stopband attenuation\n",
      "- Lower passband edge: 1.00\n",
      "- Lower transition bandwidth: 1.00 Hz (-6 dB cutoff frequency: 0.50 Hz)\n",
      "- Upper passband edge: 40.00 Hz\n",
      "- Upper transition bandwidth: 10.00 Hz (-6 dB cutoff frequency: 45.00 Hz)\n",
      "- Filter length: 845 samples (3.301 sec)\n",
      "\n",
      "Writing /home/ubuntu/fif21/chb21_11_raw.fif\n",
      "Closing /home/ubuntu/fif21/chb21_11_raw.fif [done]\n",
      "Extracting EDF parameters from /home/ubuntu/chb21/chb21_12.edf...\n",
      "EDF file detected\n",
      "Setting channel info structure...\n",
      "Creating raw.info structure...\n",
      "Reading 0 ... 921599  =      0.000 ...  3599.996 secs...\n",
      "Filtering raw data in 1 contiguous segment\n",
      "Setting up band-pass filter from 1 - 40 Hz\n"
     ]
    },
    {
     "name": "stderr",
     "output_type": "stream",
     "text": [
      "<ipython-input-23-9b3b3297d477>:11: RuntimeWarning: Channel names are not unique, found duplicates for: {'T8-P8', '-'}. Applying running numbers for duplicates.\n",
      "  data = mne.io.read_raw_edf(fname, preload=True)\n",
      "<ipython-input-23-9b3b3297d477>:11: RuntimeWarning: Scaling factor is not defined in following channels:\n",
      "--0, --1, --2, --3, --4\n",
      "  data = mne.io.read_raw_edf(fname, preload=True)\n"
     ]
    },
    {
     "name": "stdout",
     "output_type": "stream",
     "text": [
      "\n",
      "FIR filter parameters\n",
      "---------------------\n",
      "Designing a one-pass, zero-phase, non-causal bandpass filter:\n",
      "- Windowed time-domain design (firwin) method\n",
      "- Hamming window with 0.0194 passband ripple and 53 dB stopband attenuation\n",
      "- Lower passband edge: 1.00\n",
      "- Lower transition bandwidth: 1.00 Hz (-6 dB cutoff frequency: 0.50 Hz)\n",
      "- Upper passband edge: 40.00 Hz\n",
      "- Upper transition bandwidth: 10.00 Hz (-6 dB cutoff frequency: 45.00 Hz)\n",
      "- Filter length: 845 samples (3.301 sec)\n",
      "\n",
      "Writing /home/ubuntu/fif21/chb21_12_raw.fif\n",
      "Closing /home/ubuntu/fif21/chb21_12_raw.fif [done]\n",
      "Extracting EDF parameters from /home/ubuntu/chb21/chb21_13.edf...\n",
      "EDF file detected\n",
      "Setting channel info structure...\n",
      "Creating raw.info structure...\n",
      "Reading 0 ... 921599  =      0.000 ...  3599.996 secs...\n",
      "Filtering raw data in 1 contiguous segment\n",
      "Setting up band-pass filter from 1 - 40 Hz\n",
      "\n",
      "FIR filter parameters\n",
      "---------------------\n",
      "Designing a one-pass, zero-phase, non-causal bandpass filter:\n",
      "- Windowed time-domain design (firwin) method\n",
      "- Hamming window with 0.0194 passband ripple and 53 dB stopband attenuation\n",
      "- Lower passband edge: 1.00\n",
      "- Lower transition bandwidth: 1.00 Hz (-6 dB cutoff frequency: 0.50 Hz)\n",
      "- Upper passband edge: 40.00 Hz\n",
      "- Upper transition bandwidth: 10.00 Hz (-6 dB cutoff frequency: 45.00 Hz)\n",
      "- Filter length: 845 samples (3.301 sec)\n",
      "\n"
     ]
    },
    {
     "name": "stderr",
     "output_type": "stream",
     "text": [
      "<ipython-input-23-9b3b3297d477>:11: RuntimeWarning: Channel names are not unique, found duplicates for: {'T8-P8', '-'}. Applying running numbers for duplicates.\n",
      "  data = mne.io.read_raw_edf(fname, preload=True)\n",
      "<ipython-input-23-9b3b3297d477>:11: RuntimeWarning: Scaling factor is not defined in following channels:\n",
      "--0, --1, --2, --3, --4\n",
      "  data = mne.io.read_raw_edf(fname, preload=True)\n"
     ]
    },
    {
     "name": "stdout",
     "output_type": "stream",
     "text": [
      "Writing /home/ubuntu/fif21/chb21_13_raw.fif\n",
      "Closing /home/ubuntu/fif21/chb21_13_raw.fif [done]\n",
      "Extracting EDF parameters from /home/ubuntu/chb21/chb21_14.edf...\n",
      "EDF file detected\n",
      "Setting channel info structure...\n",
      "Creating raw.info structure...\n",
      "Reading 0 ... 921599  =      0.000 ...  3599.996 secs...\n",
      "Filtering raw data in 1 contiguous segment\n",
      "Setting up band-pass filter from 1 - 40 Hz\n",
      "\n",
      "FIR filter parameters\n",
      "---------------------\n",
      "Designing a one-pass, zero-phase, non-causal bandpass filter:\n",
      "- Windowed time-domain design (firwin) method\n",
      "- Hamming window with 0.0194 passband ripple and 53 dB stopband attenuation\n",
      "- Lower passband edge: 1.00\n",
      "- Lower transition bandwidth: 1.00 Hz (-6 dB cutoff frequency: 0.50 Hz)\n",
      "- Upper passband edge: 40.00 Hz\n",
      "- Upper transition bandwidth: 10.00 Hz (-6 dB cutoff frequency: 45.00 Hz)\n",
      "- Filter length: 845 samples (3.301 sec)\n",
      "\n"
     ]
    },
    {
     "name": "stderr",
     "output_type": "stream",
     "text": [
      "<ipython-input-23-9b3b3297d477>:11: RuntimeWarning: Channel names are not unique, found duplicates for: {'T8-P8', '-'}. Applying running numbers for duplicates.\n",
      "  data = mne.io.read_raw_edf(fname, preload=True)\n",
      "<ipython-input-23-9b3b3297d477>:11: RuntimeWarning: Scaling factor is not defined in following channels:\n",
      "--0, --1, --2, --3, --4\n",
      "  data = mne.io.read_raw_edf(fname, preload=True)\n"
     ]
    },
    {
     "name": "stdout",
     "output_type": "stream",
     "text": [
      "Writing /home/ubuntu/fif21/chb21_14_raw.fif\n",
      "Closing /home/ubuntu/fif21/chb21_14_raw.fif [done]\n",
      "Extracting EDF parameters from /home/ubuntu/chb21/chb21_15.edf...\n",
      "EDF file detected\n",
      "Setting channel info structure...\n",
      "Creating raw.info structure...\n",
      "Reading 0 ... 921599  =      0.000 ...  3599.996 secs...\n",
      "Filtering raw data in 1 contiguous segment\n",
      "Setting up band-pass filter from 1 - 40 Hz\n",
      "\n",
      "FIR filter parameters\n",
      "---------------------\n",
      "Designing a one-pass, zero-phase, non-causal bandpass filter:\n",
      "- Windowed time-domain design (firwin) method\n",
      "- Hamming window with 0.0194 passband ripple and 53 dB stopband attenuation\n",
      "- Lower passband edge: 1.00\n",
      "- Lower transition bandwidth: 1.00 Hz (-6 dB cutoff frequency: 0.50 Hz)\n",
      "- Upper passband edge: 40.00 Hz\n",
      "- Upper transition bandwidth: 10.00 Hz (-6 dB cutoff frequency: 45.00 Hz)\n",
      "- Filter length: 845 samples (3.301 sec)\n",
      "\n"
     ]
    },
    {
     "name": "stderr",
     "output_type": "stream",
     "text": [
      "<ipython-input-23-9b3b3297d477>:11: RuntimeWarning: Channel names are not unique, found duplicates for: {'T8-P8', '-'}. Applying running numbers for duplicates.\n",
      "  data = mne.io.read_raw_edf(fname, preload=True)\n",
      "<ipython-input-23-9b3b3297d477>:11: RuntimeWarning: Scaling factor is not defined in following channels:\n",
      "--0, --1, --2, --3, --4\n",
      "  data = mne.io.read_raw_edf(fname, preload=True)\n"
     ]
    },
    {
     "name": "stdout",
     "output_type": "stream",
     "text": [
      "Writing /home/ubuntu/fif21/chb21_15_raw.fif\n",
      "Closing /home/ubuntu/fif21/chb21_15_raw.fif [done]\n",
      "Extracting EDF parameters from /home/ubuntu/chb21/chb21_16.edf...\n",
      "EDF file detected\n",
      "Setting channel info structure...\n",
      "Creating raw.info structure...\n",
      "Reading 0 ... 921343  =      0.000 ...  3598.996 secs...\n",
      "Filtering raw data in 1 contiguous segment\n",
      "Setting up band-pass filter from 1 - 40 Hz\n",
      "\n",
      "FIR filter parameters\n",
      "---------------------\n",
      "Designing a one-pass, zero-phase, non-causal bandpass filter:\n",
      "- Windowed time-domain design (firwin) method\n",
      "- Hamming window with 0.0194 passband ripple and 53 dB stopband attenuation\n",
      "- Lower passband edge: 1.00\n",
      "- Lower transition bandwidth: 1.00 Hz (-6 dB cutoff frequency: 0.50 Hz)\n",
      "- Upper passband edge: 40.00 Hz\n",
      "- Upper transition bandwidth: 10.00 Hz (-6 dB cutoff frequency: 45.00 Hz)\n",
      "- Filter length: 845 samples (3.301 sec)\n",
      "\n"
     ]
    },
    {
     "name": "stderr",
     "output_type": "stream",
     "text": [
      "<ipython-input-23-9b3b3297d477>:11: RuntimeWarning: Channel names are not unique, found duplicates for: {'T8-P8', '-'}. Applying running numbers for duplicates.\n",
      "  data = mne.io.read_raw_edf(fname, preload=True)\n",
      "<ipython-input-23-9b3b3297d477>:11: RuntimeWarning: Scaling factor is not defined in following channels:\n",
      "--0, --1, --2, --3, --4\n",
      "  data = mne.io.read_raw_edf(fname, preload=True)\n"
     ]
    },
    {
     "name": "stdout",
     "output_type": "stream",
     "text": [
      "Writing /home/ubuntu/fif21/chb21_16_raw.fif\n",
      "Closing /home/ubuntu/fif21/chb21_16_raw.fif [done]\n",
      "Extracting EDF parameters from /home/ubuntu/chb21/chb21_17.edf...\n",
      "EDF file detected\n",
      "Setting channel info structure...\n",
      "Creating raw.info structure...\n",
      "Reading 0 ... 921599  =      0.000 ...  3599.996 secs...\n",
      "Filtering raw data in 1 contiguous segment\n",
      "Setting up band-pass filter from 1 - 40 Hz\n",
      "\n",
      "FIR filter parameters\n",
      "---------------------\n",
      "Designing a one-pass, zero-phase, non-causal bandpass filter:\n",
      "- Windowed time-domain design (firwin) method\n",
      "- Hamming window with 0.0194 passband ripple and 53 dB stopband attenuation\n",
      "- Lower passband edge: 1.00\n",
      "- Lower transition bandwidth: 1.00 Hz (-6 dB cutoff frequency: 0.50 Hz)\n",
      "- Upper passband edge: 40.00 Hz\n",
      "- Upper transition bandwidth: 10.00 Hz (-6 dB cutoff frequency: 45.00 Hz)\n",
      "- Filter length: 845 samples (3.301 sec)\n",
      "\n"
     ]
    },
    {
     "name": "stderr",
     "output_type": "stream",
     "text": [
      "<ipython-input-23-9b3b3297d477>:11: RuntimeWarning: Channel names are not unique, found duplicates for: {'T8-P8', '-'}. Applying running numbers for duplicates.\n",
      "  data = mne.io.read_raw_edf(fname, preload=True)\n",
      "<ipython-input-23-9b3b3297d477>:11: RuntimeWarning: Scaling factor is not defined in following channels:\n",
      "--0, --1, --2, --3, --4\n",
      "  data = mne.io.read_raw_edf(fname, preload=True)\n"
     ]
    },
    {
     "name": "stdout",
     "output_type": "stream",
     "text": [
      "Writing /home/ubuntu/fif21/chb21_17_raw.fif\n",
      "Closing /home/ubuntu/fif21/chb21_17_raw.fif [done]\n",
      "Extracting EDF parameters from /home/ubuntu/chb21/chb21_18.edf...\n",
      "EDF file detected\n",
      "Setting channel info structure...\n",
      "Creating raw.info structure...\n",
      "Reading 0 ... 921599  =      0.000 ...  3599.996 secs...\n",
      "Filtering raw data in 1 contiguous segment\n",
      "Setting up band-pass filter from 1 - 40 Hz\n",
      "\n",
      "FIR filter parameters\n",
      "---------------------\n",
      "Designing a one-pass, zero-phase, non-causal bandpass filter:\n",
      "- Windowed time-domain design (firwin) method\n",
      "- Hamming window with 0.0194 passband ripple and 53 dB stopband attenuation\n",
      "- Lower passband edge: 1.00\n",
      "- Lower transition bandwidth: 1.00 Hz (-6 dB cutoff frequency: 0.50 Hz)\n",
      "- Upper passband edge: 40.00 Hz\n",
      "- Upper transition bandwidth: 10.00 Hz (-6 dB cutoff frequency: 45.00 Hz)\n",
      "- Filter length: 845 samples (3.301 sec)\n",
      "\n"
     ]
    },
    {
     "name": "stderr",
     "output_type": "stream",
     "text": [
      "<ipython-input-23-9b3b3297d477>:11: RuntimeWarning: Channel names are not unique, found duplicates for: {'T8-P8', '-'}. Applying running numbers for duplicates.\n",
      "  data = mne.io.read_raw_edf(fname, preload=True)\n",
      "<ipython-input-23-9b3b3297d477>:11: RuntimeWarning: Scaling factor is not defined in following channels:\n",
      "--0, --1, --2, --3, --4\n",
      "  data = mne.io.read_raw_edf(fname, preload=True)\n"
     ]
    },
    {
     "name": "stdout",
     "output_type": "stream",
     "text": [
      "Writing /home/ubuntu/fif21/chb21_18_raw.fif\n",
      "Closing /home/ubuntu/fif21/chb21_18_raw.fif [done]\n",
      "Extracting EDF parameters from /home/ubuntu/chb21/chb21_19.edf...\n",
      "EDF file detected\n",
      "Setting channel info structure...\n",
      "Creating raw.info structure...\n",
      "Reading 0 ... 921599  =      0.000 ...  3599.996 secs...\n",
      "Filtering raw data in 1 contiguous segment\n",
      "Setting up band-pass filter from 1 - 40 Hz\n",
      "\n",
      "FIR filter parameters\n",
      "---------------------\n",
      "Designing a one-pass, zero-phase, non-causal bandpass filter:\n",
      "- Windowed time-domain design (firwin) method\n",
      "- Hamming window with 0.0194 passband ripple and 53 dB stopband attenuation\n",
      "- Lower passband edge: 1.00\n",
      "- Lower transition bandwidth: 1.00 Hz (-6 dB cutoff frequency: 0.50 Hz)\n",
      "- Upper passband edge: 40.00 Hz\n",
      "- Upper transition bandwidth: 10.00 Hz (-6 dB cutoff frequency: 45.00 Hz)\n",
      "- Filter length: 845 samples (3.301 sec)\n",
      "\n"
     ]
    },
    {
     "name": "stderr",
     "output_type": "stream",
     "text": [
      "<ipython-input-23-9b3b3297d477>:11: RuntimeWarning: Channel names are not unique, found duplicates for: {'T8-P8', '-'}. Applying running numbers for duplicates.\n",
      "  data = mne.io.read_raw_edf(fname, preload=True)\n",
      "<ipython-input-23-9b3b3297d477>:11: RuntimeWarning: Scaling factor is not defined in following channels:\n",
      "--0, --1, --2, --3, --4\n",
      "  data = mne.io.read_raw_edf(fname, preload=True)\n"
     ]
    },
    {
     "name": "stdout",
     "output_type": "stream",
     "text": [
      "Used Annotations descriptions: ['Nonseizure', 'Seizure']\n",
      "Writing /home/ubuntu/fif21/chb21_19_raw.fif\n",
      "Closing /home/ubuntu/fif21/chb21_19_raw.fif [done]\n",
      "Extracting EDF parameters from /home/ubuntu/chb21/chb21_20.edf...\n",
      "EDF file detected\n",
      "Setting channel info structure...\n",
      "Creating raw.info structure...\n",
      "Reading 0 ... 765439  =      0.000 ...  2989.996 secs...\n",
      "Filtering raw data in 1 contiguous segment\n",
      "Setting up band-pass filter from 1 - 40 Hz\n",
      "\n",
      "FIR filter parameters\n",
      "---------------------\n",
      "Designing a one-pass, zero-phase, non-causal bandpass filter:\n",
      "- Windowed time-domain design (firwin) method\n",
      "- Hamming window with 0.0194 passband ripple and 53 dB stopband attenuation\n",
      "- Lower passband edge: 1.00\n",
      "- Lower transition bandwidth: 1.00 Hz (-6 dB cutoff frequency: 0.50 Hz)\n",
      "- Upper passband edge: 40.00 Hz\n",
      "- Upper transition bandwidth: 10.00 Hz (-6 dB cutoff frequency: 45.00 Hz)\n",
      "- Filter length: 845 samples (3.301 sec)\n",
      "\n"
     ]
    },
    {
     "name": "stderr",
     "output_type": "stream",
     "text": [
      "<ipython-input-23-9b3b3297d477>:11: RuntimeWarning: Channel names are not unique, found duplicates for: {'T8-P8', '-'}. Applying running numbers for duplicates.\n",
      "  data = mne.io.read_raw_edf(fname, preload=True)\n",
      "<ipython-input-23-9b3b3297d477>:11: RuntimeWarning: Scaling factor is not defined in following channels:\n",
      "--0, --1, --2, --3, --4\n",
      "  data = mne.io.read_raw_edf(fname, preload=True)\n"
     ]
    },
    {
     "name": "stdout",
     "output_type": "stream",
     "text": [
      "Used Annotations descriptions: ['Nonseizure', 'Seizure']\n",
      "Writing /home/ubuntu/fif21/chb21_20_raw.fif\n",
      "Closing /home/ubuntu/fif21/chb21_20_raw.fif [done]\n",
      "Extracting EDF parameters from /home/ubuntu/chb21/chb21_21.edf...\n",
      "EDF file detected\n",
      "Setting channel info structure...\n",
      "Creating raw.info structure...\n",
      "Reading 0 ... 921599  =      0.000 ...  3599.996 secs...\n",
      "Filtering raw data in 1 contiguous segment\n",
      "Setting up band-pass filter from 1 - 40 Hz\n",
      "\n",
      "FIR filter parameters\n",
      "---------------------\n",
      "Designing a one-pass, zero-phase, non-causal bandpass filter:\n",
      "- Windowed time-domain design (firwin) method\n",
      "- Hamming window with 0.0194 passband ripple and 53 dB stopband attenuation\n",
      "- Lower passband edge: 1.00\n",
      "- Lower transition bandwidth: 1.00 Hz (-6 dB cutoff frequency: 0.50 Hz)\n",
      "- Upper passband edge: 40.00 Hz\n",
      "- Upper transition bandwidth: 10.00 Hz (-6 dB cutoff frequency: 45.00 Hz)\n",
      "- Filter length: 845 samples (3.301 sec)\n",
      "\n"
     ]
    },
    {
     "name": "stderr",
     "output_type": "stream",
     "text": [
      "<ipython-input-23-9b3b3297d477>:11: RuntimeWarning: Channel names are not unique, found duplicates for: {'T8-P8', '-'}. Applying running numbers for duplicates.\n",
      "  data = mne.io.read_raw_edf(fname, preload=True)\n",
      "<ipython-input-23-9b3b3297d477>:11: RuntimeWarning: Scaling factor is not defined in following channels:\n",
      "--0, --1, --2, --3, --4\n",
      "  data = mne.io.read_raw_edf(fname, preload=True)\n"
     ]
    },
    {
     "name": "stdout",
     "output_type": "stream",
     "text": [
      "Used Annotations descriptions: ['Nonseizure', 'Seizure']\n",
      "Writing /home/ubuntu/fif21/chb21_21_raw.fif\n",
      "Closing /home/ubuntu/fif21/chb21_21_raw.fif [done]\n",
      "Extracting EDF parameters from /home/ubuntu/chb21/chb21_22.edf...\n",
      "EDF file detected\n",
      "Setting channel info structure...\n",
      "Creating raw.info structure...\n",
      "Reading 0 ... 921599  =      0.000 ...  3599.996 secs...\n",
      "Filtering raw data in 1 contiguous segment\n",
      "Setting up band-pass filter from 1 - 40 Hz\n",
      "\n",
      "FIR filter parameters\n",
      "---------------------\n",
      "Designing a one-pass, zero-phase, non-causal bandpass filter:\n",
      "- Windowed time-domain design (firwin) method\n",
      "- Hamming window with 0.0194 passband ripple and 53 dB stopband attenuation\n",
      "- Lower passband edge: 1.00\n",
      "- Lower transition bandwidth: 1.00 Hz (-6 dB cutoff frequency: 0.50 Hz)\n",
      "- Upper passband edge: 40.00 Hz\n",
      "- Upper transition bandwidth: 10.00 Hz (-6 dB cutoff frequency: 45.00 Hz)\n",
      "- Filter length: 845 samples (3.301 sec)\n",
      "\n"
     ]
    },
    {
     "name": "stderr",
     "output_type": "stream",
     "text": [
      "<ipython-input-23-9b3b3297d477>:11: RuntimeWarning: Channel names are not unique, found duplicates for: {'T8-P8', '-'}. Applying running numbers for duplicates.\n",
      "  data = mne.io.read_raw_edf(fname, preload=True)\n",
      "<ipython-input-23-9b3b3297d477>:11: RuntimeWarning: Scaling factor is not defined in following channels:\n",
      "--0, --1, --2, --3, --4\n",
      "  data = mne.io.read_raw_edf(fname, preload=True)\n"
     ]
    },
    {
     "name": "stdout",
     "output_type": "stream",
     "text": [
      "Used Annotations descriptions: ['Nonseizure', 'Seizure']\n",
      "Writing /home/ubuntu/fif21/chb21_22_raw.fif\n",
      "Closing /home/ubuntu/fif21/chb21_22_raw.fif [done]\n",
      "Extracting EDF parameters from /home/ubuntu/chb21/chb21_23.edf...\n",
      "EDF file detected\n",
      "Setting channel info structure...\n",
      "Creating raw.info structure...\n",
      "Reading 0 ... 921599  =      0.000 ...  3599.996 secs...\n",
      "Filtering raw data in 1 contiguous segment\n",
      "Setting up band-pass filter from 1 - 40 Hz\n",
      "\n",
      "FIR filter parameters\n",
      "---------------------\n",
      "Designing a one-pass, zero-phase, non-causal bandpass filter:\n",
      "- Windowed time-domain design (firwin) method\n",
      "- Hamming window with 0.0194 passband ripple and 53 dB stopband attenuation\n",
      "- Lower passband edge: 1.00\n",
      "- Lower transition bandwidth: 1.00 Hz (-6 dB cutoff frequency: 0.50 Hz)\n",
      "- Upper passband edge: 40.00 Hz\n",
      "- Upper transition bandwidth: 10.00 Hz (-6 dB cutoff frequency: 45.00 Hz)\n",
      "- Filter length: 845 samples (3.301 sec)\n",
      "\n"
     ]
    },
    {
     "name": "stderr",
     "output_type": "stream",
     "text": [
      "<ipython-input-23-9b3b3297d477>:11: RuntimeWarning: Channel names are not unique, found duplicates for: {'T8-P8', '-'}. Applying running numbers for duplicates.\n",
      "  data = mne.io.read_raw_edf(fname, preload=True)\n",
      "<ipython-input-23-9b3b3297d477>:11: RuntimeWarning: Scaling factor is not defined in following channels:\n",
      "--0, --1, --2, --3, --4\n",
      "  data = mne.io.read_raw_edf(fname, preload=True)\n"
     ]
    },
    {
     "name": "stdout",
     "output_type": "stream",
     "text": [
      "Writing /home/ubuntu/fif21/chb21_23_raw.fif\n",
      "Closing /home/ubuntu/fif21/chb21_23_raw.fif [done]\n",
      "Extracting EDF parameters from /home/ubuntu/chb21/chb21_24.edf...\n",
      "EDF file detected\n",
      "Setting channel info structure...\n",
      "Creating raw.info structure...\n",
      "Reading 0 ... 921599  =      0.000 ...  3599.996 secs...\n",
      "Filtering raw data in 1 contiguous segment\n",
      "Setting up band-pass filter from 1 - 40 Hz\n",
      "\n",
      "FIR filter parameters\n",
      "---------------------\n",
      "Designing a one-pass, zero-phase, non-causal bandpass filter:\n",
      "- Windowed time-domain design (firwin) method\n",
      "- Hamming window with 0.0194 passband ripple and 53 dB stopband attenuation\n",
      "- Lower passband edge: 1.00\n",
      "- Lower transition bandwidth: 1.00 Hz (-6 dB cutoff frequency: 0.50 Hz)\n",
      "- Upper passband edge: 40.00 Hz\n",
      "- Upper transition bandwidth: 10.00 Hz (-6 dB cutoff frequency: 45.00 Hz)\n",
      "- Filter length: 845 samples (3.301 sec)\n",
      "\n"
     ]
    },
    {
     "name": "stderr",
     "output_type": "stream",
     "text": [
      "<ipython-input-23-9b3b3297d477>:11: RuntimeWarning: Channel names are not unique, found duplicates for: {'T8-P8', '-'}. Applying running numbers for duplicates.\n",
      "  data = mne.io.read_raw_edf(fname, preload=True)\n",
      "<ipython-input-23-9b3b3297d477>:11: RuntimeWarning: Scaling factor is not defined in following channels:\n",
      "--0, --1, --2, --3, --4\n",
      "  data = mne.io.read_raw_edf(fname, preload=True)\n"
     ]
    },
    {
     "name": "stdout",
     "output_type": "stream",
     "text": [
      "Writing /home/ubuntu/fif21/chb21_24_raw.fif\n",
      "Closing /home/ubuntu/fif21/chb21_24_raw.fif [done]\n",
      "Extracting EDF parameters from /home/ubuntu/chb21/chb21_25.edf...\n",
      "EDF file detected\n",
      "Setting channel info structure...\n",
      "Creating raw.info structure...\n",
      "Reading 0 ... 921599  =      0.000 ...  3599.996 secs...\n",
      "Filtering raw data in 1 contiguous segment\n",
      "Setting up band-pass filter from 1 - 40 Hz\n",
      "\n",
      "FIR filter parameters\n",
      "---------------------\n",
      "Designing a one-pass, zero-phase, non-causal bandpass filter:\n",
      "- Windowed time-domain design (firwin) method\n",
      "- Hamming window with 0.0194 passband ripple and 53 dB stopband attenuation\n",
      "- Lower passband edge: 1.00\n",
      "- Lower transition bandwidth: 1.00 Hz (-6 dB cutoff frequency: 0.50 Hz)\n",
      "- Upper passband edge: 40.00 Hz\n",
      "- Upper transition bandwidth: 10.00 Hz (-6 dB cutoff frequency: 45.00 Hz)\n",
      "- Filter length: 845 samples (3.301 sec)\n",
      "\n"
     ]
    },
    {
     "name": "stderr",
     "output_type": "stream",
     "text": [
      "<ipython-input-23-9b3b3297d477>:11: RuntimeWarning: Channel names are not unique, found duplicates for: {'T8-P8', '-'}. Applying running numbers for duplicates.\n",
      "  data = mne.io.read_raw_edf(fname, preload=True)\n",
      "<ipython-input-23-9b3b3297d477>:11: RuntimeWarning: Scaling factor is not defined in following channels:\n",
      "--0, --1, --2, --3, --4\n",
      "  data = mne.io.read_raw_edf(fname, preload=True)\n"
     ]
    },
    {
     "name": "stdout",
     "output_type": "stream",
     "text": [
      "Writing /home/ubuntu/fif21/chb21_25_raw.fif\n",
      "Closing /home/ubuntu/fif21/chb21_25_raw.fif [done]\n",
      "Extracting EDF parameters from /home/ubuntu/chb21/chb21_26.edf...\n",
      "EDF file detected\n",
      "Setting channel info structure...\n",
      "Creating raw.info structure...\n",
      "Reading 0 ... 921599  =      0.000 ...  3599.996 secs...\n",
      "Filtering raw data in 1 contiguous segment\n",
      "Setting up band-pass filter from 1 - 40 Hz\n",
      "\n",
      "FIR filter parameters\n",
      "---------------------\n",
      "Designing a one-pass, zero-phase, non-causal bandpass filter:\n",
      "- Windowed time-domain design (firwin) method\n",
      "- Hamming window with 0.0194 passband ripple and 53 dB stopband attenuation\n",
      "- Lower passband edge: 1.00\n",
      "- Lower transition bandwidth: 1.00 Hz (-6 dB cutoff frequency: 0.50 Hz)\n",
      "- Upper passband edge: 40.00 Hz\n",
      "- Upper transition bandwidth: 10.00 Hz (-6 dB cutoff frequency: 45.00 Hz)\n",
      "- Filter length: 845 samples (3.301 sec)\n",
      "\n"
     ]
    },
    {
     "name": "stderr",
     "output_type": "stream",
     "text": [
      "<ipython-input-23-9b3b3297d477>:11: RuntimeWarning: Channel names are not unique, found duplicates for: {'T8-P8', '-'}. Applying running numbers for duplicates.\n",
      "  data = mne.io.read_raw_edf(fname, preload=True)\n",
      "<ipython-input-23-9b3b3297d477>:11: RuntimeWarning: Scaling factor is not defined in following channels:\n",
      "--0, --1, --2, --3, --4\n",
      "  data = mne.io.read_raw_edf(fname, preload=True)\n"
     ]
    },
    {
     "name": "stdout",
     "output_type": "stream",
     "text": [
      "Writing /home/ubuntu/fif21/chb21_26_raw.fif\n",
      "Closing /home/ubuntu/fif21/chb21_26_raw.fif [done]\n",
      "Extracting EDF parameters from /home/ubuntu/chb21/chb21_27.edf...\n",
      "EDF file detected\n",
      "Setting channel info structure...\n",
      "Creating raw.info structure...\n",
      "Reading 0 ... 921599  =      0.000 ...  3599.996 secs...\n",
      "Filtering raw data in 1 contiguous segment\n",
      "Setting up band-pass filter from 1 - 40 Hz\n",
      "\n",
      "FIR filter parameters\n",
      "---------------------\n",
      "Designing a one-pass, zero-phase, non-causal bandpass filter:\n",
      "- Windowed time-domain design (firwin) method\n",
      "- Hamming window with 0.0194 passband ripple and 53 dB stopband attenuation\n",
      "- Lower passband edge: 1.00\n",
      "- Lower transition bandwidth: 1.00 Hz (-6 dB cutoff frequency: 0.50 Hz)\n",
      "- Upper passband edge: 40.00 Hz\n",
      "- Upper transition bandwidth: 10.00 Hz (-6 dB cutoff frequency: 45.00 Hz)\n",
      "- Filter length: 845 samples (3.301 sec)\n",
      "\n"
     ]
    },
    {
     "name": "stderr",
     "output_type": "stream",
     "text": [
      "<ipython-input-23-9b3b3297d477>:11: RuntimeWarning: Channel names are not unique, found duplicates for: {'T8-P8', '-'}. Applying running numbers for duplicates.\n",
      "  data = mne.io.read_raw_edf(fname, preload=True)\n",
      "<ipython-input-23-9b3b3297d477>:11: RuntimeWarning: Scaling factor is not defined in following channels:\n",
      "--0, --1, --2, --3, --4\n",
      "  data = mne.io.read_raw_edf(fname, preload=True)\n"
     ]
    },
    {
     "name": "stdout",
     "output_type": "stream",
     "text": [
      "Writing /home/ubuntu/fif21/chb21_27_raw.fif\n",
      "Closing /home/ubuntu/fif21/chb21_27_raw.fif [done]\n",
      "Extracting EDF parameters from /home/ubuntu/chb21/chb21_28.edf...\n",
      "EDF file detected\n",
      "Setting channel info structure...\n",
      "Creating raw.info structure...\n",
      "Reading 0 ... 921599  =      0.000 ...  3599.996 secs...\n",
      "Filtering raw data in 1 contiguous segment\n",
      "Setting up band-pass filter from 1 - 40 Hz\n",
      "\n",
      "FIR filter parameters\n",
      "---------------------\n",
      "Designing a one-pass, zero-phase, non-causal bandpass filter:\n",
      "- Windowed time-domain design (firwin) method\n",
      "- Hamming window with 0.0194 passband ripple and 53 dB stopband attenuation\n",
      "- Lower passband edge: 1.00\n",
      "- Lower transition bandwidth: 1.00 Hz (-6 dB cutoff frequency: 0.50 Hz)\n",
      "- Upper passband edge: 40.00 Hz\n",
      "- Upper transition bandwidth: 10.00 Hz (-6 dB cutoff frequency: 45.00 Hz)\n",
      "- Filter length: 845 samples (3.301 sec)\n",
      "\n"
     ]
    },
    {
     "name": "stderr",
     "output_type": "stream",
     "text": [
      "<ipython-input-23-9b3b3297d477>:11: RuntimeWarning: Channel names are not unique, found duplicates for: {'T8-P8', '-'}. Applying running numbers for duplicates.\n",
      "  data = mne.io.read_raw_edf(fname, preload=True)\n",
      "<ipython-input-23-9b3b3297d477>:11: RuntimeWarning: Scaling factor is not defined in following channels:\n",
      "--0, --1, --2, --3, --4\n",
      "  data = mne.io.read_raw_edf(fname, preload=True)\n"
     ]
    },
    {
     "name": "stdout",
     "output_type": "stream",
     "text": [
      "Writing /home/ubuntu/fif21/chb21_28_raw.fif\n",
      "Closing /home/ubuntu/fif21/chb21_28_raw.fif [done]\n",
      "Extracting EDF parameters from /home/ubuntu/chb21/chb21_29.edf...\n",
      "EDF file detected\n",
      "Setting channel info structure...\n",
      "Creating raw.info structure...\n",
      "Reading 0 ... 921599  =      0.000 ...  3599.996 secs...\n",
      "Filtering raw data in 1 contiguous segment\n",
      "Setting up band-pass filter from 1 - 40 Hz\n",
      "\n",
      "FIR filter parameters\n",
      "---------------------\n",
      "Designing a one-pass, zero-phase, non-causal bandpass filter:\n",
      "- Windowed time-domain design (firwin) method\n",
      "- Hamming window with 0.0194 passband ripple and 53 dB stopband attenuation\n",
      "- Lower passband edge: 1.00\n",
      "- Lower transition bandwidth: 1.00 Hz (-6 dB cutoff frequency: 0.50 Hz)\n",
      "- Upper passband edge: 40.00 Hz\n",
      "- Upper transition bandwidth: 10.00 Hz (-6 dB cutoff frequency: 45.00 Hz)\n",
      "- Filter length: 845 samples (3.301 sec)\n",
      "\n"
     ]
    },
    {
     "name": "stderr",
     "output_type": "stream",
     "text": [
      "<ipython-input-23-9b3b3297d477>:11: RuntimeWarning: Channel names are not unique, found duplicates for: {'T8-P8', '-'}. Applying running numbers for duplicates.\n",
      "  data = mne.io.read_raw_edf(fname, preload=True)\n",
      "<ipython-input-23-9b3b3297d477>:11: RuntimeWarning: Scaling factor is not defined in following channels:\n",
      "--0, --1, --2, --3, --4\n",
      "  data = mne.io.read_raw_edf(fname, preload=True)\n"
     ]
    },
    {
     "name": "stdout",
     "output_type": "stream",
     "text": [
      "Writing /home/ubuntu/fif21/chb21_29_raw.fif\n",
      "Closing /home/ubuntu/fif21/chb21_29_raw.fif [done]\n",
      "Extracting EDF parameters from /home/ubuntu/chb21/chb21_30.edf...\n",
      "EDF file detected\n",
      "Setting channel info structure...\n",
      "Creating raw.info structure...\n",
      "Reading 0 ... 921599  =      0.000 ...  3599.996 secs...\n",
      "Filtering raw data in 1 contiguous segment\n",
      "Setting up band-pass filter from 1 - 40 Hz\n",
      "\n",
      "FIR filter parameters\n",
      "---------------------\n",
      "Designing a one-pass, zero-phase, non-causal bandpass filter:\n",
      "- Windowed time-domain design (firwin) method\n",
      "- Hamming window with 0.0194 passband ripple and 53 dB stopband attenuation\n",
      "- Lower passband edge: 1.00\n",
      "- Lower transition bandwidth: 1.00 Hz (-6 dB cutoff frequency: 0.50 Hz)\n",
      "- Upper passband edge: 40.00 Hz\n",
      "- Upper transition bandwidth: 10.00 Hz (-6 dB cutoff frequency: 45.00 Hz)\n",
      "- Filter length: 845 samples (3.301 sec)\n",
      "\n"
     ]
    },
    {
     "name": "stderr",
     "output_type": "stream",
     "text": [
      "<ipython-input-23-9b3b3297d477>:11: RuntimeWarning: Channel names are not unique, found duplicates for: {'T8-P8', '-'}. Applying running numbers for duplicates.\n",
      "  data = mne.io.read_raw_edf(fname, preload=True)\n",
      "<ipython-input-23-9b3b3297d477>:11: RuntimeWarning: Scaling factor is not defined in following channels:\n",
      "--0, --1, --2, --3, --4\n",
      "  data = mne.io.read_raw_edf(fname, preload=True)\n"
     ]
    },
    {
     "name": "stdout",
     "output_type": "stream",
     "text": [
      "Writing /home/ubuntu/fif21/chb21_30_raw.fif\n",
      "Closing /home/ubuntu/fif21/chb21_30_raw.fif [done]\n",
      "Extracting EDF parameters from /home/ubuntu/chb21/chb21_31.edf...\n",
      "EDF file detected\n",
      "Setting channel info structure...\n",
      "Creating raw.info structure...\n",
      "Reading 0 ... 921599  =      0.000 ...  3599.996 secs...\n",
      "Filtering raw data in 1 contiguous segment\n",
      "Setting up band-pass filter from 1 - 40 Hz\n",
      "\n",
      "FIR filter parameters\n",
      "---------------------\n",
      "Designing a one-pass, zero-phase, non-causal bandpass filter:\n",
      "- Windowed time-domain design (firwin) method\n",
      "- Hamming window with 0.0194 passband ripple and 53 dB stopband attenuation\n",
      "- Lower passband edge: 1.00\n",
      "- Lower transition bandwidth: 1.00 Hz (-6 dB cutoff frequency: 0.50 Hz)\n",
      "- Upper passband edge: 40.00 Hz\n",
      "- Upper transition bandwidth: 10.00 Hz (-6 dB cutoff frequency: 45.00 Hz)\n",
      "- Filter length: 845 samples (3.301 sec)\n",
      "\n"
     ]
    },
    {
     "name": "stderr",
     "output_type": "stream",
     "text": [
      "<ipython-input-23-9b3b3297d477>:11: RuntimeWarning: Channel names are not unique, found duplicates for: {'T8-P8', '-'}. Applying running numbers for duplicates.\n",
      "  data = mne.io.read_raw_edf(fname, preload=True)\n",
      "<ipython-input-23-9b3b3297d477>:11: RuntimeWarning: Scaling factor is not defined in following channels:\n",
      "--0, --1, --2, --3, --4\n",
      "  data = mne.io.read_raw_edf(fname, preload=True)\n"
     ]
    },
    {
     "name": "stdout",
     "output_type": "stream",
     "text": [
      "Writing /home/ubuntu/fif21/chb21_31_raw.fif\n",
      "Closing /home/ubuntu/fif21/chb21_31_raw.fif [done]\n",
      "Extracting EDF parameters from /home/ubuntu/chb21/chb21_32.edf...\n",
      "EDF file detected\n",
      "Setting channel info structure...\n",
      "Creating raw.info structure...\n",
      "Reading 0 ... 921599  =      0.000 ...  3599.996 secs...\n",
      "Filtering raw data in 1 contiguous segment\n",
      "Setting up band-pass filter from 1 - 40 Hz\n",
      "\n",
      "FIR filter parameters\n",
      "---------------------\n",
      "Designing a one-pass, zero-phase, non-causal bandpass filter:\n",
      "- Windowed time-domain design (firwin) method\n",
      "- Hamming window with 0.0194 passband ripple and 53 dB stopband attenuation\n",
      "- Lower passband edge: 1.00\n",
      "- Lower transition bandwidth: 1.00 Hz (-6 dB cutoff frequency: 0.50 Hz)\n",
      "- Upper passband edge: 40.00 Hz\n",
      "- Upper transition bandwidth: 10.00 Hz (-6 dB cutoff frequency: 45.00 Hz)\n",
      "- Filter length: 845 samples (3.301 sec)\n",
      "\n"
     ]
    },
    {
     "name": "stderr",
     "output_type": "stream",
     "text": [
      "<ipython-input-23-9b3b3297d477>:11: RuntimeWarning: Channel names are not unique, found duplicates for: {'T8-P8', '-'}. Applying running numbers for duplicates.\n",
      "  data = mne.io.read_raw_edf(fname, preload=True)\n",
      "<ipython-input-23-9b3b3297d477>:11: RuntimeWarning: Scaling factor is not defined in following channels:\n",
      "--0, --1, --2, --3, --4\n",
      "  data = mne.io.read_raw_edf(fname, preload=True)\n"
     ]
    },
    {
     "name": "stdout",
     "output_type": "stream",
     "text": [
      "Writing /home/ubuntu/fif21/chb21_32_raw.fif\n",
      "Closing /home/ubuntu/fif21/chb21_32_raw.fif [done]\n",
      "Extracting EDF parameters from /home/ubuntu/chb21/chb21_33.edf...\n",
      "EDF file detected\n",
      "Setting channel info structure...\n",
      "Creating raw.info structure...\n",
      "Reading 0 ... 921599  =      0.000 ...  3599.996 secs...\n",
      "Filtering raw data in 1 contiguous segment\n",
      "Setting up band-pass filter from 1 - 40 Hz\n",
      "\n",
      "FIR filter parameters\n",
      "---------------------\n",
      "Designing a one-pass, zero-phase, non-causal bandpass filter:\n",
      "- Windowed time-domain design (firwin) method\n",
      "- Hamming window with 0.0194 passband ripple and 53 dB stopband attenuation\n",
      "- Lower passband edge: 1.00\n",
      "- Lower transition bandwidth: 1.00 Hz (-6 dB cutoff frequency: 0.50 Hz)\n",
      "- Upper passband edge: 40.00 Hz\n",
      "- Upper transition bandwidth: 10.00 Hz (-6 dB cutoff frequency: 45.00 Hz)\n",
      "- Filter length: 845 samples (3.301 sec)\n",
      "\n"
     ]
    },
    {
     "name": "stderr",
     "output_type": "stream",
     "text": [
      "<ipython-input-23-9b3b3297d477>:11: RuntimeWarning: Channel names are not unique, found duplicates for: {'T8-P8', '-'}. Applying running numbers for duplicates.\n",
      "  data = mne.io.read_raw_edf(fname, preload=True)\n",
      "<ipython-input-23-9b3b3297d477>:11: RuntimeWarning: Scaling factor is not defined in following channels:\n",
      "--0, --1, --2, --3, --4\n",
      "  data = mne.io.read_raw_edf(fname, preload=True)\n"
     ]
    },
    {
     "name": "stdout",
     "output_type": "stream",
     "text": [
      "Writing /home/ubuntu/fif21/chb21_33_raw.fif\n",
      "Closing /home/ubuntu/fif21/chb21_33_raw.fif [done]\n"
     ]
    },
    {
     "data": {
      "text/plain": [
       "['chb21_01_raw.fif',\n",
       " 'chb21_02_raw.fif',\n",
       " 'chb21_03_raw.fif',\n",
       " 'chb21_04_raw.fif',\n",
       " 'chb21_05_raw.fif',\n",
       " 'chb21_06_raw.fif',\n",
       " 'chb21_07_raw.fif',\n",
       " 'chb21_08_raw.fif',\n",
       " 'chb21_09_raw.fif',\n",
       " 'chb21_10_raw.fif',\n",
       " 'chb21_11_raw.fif',\n",
       " 'chb21_12_raw.fif',\n",
       " 'chb21_13_raw.fif',\n",
       " 'chb21_14_raw.fif',\n",
       " 'chb21_15_raw.fif',\n",
       " 'chb21_16_raw.fif',\n",
       " 'chb21_17_raw.fif',\n",
       " 'chb21_18_raw.fif',\n",
       " 'chb21_19_raw.fif',\n",
       " 'chb21_20_raw.fif',\n",
       " 'chb21_21_raw.fif',\n",
       " 'chb21_22_raw.fif',\n",
       " 'chb21_23_raw.fif',\n",
       " 'chb21_24_raw.fif',\n",
       " 'chb21_25_raw.fif',\n",
       " 'chb21_26_raw.fif',\n",
       " 'chb21_27_raw.fif',\n",
       " 'chb21_28_raw.fif',\n",
       " 'chb21_29_raw.fif',\n",
       " 'chb21_30_raw.fif',\n",
       " 'chb21_31_raw.fif',\n",
       " 'chb21_32_raw.fif',\n",
       " 'chb21_33_raw.fif']"
      ]
     },
     "execution_count": 24,
     "metadata": {},
     "output_type": "execute_result"
    }
   ],
   "source": [
    "transform_raw_data_channelchanges(subject='chb21')\n",
    "    "
   ]
  },
  {
   "cell_type": "code",
   "execution_count": 9,
   "metadata": {},
   "outputs": [],
   "source": [
    "fif_lst = ['fif' + rec_name[3:5] + '/' + rec_name + '_raw.fif' for rec_name in rec_wos if (rec_name[0:5] == 'chb01')]\n",
    "\n",
    "# or rec_name[0:5] == 'chb02' or rec_name[0:5] == 'chb09' or rec_name[0:5] == 'chb03' or rec_name[0:5] == 'chb07')]"
   ]
  },
  {
   "cell_type": "code",
   "execution_count": 10,
   "metadata": {},
   "outputs": [
    {
     "name": "stdout",
     "output_type": "stream",
     "text": [
      "Opening raw data file fif01/chb01_01_raw.fif...\n",
      "    Range : 0 ... 921599 =      0.000 ...  3599.996 secs\n",
      "Ready.\n",
      "Opening raw data file fif01/chb01_02_raw.fif...\n",
      "    Range : 0 ... 921599 =      0.000 ...  3599.996 secs\n",
      "Ready.\n",
      "Opening raw data file fif01/chb01_03_raw.fif...\n",
      "    Range : 0 ... 921599 =      0.000 ...  3599.996 secs\n",
      "Ready.\n",
      "Opening raw data file fif01/chb01_04_raw.fif...\n",
      "    Range : 0 ... 921599 =      0.000 ...  3599.996 secs\n",
      "Ready.\n",
      "Opening raw data file fif01/chb01_05_raw.fif...\n",
      "    Range : 0 ... 921599 =      0.000 ...  3599.996 secs\n",
      "Ready.\n",
      "Opening raw data file fif01/chb01_06_raw.fif...\n",
      "    Range : 0 ... 921599 =      0.000 ...  3599.996 secs\n",
      "Ready.\n",
      "Opening raw data file fif01/chb01_07_raw.fif...\n",
      "    Range : 0 ... 921599 =      0.000 ...  3599.996 secs\n",
      "Ready.\n",
      "Opening raw data file fif01/chb01_08_raw.fif...\n",
      "    Range : 0 ... 921599 =      0.000 ...  3599.996 secs\n",
      "Ready.\n",
      "Opening raw data file fif01/chb01_09_raw.fif...\n",
      "    Range : 0 ... 921599 =      0.000 ...  3599.996 secs\n",
      "Ready.\n",
      "Opening raw data file fif01/chb01_10_raw.fif...\n",
      "    Range : 0 ... 921599 =      0.000 ...  3599.996 secs\n",
      "Ready.\n",
      "Opening raw data file fif01/chb01_11_raw.fif...\n",
      "    Range : 0 ... 921599 =      0.000 ...  3599.996 secs\n",
      "Ready.\n",
      "Opening raw data file fif01/chb01_12_raw.fif...\n",
      "    Range : 0 ... 921599 =      0.000 ...  3599.996 secs\n",
      "Ready.\n",
      "Opening raw data file fif01/chb01_13_raw.fif...\n",
      "    Range : 0 ... 921599 =      0.000 ...  3599.996 secs\n",
      "Ready.\n",
      "Opening raw data file fif01/chb01_14_raw.fif...\n",
      "    Range : 0 ... 921599 =      0.000 ...  3599.996 secs\n",
      "Ready.\n",
      "Opening raw data file fif01/chb01_15_raw.fif...\n",
      "    Range : 0 ... 921599 =      0.000 ...  3599.996 secs\n",
      "Ready.\n",
      "Opening raw data file fif01/chb01_16_raw.fif...\n",
      "    Range : 0 ... 921599 =      0.000 ...  3599.996 secs\n",
      "Ready.\n",
      "Opening raw data file fif01/chb01_17_raw.fif...\n",
      "    Range : 0 ... 921599 =      0.000 ...  3599.996 secs\n",
      "Ready.\n",
      "Opening raw data file fif01/chb01_18_raw.fif...\n",
      "    Range : 0 ... 921599 =      0.000 ...  3599.996 secs\n",
      "Ready.\n",
      "Opening raw data file fif01/chb01_19_raw.fif...\n",
      "    Range : 0 ... 921599 =      0.000 ...  3599.996 secs\n",
      "Ready.\n",
      "Opening raw data file fif01/chb01_20_raw.fif...\n",
      "    Range : 0 ... 681727 =      0.000 ...  2662.996 secs\n",
      "Ready.\n",
      "Opening raw data file fif01/chb01_21_raw.fif...\n",
      "    Range : 0 ... 921599 =      0.000 ...  3599.996 secs\n",
      "Ready.\n",
      "Opening raw data file fif01/chb01_22_raw.fif...\n",
      "    Range : 0 ... 921599 =      0.000 ...  3599.996 secs\n",
      "Ready.\n",
      "Opening raw data file fif01/chb01_23_raw.fif...\n",
      "    Range : 0 ... 921599 =      0.000 ...  3599.996 secs\n",
      "Ready.\n",
      "Opening raw data file fif01/chb01_24_raw.fif...\n",
      "    Range : 0 ... 921599 =      0.000 ...  3599.996 secs\n",
      "Ready.\n",
      "Opening raw data file fif01/chb01_25_raw.fif...\n",
      "    Range : 0 ... 921599 =      0.000 ...  3599.996 secs\n",
      "Ready.\n",
      "Opening raw data file fif01/chb01_26_raw.fif...\n",
      "    Range : 0 ... 595199 =      0.000 ...  2324.996 secs\n",
      "Ready.\n",
      "Opening raw data file fif01/chb01_27_raw.fif...\n",
      "    Range : 0 ... 153599 =      0.000 ...   599.996 secs\n",
      "Ready.\n",
      "Opening raw data file fif01/chb01_29_raw.fif...\n",
      "    Range : 0 ... 921599 =      0.000 ...  3599.996 secs\n",
      "Ready.\n",
      "Opening raw data file fif01/chb01_30_raw.fif...\n",
      "    Range : 0 ... 921599 =      0.000 ...  3599.996 secs\n",
      "Ready.\n",
      "Opening raw data file fif01/chb01_31_raw.fif...\n",
      "    Range : 0 ... 921599 =      0.000 ...  3599.996 secs\n",
      "Ready.\n",
      "Opening raw data file fif01/chb01_32_raw.fif...\n",
      "    Range : 0 ... 921599 =      0.000 ...  3599.996 secs\n",
      "Ready.\n",
      "Opening raw data file fif01/chb01_33_raw.fif...\n",
      "    Range : 0 ... 921599 =      0.000 ...  3599.996 secs\n",
      "Ready.\n",
      "Opening raw data file fif01/chb01_34_raw.fif...\n",
      "    Range : 0 ... 921599 =      0.000 ...  3599.996 secs\n",
      "Ready.\n",
      "Opening raw data file fif01/chb01_36_raw.fif...\n",
      "    Range : 0 ... 921599 =      0.000 ...  3599.996 secs\n",
      "Ready.\n",
      "Opening raw data file fif01/chb01_37_raw.fif...\n",
      "    Range : 0 ... 921599 =      0.000 ...  3599.996 secs\n",
      "Ready.\n",
      "Opening raw data file fif01/chb01_38_raw.fif...\n",
      "    Range : 0 ... 921599 =      0.000 ...  3599.996 secs\n",
      "Ready.\n",
      "Opening raw data file fif01/chb01_39_raw.fif...\n",
      "    Range : 0 ... 921599 =      0.000 ...  3599.996 secs\n",
      "Ready.\n",
      "Opening raw data file fif01/chb01_40_raw.fif...\n",
      "    Range : 0 ... 921599 =      0.000 ...  3599.996 secs\n",
      "Ready.\n",
      "Opening raw data file fif01/chb01_41_raw.fif...\n",
      "    Range : 0 ... 921599 =      0.000 ...  3599.996 secs\n",
      "Ready.\n",
      "Opening raw data file fif01/chb01_42_raw.fif...\n",
      "    Range : 0 ... 921599 =      0.000 ...  3599.996 secs\n",
      "Ready.\n",
      "Opening raw data file fif01/chb01_43_raw.fif...\n",
      "    Range : 0 ... 921599 =      0.000 ...  3599.996 secs\n",
      "Ready.\n",
      "Opening raw data file fif01/chb01_46_raw.fif...\n",
      "    Range : 0 ... 921599 =      0.000 ...  3599.996 secs\n",
      "Ready.\n"
     ]
    }
   ],
   "source": [
    "raws = mne.concatenate_raws([mne.io.read_raw_fif(f, preload=False) for f in fif_lst])\n",
    "info = raws.info\n",
    "channels = raws.ch_names"
   ]
  },
  {
   "cell_type": "code",
   "execution_count": 11,
   "metadata": {},
   "outputs": [
    {
     "name": "stdout",
     "output_type": "stream",
     "text": [
      "Used Annotations descriptions: ['Nonseizure', 'Seizure']\n"
     ]
    }
   ],
   "source": [
    "\n",
    "event_id = dict(Seizure=1, Nonseizure=0)\n",
    "events_from_annot, event_dict = mne.events_from_annotations(raws, event_id=event_id, chunk_duration=1)"
   ]
  },
  {
   "cell_type": "code",
   "execution_count": 12,
   "metadata": {},
   "outputs": [
    {
     "data": {
      "text/plain": [
       "(array([[       0,        0,        0],\n",
       "        [     256,        0,        0],\n",
       "        [     512,        0,        0],\n",
       "        ...,\n",
       "        [37372160,        0,        0],\n",
       "        [37372416,        0,        0],\n",
       "        [37372672,        0,        0]]), array([145987,      0,    442]))"
      ]
     },
     "execution_count": 12,
     "metadata": {},
     "output_type": "execute_result"
    }
   ],
   "source": [
    "events_from_annot, np.count_nonzero(events_from_annot, axis=0)"
   ]
  },
  {
   "cell_type": "code",
   "execution_count": 13,
   "metadata": {},
   "outputs": [
    {
     "name": "stdout",
     "output_type": "stream",
     "text": [
      "145988 matching events found\n",
      "No baseline correction applied\n",
      "Not setting metadata\n",
      "0 projection items activated\n",
      "Loading data for 145988 events and 257 original time points ...\n",
      "42 bad epochs dropped\n",
      "              precision    recall  f1-score   support\n",
      "\n",
      "           0  0.9999705848 0.9345447548 0.9661513102     36376\n",
      "           1  0.0441589723 0.9909909910 0.0845503459       111\n",
      "\n",
      "    accuracy                      0.9347164744     36487\n",
      "   macro avg  0.5220647785 0.9627678729 0.5253508280     36487\n",
      "weighted avg  0.9970628344 0.9347164744 0.9634693219     36487\n",
      "\n"
     ]
    }
   ],
   "source": [
    "tmin, tmax = -.5, .5\n",
    "epochs = mne.Epochs(raws, events_from_annot, event_id, tmin, tmax, proj=True,\n",
    "                    decim=2, baseline=None, preload=True)\n",
    "\n",
    "labels = epochs.events[:, -1]\n",
    "\n",
    "# get MEG and EEG data\n",
    "\n",
    "picks = mne.pick_types(epochs.info, meg=False, eeg=True)\n",
    "X9 = epochs.get_data()[:, picks]\n",
    "y9 = epochs.events[:, 2]\n",
    "X9.shape, y9.shape\n",
    "\n",
    "X9_2d = X9.reshape(len(X9), -1)\n",
    "\n",
    "from sklearn.model_selection import train_test_split\n",
    "X9_train, X9_test, y9_train, y9_test = train_test_split(\n",
    "X9_2d, y9, stratify=y9)\n",
    "\n",
    "# concatenate our training data back together\n",
    "X9_stack = np.column_stack((X9_train, y9_train))\n",
    "\n",
    "# separate minority and majority classes\n",
    "a = y9_train == 1\n",
    "seizures = X9_stack[a,:]\n",
    "nonseizures = X9_stack[~a,:]\n",
    "nonseizures_downsampled = resample(nonseizures,\n",
    "                                replace = False, # sample without replacement\n",
    "                                n_samples = int(10*len(seizures)), # match minority n\n",
    "                                random_state = 27) # reproducible results\n",
    "\n",
    "# combine minority and downsampled majority\n",
    "downsampled9 = np.vstack((seizures, nonseizures_downsampled))\n",
    "shuff_down9 = shuffle(downsampled9)\n",
    "\n",
    "y9_down = shuff_down9[:,-1]\n",
    "X9_down = np.delete(shuff_down9, -1, axis=1)\n",
    "\n",
    "clf9 = BalancedRandomForestClassifier(n_estimators=300, max_depth=3, random_state=0)\n",
    "clf9.fit(X9_down, y9_down)  \n",
    "BalancedRandomForestClassifier(...)\n",
    "\n",
    "brfc_pred9 = clf9.predict(X9_test)\n",
    "brfc_cr9 = classification_report(y9_test, brfc_pred9, digits=10)\n",
    "print(brfc_cr9)"
   ]
  },
  {
   "cell_type": "code",
   "execution_count": null,
   "metadata": {},
   "outputs": [],
   "source": [
    "from sklearn.model_selection import train_test_split\n",
    "X_train, X_test, y_train, y_test = train_test_split(\n",
    "X_2d, y, stratify=y)\n",
    "\n",
    "# concatenate our training data back together\n",
    "X_stack = np.column_stack((X[train], y[train]))\n",
    "\n",
    "# separate minority and majority classes\n",
    "a = y[train] == 1\n",
    "seizures = X_stack[a,:]\n",
    "nonseizures = X_stack[~a,:]\n",
    "nonseizures_downsampled = resample(nonseizures,\n",
    "                                replace = False, # sample without replacement\n",
    "                                n_samples = int(10*len(seizures)), # match minority n\n",
    "                                random_state = 27) # reproducible results\n",
    "\n",
    "# combine minority and downsampled majority\n",
    "downsampled = np.vstack((seizures, nonseizures_downsampled))\n",
    "shuff_down = shuffle(downsampled)\n",
    "\n",
    "y_down = shuff_down[:,-1]\n",
    "X_down = np.delete(shuff_down, -1, axis=1)\n",
    "\n",
    "clf9 = BalancedRandomForestClassifier(n_estimators=300, max_depth=3, random_state=0)\n",
    "clf9.fit(X9_down, y9_down)  \n",
    "BalancedRandomForestClassifier(...)\n",
    "\n",
    "brfc_pred9 = clf9.predict(X9_test)\n",
    "brfc_cr9 = classification_report(y9_test, brfc_pred9, digits=10)\n",
    "print(brfc_cr9)"
   ]
  },
  {
   "cell_type": "code",
   "execution_count": null,
   "metadata": {},
   "outputs": [],
   "source": [
    "def check_extension(filename:str, ext:str='.png') -> str:\n",
    "    \"\"\"\n",
    "    Verify if a filename ends with a desired extension, coerces if not\n",
    "    \n",
    "    Args:\n",
    "        filename (str): input filename [e.g. 'plot.png']\n",
    "        ext (str): desired extension [default: '.png']\n",
    "        \n",
    "    Returns:\n",
    "        str: output filename, original if valid ext\n",
    "        \n",
    "    \"\"\"\n",
    "    # Add '.' to extension if not input\n",
    "    \n",
    "    if not filename.endswith(ext): \n",
    "        new_filename = filename + ext\n",
    "        print(f\"Filename changed from '{filename}' to '{new_filename}'\")\n",
    "        return new_filename\n",
    "    else:\n",
    "        return filename\n",
    "\n",
    "\n",
    "def plot_binary_ROC(clf, X, y, scaler=None, cv_fold:int=3, pos_label_:int=None, dpi_:int=150, png_filename:str=None, verbose:bool=False):\n",
    "    \"\"\"\n",
    "    Plot a ROC curve for a binary classifier with n='cv-fold' cross-validations\n",
    "    \n",
    "    Args:\n",
    "        clf:          untrained classifier object (e.g. rf_clf = RandomForestClassifer())\n",
    "        X:            training + testing data\n",
    "        y:            targets (numeric/integers)\n",
    "        scaler:       scaler to rescale data, e.g. StandardScaler() [default: None]\n",
    "        cv_fold:      cross-validations to run [default: 3]\n",
    "        dpi_:         dpi resolution for plot (x,y) [default: 150] \n",
    "        pos_label_:   if targets are not binary (0, 1) then indicate integer for \"positive\" [default: None]\n",
    "        png_filename: if you wish to save to png, give filename [default: None]\n",
    "    \n",
    "    Returns:\n",
    "        clf: trained scikit learn classifer object\n",
    "    \n",
    "    LEGEND:\n",
    "        - AUC: area under ROC curve\n",
    "        - TPR: true positive rate\n",
    "        - FPR: false positive rate\n",
    "        - AP: average precision\n",
    "        - Max F1: maximum F1 score\n",
    "    \"\"\"\n",
    "    \n",
    "    \"\"\" Setup \"\"\"\n",
    "    \n",
    "    from sklearn.model_selection import train_test_split, StratifiedKFold  # sklearn > v0.18\n",
    "\n",
    "    # rescale data\n",
    "    if scaler is not None:\n",
    "        X = scaler.fit_transform(X)\n",
    "        if verbose:\n",
    "            print(f\"Data (X) rescaled using {scaler}.\")\n",
    "\n",
    "    # Set up mean true and false positive rates\n",
    "    # -- mean_tpr begins as 0, and we'll update it as we fit the classifiers\n",
    "    # -- mean_fpr is our x-axis so we pre-calculate it from 0 to 100 (%)\n",
    "    mean_tpr, mean_fpr = 0, np.linspace(0, 1, 101) # np.linspace(start, stop, datapoints)\n",
    "    mean_prec, mean_rec = 0, np.linspace(0, 1, 101) # np.linspace(start, stop, datapoints)\n",
    "\n",
    "    # Set the cross-validation fold\n",
    "    if cv_fold > 1:\n",
    "        skf = StratifiedKFold(cv_fold)\n",
    "    else:\n",
    "        print(f\"ERROR: cv_fold set as {cv_fold}, but must be > 1.\")\n",
    "        return clf\n",
    "\n",
    "    \"\"\" Plotting \"\"\"\n",
    "    \n",
    "    # Create new plot\n",
    "    fig, (ax1, ax2) = plt.subplots(nrows=1, ncols=2, dpi=dpi_)\n",
    "    \n",
    "    # Set the matplotlib colorwheel as a cycle\n",
    "    colors = cycle(list(cnames.keys()))\n",
    "    \n",
    "    # Loop over each split in the data and plot the ROC for each cv_fold\n",
    "    # -- skf.split(X,y) returns n=cv_fold splits of the data\n",
    "    # -- zip(skf..., colors) will return a list of tuples with the split data (itself a tuple) and a color\n",
    "    # -- each loop will therefore get its own split of the data and a color for plotting\n",
    "    # -- idx, val in enumerate(...) returns the index (idx) of our loop (0, 1, 2... cv_fold-1)\n",
    "    #        and the actual value i.e. the split data and color\n",
    "    for idx, val in enumerate(zip(skf.split(X, y), colors)):\n",
    "        \n",
    "        # retrieve training and test data and color/labels\n",
    "        (train, test), color = val\n",
    "        # concatenate our training data back together\n",
    "        X_stack = np.column_stack((X[train], y[train]))\n",
    "        \n",
    "        # separate minority and majority classes\n",
    "        a = y[train] == 1\n",
    "        seizures = X_stack[a,:]\n",
    "        nonseizures = X_stack[~a,:]\n",
    "        nonseizures_downsampled = resample(nonseizures,\n",
    "                                        replace = False, # sample without replacement\n",
    "                                        n_samples = int(10*len(seizures)), # match minority n\n",
    "                                        random_state = 27) # reproducible results\n",
    "\n",
    "        # combine minority and downsampled majority\n",
    "        downsampled = np.vstack((seizures, nonseizures_downsampled))\n",
    "        shuff_down = shuffle(downsampled)\n",
    "\n",
    "        y_down = shuff_down[:,-1]\n",
    "        X_down = np.delete(shuff_down, -1, axis=1)\n",
    "\n",
    "        # train and retrieve probabilities of class per feature for the test data\n",
    "        # probas_ will have a shape of n_instances by 2 classes, with the sum of each row = 1\n",
    "        try:\n",
    "            probas_ = clf.fit(X_down, y_down).predict_proba(X[test])\n",
    "        except:\n",
    "            print(\"Check if classifer allows for probability calculation.\")\n",
    "            break\n",
    "\n",
    "        # get false and true positive rates (and thresholds, which is not used but shown here for fyi)\n",
    "        try:\n",
    "            fpr, tpr, _ = roc_curve(y[test], probas_[:,1], pos_label=pos_label_)\n",
    "            precision, recall, _ = precision_recall_curve(y[test], probas_[:,1], pos_label=pos_label_)\n",
    "            f1_score = 2*(precision*recall)/(precision+recall)\n",
    "            avg_precision = average_precision_score(y[test], probas_[:,1])\n",
    "        except:\n",
    "            print(f\"Warning: target data not binary. Maximum target value of '{np.max(y)}' used as positive.\")\n",
    "            print(\"You can use 'pos_label_' to indicate your own.\")\n",
    "            fpr, tpr, _ = roc_curve(y[test], probas_[:, 1], pos_label=np.max(y))\n",
    "            precision, recall, _ = precision_recall_curve(y[test], probas_[:,1], pos_label=np.max(y))\n",
    "            f1_score = 2*(precision*recall)/(precision+recall)\n",
    "            avg_precision = average_precision_score(y[test], probas_[:,1])\n",
    "\n",
    "        # get area under the curve\n",
    "        roc_auc = auc(fpr, tpr)\n",
    "        \n",
    "        # recalculate mean_tpr curve w/ linear interpolation with mean_fpr, fpr, and tpr\n",
    "        mean_tpr += np.interp(mean_fpr, fpr, tpr)\n",
    "        mean_tpr[0] = 0.0\n",
    "\n",
    "        # recalculate mean_prec curve w/ linear interpolation\n",
    "        mean_prec += np.interp(mean_fpr, recall, precision)\n",
    "        \n",
    "        # PLOT current ROC curve\n",
    "        ax1.plot(fpr, tpr, lw=1, color=color, label=f'AUC = {roc_auc:.3f}')\n",
    "        \n",
    "        # PLOT precision-recall curve with max f1_score\n",
    "        max_f1 = np.max(f1_score)\n",
    "        max_f1_recall = recall[np.argmax(f1_score)]\n",
    "        ax2.plot(recall, precision, lw=1, color=color, label=f'AP = {avg_precision:.3f}, Max F1 = {max_f1:.2f}')\n",
    "        ax2.plot(max_f1_recall, max_f1, 'o', color=color, label=None)\n",
    "\n",
    "    # ROC - PLOT avg roc of all curves\n",
    "    mean_tpr /= skf.get_n_splits(X, y) # normalize by dividing by number of splits\n",
    "    mean_tpr[-1] = 1.0 # constrain last index to 1\n",
    "    mean_auc = auc(mean_fpr, mean_tpr)\n",
    "    ax1.plot(mean_fpr, mean_tpr, color='k', linestyle='--', label=f'$\\mu$(AUC) = {mean_auc:.3f}', lw=0.75)\n",
    "\n",
    "    # PLOT chance (tpr = fpr)\n",
    "    ax1.plot([0, 1], [0, 1], linestyle='--', lw=0.5, color='k')\n",
    "\n",
    "    # ROC - Axes and labels\n",
    "    ax1.set_xlim([-0.05, 1.05])\n",
    "    ax1.set_ylim([-0.05, 1.05])\n",
    "    ax1.set_xlabel('False Positive Rate')\n",
    "    ax1.set_ylabel('True Positive Rate (Recall)')\n",
    "    ax1.set_title(f'ROC curve ({cv_fold}-fold CV)')\n",
    "    ax1.legend(loc=\"lower right\", prop={'size':6})\n",
    "\n",
    "    # PR - Axes and labels\n",
    "    ax2.set_xlim([-0.05, 1.05])\n",
    "    ax2.set_ylim([-0.05, 1.05])\n",
    "    ax2.set_xlabel('True Positive Rate (Recall)')\n",
    "    ax2.set_ylabel('Precision')\n",
    "    ax2.set_title(f'Precision-Recall curve ({cv_fold}-fold CV)')\n",
    "    ax2.legend(loc=\"lower right\", prop={'size':6})\n",
    "    \n",
    "    # set tight layout to fix spacing\n",
    "    plt.tight_layout()\n",
    "\n",
    "    # output\n",
    "    if not png_filename:\n",
    "        plt.show()\n",
    "    else:\n",
    "        png_filename = check_extension(png_filename)\n",
    "        plt.savefig(png_filename)\n",
    "        if verbose:\n",
    "            print(f\"Figure saved as '{png_filename}'\")\n",
    "\n",
    "    return clf\n",
    "\n",
    "\n",
    "# ROC on a Balanced Random Forest Classifier trained on 3 folds \n",
    "balrf_clf = BalancedRandomForestClassifier(n_estimators=300, max_depth=3, random_state=0)\n",
    "# clf.fit(X_down, y_down)  \n",
    "# BalancedRandomForestClassifier(...)\n",
    "\n",
    "# brfc_pred9 = clf9.predict(X9_test)\n",
    "# brfc_cr9 = classification_report(y9_test, brfc_pred9, digits=10)\n",
    "# print(brfc_cr9)\n",
    "balrf_clf = plot_binary_ROC(balrf_clf, X_2D, y, cv_fold=5, dpi_=150, png_filename='roc_test.png')"
   ]
  },
  {
   "cell_type": "code",
   "execution_count": 9,
   "metadata": {},
   "outputs": [],
   "source": [
    "X9_2d = X9.reshape(len(X9), -1)"
   ]
  },
  {
   "cell_type": "code",
   "execution_count": 10,
   "metadata": {},
   "outputs": [],
   "source": [
    "from sklearn.model_selection import train_test_split\n",
    "X9_train, X9_test, y9_train, y9_test = train_test_split(\n",
    "X9_2d, y9, stratify=y9)"
   ]
  },
  {
   "cell_type": "code",
   "execution_count": 11,
   "metadata": {},
   "outputs": [
    {
     "data": {
      "text/plain": [
       "(0.0020427006653006502, 158124, 323)"
      ]
     },
     "execution_count": 11,
     "metadata": {},
     "output_type": "execute_result"
    }
   ],
   "source": [
    "y9_test.sum() / len(y9_test), len(y9_test), y9_test.sum()"
   ]
  },
  {
   "cell_type": "code",
   "execution_count": 12,
   "metadata": {},
   "outputs": [
    {
     "name": "stdout",
     "output_type": "stream",
     "text": [
      "Frequency of unique values of the said array:\n",
      "[[     0      1]\n",
      " [473402    969]]\n"
     ]
    }
   ],
   "source": [
    "unique_elements, counts_elements = np.unique(y9_train, return_counts=True)\n",
    "print(\"Frequency of unique values of the said array:\")\n",
    "print(np.asarray((unique_elements, counts_elements)))"
   ]
  },
  {
   "cell_type": "code",
   "execution_count": 13,
   "metadata": {},
   "outputs": [
    {
     "data": {
      "text/plain": [
       "(969, 9690)"
      ]
     },
     "execution_count": 13,
     "metadata": {},
     "output_type": "execute_result"
    }
   ],
   "source": [
    "# concatenate our training data back together\n",
    "X9_stack = np.column_stack((X9_train, y9_train))\n",
    "\n",
    "# separate minority and majority classes\n",
    "a = y9_train == 1\n",
    "seizures = X9_stack[a,:]\n",
    "nonseizures = X9_stack[~a,:]\n",
    "nonseizures_downsampled = resample(nonseizures,\n",
    "                                replace = False, # sample without replacement\n",
    "                                n_samples = int(10*len(seizures)), # match minority n\n",
    "                                random_state = 27) # reproducible results\n",
    "\n",
    "# combine minority and downsampled majority\n",
    "downsampled9 = np.vstack((seizures, nonseizures_downsampled))\n",
    "shuff_down9 = shuffle(downsampled9)\n",
    "\n",
    "y9_down = shuff_down9[:,-1]\n",
    "X9_down = np.delete(shuff_down9, -1, axis=1)\n",
    "# checking counts\n",
    "len(seizures), len(nonseizures_downsampled)"
   ]
  },
  {
   "cell_type": "code",
   "execution_count": 14,
   "metadata": {},
   "outputs": [
    {
     "name": "stdout",
     "output_type": "stream",
     "text": [
      "[0.00000000e+00 8.40397392e-06 0.00000000e+00 ... 0.00000000e+00\n",
      " 0.00000000e+00 0.00000000e+00]\n"
     ]
    }
   ],
   "source": [
    "clf9 = BalancedRandomForestClassifier(n_estimators=300, max_depth=3, random_state=0)\n",
    "clf9.fit(X9_down, y9_down)  \n",
    "BalancedRandomForestClassifier(...)\n",
    "print(clf9.feature_importances_) "
   ]
  },
  {
   "cell_type": "code",
   "execution_count": 15,
   "metadata": {},
   "outputs": [
    {
     "name": "stdout",
     "output_type": "stream",
     "text": [
      "              precision    recall  f1-score   support\n",
      "\n",
      "           0  0.9998235423 0.8976622455 0.9459926940    157801\n",
      "           1  0.0181188059 0.9226006192 0.0355396541       323\n",
      "\n",
      "    accuracy                      0.8977131871    158124\n",
      "   macro avg  0.5089711741 0.9101314323 0.4907661740    158124\n",
      "weighted avg  0.9978182134 0.8977131871 0.9441329109    158124\n",
      "\n"
     ]
    }
   ],
   "source": [
    "brfc_pred9 = clf9.predict(X9_test)\n",
    "brfc_cr9 = classification_report(y9_test, brfc_pred9, digits=10)\n",
    "print(brfc_cr9)"
   ]
  },
  {
   "cell_type": "code",
   "execution_count": 7,
   "metadata": {},
   "outputs": [
    {
     "name": "stdout",
     "output_type": "stream",
     "text": [
      "Used Annotations descriptions: ['Nonseizure', 'Seizure']\n",
      "863699 matching events found\n",
      "No baseline correction applied\n",
      "Not setting metadata\n",
      "0 projection items activated\n",
      "Loading data for 863699 events and 257 original time points ...\n",
      "154 bad epochs dropped\n",
      "Effective window size : 1.000 (s)\n"
     ]
    },
    {
     "ename": "ValueError",
     "evalue": "number sections must be larger than 0.",
     "output_type": "error",
     "traceback": [
      "\u001b[0;31m---------------------------------------------------------------------------\u001b[0m",
      "\u001b[0;31mTypeError\u001b[0m                                 Traceback (most recent call last)",
      "\u001b[0;32m~/anaconda3/lib/python3.7/site-packages/numpy/lib/shape_base.py\u001b[0m in \u001b[0;36marray_split\u001b[0;34m(ary, indices_or_sections, axis)\u001b[0m\n\u001b[1;32m    754\u001b[0m         \u001b[0;31m# handle array case.\u001b[0m\u001b[0;34m\u001b[0m\u001b[0;34m\u001b[0m\u001b[0;34m\u001b[0m\u001b[0m\n\u001b[0;32m--> 755\u001b[0;31m         \u001b[0mNsections\u001b[0m \u001b[0;34m=\u001b[0m \u001b[0mlen\u001b[0m\u001b[0;34m(\u001b[0m\u001b[0mindices_or_sections\u001b[0m\u001b[0;34m)\u001b[0m \u001b[0;34m+\u001b[0m \u001b[0;36m1\u001b[0m\u001b[0;34m\u001b[0m\u001b[0;34m\u001b[0m\u001b[0m\n\u001b[0m\u001b[1;32m    756\u001b[0m         \u001b[0mdiv_points\u001b[0m \u001b[0;34m=\u001b[0m \u001b[0;34m[\u001b[0m\u001b[0;36m0\u001b[0m\u001b[0;34m]\u001b[0m \u001b[0;34m+\u001b[0m \u001b[0mlist\u001b[0m\u001b[0;34m(\u001b[0m\u001b[0mindices_or_sections\u001b[0m\u001b[0;34m)\u001b[0m \u001b[0;34m+\u001b[0m \u001b[0;34m[\u001b[0m\u001b[0mNtotal\u001b[0m\u001b[0;34m]\u001b[0m\u001b[0;34m\u001b[0m\u001b[0;34m\u001b[0m\u001b[0m\n",
      "\u001b[0;31mTypeError\u001b[0m: object of type 'int' has no len()",
      "\nDuring handling of the above exception, another exception occurred:\n",
      "\u001b[0;31mValueError\u001b[0m                                Traceback (most recent call last)",
      "\u001b[0;32m<ipython-input-7-a4179c1f3498>\u001b[0m in \u001b[0;36m<module>\u001b[0;34m\u001b[0m\n\u001b[1;32m      9\u001b[0m \u001b[0;34m\u001b[0m\u001b[0m\n\u001b[1;32m     10\u001b[0m \u001b[0;32mfrom\u001b[0m \u001b[0mmne\u001b[0m\u001b[0;34m.\u001b[0m\u001b[0mtime_frequency\u001b[0m \u001b[0;32mimport\u001b[0m \u001b[0mpsd_welch\u001b[0m\u001b[0;34m\u001b[0m\u001b[0;34m\u001b[0m\u001b[0m\n\u001b[0;32m---> 11\u001b[0;31m \u001b[0mpsds9\u001b[0m\u001b[0;34m,\u001b[0m \u001b[0mfreqs9\u001b[0m \u001b[0;34m=\u001b[0m \u001b[0mpsd_welch\u001b[0m\u001b[0;34m(\u001b[0m\u001b[0mepochs\u001b[0m\u001b[0;34m,\u001b[0m \u001b[0mfmin\u001b[0m\u001b[0;34m=\u001b[0m\u001b[0;36m1\u001b[0m\u001b[0;34m,\u001b[0m \u001b[0mfmax\u001b[0m\u001b[0;34m=\u001b[0m\u001b[0;36m40\u001b[0m\u001b[0;34m,\u001b[0m \u001b[0mn_fft\u001b[0m\u001b[0;34m=\u001b[0m\u001b[0;36m128\u001b[0m\u001b[0;34m,\u001b[0m \u001b[0mn_overlap\u001b[0m\u001b[0;34m=\u001b[0m\u001b[0;36m.5\u001b[0m\u001b[0;34m,\u001b[0m \u001b[0mn_per_seg\u001b[0m\u001b[0;34m=\u001b[0m\u001b[0;36m128\u001b[0m\u001b[0;34m,\u001b[0m \u001b[0mproj\u001b[0m\u001b[0;34m=\u001b[0m\u001b[0;32mFalse\u001b[0m\u001b[0;34m,\u001b[0m \u001b[0mn_jobs\u001b[0m\u001b[0;34m=\u001b[0m\u001b[0;34m-\u001b[0m\u001b[0;36m1\u001b[0m\u001b[0;34m,\u001b[0m \u001b[0mreject_by_annotation\u001b[0m\u001b[0;34m=\u001b[0m\u001b[0;32mTrue\u001b[0m\u001b[0;34m,\u001b[0m \u001b[0maverage\u001b[0m\u001b[0;34m=\u001b[0m\u001b[0;34m'mean'\u001b[0m\u001b[0;34m,\u001b[0m \u001b[0mverbose\u001b[0m\u001b[0;34m=\u001b[0m\u001b[0;32mNone\u001b[0m\u001b[0;34m)\u001b[0m\u001b[0;34m\u001b[0m\u001b[0;34m\u001b[0m\u001b[0m\n\u001b[0m\u001b[1;32m     12\u001b[0m \u001b[0mpsds9\u001b[0m \u001b[0;34m/=\u001b[0m \u001b[0mnp\u001b[0m\u001b[0;34m.\u001b[0m\u001b[0msum\u001b[0m\u001b[0;34m(\u001b[0m\u001b[0mpsds9\u001b[0m\u001b[0;34m,\u001b[0m \u001b[0maxis\u001b[0m\u001b[0;34m=\u001b[0m\u001b[0;34m-\u001b[0m\u001b[0;36m1\u001b[0m\u001b[0;34m,\u001b[0m \u001b[0mkeepdims\u001b[0m\u001b[0;34m=\u001b[0m\u001b[0;32mTrue\u001b[0m\u001b[0;34m)\u001b[0m\u001b[0;34m\u001b[0m\u001b[0;34m\u001b[0m\u001b[0m\n\u001b[1;32m     13\u001b[0m \u001b[0mpsds_rs9\u001b[0m \u001b[0;34m=\u001b[0m \u001b[0mpsds9\u001b[0m\u001b[0;34m.\u001b[0m\u001b[0mreshape\u001b[0m\u001b[0;34m(\u001b[0m\u001b[0mlen\u001b[0m\u001b[0;34m(\u001b[0m\u001b[0mpsds9\u001b[0m\u001b[0;34m)\u001b[0m\u001b[0;34m,\u001b[0m \u001b[0;34m-\u001b[0m\u001b[0;36m1\u001b[0m\u001b[0;34m)\u001b[0m\u001b[0;34m\u001b[0m\u001b[0;34m\u001b[0m\u001b[0m\n",
      "\u001b[0;32m</home/ubuntu/anaconda3/lib/python3.7/site-packages/mne/externals/decorator.py:decorator-gen-74>\u001b[0m in \u001b[0;36mpsd_welch\u001b[0;34m(inst, fmin, fmax, tmin, tmax, n_fft, n_overlap, n_per_seg, picks, proj, n_jobs, reject_by_annotation, average, verbose)\u001b[0m\n",
      "\u001b[0;32m~/anaconda3/lib/python3.7/site-packages/mne/utils/_logging.py\u001b[0m in \u001b[0;36mwrapper\u001b[0;34m(*args, **kwargs)\u001b[0m\n\u001b[1;32m     88\u001b[0m             \u001b[0;32mwith\u001b[0m \u001b[0muse_log_level\u001b[0m\u001b[0;34m(\u001b[0m\u001b[0mverbose_level\u001b[0m\u001b[0;34m)\u001b[0m\u001b[0;34m:\u001b[0m\u001b[0;34m\u001b[0m\u001b[0;34m\u001b[0m\u001b[0m\n\u001b[1;32m     89\u001b[0m                 \u001b[0;32mreturn\u001b[0m \u001b[0mfunction\u001b[0m\u001b[0;34m(\u001b[0m\u001b[0;34m*\u001b[0m\u001b[0margs\u001b[0m\u001b[0;34m,\u001b[0m \u001b[0;34m**\u001b[0m\u001b[0mkwargs\u001b[0m\u001b[0;34m)\u001b[0m\u001b[0;34m\u001b[0m\u001b[0;34m\u001b[0m\u001b[0m\n\u001b[0;32m---> 90\u001b[0;31m         \u001b[0;32mreturn\u001b[0m \u001b[0mfunction\u001b[0m\u001b[0;34m(\u001b[0m\u001b[0;34m*\u001b[0m\u001b[0margs\u001b[0m\u001b[0;34m,\u001b[0m \u001b[0;34m**\u001b[0m\u001b[0mkwargs\u001b[0m\u001b[0;34m)\u001b[0m\u001b[0;34m\u001b[0m\u001b[0;34m\u001b[0m\u001b[0m\n\u001b[0m\u001b[1;32m     91\u001b[0m     return FunctionMaker.create(\n\u001b[1;32m     92\u001b[0m         \u001b[0mfunction\u001b[0m\u001b[0;34m,\u001b[0m \u001b[0;34m'return decfunc(%(signature)s)'\u001b[0m\u001b[0;34m,\u001b[0m\u001b[0;34m\u001b[0m\u001b[0;34m\u001b[0m\u001b[0m\n",
      "\u001b[0;32m~/anaconda3/lib/python3.7/site-packages/mne/time_frequency/psd.py\u001b[0m in \u001b[0;36mpsd_welch\u001b[0;34m(inst, fmin, fmax, tmin, tmax, n_fft, n_overlap, n_per_seg, picks, proj, n_jobs, reject_by_annotation, average, verbose)\u001b[0m\n\u001b[1;32m    252\u001b[0m     return psd_array_welch(data, sfreq, fmin=fmin, fmax=fmax, n_fft=n_fft,\n\u001b[1;32m    253\u001b[0m                            \u001b[0mn_overlap\u001b[0m\u001b[0;34m=\u001b[0m\u001b[0mn_overlap\u001b[0m\u001b[0;34m,\u001b[0m \u001b[0mn_per_seg\u001b[0m\u001b[0;34m=\u001b[0m\u001b[0mn_per_seg\u001b[0m\u001b[0;34m,\u001b[0m\u001b[0;34m\u001b[0m\u001b[0;34m\u001b[0m\u001b[0m\n\u001b[0;32m--> 254\u001b[0;31m                            average=average, n_jobs=n_jobs, verbose=verbose)\n\u001b[0m\u001b[1;32m    255\u001b[0m \u001b[0;34m\u001b[0m\u001b[0m\n\u001b[1;32m    256\u001b[0m \u001b[0;34m\u001b[0m\u001b[0m\n",
      "\u001b[0;32m</home/ubuntu/anaconda3/lib/python3.7/site-packages/mne/externals/decorator.py:decorator-gen-73>\u001b[0m in \u001b[0;36mpsd_array_welch\u001b[0;34m(x, sfreq, fmin, fmax, n_fft, n_overlap, n_per_seg, n_jobs, average, verbose)\u001b[0m\n",
      "\u001b[0;32m~/anaconda3/lib/python3.7/site-packages/mne/utils/_logging.py\u001b[0m in \u001b[0;36mwrapper\u001b[0;34m(*args, **kwargs)\u001b[0m\n\u001b[1;32m     88\u001b[0m             \u001b[0;32mwith\u001b[0m \u001b[0muse_log_level\u001b[0m\u001b[0;34m(\u001b[0m\u001b[0mverbose_level\u001b[0m\u001b[0;34m)\u001b[0m\u001b[0;34m:\u001b[0m\u001b[0;34m\u001b[0m\u001b[0;34m\u001b[0m\u001b[0m\n\u001b[1;32m     89\u001b[0m                 \u001b[0;32mreturn\u001b[0m \u001b[0mfunction\u001b[0m\u001b[0;34m(\u001b[0m\u001b[0;34m*\u001b[0m\u001b[0margs\u001b[0m\u001b[0;34m,\u001b[0m \u001b[0;34m**\u001b[0m\u001b[0mkwargs\u001b[0m\u001b[0;34m)\u001b[0m\u001b[0;34m\u001b[0m\u001b[0;34m\u001b[0m\u001b[0m\n\u001b[0;32m---> 90\u001b[0;31m         \u001b[0;32mreturn\u001b[0m \u001b[0mfunction\u001b[0m\u001b[0;34m(\u001b[0m\u001b[0;34m*\u001b[0m\u001b[0margs\u001b[0m\u001b[0;34m,\u001b[0m \u001b[0;34m**\u001b[0m\u001b[0mkwargs\u001b[0m\u001b[0;34m)\u001b[0m\u001b[0;34m\u001b[0m\u001b[0;34m\u001b[0m\u001b[0m\n\u001b[0m\u001b[1;32m     91\u001b[0m     return FunctionMaker.create(\n\u001b[1;32m     92\u001b[0m         \u001b[0mfunction\u001b[0m\u001b[0;34m,\u001b[0m \u001b[0;34m'return decfunc(%(signature)s)'\u001b[0m\u001b[0;34m,\u001b[0m\u001b[0;34m\u001b[0m\u001b[0;34m\u001b[0m\u001b[0m\n",
      "\u001b[0;32m~/anaconda3/lib/python3.7/site-packages/mne/time_frequency/psd.py\u001b[0m in \u001b[0;36mpsd_array_welch\u001b[0;34m(x, sfreq, fmin, fmax, n_fft, n_overlap, n_per_seg, n_jobs, average, verbose)\u001b[0m\n\u001b[1;32m    139\u001b[0m \u001b[0;34m\u001b[0m\u001b[0m\n\u001b[1;32m    140\u001b[0m     \u001b[0;31m# Parallelize across first N-1 dimensions\u001b[0m\u001b[0;34m\u001b[0m\u001b[0;34m\u001b[0m\u001b[0;34m\u001b[0m\u001b[0m\n\u001b[0;32m--> 141\u001b[0;31m     \u001b[0mx_splits\u001b[0m \u001b[0;34m=\u001b[0m \u001b[0mnp\u001b[0m\u001b[0;34m.\u001b[0m\u001b[0marray_split\u001b[0m\u001b[0;34m(\u001b[0m\u001b[0mx\u001b[0m\u001b[0;34m,\u001b[0m \u001b[0mn_jobs\u001b[0m\u001b[0;34m)\u001b[0m\u001b[0;34m\u001b[0m\u001b[0;34m\u001b[0m\u001b[0m\n\u001b[0m\u001b[1;32m    142\u001b[0m \u001b[0;34m\u001b[0m\u001b[0m\n\u001b[1;32m    143\u001b[0m     \u001b[0;32mif\u001b[0m \u001b[0maverage\u001b[0m \u001b[0;32min\u001b[0m \u001b[0;34m[\u001b[0m\u001b[0;34m'mean'\u001b[0m\u001b[0;34m,\u001b[0m \u001b[0;34m'median'\u001b[0m\u001b[0;34m]\u001b[0m\u001b[0;34m:\u001b[0m\u001b[0;34m\u001b[0m\u001b[0;34m\u001b[0m\u001b[0m\n",
      "\u001b[0;32m<__array_function__ internals>\u001b[0m in \u001b[0;36marray_split\u001b[0;34m(*args, **kwargs)\u001b[0m\n",
      "\u001b[0;32m~/anaconda3/lib/python3.7/site-packages/numpy/lib/shape_base.py\u001b[0m in \u001b[0;36marray_split\u001b[0;34m(ary, indices_or_sections, axis)\u001b[0m\n\u001b[1;32m    759\u001b[0m         \u001b[0mNsections\u001b[0m \u001b[0;34m=\u001b[0m \u001b[0mint\u001b[0m\u001b[0;34m(\u001b[0m\u001b[0mindices_or_sections\u001b[0m\u001b[0;34m)\u001b[0m\u001b[0;34m\u001b[0m\u001b[0;34m\u001b[0m\u001b[0m\n\u001b[1;32m    760\u001b[0m         \u001b[0;32mif\u001b[0m \u001b[0mNsections\u001b[0m \u001b[0;34m<=\u001b[0m \u001b[0;36m0\u001b[0m\u001b[0;34m:\u001b[0m\u001b[0;34m\u001b[0m\u001b[0;34m\u001b[0m\u001b[0m\n\u001b[0;32m--> 761\u001b[0;31m             \u001b[0;32mraise\u001b[0m \u001b[0mValueError\u001b[0m\u001b[0;34m(\u001b[0m\u001b[0;34m'number sections must be larger than 0.'\u001b[0m\u001b[0;34m)\u001b[0m\u001b[0;34m\u001b[0m\u001b[0;34m\u001b[0m\u001b[0m\n\u001b[0m\u001b[1;32m    762\u001b[0m         \u001b[0mNeach_section\u001b[0m\u001b[0;34m,\u001b[0m \u001b[0mextras\u001b[0m \u001b[0;34m=\u001b[0m \u001b[0mdivmod\u001b[0m\u001b[0;34m(\u001b[0m\u001b[0mNtotal\u001b[0m\u001b[0;34m,\u001b[0m \u001b[0mNsections\u001b[0m\u001b[0;34m)\u001b[0m\u001b[0;34m\u001b[0m\u001b[0;34m\u001b[0m\u001b[0m\n\u001b[1;32m    763\u001b[0m         section_sizes = ([0] +\n",
      "\u001b[0;31mValueError\u001b[0m: number sections must be larger than 0."
     ]
    }
   ],
   "source": [
    "\n",
    "event_id = dict(Seizure=1, Nonseizure=0)\n",
    "events_from_annot, event_dict = mne.events_from_annotations(raws, event_id=event_id, chunk_duration=1)\n",
    "\n",
    "tmin, tmax = -.5, .5\n",
    "epochs = mne.Epochs(raws, events_from_annot, event_id, tmin, tmax, proj=True,\n",
    "                    decim=2, baseline=None, preload=True)\n",
    "\n",
    "y9 = epochs.events[:, 2]\n",
    "\n",
    "from mne.time_frequency import psd_welch\n",
    "psds9, freqs9 = psd_welch(epochs, fmin=1, fmax=40, n_fft=128, n_overlap=.5, n_per_seg=128, proj=False, n_jobs=-1, reject_by_annotation=True, average='mean', verbose=None)\n",
    "psds9 /= np.sum(psds9, axis=-1, keepdims=True)\n",
    "psds_rs9 = psds9.reshape(len(psds9), -1)\n",
    "\n",
    "from sklearn.model_selection import train_test_split\n",
    "X9p_train, X9p_test, y9p_train, y9p_test = train_test_split(\n",
    "psds_rs9, y9, stratify=y9)\n",
    "\n",
    "# concatenate our training data back together\n",
    "X9p_stack = np.column_stack((X9p_train, y9p_train))\n",
    "\n",
    "# separate minority and majority classes\n",
    "a = y9p_train == 1\n",
    "seizures = X9p_stack[a,:]\n",
    "nonseizures = X9p_stack[~a,:]\n",
    "nonseizures_downsampled = resample(nonseizures,\n",
    "                                replace = False, # sample without replacement\n",
    "                                n_samples = int(10*len(seizures)), # match minority n\n",
    "                                random_state = 27) # reproducible results\n",
    "\n",
    "# combine minority and downsampled majority\n",
    "downsampled9p = np.vstack((seizures, nonseizures_downsampled))\n",
    "shuff_down9p = shuffle(downsampled9p)\n",
    "\n",
    "y9p_down = shuff_down9p[:,-1]\n",
    "X9p_down = np.delete(shuff_down9p, -1, axis=1)\n",
    "\n",
    "clf9p = BalancedRandomForestClassifier(n_estimators=300, max_depth=3, random_state=0)\n",
    "clf9p.fit(X9p_down, y9p_down)  \n",
    "BalancedRandomForestClassifier(...)\n",
    "print(clf9p.feature_importances_) \n",
    "\n",
    "brfc_pred9p = clf9p.predict(X9p_test)\n",
    "brfc_cr9p = classification_report(y9p_test, brfc_pred9p, digits=10)\n",
    "print(brfc_cr9p)"
   ]
  },
  {
   "cell_type": "code",
   "execution_count": 18,
   "metadata": {},
   "outputs": [],
   "source": [
    "from sklearn.model_selection import train_test_split\n",
    "X9p_train, X9p_test, y9p_train, y9p_test = train_test_split(\n",
    "psds_rs9, y9, stratify=y9)"
   ]
  },
  {
   "cell_type": "code",
   "execution_count": 19,
   "metadata": {},
   "outputs": [
    {
     "data": {
      "text/plain": [
       "(667, 6670)"
      ]
     },
     "execution_count": 19,
     "metadata": {},
     "output_type": "execute_result"
    }
   ],
   "source": [
    "# concatenate our training data back together\n",
    "X9p_stack = np.column_stack((X9p_train, y9p_train))\n",
    "\n",
    "# separate minority and majority classes\n",
    "a = y9p_train == 1\n",
    "seizures = X9p_stack[a,:]\n",
    "nonseizures = X9p_stack[~a,:]\n",
    "nonseizures_downsampled = resample(nonseizures,\n",
    "                                replace = False, # sample without replacement\n",
    "                                n_samples = int(10*len(seizures)), # match minority n\n",
    "                                random_state = 27) # reproducible results\n",
    "\n",
    "# combine minority and downsampled majority\n",
    "downsampled9p = np.vstack((seizures, nonseizures_downsampled))\n",
    "shuff_down9p = shuffle(downsampled9p)\n",
    "\n",
    "y9p_down = shuff_down9p[:,-1]\n",
    "X9p_down = np.delete(shuff_down9p, -1, axis=1)\n",
    "# checking counts\n",
    "len(seizures), len(nonseizures_downsampled)"
   ]
  },
  {
   "cell_type": "code",
   "execution_count": 20,
   "metadata": {},
   "outputs": [
    {
     "name": "stdout",
     "output_type": "stream",
     "text": [
      "[0.00000000e+00 7.89948603e-04 4.82446619e-04 1.99476933e-04\n",
      " 0.00000000e+00 5.19040498e-04 1.77625128e-04 8.12890825e-05\n",
      " 2.75742008e-04 0.00000000e+00 1.02005027e-03 1.24780278e-03\n",
      " 3.40291096e-04 2.71616226e-04 0.00000000e+00 4.21382947e-03\n",
      " 3.62329198e-04 1.51791135e-03 3.44138386e-04 0.00000000e+00\n",
      " 5.34875225e-04 8.28170160e-05 0.00000000e+00 7.78278718e-05\n",
      " 8.32870702e-05 0.00000000e+00 4.00527944e-04 0.00000000e+00\n",
      " 0.00000000e+00 0.00000000e+00 0.00000000e+00 1.90539563e-04\n",
      " 0.00000000e+00 3.24532356e-04 0.00000000e+00 1.61940651e-04\n",
      " 0.00000000e+00 1.18670447e-04 0.00000000e+00 1.76626116e-04\n",
      " 2.02590290e-03 0.00000000e+00 3.47246147e-03 1.89282381e-04\n",
      " 1.56479922e-04 2.10874473e-04 6.75066494e-05 6.38067349e-04\n",
      " 0.00000000e+00 7.47939432e-04 2.00679808e-04 0.00000000e+00\n",
      " 1.90703065e-04 2.30735571e-04 8.58970461e-05 0.00000000e+00\n",
      " 2.79732278e-04 1.10960729e-04 4.12420159e-04 0.00000000e+00\n",
      " 2.12478609e-04 0.00000000e+00 0.00000000e+00 0.00000000e+00\n",
      " 0.00000000e+00 0.00000000e+00 6.03731743e-04 4.25346087e-04\n",
      " 1.00096585e-03 0.00000000e+00 0.00000000e+00 9.69870967e-04\n",
      " 2.87084989e-04 0.00000000e+00 2.77918158e-04 3.97751757e-04\n",
      " 0.00000000e+00 0.00000000e+00 1.53699977e-04 3.69393129e-04\n",
      " 6.90611693e-03 1.02703712e-04 3.34171668e-04 2.94389598e-04\n",
      " 5.35155180e-05 0.00000000e+00 1.08454859e-03 9.00740951e-04\n",
      " 1.91298942e-03 1.76775002e-03 4.17037709e-04 0.00000000e+00\n",
      " 3.24302456e-04 3.07038969e-04 3.31340895e-04 0.00000000e+00\n",
      " 0.00000000e+00 1.52983092e-04 1.89600724e-04 5.48571772e-05\n",
      " 2.38828453e-04 0.00000000e+00 0.00000000e+00 2.20028290e-03\n",
      " 5.41853754e-04 0.00000000e+00 3.29720182e-04 9.11722542e-04\n",
      " 3.51121026e-04 0.00000000e+00 0.00000000e+00 1.80019921e-03\n",
      " 0.00000000e+00 0.00000000e+00 0.00000000e+00 2.83129298e-03\n",
      " 1.19367179e-03 2.67331865e-04 4.39774935e-04 5.11365566e-04\n",
      " 3.00781113e-04 4.35031720e-03 6.16569462e-04 3.87359226e-04\n",
      " 6.04271047e-05 1.10424966e-04 9.51396280e-04 4.07093499e-04\n",
      " 1.18877458e-03 0.00000000e+00 6.44073497e-04 2.41176856e-03\n",
      " 7.61672867e-04 1.34879121e-03 8.89960279e-04 1.33527927e-04\n",
      " 2.07937835e-04 2.04287628e-03 2.33604430e-04 3.27888695e-04\n",
      " 3.58786856e-04 0.00000000e+00 0.00000000e+00 0.00000000e+00\n",
      " 0.00000000e+00 0.00000000e+00 4.06739435e-04 8.15017960e-04\n",
      " 1.04191290e-03 3.03517558e-04 4.88697639e-04 3.37365191e-03\n",
      " 8.33010711e-04 2.11241529e-04 1.24045375e-04 0.00000000e+00\n",
      " 3.52556260e-04 3.58617269e-04 0.00000000e+00 0.00000000e+00\n",
      " 1.00016774e-03 6.18667180e-03 3.28824980e-03 3.59106122e-04\n",
      " 0.00000000e+00 0.00000000e+00 3.87617618e-04 1.24802739e-03\n",
      " 1.29073987e-04 0.00000000e+00 4.35791601e-04 4.82263221e-04\n",
      " 1.21865874e-03 8.40524683e-04 2.77525662e-04 1.12255797e-03\n",
      " 6.25166652e-04 0.00000000e+00 0.00000000e+00 1.35664302e-04\n",
      " 0.00000000e+00 3.00612949e-04 0.00000000e+00 0.00000000e+00\n",
      " 1.31274525e-04 3.55265491e-04 1.56472079e-04 3.07674336e-04\n",
      " 6.63842325e-04 0.00000000e+00 2.85420493e-04 9.46933996e-04\n",
      " 1.43728209e-04 0.00000000e+00 0.00000000e+00 0.00000000e+00\n",
      " 2.79008069e-04 7.33012979e-04 5.30324190e-04 0.00000000e+00\n",
      " 1.22723303e-03 0.00000000e+00 8.01686241e-03 3.80952874e-04\n",
      " 0.00000000e+00 0.00000000e+00 1.72285282e-04 4.92874777e-04\n",
      " 0.00000000e+00 6.68529763e-05 1.65698916e-03 3.56980090e-03\n",
      " 1.27121923e-03 1.71665330e-04 2.52884339e-03 4.76594041e-03\n",
      " 1.71309749e-03 2.00179862e-03 4.56621486e-03 4.72691478e-03\n",
      " 8.29503469e-04 5.80342136e-04 0.00000000e+00 5.96553964e-03\n",
      " 5.12370222e-04 1.81992114e-03 4.20374195e-03 1.99237049e-03\n",
      " 2.17947748e-03 0.00000000e+00 1.63238847e-03 9.77487890e-03\n",
      " 1.98720952e-03 3.63660409e-04 4.41864939e-04 1.17838597e-03\n",
      " 2.32476107e-04 0.00000000e+00 0.00000000e+00 0.00000000e+00\n",
      " 3.46953203e-03 0.00000000e+00 9.10410359e-04 0.00000000e+00\n",
      " 9.29694958e-05 1.05278619e-04 0.00000000e+00 2.95153052e-04\n",
      " 1.65947707e-03 4.55653143e-04 1.54548187e-04 0.00000000e+00\n",
      " 3.51482952e-04 1.40819327e-03 0.00000000e+00 0.00000000e+00\n",
      " 2.47884738e-04 7.20306636e-05 0.00000000e+00 1.51861559e-04\n",
      " 0.00000000e+00 0.00000000e+00 0.00000000e+00 0.00000000e+00\n",
      " 0.00000000e+00 0.00000000e+00 3.59959758e-04 1.39377128e-03\n",
      " 0.00000000e+00 0.00000000e+00 2.60981880e-04 3.64436090e-03\n",
      " 0.00000000e+00 0.00000000e+00 0.00000000e+00 9.67104598e-04\n",
      " 8.68029216e-04 0.00000000e+00 0.00000000e+00 0.00000000e+00\n",
      " 3.65227301e-04 3.51052225e-04 0.00000000e+00 6.94896526e-05\n",
      " 0.00000000e+00 6.97820962e-04 4.67313746e-04 0.00000000e+00\n",
      " 0.00000000e+00 1.37197508e-04 0.00000000e+00 0.00000000e+00\n",
      " 0.00000000e+00 1.25620548e-03 9.59511567e-04 0.00000000e+00\n",
      " 3.18211213e-04 6.40815753e-04 3.85895569e-04 2.45654898e-04\n",
      " 4.55164682e-04 5.40612184e-04 9.12088857e-04 1.34910548e-04\n",
      " 0.00000000e+00 0.00000000e+00 6.77791357e-04 7.24785279e-04\n",
      " 5.85764013e-04 1.33318881e-05 0.00000000e+00 7.96742474e-03\n",
      " 3.72905934e-04 0.00000000e+00 0.00000000e+00 4.99707314e-03\n",
      " 0.00000000e+00 0.00000000e+00 0.00000000e+00 0.00000000e+00\n",
      " 1.96297642e-04 4.37813085e-04 4.69910853e-04 1.43335592e-04\n",
      " 0.00000000e+00 0.00000000e+00 0.00000000e+00 2.77205364e-04\n",
      " 0.00000000e+00 1.95096459e-04 9.47051129e-04 2.64229046e-03\n",
      " 4.01271340e-03 1.68301582e-03 9.12247403e-04 2.20017373e-03\n",
      " 0.00000000e+00 8.29955765e-04 0.00000000e+00 2.09709865e-04\n",
      " 0.00000000e+00 0.00000000e+00 3.84881526e-04 4.98326817e-04\n",
      " 3.89105537e-04 1.79750032e-04 3.98803450e-04 0.00000000e+00\n",
      " 0.00000000e+00 1.53000071e-03 2.34807203e-04 3.26201078e-04\n",
      " 4.58620724e-04 1.04117497e-03 1.34858593e-03 4.87916744e-04\n",
      " 5.66860068e-04 3.87665827e-03 1.04660609e-03 1.05305712e-03\n",
      " 0.00000000e+00 2.23287859e-04 5.69700016e-03 5.62977122e-04\n",
      " 2.71976384e-04 0.00000000e+00 8.90859937e-04 5.54035317e-04\n",
      " 3.38762184e-04 1.00735236e-03 8.71923661e-03 1.24549675e-02\n",
      " 6.65297959e-03 3.06327708e-03 2.70457184e-03 1.27298388e-02\n",
      " 1.48733751e-02 1.66794248e-02 1.83956808e-02 3.83640852e-03\n",
      " 7.60014005e-03 4.36296566e-03 3.22460806e-03 4.39649296e-03\n",
      " 1.32548714e-03 1.50570057e-03 1.06760319e-02 2.57248434e-03\n",
      " 1.00043516e-03 0.00000000e+00 7.43121867e-04 2.16050443e-03\n",
      " 0.00000000e+00 0.00000000e+00 2.08419863e-04 4.64387375e-04\n",
      " 2.47159097e-04 0.00000000e+00 2.03095559e-04 0.00000000e+00\n",
      " 6.55557253e-05 1.73076383e-03 1.40168555e-02 1.75555791e-03\n",
      " 0.00000000e+00 0.00000000e+00 2.78136910e-04 4.44073404e-04\n",
      " 7.55465716e-04 4.04053264e-04 1.44087268e-03 5.49148631e-03\n",
      " 2.79081364e-03 7.57713647e-04 0.00000000e+00 2.52310807e-04\n",
      " 1.01150240e-03 5.47083374e-05 9.00050987e-04 7.95070013e-04\n",
      " 3.09718717e-04 6.18577729e-05 0.00000000e+00 1.87481131e-03\n",
      " 0.00000000e+00 1.23251929e-04 9.38255912e-03 1.81928929e-02\n",
      " 4.36302724e-03 0.00000000e+00 4.01716878e-03 1.53281077e-02\n",
      " 2.51421746e-03 1.94513907e-04 8.05477641e-03 1.58525576e-02\n",
      " 2.32023984e-03 0.00000000e+00 5.22982524e-04 0.00000000e+00\n",
      " 3.36971302e-04 0.00000000e+00 4.77986691e-03 3.00062907e-04\n",
      " 0.00000000e+00 4.83555277e-04 0.00000000e+00 0.00000000e+00\n",
      " 0.00000000e+00 0.00000000e+00 8.61870291e-04 6.44328079e-04\n",
      " 1.60208504e-04 1.41998490e-04 0.00000000e+00 1.05343085e-04\n",
      " 0.00000000e+00 6.14281236e-04 0.00000000e+00 0.00000000e+00\n",
      " 3.74255999e-04 1.35500592e-03 5.40161544e-05 4.31522585e-04\n",
      " 0.00000000e+00 2.59051107e-04 4.78486776e-03 8.32877317e-03\n",
      " 1.99623706e-03 0.00000000e+00 2.57727354e-04 2.48627869e-03\n",
      " 0.00000000e+00 0.00000000e+00 1.06219100e-03 2.98069564e-02\n",
      " 4.68230968e-03 0.00000000e+00 0.00000000e+00 0.00000000e+00\n",
      " 0.00000000e+00 2.59183428e-03 1.14848198e-03 7.30124150e-05\n",
      " 2.93738774e-04 5.97755050e-04 5.04522394e-04 2.29952585e-04\n",
      " 2.93845293e-04 2.32425320e-03 2.29783681e-03 1.04358193e-03\n",
      " 7.74500227e-04 3.83689515e-04 1.20037346e-03 1.01031357e-03\n",
      " 0.00000000e+00 1.99046553e-04 1.69147277e-05 0.00000000e+00\n",
      " 1.33738367e-04 0.00000000e+00 0.00000000e+00 2.23019304e-04\n",
      " 0.00000000e+00 5.32603477e-04 0.00000000e+00 0.00000000e+00\n",
      " 2.22586692e-04 2.60918794e-04 1.38742067e-04 0.00000000e+00\n",
      " 1.10902836e-03 2.69863664e-04 5.76241457e-04 0.00000000e+00\n",
      " 0.00000000e+00 5.72066294e-04 5.49176744e-04 2.58104322e-04\n",
      " 0.00000000e+00 0.00000000e+00 0.00000000e+00 2.47328595e-04\n",
      " 0.00000000e+00 1.47459549e-04 2.75193201e-04 5.01444148e-04\n",
      " 6.70186603e-04 2.06099355e-04 0.00000000e+00 6.70489469e-04\n",
      " 0.00000000e+00 3.91260352e-04 2.19737722e-04 1.89284229e-03\n",
      " 2.72902877e-04 0.00000000e+00 0.00000000e+00 3.69986086e-04\n",
      " 0.00000000e+00 0.00000000e+00 0.00000000e+00 0.00000000e+00\n",
      " 8.71112540e-05 0.00000000e+00 0.00000000e+00 1.01868030e-04\n",
      " 0.00000000e+00 4.02479055e-04 0.00000000e+00 5.09460397e-04\n",
      " 0.00000000e+00 5.83162453e-04 0.00000000e+00 0.00000000e+00\n",
      " 1.83429585e-04 7.50632208e-04 3.33757756e-04 0.00000000e+00\n",
      " 7.76939238e-04 0.00000000e+00 4.68481224e-04 0.00000000e+00\n",
      " 3.19794478e-04 5.99269625e-04 3.65128386e-04 0.00000000e+00\n",
      " 0.00000000e+00 0.00000000e+00 0.00000000e+00 0.00000000e+00\n",
      " 0.00000000e+00 0.00000000e+00 0.00000000e+00 0.00000000e+00\n",
      " 0.00000000e+00 0.00000000e+00 0.00000000e+00 0.00000000e+00\n",
      " 1.49003794e-04 1.72125185e-04 0.00000000e+00 0.00000000e+00\n",
      " 0.00000000e+00 2.37443567e-04 0.00000000e+00 0.00000000e+00\n",
      " 0.00000000e+00 0.00000000e+00 0.00000000e+00 9.25020773e-04\n",
      " 0.00000000e+00 0.00000000e+00 3.35608452e-04 0.00000000e+00\n",
      " 0.00000000e+00 1.14703740e-03 4.41399522e-04 2.12464302e-04\n",
      " 4.10298930e-03 0.00000000e+00 1.85573309e-04 1.33269019e-04\n",
      " 7.43180688e-04 5.68141676e-04 9.54039843e-04 0.00000000e+00\n",
      " 1.13433015e-03 0.00000000e+00 3.20703105e-03 3.12340026e-03\n",
      " 6.07611666e-04 1.11095694e-03 4.26190371e-04 0.00000000e+00\n",
      " 1.45754154e-04 3.40385282e-03 9.26700241e-04 5.56842342e-04\n",
      " 1.89601658e-03 8.15257329e-03 3.49162523e-03 1.30982279e-03\n",
      " 3.53442353e-03 1.30517177e-03 8.95999216e-04 0.00000000e+00\n",
      " 1.69426865e-04 1.30851007e-03 2.39568464e-04 0.00000000e+00\n",
      " 1.77600741e-03 3.78000292e-03 9.51894445e-04 8.71748795e-04\n",
      " 0.00000000e+00 6.46483455e-03 1.79201679e-03 4.35762182e-03\n",
      " 4.86345396e-04 3.20639426e-03 8.49821066e-03 1.82989402e-03\n",
      " 9.94520770e-05 4.22369492e-04 1.25172237e-03 1.67554201e-03\n",
      " 2.33077593e-04 9.83962591e-04 2.71517174e-03 4.53183732e-03\n",
      " 2.96827923e-03 2.81211891e-03 3.02491612e-03 1.35004364e-02\n",
      " 1.12779520e-02 1.13301268e-02 1.03484985e-02 1.31738219e-02\n",
      " 2.53980973e-03 2.39461540e-03 2.86076966e-03 0.00000000e+00\n",
      " 1.42450200e-03 8.41164657e-04 2.70098008e-03 9.28877192e-03\n",
      " 3.96291145e-03 2.34990831e-03 4.64302910e-04 1.49847768e-03\n",
      " 1.17740617e-03 4.86326075e-04 0.00000000e+00 1.00800258e-02\n",
      " 9.80260765e-04 0.00000000e+00 0.00000000e+00 0.00000000e+00\n",
      " 7.51895712e-04 0.00000000e+00 5.41445456e-03 4.35164726e-04\n",
      " 0.00000000e+00 0.00000000e+00 1.03286823e-03 7.19381769e-04\n",
      " 2.30244190e-04 0.00000000e+00 0.00000000e+00 2.59169342e-03\n",
      " 1.17529561e-03 3.95654044e-04 1.90304371e-04 1.04791225e-03\n",
      " 1.29276325e-03 4.52056869e-04 5.30964200e-04 1.06711621e-03\n",
      " 6.62615893e-04 9.11296079e-04 3.95799234e-04 6.20489832e-04\n",
      " 0.00000000e+00 1.09001222e-03 8.05358039e-03 3.82919781e-03\n",
      " 6.30279833e-04 1.27443591e-03 9.20904819e-05 1.42099083e-03\n",
      " 2.12320100e-03 1.84617565e-03 9.95166165e-03 5.75959747e-03\n",
      " 3.74752620e-03 1.56812917e-03 4.92819409e-03 1.57645336e-03\n",
      " 5.49184963e-03 0.00000000e+00 1.39726143e-04 0.00000000e+00\n",
      " 0.00000000e+00 0.00000000e+00 1.58598672e-03 5.53379565e-04\n",
      " 1.34276141e-03 8.34630423e-04 5.13967478e-04 0.00000000e+00\n",
      " 0.00000000e+00 9.28820953e-04 0.00000000e+00 0.00000000e+00\n",
      " 0.00000000e+00 2.04879011e-04 1.25969723e-04 4.01184676e-04\n",
      " 0.00000000e+00 2.01627492e-05 9.36144045e-04 2.13832866e-03\n",
      " 3.63878330e-05 0.00000000e+00 7.00609693e-04 1.54392107e-03\n",
      " 0.00000000e+00 0.00000000e+00 5.51865589e-04 0.00000000e+00\n",
      " 0.00000000e+00 0.00000000e+00 0.00000000e+00 1.23104202e-03\n",
      " 2.90423515e-04 1.44124404e-04 0.00000000e+00 1.24355996e-03\n",
      " 1.73383505e-04 1.46325953e-03 9.49098581e-03 1.70240279e-04\n",
      " 0.00000000e+00 2.15857643e-04 8.44209664e-04 6.52289611e-04\n",
      " 2.72496850e-04 6.36000036e-04 1.50968338e-03 0.00000000e+00\n",
      " 0.00000000e+00 4.78024232e-04 0.00000000e+00 2.58306156e-03\n",
      " 0.00000000e+00 0.00000000e+00 0.00000000e+00 0.00000000e+00\n",
      " 0.00000000e+00 1.91491665e-04 0.00000000e+00 9.58826741e-04\n",
      " 0.00000000e+00 2.35386613e-04 8.08437279e-04 1.34094945e-03\n",
      " 4.39617121e-04 0.00000000e+00 2.34579702e-04 8.38544801e-03\n",
      " 4.58798416e-04 2.60715154e-04 0.00000000e+00 2.23338949e-03\n",
      " 2.29042826e-04 0.00000000e+00 7.54242819e-04 4.54956086e-03\n",
      " 9.40946797e-04 1.38915178e-04 4.42139661e-03 0.00000000e+00\n",
      " 0.00000000e+00 0.00000000e+00 5.40922643e-04 0.00000000e+00\n",
      " 0.00000000e+00 0.00000000e+00 3.57788498e-04 5.41052166e-04\n",
      " 2.25665413e-04 0.00000000e+00 0.00000000e+00 2.75086533e-03\n",
      " 0.00000000e+00 0.00000000e+00 7.71197608e-04 1.20159745e-03\n",
      " 0.00000000e+00 6.15095494e-04 1.06586810e-03 3.08634160e-04\n",
      " 0.00000000e+00 7.20912358e-04 2.59737303e-04 0.00000000e+00\n",
      " 0.00000000e+00 9.81145011e-05 0.00000000e+00 1.45710155e-02\n",
      " 2.35416604e-03 0.00000000e+00 0.00000000e+00 1.95414523e-03\n",
      " 1.29165858e-03 0.00000000e+00 0.00000000e+00 4.93357163e-03\n",
      " 8.05542720e-04 0.00000000e+00 0.00000000e+00 2.69008608e-04\n",
      " 0.00000000e+00 0.00000000e+00 8.97986272e-04 1.49178491e-03\n",
      " 0.00000000e+00 4.21657532e-04 4.00712759e-04 0.00000000e+00\n",
      " 0.00000000e+00 0.00000000e+00 0.00000000e+00 2.73609216e-04\n",
      " 0.00000000e+00 1.58724185e-04 0.00000000e+00 0.00000000e+00\n",
      " 0.00000000e+00 1.19195746e-04 1.73862419e-04 2.66161135e-04\n",
      " 0.00000000e+00 2.10702954e-04 0.00000000e+00 2.33417640e-04\n",
      " 0.00000000e+00 1.67891123e-04 1.28200452e-03 0.00000000e+00\n",
      " 7.17966297e-04 1.15492009e-03 3.22895021e-04 0.00000000e+00\n",
      " 2.70834036e-04 2.09059696e-03 8.36491384e-04 3.54844767e-04\n",
      " 8.49135440e-04 0.00000000e+00 0.00000000e+00 9.27525723e-05\n",
      " 0.00000000e+00 0.00000000e+00 2.63930048e-04 0.00000000e+00\n",
      " 2.35881311e-04 3.63572675e-04 3.60971475e-04 2.26739636e-04\n",
      " 0.00000000e+00 8.48462747e-04 2.76648846e-04 0.00000000e+00\n",
      " 0.00000000e+00 0.00000000e+00 0.00000000e+00 2.63989346e-04\n",
      " 0.00000000e+00 0.00000000e+00 3.53878519e-04 0.00000000e+00\n",
      " 0.00000000e+00 4.20540259e-04 0.00000000e+00 3.54853371e-04\n",
      " 0.00000000e+00 0.00000000e+00 2.42263633e-04 3.74450915e-04\n",
      " 4.58395114e-04 3.09335107e-04 2.60451813e-04 3.51653258e-04\n",
      " 9.43234241e-04 0.00000000e+00 0.00000000e+00 1.04462717e-03]\n"
     ]
    }
   ],
   "source": [
    "clf9p = BalancedRandomForestClassifier(n_estimators=300, max_depth=3, random_state=0)\n",
    "clf9p.fit(X9p_down, y9p_down)  \n",
    "BalancedRandomForestClassifier(...)\n",
    "print(clf9p.feature_importances_) "
   ]
  },
  {
   "cell_type": "code",
   "execution_count": 21,
   "metadata": {},
   "outputs": [
    {
     "name": "stdout",
     "output_type": "stream",
     "text": [
      "              precision    recall  f1-score   support\n",
      "\n",
      "           0  0.9995612445 0.8224970960 0.9024257925    127412\n",
      "           1  0.0077655421 0.7937219731 0.0153806048       223\n",
      "\n",
      "    accuracy                      0.8224468210    127635\n",
      "   macro avg  0.5036633933 0.8081095346 0.4589031986    127635\n",
      "weighted avg  0.9978284092 0.8224468210 0.9008759740    127635\n",
      "\n"
     ]
    }
   ],
   "source": [
    "brfc_pred9p = clf9p.predict(X9p_test)\n",
    "brfc_cr9p = classification_report(y9p_test, brfc_pred9p, digits=10)\n",
    "print(brfc_cr9p)"
   ]
  },
  {
   "cell_type": "code",
   "execution_count": 60,
   "metadata": {},
   "outputs": [
    {
     "name": "stdout",
     "output_type": "stream",
     "text": [
      "Used Annotations descriptions: ['Nonseizure', 'Seizure']\n"
     ]
    }
   ],
   "source": [
    "\n",
    "event_id = dict(Seizure=1, Nonseizure=0)\n",
    "events_from_annot, event_dict = mne.events_from_annotations(raws, event_id=event_id, chunk_duration=2)"
   ]
  },
  {
   "cell_type": "code",
   "execution_count": 61,
   "metadata": {},
   "outputs": [
    {
     "data": {
      "text/plain": [
       "(array([[16803072,        0,        0],\n",
       "        [16803584,        0,        0],\n",
       "        [16804096,        0,        0],\n",
       "        ...,\n",
       "        [62548736,        0,        0],\n",
       "        [62549248,        0,        0],\n",
       "        [62549760,        0,        0]]), array([14680,     0,   137]))"
      ]
     },
     "execution_count": 61,
     "metadata": {},
     "output_type": "execute_result"
    }
   ],
   "source": [
    "events_from_annot, np.count_nonzero(events_from_annot, axis=0)"
   ]
  },
  {
   "cell_type": "code",
   "execution_count": 74,
   "metadata": {},
   "outputs": [
    {
     "name": "stdout",
     "output_type": "stream",
     "text": [
      "14680 matching events found\n",
      "No baseline correction applied\n",
      "Not setting metadata\n",
      "0 projection items activated\n",
      "Loading data for 14680 events and 257 original time points ...\n",
      "3 bad epochs dropped\n"
     ]
    }
   ],
   "source": [
    "tmin, tmax = -.5, .5\n",
    "epochs = mne.Epochs(raws, events_from_annot, event_id, tmin, tmax, proj=True,\n",
    "                    decim=2, baseline=None, preload=True)\n",
    "\n",
    "\n",
    "\n",
    "# get MEG and EEG data\n",
    "\n",
    "picks = mne.pick_types(epochs.info, meg=False, eeg=True)\n",
    "X9p2 = epochs.get_data()[:, picks]\n",
    "y9p2 = epochs.events[:, 2]\n",
    "X9p2.shape, y9p2.shape\n",
    "\n",
    "X9p2_2d = X9p2.reshape(len(X9p2), -1)"
   ]
  },
  {
   "cell_type": "code",
   "execution_count": 75,
   "metadata": {},
   "outputs": [
    {
     "name": "stdout",
     "output_type": "stream",
     "text": [
      "Effective window size : 1.000 (s)\n"
     ]
    }
   ],
   "source": [
    "\n",
    "from mne.time_frequency import psd_array_welch\n",
    "from mne.time_frequency import psd_welch\n",
    "psds9_2, freqs9_2 = psd_welch(epochs, fmin=1, fmax=40, n_fft=128, n_overlap=.5, n_per_seg=128, proj=False, n_jobs=1, reject_by_annotation=True, average='mean', verbose=None)\n",
    "psds9_2 /= np.sum(psds9_2, axis=-1, keepdims=True)\n",
    "psds_rs9_2 = psds9_2.reshape(len(psds9_2), -1)"
   ]
  },
  {
   "cell_type": "code",
   "execution_count": 78,
   "metadata": {},
   "outputs": [
    {
     "data": {
      "text/plain": [
       "((14677,), (14677, 920))"
      ]
     },
     "execution_count": 78,
     "metadata": {},
     "output_type": "execute_result"
    }
   ],
   "source": [
    "y9p2.shape, psds_rs9_2.shape"
   ]
  },
  {
   "cell_type": "code",
   "execution_count": 80,
   "metadata": {},
   "outputs": [],
   "source": [
    "from sklearn.model_selection import train_test_split\n",
    "X9p2_train, X9p2_test, y9p2_train, y9p2_test = train_test_split(\n",
    "psds_rs9_2, y9p2, stratify=y9p2)"
   ]
  },
  {
   "cell_type": "code",
   "execution_count": 81,
   "metadata": {},
   "outputs": [
    {
     "data": {
      "text/plain": [
       "(103, 1030)"
      ]
     },
     "execution_count": 81,
     "metadata": {},
     "output_type": "execute_result"
    }
   ],
   "source": [
    "X9p2_stack = np.column_stack((X9p2_train, y9p2_train))\n",
    "\n",
    "# separate minority and majority classes\n",
    "a = y9p2_train == 1\n",
    "seizures = X9p2_stack[a,:]\n",
    "nonseizures = X9p2_stack[~a,:]\n",
    "nonseizures_downsampled = resample(nonseizures,\n",
    "                                replace = False, # sample without replacement\n",
    "                                n_samples = int(10*len(seizures)), # match minority n\n",
    "                                random_state = 27) # reproducible results\n",
    "\n",
    "# combine minority and downsampled majority\n",
    "downsampled9p2 = np.vstack((seizures, nonseizures_downsampled))\n",
    "shuff_down9p2 = shuffle(downsampled9p2)\n",
    "\n",
    "y9p2_down = shuff_down9p2[:,-1]\n",
    "X9p2_down = np.delete(shuff_down9p2, -1, axis=1)\n",
    "# checking counts\n",
    "len(seizures), len(nonseizures_downsampled)"
   ]
  },
  {
   "cell_type": "code",
   "execution_count": 83,
   "metadata": {},
   "outputs": [
    {
     "name": "stdout",
     "output_type": "stream",
     "text": [
      "[7.39633825e-04 0.00000000e+00 2.15108215e-03 0.00000000e+00\n",
      " 4.36042717e-04 5.16018003e-04 1.91852962e-04 1.29709660e-03\n",
      " 2.46461223e-04 3.34212988e-05 1.14780744e-03 9.85944601e-04\n",
      " 7.49231430e-04 1.30486872e-03 1.81858133e-03 3.01110215e-04\n",
      " 0.00000000e+00 0.00000000e+00 0.00000000e+00 5.11571732e-04\n",
      " 1.54644436e-03 4.79801631e-04 5.31983235e-04 0.00000000e+00\n",
      " 1.51296502e-04 9.67492114e-04 1.64967318e-03 1.34988432e-03\n",
      " 1.62075651e-04 1.04782126e-04 1.74285401e-03 2.41147422e-04\n",
      " 6.40783643e-04 1.90199844e-03 0.00000000e+00 0.00000000e+00\n",
      " 6.98563936e-04 4.38900141e-05 3.38926004e-04 4.05563390e-04\n",
      " 5.01881407e-03 1.52590951e-04 0.00000000e+00 2.81196438e-04\n",
      " 0.00000000e+00 1.24464675e-03 8.56368222e-04 1.88033226e-03\n",
      " 6.55848274e-03 3.04553605e-03 4.36295179e-03 2.43201195e-03\n",
      " 3.02865441e-03 1.20069715e-03 2.28559864e-04 6.10779742e-04\n",
      " 6.01092665e-05 0.00000000e+00 3.18786318e-04 2.01109078e-03\n",
      " 4.04602449e-04 7.99684102e-04 6.39053626e-04 1.41451036e-03\n",
      " 0.00000000e+00 2.37709080e-04 1.86107221e-04 6.60793033e-04\n",
      " 3.58235811e-04 3.52768535e-04 1.86961854e-04 1.56838268e-03\n",
      " 2.51119842e-03 0.00000000e+00 8.88712858e-04 3.56960208e-03\n",
      " 2.71182027e-03 3.57434759e-03 2.88908227e-03 3.30834845e-03\n",
      " 4.87849305e-03 7.34076637e-04 2.97189250e-04 1.19658123e-03\n",
      " 7.35452536e-05 0.00000000e+00 6.59575434e-03 6.83631857e-03\n",
      " 1.52243871e-03 3.34506715e-03 7.47094322e-04 0.00000000e+00\n",
      " 0.00000000e+00 4.20654225e-04 1.77795966e-04 5.87824468e-04\n",
      " 2.20416907e-04 0.00000000e+00 3.72205134e-04 1.69627153e-03\n",
      " 1.27892073e-03 0.00000000e+00 2.85674540e-04 1.77363245e-03\n",
      " 1.93879737e-03 1.51333377e-03 2.98965047e-03 2.61342352e-03\n",
      " 4.81415134e-04 2.02712335e-03 1.39903894e-03 1.20034214e-03\n",
      " 4.59349686e-04 6.94975208e-04 2.76576007e-04 9.06868178e-04\n",
      " 1.12503573e-03 6.87471751e-04 3.96180521e-04 1.18062139e-03\n",
      " 0.00000000e+00 3.32836417e-04 8.10697362e-04 6.19311823e-05\n",
      " 5.58955973e-04 0.00000000e+00 3.12072465e-04 0.00000000e+00\n",
      " 2.40100029e-04 1.06366678e-03 7.66658814e-04 2.15625936e-04\n",
      " 2.46303725e-04 0.00000000e+00 1.26275961e-03 1.15090881e-03\n",
      " 1.51812050e-04 0.00000000e+00 3.36775396e-04 0.00000000e+00\n",
      " 0.00000000e+00 0.00000000e+00 2.88017276e-04 7.71801893e-04\n",
      " 0.00000000e+00 1.55973756e-03 3.14884667e-04 9.19012945e-04\n",
      " 1.65660482e-03 1.04373828e-03 0.00000000e+00 3.41711339e-03\n",
      " 4.11549995e-03 1.37389623e-03 9.38676362e-04 5.19878759e-04\n",
      " 1.97309877e-04 1.14874765e-03 1.83495186e-03 5.30036410e-04\n",
      " 5.05133572e-04 0.00000000e+00 2.46113277e-04 2.59422500e-04\n",
      " 3.70486374e-04 5.62620566e-04 0.00000000e+00 8.37780168e-04\n",
      " 3.70412983e-04 0.00000000e+00 0.00000000e+00 2.59627651e-03\n",
      " 3.61742203e-04 2.03936468e-03 1.03541601e-03 3.21865939e-03\n",
      " 0.00000000e+00 1.77656260e-04 8.62197460e-04 9.50236149e-04\n",
      " 6.90083402e-04 9.13111500e-04 5.66859232e-03 3.58853459e-03\n",
      " 1.02983563e-03 5.91989849e-03 7.10418361e-03 0.00000000e+00\n",
      " 1.08089897e-02 1.42831567e-03 3.78945511e-03 2.85773256e-03\n",
      " 3.16451897e-03 3.78307712e-03 5.08544027e-03 1.54169826e-03\n",
      " 0.00000000e+00 7.30367354e-03 2.73079500e-03 4.42928692e-03\n",
      " 4.39612532e-05 1.12069100e-03 1.27424437e-03 1.00569110e-03\n",
      " 5.54203058e-05 4.74358693e-04 0.00000000e+00 9.30235423e-04\n",
      " 1.16468615e-03 0.00000000e+00 2.01484343e-04 0.00000000e+00\n",
      " 4.94615383e-04 0.00000000e+00 0.00000000e+00 1.84067297e-04\n",
      " 5.54846582e-05 2.22393204e-04 1.01719840e-03 1.61696787e-03\n",
      " 4.17380438e-03 7.56141303e-03 3.61771186e-03 6.91607105e-03\n",
      " 8.70967496e-04 1.12671335e-03 1.45694328e-03 9.04204507e-04\n",
      " 0.00000000e+00 1.29333831e-03 0.00000000e+00 8.31244646e-04\n",
      " 2.97710124e-03 8.04811743e-04 6.64379529e-04 2.03241707e-03\n",
      " 8.75477932e-04 1.02933563e-03 5.06805825e-03 1.99094583e-03\n",
      " 1.67703518e-03 5.54503575e-04 1.06398344e-03 0.00000000e+00\n",
      " 7.12070569e-04 5.25188827e-03 4.23377348e-04 5.55737470e-03\n",
      " 3.92934778e-03 1.70091900e-03 3.60392494e-04 7.91348329e-05\n",
      " 6.49561690e-04 6.22349606e-04 0.00000000e+00 0.00000000e+00\n",
      " 2.76121588e-04 3.90633741e-04 4.19650286e-04 1.71005589e-03\n",
      " 7.51393721e-04 0.00000000e+00 2.07722173e-03 0.00000000e+00\n",
      " 1.28499769e-03 5.95979477e-04 1.35097443e-03 3.30918477e-03\n",
      " 1.09488748e-03 1.01900352e-03 1.64920589e-03 6.56203462e-03\n",
      " 6.00132647e-04 1.07707401e-03 6.60133664e-03 5.05893179e-03\n",
      " 3.89142514e-04 5.37069072e-05 2.50993426e-03 3.68276254e-03\n",
      " 3.68635752e-04 0.00000000e+00 0.00000000e+00 5.56219043e-04\n",
      " 0.00000000e+00 2.73416268e-03 5.20990572e-04 7.28648518e-04\n",
      " 2.79550850e-04 3.25485651e-04 9.08032095e-04 4.90586813e-04\n",
      " 1.84066187e-04 2.96542403e-04 6.91381380e-04 1.04074374e-04\n",
      " 1.06525174e-03 3.02269268e-04 7.93862991e-04 3.83542774e-04\n",
      " 2.24099281e-04 0.00000000e+00 0.00000000e+00 0.00000000e+00\n",
      " 0.00000000e+00 2.71247274e-04 3.87007396e-04 1.21758646e-03\n",
      " 4.16173696e-04 6.19390114e-04 1.11566564e-03 0.00000000e+00\n",
      " 9.85448345e-04 0.00000000e+00 5.01901116e-04 3.01758347e-03\n",
      " 4.69531463e-03 1.40706698e-03 3.22104910e-03 4.35164127e-03\n",
      " 0.00000000e+00 0.00000000e+00 7.89080908e-04 8.77064918e-04\n",
      " 6.22005033e-04 7.14310546e-04 2.35029527e-04 2.86175838e-04\n",
      " 0.00000000e+00 0.00000000e+00 5.19008775e-04 5.50241704e-04\n",
      " 3.58759362e-05 6.77750196e-04 1.53981395e-03 1.00594544e-03\n",
      " 1.18191460e-03 0.00000000e+00 0.00000000e+00 0.00000000e+00\n",
      " 9.43130373e-04 6.88583669e-04 0.00000000e+00 1.85829470e-03\n",
      " 6.65394480e-03 4.44410332e-03 2.70700153e-03 1.97541233e-03\n",
      " 1.45550646e-03 6.83957463e-03 2.92067052e-03 1.94588978e-03\n",
      " 3.62593044e-03 6.04000724e-03 4.40136213e-03 3.57294404e-03\n",
      " 3.80214664e-03 3.07975468e-03 5.19449717e-03 2.02146886e-03\n",
      " 1.36225271e-03 0.00000000e+00 0.00000000e+00 1.54086497e-04\n",
      " 5.05240121e-04 7.59406451e-04 5.47240264e-04 4.07279875e-04\n",
      " 4.73688340e-04 1.11109576e-04 0.00000000e+00 7.07732613e-04\n",
      " 0.00000000e+00 4.15065397e-04 0.00000000e+00 0.00000000e+00\n",
      " 2.00467480e-03 4.85094496e-03 3.50850789e-03 6.99174963e-03\n",
      " 1.92131663e-03 0.00000000e+00 0.00000000e+00 2.30099806e-03\n",
      " 1.38581783e-03 1.90530641e-03 4.11492660e-03 1.23064673e-03\n",
      " 1.11978582e-03 2.36404011e-03 1.77200965e-03 2.16169444e-03\n",
      " 1.20175906e-03 1.43841706e-03 1.25817497e-03 2.13911945e-03\n",
      " 2.49181304e-03 4.73518117e-04 3.31236369e-03 2.44187233e-03\n",
      " 0.00000000e+00 0.00000000e+00 1.29987435e-03 4.41314166e-04\n",
      " 0.00000000e+00 9.08879231e-04 2.34636805e-04 0.00000000e+00\n",
      " 3.17664000e-04 4.54843701e-04 0.00000000e+00 0.00000000e+00\n",
      " 0.00000000e+00 5.95670413e-04 0.00000000e+00 1.98658804e-03\n",
      " 0.00000000e+00 0.00000000e+00 2.55795834e-03 4.49368075e-03\n",
      " 2.85934677e-03 1.19620479e-03 1.13607869e-03 1.45960978e-03\n",
      " 8.20320216e-04 7.94527285e-04 1.61175413e-03 2.36298142e-03\n",
      " 8.44592991e-04 0.00000000e+00 3.71709773e-04 3.13258410e-04\n",
      " 2.31114039e-03 1.23092000e-03 0.00000000e+00 2.13896350e-03\n",
      " 7.79370826e-03 5.98022880e-03 2.50303923e-03 2.17550872e-03\n",
      " 4.83736340e-05 1.18794309e-04 7.66247384e-04 8.37339675e-04\n",
      " 8.64670167e-04 0.00000000e+00 3.35694856e-04 1.91612511e-04\n",
      " 0.00000000e+00 2.74542757e-04 0.00000000e+00 2.64916730e-04\n",
      " 5.77502897e-04 8.33173223e-04 0.00000000e+00 9.10394009e-04\n",
      " 0.00000000e+00 1.22305537e-03 0.00000000e+00 1.29808500e-03\n",
      " 4.27208971e-04 0.00000000e+00 0.00000000e+00 0.00000000e+00\n",
      " 0.00000000e+00 0.00000000e+00 1.31555721e-03 1.47684383e-03\n",
      " 0.00000000e+00 1.33288288e-03 9.14328054e-04 2.92185225e-03\n",
      " 3.61704064e-04 1.08649664e-03 3.63359519e-03 2.49056438e-03\n",
      " 2.80292640e-03 1.05895775e-03 7.70314537e-04 1.69317955e-03\n",
      " 4.15537939e-04 4.64940574e-04 4.53571733e-04 1.21414659e-03\n",
      " 0.00000000e+00 0.00000000e+00 0.00000000e+00 0.00000000e+00\n",
      " 0.00000000e+00 1.21415940e-04 4.59249157e-04 2.26090460e-04\n",
      " 0.00000000e+00 4.78846727e-04 0.00000000e+00 5.85409480e-04\n",
      " 0.00000000e+00 2.79078660e-03 1.81478520e-04 0.00000000e+00\n",
      " 9.76650903e-04 7.53955864e-04 0.00000000e+00 8.31273551e-04\n",
      " 2.82354416e-04 0.00000000e+00 0.00000000e+00 1.86626480e-04\n",
      " 0.00000000e+00 0.00000000e+00 2.64252277e-04 4.60759461e-05\n",
      " 7.25603387e-04 1.94595697e-03 1.11905994e-03 0.00000000e+00\n",
      " 2.68318899e-03 1.86787357e-03 3.83897910e-05 4.81526087e-04\n",
      " 6.80589624e-04 1.53561899e-04 0.00000000e+00 1.94770046e-03\n",
      " 0.00000000e+00 0.00000000e+00 1.90434777e-03 1.42670388e-03\n",
      " 1.69343305e-03 0.00000000e+00 0.00000000e+00 7.75490584e-04\n",
      " 0.00000000e+00 3.16569901e-04 6.21628994e-04 5.42281395e-04\n",
      " 3.03583289e-03 1.24102330e-03 1.51027108e-04 4.40376629e-04\n",
      " 0.00000000e+00 1.55818938e-03 7.78457997e-04 1.66310908e-03\n",
      " 4.77469369e-04 0.00000000e+00 1.05266330e-03 1.38046910e-03\n",
      " 2.65988793e-03 3.17351051e-04 8.61769401e-04 1.62447488e-03\n",
      " 1.93385424e-03 1.60827781e-03 6.58426029e-03 1.89395704e-03\n",
      " 3.27039005e-03 3.12742795e-03 9.43961708e-04 1.85327517e-03\n",
      " 1.01063061e-04 8.94971974e-04 2.23706373e-04 6.74401841e-04\n",
      " 1.66496011e-04 0.00000000e+00 2.03708181e-03 8.91163961e-04\n",
      " 9.85070444e-03 9.45163262e-05 5.84452307e-04 3.41584472e-04\n",
      " 3.19963314e-04 9.36983737e-04 0.00000000e+00 2.02023960e-04\n",
      " 5.71615019e-05 0.00000000e+00 0.00000000e+00 0.00000000e+00\n",
      " 2.97441759e-04 2.57622832e-04 1.82594870e-04 4.55532945e-04\n",
      " 0.00000000e+00 1.81646252e-04 5.71325542e-05 0.00000000e+00\n",
      " 1.36710723e-04 4.76618592e-04 2.78635727e-04 3.79518377e-05\n",
      " 0.00000000e+00 0.00000000e+00 0.00000000e+00 1.06461931e-03\n",
      " 0.00000000e+00 4.04502411e-04 5.83616238e-04 5.18209410e-04\n",
      " 2.60655918e-03 2.06382967e-04 7.34010913e-04 2.46842952e-04\n",
      " 4.33827210e-04 5.32250624e-04 4.72026060e-04 0.00000000e+00\n",
      " 3.39069375e-04 7.23550488e-04 0.00000000e+00 1.81022070e-04\n",
      " 7.74144688e-04 0.00000000e+00 3.03838272e-04 0.00000000e+00\n",
      " 0.00000000e+00 0.00000000e+00 3.32788265e-03 2.40599384e-03\n",
      " 2.54340221e-03 1.99727136e-03 9.72240677e-04 5.48344357e-03\n",
      " 4.38232422e-03 2.36619488e-03 2.79117171e-04 6.89593149e-04\n",
      " 1.20037297e-03 7.71891019e-04 5.71355651e-04 0.00000000e+00\n",
      " 7.97198411e-04 0.00000000e+00 8.85283661e-04 4.49843864e-04\n",
      " 3.76548495e-04 9.10667513e-04 1.33141553e-03 1.24913578e-03\n",
      " 3.34015596e-04 5.36964270e-04 0.00000000e+00 4.25502681e-04\n",
      " 2.39643927e-03 1.19710136e-03 6.56931111e-04 4.02153127e-04\n",
      " 6.37703793e-04 0.00000000e+00 2.62441771e-04 0.00000000e+00\n",
      " 2.60569336e-04 6.03022099e-04 0.00000000e+00 4.01342130e-05\n",
      " 5.86805881e-03 5.95494640e-03 0.00000000e+00 9.83602501e-04\n",
      " 0.00000000e+00 7.09249099e-04 0.00000000e+00 9.32655205e-04\n",
      " 0.00000000e+00 3.36343563e-04 0.00000000e+00 0.00000000e+00\n",
      " 0.00000000e+00 0.00000000e+00 2.08309308e-03 3.37145211e-04\n",
      " 6.07890201e-05 3.91989399e-04 0.00000000e+00 2.17520694e-04\n",
      " 5.76095884e-04 0.00000000e+00 2.00115397e-05 0.00000000e+00\n",
      " 7.48025648e-04 1.51138272e-04 0.00000000e+00 4.12513376e-04\n",
      " 1.20984229e-03 1.24033926e-03 5.49199887e-04 7.29776056e-04\n",
      " 1.92626213e-04 5.88373241e-04 0.00000000e+00 0.00000000e+00\n",
      " 0.00000000e+00 2.45072700e-04 5.12947643e-04 4.71592378e-05\n",
      " 5.13373366e-04 0.00000000e+00 7.80894344e-04 4.76865060e-04\n",
      " 0.00000000e+00 0.00000000e+00 0.00000000e+00 5.12855766e-04\n",
      " 6.51011543e-04 5.88718640e-04 0.00000000e+00 0.00000000e+00\n",
      " 2.64992523e-04 0.00000000e+00 9.30499379e-04 2.67293508e-04\n",
      " 3.30177394e-04 2.96469414e-05 0.00000000e+00 0.00000000e+00\n",
      " 8.16867768e-04 0.00000000e+00 1.84398940e-03 0.00000000e+00\n",
      " 3.88968256e-03 0.00000000e+00 1.68331136e-04 0.00000000e+00\n",
      " 3.18869514e-04 0.00000000e+00 2.69779940e-03 6.12476637e-03\n",
      " 2.76140797e-03 5.98400463e-03 2.71092291e-03 6.72660582e-04\n",
      " 0.00000000e+00 4.94305914e-05 0.00000000e+00 1.43418892e-04\n",
      " 3.01108314e-04 0.00000000e+00 1.12846560e-03 9.94454854e-04\n",
      " 2.94262109e-03 0.00000000e+00 0.00000000e+00 2.04405675e-03\n",
      " 1.65537554e-03 9.29248758e-04 2.71275534e-03 1.83001953e-03\n",
      " 6.41290328e-04 1.24223433e-03 8.56958184e-04 4.02387144e-03\n",
      " 5.67886728e-04 1.30539554e-04 0.00000000e+00 7.45444780e-04\n",
      " 1.11733026e-03 5.69014474e-05 4.33319194e-04 2.08323428e-03\n",
      " 6.62584241e-03 0.00000000e+00 1.50563791e-03 0.00000000e+00\n",
      " 4.79800686e-04 9.25741714e-04 1.82863912e-03 3.86040226e-03\n",
      " 9.84711403e-03 2.30150950e-03 4.35563714e-03 0.00000000e+00\n",
      " 6.85958151e-04 2.11137748e-04 1.23764782e-04 3.32837530e-04\n",
      " 1.70722289e-04 2.59298320e-04 4.37729311e-04 0.00000000e+00\n",
      " 2.49980184e-04 6.84118971e-04 2.77572464e-04 8.69486302e-04\n",
      " 0.00000000e+00 2.46487124e-04 7.62284524e-04 3.63414725e-05\n",
      " 7.54713263e-04 8.27398044e-04 4.12000049e-04 4.22318819e-04\n",
      " 7.46575100e-04 2.28620805e-03 8.65349726e-04 1.18572181e-02\n",
      " 4.98223101e-03 2.11254825e-03 3.76396525e-03 1.11382325e-02\n",
      " 2.04456959e-03 8.93938511e-04 0.00000000e+00 7.39828884e-04\n",
      " 0.00000000e+00 2.96634372e-04 1.12396919e-03 6.70088083e-04\n",
      " 4.84025094e-05 1.28644388e-03 7.41396587e-04 9.13255052e-04\n",
      " 2.43474900e-04 0.00000000e+00 0.00000000e+00 7.09913910e-04\n",
      " 2.15795942e-04 6.75656925e-04 0.00000000e+00 1.01649352e-03\n",
      " 4.52073167e-04 0.00000000e+00 1.83674893e-04 0.00000000e+00\n",
      " 4.91423236e-04 4.08834042e-05 0.00000000e+00 0.00000000e+00\n",
      " 1.06393906e-03 0.00000000e+00 1.36553791e-03 0.00000000e+00\n",
      " 2.42991388e-03 0.00000000e+00 5.29173065e-04 4.72236577e-05\n",
      " 1.00465013e-03 0.00000000e+00 2.12328860e-03 4.88591722e-03\n",
      " 0.00000000e+00 6.95912576e-04 0.00000000e+00 1.06257953e-03\n",
      " 3.48056454e-04 1.88581018e-03 4.80526177e-04 1.78649863e-03\n",
      " 1.29489955e-03 1.54149693e-03 6.57179994e-04 1.05297331e-03\n",
      " 1.51195948e-04 3.18550422e-04 0.00000000e+00 0.00000000e+00\n",
      " 1.03340670e-04 0.00000000e+00 9.07625354e-04 5.48947013e-04\n",
      " 6.59004076e-04 4.22692048e-04 0.00000000e+00 6.95588872e-04\n",
      " 1.24592574e-03 2.89801223e-03 5.85379089e-04 2.65842919e-04\n",
      " 5.48975739e-04 0.00000000e+00 1.31385342e-03 1.64899809e-03\n",
      " 9.77207903e-05 2.77760060e-03 4.25838213e-03 9.98792097e-04\n",
      " 1.13321181e-03 3.48407879e-03 2.40526217e-03 3.59505020e-03\n",
      " 9.85518215e-04 0.00000000e+00 1.00942532e-03 1.06588019e-03\n",
      " 7.66869622e-04 0.00000000e+00 1.87328320e-04 6.42045419e-04\n",
      " 1.67823280e-03 2.17798907e-04 8.85765875e-04 0.00000000e+00\n",
      " 0.00000000e+00 7.99696201e-04 9.46841060e-05 0.00000000e+00\n",
      " 0.00000000e+00 2.12692536e-04 7.67696032e-05 4.82705928e-04\n",
      " 0.00000000e+00 1.30327125e-04 0.00000000e+00 0.00000000e+00\n",
      " 1.66396528e-04 0.00000000e+00 3.33180659e-04 0.00000000e+00\n",
      " 4.46446497e-05 0.00000000e+00 0.00000000e+00 3.70384557e-04\n",
      " 0.00000000e+00 1.19250999e-03 5.18066140e-05 0.00000000e+00\n",
      " 1.28884166e-03 3.92911319e-04 2.10918985e-04 0.00000000e+00]\n"
     ]
    }
   ],
   "source": [
    "clf9p2 = BalancedRandomForestClassifier(n_estimators=300, max_depth=3, random_state=0)\n",
    "clf9p2.fit(X9p2_down, y9p2_down)  \n",
    "BalancedRandomForestClassifier(...)\n",
    "print(clf9p2.feature_importances_) "
   ]
  },
  {
   "cell_type": "code",
   "execution_count": 84,
   "metadata": {},
   "outputs": [
    {
     "name": "stdout",
     "output_type": "stream",
     "text": [
      "              precision    recall  f1-score   support\n",
      "\n",
      "           0  0.9984251969 0.8718371837 0.9308471590      3636\n",
      "           1  0.0585858586 0.8529411765 0.1096408318        34\n",
      "\n",
      "    accuracy                      0.8716621253      3670\n",
      "   macro avg  0.5285055277 0.8623891801 0.5202439954      3670\n",
      "weighted avg  0.9897182384 0.8716621253 0.9232392530      3670\n",
      "\n"
     ]
    }
   ],
   "source": [
    "brfc_pred9p2 = clf9p2.predict(X9p2_test)\n",
    "brfc_cr9p2 = classification_report(y9p2_test, brfc_pred9p2, digits=10)\n",
    "print(brfc_cr9p2)"
   ]
  },
  {
   "cell_type": "code",
   "execution_count": 12,
   "metadata": {},
   "outputs": [],
   "source": [
    "fif1_lst = [rec_name + '_raw.fif' for rec_name in rec_wos if rec_name[0:5] == 'chb01']"
   ]
  },
  {
   "cell_type": "code",
   "execution_count": 13,
   "metadata": {},
   "outputs": [
    {
     "name": "stdout",
     "output_type": "stream",
     "text": [
      "Opening raw data file fif/chb01_01_raw.fif...\n",
      "    Range : 0 ... 921599 =      0.000 ...  3599.996 secs\n",
      "Ready.\n",
      "Opening raw data file fif/chb01_02_raw.fif...\n",
      "    Range : 0 ... 921599 =      0.000 ...  3599.996 secs\n",
      "Ready.\n",
      "Opening raw data file fif/chb01_03_raw.fif...\n",
      "    Range : 0 ... 921599 =      0.000 ...  3599.996 secs\n",
      "Ready.\n",
      "Opening raw data file fif/chb01_04_raw.fif...\n",
      "    Range : 0 ... 921599 =      0.000 ...  3599.996 secs\n",
      "Ready.\n",
      "Opening raw data file fif/chb01_05_raw.fif...\n",
      "    Range : 0 ... 921599 =      0.000 ...  3599.996 secs\n",
      "Ready.\n",
      "Opening raw data file fif/chb01_06_raw.fif...\n",
      "    Range : 0 ... 921599 =      0.000 ...  3599.996 secs\n",
      "Ready.\n",
      "Opening raw data file fif/chb01_07_raw.fif...\n",
      "    Range : 0 ... 921599 =      0.000 ...  3599.996 secs\n",
      "Ready.\n",
      "Opening raw data file fif/chb01_08_raw.fif...\n",
      "    Range : 0 ... 921599 =      0.000 ...  3599.996 secs\n",
      "Ready.\n",
      "Opening raw data file fif/chb01_09_raw.fif...\n",
      "    Range : 0 ... 921599 =      0.000 ...  3599.996 secs\n",
      "Ready.\n",
      "Opening raw data file fif/chb01_10_raw.fif...\n",
      "    Range : 0 ... 921599 =      0.000 ...  3599.996 secs\n",
      "Ready.\n",
      "Opening raw data file fif/chb01_11_raw.fif...\n",
      "    Range : 0 ... 921599 =      0.000 ...  3599.996 secs\n",
      "Ready.\n",
      "Opening raw data file fif/chb01_12_raw.fif...\n",
      "    Range : 0 ... 921599 =      0.000 ...  3599.996 secs\n",
      "Ready.\n",
      "Opening raw data file fif/chb01_13_raw.fif...\n",
      "    Range : 0 ... 921599 =      0.000 ...  3599.996 secs\n",
      "Ready.\n",
      "Opening raw data file fif/chb01_14_raw.fif...\n",
      "    Range : 0 ... 921599 =      0.000 ...  3599.996 secs\n",
      "Ready.\n",
      "Opening raw data file fif/chb01_15_raw.fif...\n",
      "    Range : 0 ... 921599 =      0.000 ...  3599.996 secs\n",
      "Ready.\n",
      "Opening raw data file fif/chb01_16_raw.fif...\n",
      "    Range : 0 ... 921599 =      0.000 ...  3599.996 secs\n",
      "Ready.\n",
      "Opening raw data file fif/chb01_17_raw.fif...\n",
      "    Range : 0 ... 921599 =      0.000 ...  3599.996 secs\n",
      "Ready.\n",
      "Opening raw data file fif/chb01_18_raw.fif...\n",
      "    Range : 0 ... 921599 =      0.000 ...  3599.996 secs\n",
      "Ready.\n",
      "Opening raw data file fif/chb01_19_raw.fif...\n",
      "    Range : 0 ... 921599 =      0.000 ...  3599.996 secs\n",
      "Ready.\n",
      "Opening raw data file fif/chb01_20_raw.fif...\n",
      "    Range : 0 ... 681727 =      0.000 ...  2662.996 secs\n",
      "Ready.\n",
      "Opening raw data file fif/chb01_21_raw.fif...\n",
      "    Range : 0 ... 921599 =      0.000 ...  3599.996 secs\n",
      "Ready.\n",
      "Opening raw data file fif/chb01_22_raw.fif...\n",
      "    Range : 0 ... 921599 =      0.000 ...  3599.996 secs\n",
      "Ready.\n",
      "Opening raw data file fif/chb01_23_raw.fif...\n",
      "    Range : 0 ... 921599 =      0.000 ...  3599.996 secs\n",
      "Ready.\n",
      "Opening raw data file fif/chb01_24_raw.fif...\n",
      "    Range : 0 ... 921599 =      0.000 ...  3599.996 secs\n",
      "Ready.\n",
      "Opening raw data file fif/chb01_25_raw.fif...\n",
      "    Range : 0 ... 921599 =      0.000 ...  3599.996 secs\n",
      "Ready.\n",
      "Opening raw data file fif/chb01_26_raw.fif...\n",
      "    Range : 0 ... 595199 =      0.000 ...  2324.996 secs\n",
      "Ready.\n",
      "Opening raw data file fif/chb01_27_raw.fif...\n",
      "    Range : 0 ... 153599 =      0.000 ...   599.996 secs\n",
      "Ready.\n",
      "Opening raw data file fif/chb01_29_raw.fif...\n",
      "    Range : 0 ... 921599 =      0.000 ...  3599.996 secs\n",
      "Ready.\n",
      "Opening raw data file fif/chb01_30_raw.fif...\n",
      "    Range : 0 ... 921599 =      0.000 ...  3599.996 secs\n",
      "Ready.\n",
      "Opening raw data file fif/chb01_31_raw.fif...\n",
      "    Range : 0 ... 921599 =      0.000 ...  3599.996 secs\n",
      "Ready.\n",
      "Opening raw data file fif/chb01_32_raw.fif...\n",
      "    Range : 0 ... 921599 =      0.000 ...  3599.996 secs\n",
      "Ready.\n",
      "Opening raw data file fif/chb01_33_raw.fif...\n",
      "    Range : 0 ... 921599 =      0.000 ...  3599.996 secs\n",
      "Ready.\n",
      "Opening raw data file fif/chb01_34_raw.fif...\n",
      "    Range : 0 ... 921599 =      0.000 ...  3599.996 secs\n",
      "Ready.\n",
      "Opening raw data file fif/chb01_36_raw.fif...\n",
      "    Range : 0 ... 921599 =      0.000 ...  3599.996 secs\n",
      "Ready.\n",
      "Opening raw data file fif/chb01_37_raw.fif...\n",
      "    Range : 0 ... 921599 =      0.000 ...  3599.996 secs\n",
      "Ready.\n",
      "Opening raw data file fif/chb01_38_raw.fif...\n",
      "    Range : 0 ... 921599 =      0.000 ...  3599.996 secs\n",
      "Ready.\n",
      "Opening raw data file fif/chb01_39_raw.fif...\n",
      "    Range : 0 ... 921599 =      0.000 ...  3599.996 secs\n",
      "Ready.\n",
      "Opening raw data file fif/chb01_40_raw.fif...\n",
      "    Range : 0 ... 921599 =      0.000 ...  3599.996 secs\n",
      "Ready.\n",
      "Opening raw data file fif/chb01_41_raw.fif...\n",
      "    Range : 0 ... 921599 =      0.000 ...  3599.996 secs\n",
      "Ready.\n",
      "Opening raw data file fif/chb01_42_raw.fif...\n",
      "    Range : 0 ... 921599 =      0.000 ...  3599.996 secs\n",
      "Ready.\n",
      "Opening raw data file fif/chb01_43_raw.fif...\n",
      "    Range : 0 ... 921599 =      0.000 ...  3599.996 secs\n",
      "Ready.\n",
      "Opening raw data file fif/chb01_46_raw.fif...\n",
      "    Range : 0 ... 921599 =      0.000 ...  3599.996 secs\n",
      "Ready.\n"
     ]
    }
   ],
   "source": [
    "\n",
    "\n",
    "data_path = 'fif/'\n",
    "\n",
    "raws = mne.concatenate_raws([mne.io.read_raw_fif('fif/' + f, preload=False) for f in fif1_lst])\n",
    "info = raws.info\n",
    "channels = raws.ch_names"
   ]
  },
  {
   "cell_type": "code",
   "execution_count": 14,
   "metadata": {},
   "outputs": [
    {
     "name": "stdout",
     "output_type": "stream",
     "text": [
      "Used Annotations descriptions: ['Nonseizure', 'Seizure']\n"
     ]
    }
   ],
   "source": [
    "\n",
    "event_id = dict(Seizure=1, Nonseizure=0)\n",
    "events_from_annot, event_dict = mne.events_from_annotations(raws, event_id=event_id, chunk_duration=1)"
   ]
  },
  {
   "cell_type": "code",
   "execution_count": 15,
   "metadata": {},
   "outputs": [
    {
     "data": {
      "text/plain": [
       "(array([[       0,        0,        0],\n",
       "        [     256,        0,        0],\n",
       "        [     512,        0,        0],\n",
       "        ...,\n",
       "        [37372160,        0,        0],\n",
       "        [37372416,        0,        0],\n",
       "        [37372672,        0,        0]]), array([145987,      0,    442]))"
      ]
     },
     "execution_count": 15,
     "metadata": {},
     "output_type": "execute_result"
    }
   ],
   "source": [
    "events_from_annot, np.count_nonzero(events_from_annot, axis=0)"
   ]
  },
  {
   "cell_type": "code",
   "execution_count": 16,
   "metadata": {},
   "outputs": [
    {
     "name": "stdout",
     "output_type": "stream",
     "text": [
      "145988 matching events found\n",
      "No baseline correction applied\n",
      "Not setting metadata\n",
      "0 projection items activated\n",
      "Loading data for 145988 events and 257 original time points ...\n",
      "42 bad epochs dropped\n"
     ]
    },
    {
     "data": {
      "text/plain": [
       "((145946, 23, 129), (145946,))"
      ]
     },
     "execution_count": 16,
     "metadata": {},
     "output_type": "execute_result"
    }
   ],
   "source": [
    "tmin, tmax = -0.5, 0.5\n",
    "epochs = mne.Epochs(raws, events_from_annot, event_id, tmin, tmax, proj=True,\n",
    "                    decim=2, baseline=None, preload=True)\n",
    "\n",
    "labels = epochs.events[:, -1]\n",
    "\n",
    "# get EEG data\n",
    "# fif_epochs = epochs.copy().pick_types(meg=False, eeg=True)\n",
    "# fif_data = fif_epochs.get_data().reshape(len(labels), -1)\n",
    "picks = mne.pick_types(epochs.info, meg=False, eeg=True)\n",
    "X1 = epochs.get_data()[:, picks]\n",
    "y1 = epochs.events[:, 2]\n",
    "X1.shape, y1.shape\n",
    "\n"
   ]
  },
  {
   "cell_type": "code",
   "execution_count": 18,
   "metadata": {},
   "outputs": [],
   "source": [
    "X1_2d = X1.reshape(len(X1), -1)"
   ]
  },
  {
   "cell_type": "code",
   "execution_count": 19,
   "metadata": {},
   "outputs": [],
   "source": [
    "from sklearn.model_selection import train_test_split\n",
    "X1_train, X1_test, y1_train, y1_test = train_test_split(\n",
    "X1_2d, y1, stratify=y1)\n",
    "\n"
   ]
  },
  {
   "cell_type": "code",
   "execution_count": 20,
   "metadata": {},
   "outputs": [
    {
     "data": {
      "text/plain": [
       "(0.0030421794063639103, 36487, 111)"
      ]
     },
     "execution_count": 20,
     "metadata": {},
     "output_type": "execute_result"
    }
   ],
   "source": [
    "y1_test.sum() / len(y1_test), len(y1_test), y1_test.sum()"
   ]
  },
  {
   "cell_type": "code",
   "execution_count": 21,
   "metadata": {},
   "outputs": [
    {
     "name": "stdout",
     "output_type": "stream",
     "text": [
      "Frequency of unique values of the said array:\n",
      "[[     0      1]\n",
      " [109128    331]]\n"
     ]
    }
   ],
   "source": [
    "unique_elements, counts_elements = np.unique(y1_train, return_counts=True)\n",
    "print(\"Frequency of unique values of the said array:\")\n",
    "print(np.asarray((unique_elements, counts_elements)))"
   ]
  },
  {
   "cell_type": "code",
   "execution_count": 22,
   "metadata": {},
   "outputs": [
    {
     "data": {
      "text/plain": [
       "(331, 1655)"
      ]
     },
     "execution_count": 22,
     "metadata": {},
     "output_type": "execute_result"
    }
   ],
   "source": [
    "# concatenate our training data back together\n",
    "X1_stack = np.column_stack((X1_train, y1_train))\n",
    "\n",
    "# separate minority and majority classes\n",
    "a = y1_train == 1\n",
    "seizures = X1_stack[a,:]\n",
    "nonseizures = X1_stack[~a,:]\n",
    "nonseizures_downsampled = resample(nonseizures,\n",
    "                                replace = False, # sample without replacement\n",
    "                                n_samples = int(5*len(seizures)), # match minority n\n",
    "                                random_state = 27) # reproducible results\n",
    "\n",
    "# combine minority and downsampled majority\n",
    "downsampled = np.vstack((seizures, nonseizures_downsampled))\n",
    "shuff_down = shuffle(downsampled)\n",
    "# checking counts\n",
    "len(seizures), len(nonseizures_downsampled)"
   ]
  },
  {
   "cell_type": "code",
   "execution_count": 95,
   "metadata": {},
   "outputs": [
    {
     "data": {
      "text/plain": [
       "((1986, 2968), array([0., 0., 1., ..., 0., 0., 1.]), 331.16931014637856)"
      ]
     },
     "execution_count": 95,
     "metadata": {},
     "output_type": "execute_result"
    }
   ],
   "source": [
    "shuff_down2.shape, shuff_down2[:,-1], shuff_down2.sum()"
   ]
  },
  {
   "cell_type": "code",
   "execution_count": 23,
   "metadata": {},
   "outputs": [],
   "source": [
    "\n",
    "X1_down = np.delete(shuff_down, -1, axis=1)\n",
    "\n",
    "y1_down = shuff_down[:,-1]"
   ]
  },
  {
   "cell_type": "code",
   "execution_count": 25,
   "metadata": {},
   "outputs": [
    {
     "name": "stdout",
     "output_type": "stream",
     "text": [
      "[0.00000000e+00 8.21341795e-05 0.00000000e+00 ... 0.00000000e+00\n",
      " 7.61771520e-06 0.00000000e+00]\n"
     ]
    }
   ],
   "source": [
    "clf1 = BalancedRandomForestClassifier(n_estimators=300, max_depth=3, random_state=0)\n",
    "clf1.fit(X1_down, y1_down)  \n",
    "BalancedRandomForestClassifier(...)\n",
    "print(clf1.feature_importances_) "
   ]
  },
  {
   "cell_type": "code",
   "execution_count": 27,
   "metadata": {},
   "outputs": [
    {
     "name": "stdout",
     "output_type": "stream",
     "text": [
      "              precision    recall  f1-score   support\n",
      "\n",
      "           0  0.9997963399 0.9446888058 0.9714616874     36376\n",
      "           1  0.0491493384 0.9369369369 0.0933991917       111\n",
      "\n",
      "    accuracy                      0.9446652232     36487\n",
      "   macro avg  0.5244728392 0.9408128714 0.5324304396     36487\n",
      "weighted avg  0.9969043012 0.9446652232 0.9687904638     36487\n",
      "\n"
     ]
    }
   ],
   "source": [
    "brfc_pred1 = clf1.predict(X1_test)\n",
    "brfc_cr1 = classification_report(y1_test, brfc_pred1, digits=10)\n",
    "print(brfc_cr1)"
   ]
  },
  {
   "cell_type": "code",
   "execution_count": 28,
   "metadata": {},
   "outputs": [
    {
     "name": "stdout",
     "output_type": "stream",
     "text": [
      "Effective window size : 1.000 (s)\n"
     ]
    }
   ],
   "source": [
    "# mne.Epochs.next()\n",
    "from mne.time_frequency import psd_array_welch\n",
    "from mne.time_frequency import psd_welch\n",
    "psds, freqs = psd_welch(epochs, fmin=1, fmax=40, n_fft=128, n_overlap=.5, n_per_seg=128, proj=False, n_jobs=1, reject_by_annotation=True, average='mean', verbose=None)\n",
    "psds /= np.sum(psds, axis=-1, keepdims=True)\n",
    "psds_rs = psds.reshape(len(psds), -1)"
   ]
  },
  {
   "cell_type": "code",
   "execution_count": 30,
   "metadata": {},
   "outputs": [],
   "source": [
    "from sklearn.model_selection import train_test_split\n",
    "X1p_train, X1p_test, y1p_train, y1p_test = train_test_split(\n",
    "psds_rs, y1, stratify=y1)"
   ]
  },
  {
   "cell_type": "code",
   "execution_count": null,
   "metadata": {},
   "outputs": [],
   "source": []
  },
  {
   "cell_type": "code",
   "execution_count": 37,
   "metadata": {},
   "outputs": [
    {
     "data": {
      "text/plain": [
       "(331, 1655)"
      ]
     },
     "execution_count": 37,
     "metadata": {},
     "output_type": "execute_result"
    }
   ],
   "source": [
    "# concatenate our training data back together\n",
    "X1p_stack = np.column_stack((X1p_train, y1p_train))\n",
    "\n",
    "\n",
    "# separate minority and majority classes\n",
    "a = y1p_train == 1\n",
    "seizures = X1p_stack[a,:]\n",
    "nonseizures = X1p_stack[~a,:]\n",
    "nonseizures_downsampled = resample(nonseizures,\n",
    "                                replace = False, # sample without replacement\n",
    "                                n_samples = int(5*len(seizures)), # match minority n\n",
    "                                random_state = 27) # reproducible results\n",
    "\n",
    "# combine minority and downsampled majority\n",
    "downsampled1p = np.vstack((seizures, nonseizures_downsampled))\n",
    "shuff_down1p = shuffle(downsampled1p)\n",
    "\n",
    "X1p_down = np.delete(shuff_down1p, -1, axis=1)\n",
    "\n",
    "y1p_down = shuff_down1p[:,-1]\n",
    "# checking counts\n",
    "len(seizures), len(nonseizures_downsampled)"
   ]
  },
  {
   "cell_type": "code",
   "execution_count": 38,
   "metadata": {},
   "outputs": [
    {
     "name": "stdout",
     "output_type": "stream",
     "text": [
      "[1.11609729e-04 4.11033303e-04 0.00000000e+00 4.53931863e-05\n",
      " 0.00000000e+00 0.00000000e+00 2.37316974e-05 0.00000000e+00\n",
      " 0.00000000e+00 1.74629631e-04 7.62757512e-04 1.09223057e-04\n",
      " 3.29573102e-04 1.12420832e-04 0.00000000e+00 9.45634674e-04\n",
      " 0.00000000e+00 9.74902344e-05 2.03392685e-04 0.00000000e+00\n",
      " 1.71539242e-04 0.00000000e+00 0.00000000e+00 0.00000000e+00\n",
      " 0.00000000e+00 0.00000000e+00 0.00000000e+00 5.59327711e-05\n",
      " 0.00000000e+00 8.67565346e-05 0.00000000e+00 2.67496767e-03\n",
      " 7.15445433e-05 0.00000000e+00 0.00000000e+00 2.04435905e-04\n",
      " 0.00000000e+00 0.00000000e+00 0.00000000e+00 0.00000000e+00\n",
      " 1.25022790e-04 0.00000000e+00 2.53492621e-04 0.00000000e+00\n",
      " 3.90592528e-05 0.00000000e+00 0.00000000e+00 1.65962002e-04\n",
      " 0.00000000e+00 2.21071698e-04 1.02575686e-04 0.00000000e+00\n",
      " 0.00000000e+00 1.02245922e-04 8.77644070e-05 0.00000000e+00\n",
      " 0.00000000e+00 0.00000000e+00 0.00000000e+00 0.00000000e+00\n",
      " 0.00000000e+00 0.00000000e+00 0.00000000e+00 3.21065797e-04\n",
      " 4.97709117e-05 0.00000000e+00 0.00000000e+00 0.00000000e+00\n",
      " 0.00000000e+00 8.81478699e-05 0.00000000e+00 0.00000000e+00\n",
      " 0.00000000e+00 1.79033033e-04 0.00000000e+00 9.79290592e-05\n",
      " 0.00000000e+00 6.62096647e-05 3.65755850e-05 2.84288536e-04\n",
      " 0.00000000e+00 0.00000000e+00 1.94553625e-04 0.00000000e+00\n",
      " 0.00000000e+00 2.41929276e-04 0.00000000e+00 6.18552511e-05\n",
      " 0.00000000e+00 0.00000000e+00 1.54013605e-04 1.96975357e-04\n",
      " 0.00000000e+00 0.00000000e+00 5.92854033e-05 8.42602019e-05\n",
      " 0.00000000e+00 2.52089381e-04 1.78246864e-04 0.00000000e+00\n",
      " 1.14629041e-04 8.67150027e-05 8.12857043e-05 0.00000000e+00\n",
      " 2.75075687e-04 0.00000000e+00 1.04305481e-04 1.86711268e-04\n",
      " 4.26831060e-05 0.00000000e+00 0.00000000e+00 0.00000000e+00\n",
      " 5.97138056e-05 6.03092283e-05 0.00000000e+00 0.00000000e+00\n",
      " 0.00000000e+00 5.91497811e-05 7.81361131e-05 0.00000000e+00\n",
      " 0.00000000e+00 8.79746275e-04 5.60818108e-05 1.67753696e-04\n",
      " 0.00000000e+00 8.96678328e-05 0.00000000e+00 7.68313074e-04\n",
      " 0.00000000e+00 5.86373632e-04 4.50905206e-03 3.60823920e-03\n",
      " 1.41962834e-03 1.75620912e-03 8.26426572e-04 2.84761701e-03\n",
      " 7.87106382e-04 2.98210483e-04 2.57990134e-05 9.04790747e-05\n",
      " 0.00000000e+00 2.99921979e-04 4.12635458e-04 3.64774232e-04\n",
      " 7.24249346e-04 8.50528579e-04 0.00000000e+00 2.13850492e-03\n",
      " 0.00000000e+00 3.89269887e-05 5.48256382e-04 3.34516698e-03\n",
      " 8.66884799e-04 2.37545337e-04 3.35387950e-04 5.42935391e-05\n",
      " 0.00000000e+00 3.44629691e-04 1.29980122e-04 2.47583372e-04\n",
      " 0.00000000e+00 1.96136713e-04 8.50666324e-04 0.00000000e+00\n",
      " 0.00000000e+00 0.00000000e+00 0.00000000e+00 0.00000000e+00\n",
      " 0.00000000e+00 5.61901052e-04 1.17148135e-03 7.43842202e-04\n",
      " 1.71560908e-03 3.41247183e-03 3.58149953e-04 4.51489822e-03\n",
      " 9.08669451e-04 1.76424593e-04 1.80753601e-03 3.49333845e-04\n",
      " 2.20188198e-04 5.35326120e-05 2.86392089e-04 5.39968088e-04\n",
      " 0.00000000e+00 1.28101824e-04 5.31279699e-04 0.00000000e+00\n",
      " 6.26392974e-05 3.08068077e-04 0.00000000e+00 1.81662229e-03\n",
      " 0.00000000e+00 0.00000000e+00 2.53955775e-04 0.00000000e+00\n",
      " 0.00000000e+00 0.00000000e+00 0.00000000e+00 0.00000000e+00\n",
      " 5.28148104e-04 1.36359242e-04 5.86939733e-04 1.19626875e-04\n",
      " 0.00000000e+00 3.11064416e-04 1.51725598e-04 1.11130312e-04\n",
      " 4.47658286e-04 4.63331512e-04 8.90177739e-04 0.00000000e+00\n",
      " 2.54890529e-04 2.90532849e-04 1.52209465e-04 3.28205708e-03\n",
      " 6.48105769e-05 0.00000000e+00 2.11048820e-04 2.43115429e-04\n",
      " 1.41737126e-04 2.44584223e-04 1.68318940e-04 0.00000000e+00\n",
      " 0.00000000e+00 0.00000000e+00 0.00000000e+00 2.31389888e-04\n",
      " 0.00000000e+00 9.05399218e-05 0.00000000e+00 3.25047272e-03\n",
      " 0.00000000e+00 0.00000000e+00 1.10586402e-04 0.00000000e+00\n",
      " 0.00000000e+00 1.10513536e-04 1.92334326e-04 7.64298030e-05\n",
      " 1.63192556e-04 4.25084953e-05 2.37276486e-04 0.00000000e+00\n",
      " 4.28941403e-06 0.00000000e+00 0.00000000e+00 0.00000000e+00\n",
      " 0.00000000e+00 0.00000000e+00 4.93581817e-05 4.87912111e-04\n",
      " 2.03093639e-05 2.40115781e-04 1.45504679e-04 9.78854451e-05\n",
      " 5.04002260e-05 0.00000000e+00 0.00000000e+00 0.00000000e+00\n",
      " 2.06314523e-04 0.00000000e+00 0.00000000e+00 1.38406162e-05\n",
      " 6.10500748e-05 0.00000000e+00 1.23236781e-04 2.95810107e-04\n",
      " 1.59016487e-04 0.00000000e+00 2.29202599e-04 2.86030430e-03\n",
      " 0.00000000e+00 8.16591484e-05 9.96242487e-05 0.00000000e+00\n",
      " 0.00000000e+00 0.00000000e+00 0.00000000e+00 2.22082913e-04\n",
      " 0.00000000e+00 3.01397258e-04 1.44624720e-04 0.00000000e+00\n",
      " 0.00000000e+00 1.90035010e-04 7.48501893e-05 1.47665495e-04\n",
      " 0.00000000e+00 3.12105389e-04 0.00000000e+00 1.05422974e-03\n",
      " 1.15205613e-03 0.00000000e+00 1.40529340e-04 6.97505859e-03\n",
      " 0.00000000e+00 1.41540914e-04 0.00000000e+00 1.17506139e-04\n",
      " 0.00000000e+00 0.00000000e+00 0.00000000e+00 1.35230561e-04\n",
      " 0.00000000e+00 0.00000000e+00 4.15989782e-04 3.89300919e-03\n",
      " 6.71293487e-04 0.00000000e+00 4.66984718e-03 1.24106006e-02\n",
      " 5.64791192e-03 3.09591816e-04 1.74319896e-04 6.44021459e-03\n",
      " 0.00000000e+00 0.00000000e+00 0.00000000e+00 7.40010791e-05\n",
      " 3.68025900e-05 1.98140784e-04 0.00000000e+00 8.25847403e-05\n",
      " 0.00000000e+00 3.72880927e-05 0.00000000e+00 1.39690871e-05\n",
      " 0.00000000e+00 1.76414865e-04 5.33235377e-03 3.61757816e-03\n",
      " 1.56980929e-02 1.14954935e-02 1.12127437e-02 8.18671690e-03\n",
      " 1.27958772e-03 4.07492077e-03 1.32607234e-03 5.67867875e-03\n",
      " 1.69661058e-03 3.35430952e-03 3.45076745e-04 1.95889329e-04\n",
      " 1.29557736e-04 1.02849686e-04 6.06939660e-04 5.39645066e-04\n",
      " 0.00000000e+00 2.74048311e-05 1.74057719e-04 4.99028360e-04\n",
      " 1.18319051e-04 0.00000000e+00 0.00000000e+00 0.00000000e+00\n",
      " 0.00000000e+00 5.19627430e-05 0.00000000e+00 1.78807464e-04\n",
      " 0.00000000e+00 2.76474121e-04 1.33850764e-04 0.00000000e+00\n",
      " 1.50181682e-04 1.90148372e-04 1.69596194e-04 8.20294370e-05\n",
      " 0.00000000e+00 1.23474057e-04 7.40347121e-03 3.96624689e-03\n",
      " 4.92537248e-03 4.45746886e-03 9.62818479e-04 7.93397848e-03\n",
      " 1.24310018e-03 9.10691869e-04 3.61558740e-03 3.38802098e-03\n",
      " 6.34638295e-04 2.20340658e-03 1.22783380e-03 0.00000000e+00\n",
      " 1.37444482e-04 0.00000000e+00 8.73350573e-04 9.82569808e-04\n",
      " 4.36138527e-04 0.00000000e+00 1.82980320e-04 6.71156701e-04\n",
      " 3.02663833e-04 0.00000000e+00 4.12866969e-04 0.00000000e+00\n",
      " 0.00000000e+00 0.00000000e+00 0.00000000e+00 0.00000000e+00\n",
      " 1.32924025e-04 4.35433917e-04 2.44566265e-04 1.21050124e-04\n",
      " 6.48940352e-05 0.00000000e+00 0.00000000e+00 1.05251310e-04\n",
      " 7.94571144e-04 2.94810989e-04 1.94890369e-03 4.83300729e-03\n",
      " 1.02297575e-02 6.36145081e-04 2.67864922e-04 9.70887925e-03\n",
      " 3.74646441e-04 0.00000000e+00 2.25914175e-03 6.16689941e-03\n",
      " 5.70484455e-04 1.05277453e-04 1.36368740e-04 0.00000000e+00\n",
      " 1.57551576e-04 0.00000000e+00 3.02228786e-03 8.05167640e-03\n",
      " 2.86887372e-03 1.64672908e-04 2.86065573e-03 2.60269681e-02\n",
      " 4.46227108e-03 0.00000000e+00 2.21086765e-03 5.00795663e-03\n",
      " 6.72457142e-04 1.15633172e-04 5.75511423e-05 2.29868916e-04\n",
      " 4.68390037e-05 0.00000000e+00 7.75141398e-04 2.34148766e-04\n",
      " 0.00000000e+00 0.00000000e+00 0.00000000e+00 1.01025897e-04\n",
      " 4.79626313e-04 6.12318064e-05 3.75164671e-04 1.13112974e-02\n",
      " 2.51447103e-03 0.00000000e+00 0.00000000e+00 3.76104353e-04\n",
      " 1.15164203e-04 1.78055686e-04 1.25309167e-03 2.14389125e-03\n",
      " 1.17387416e-04 0.00000000e+00 0.00000000e+00 0.00000000e+00\n",
      " 0.00000000e+00 0.00000000e+00 5.11520822e-03 1.08502347e-02\n",
      " 7.28412793e-03 0.00000000e+00 6.16159893e-04 1.63651694e-02\n",
      " 2.00954417e-03 0.00000000e+00 2.27672475e-03 2.61329629e-02\n",
      " 4.30480856e-03 1.29400179e-04 1.13309605e-04 0.00000000e+00\n",
      " 0.00000000e+00 1.04692281e-04 2.21876965e-04 0.00000000e+00\n",
      " 0.00000000e+00 0.00000000e+00 2.18533209e-05 7.24343693e-05\n",
      " 0.00000000e+00 1.54143392e-04 3.25728974e-03 1.29580660e-03\n",
      " 4.57324220e-04 3.49691376e-04 1.24495098e-04 0.00000000e+00\n",
      " 3.19495606e-05 5.58777296e-05 0.00000000e+00 0.00000000e+00\n",
      " 1.46095667e-04 0.00000000e+00 0.00000000e+00 0.00000000e+00\n",
      " 1.32070016e-04 0.00000000e+00 0.00000000e+00 0.00000000e+00\n",
      " 0.00000000e+00 2.98564798e-04 0.00000000e+00 0.00000000e+00\n",
      " 2.15414735e-04 0.00000000e+00 0.00000000e+00 1.42545989e-04\n",
      " 2.36120928e-04 0.00000000e+00 0.00000000e+00 0.00000000e+00\n",
      " 5.79254835e-05 2.44007936e-05 6.10904318e-05 8.37718924e-05\n",
      " 0.00000000e+00 0.00000000e+00 0.00000000e+00 1.42294627e-04\n",
      " 8.36042870e-05 1.67551257e-04 0.00000000e+00 7.15890885e-04\n",
      " 1.61448264e-04 0.00000000e+00 0.00000000e+00 0.00000000e+00\n",
      " 6.56327845e-06 2.92878692e-05 6.17486492e-05 8.98652368e-05\n",
      " 0.00000000e+00 0.00000000e+00 7.19210084e-05 1.29220104e-04\n",
      " 0.00000000e+00 0.00000000e+00 0.00000000e+00 0.00000000e+00\n",
      " 0.00000000e+00 0.00000000e+00 1.25924111e-04 3.78671275e-04\n",
      " 1.42867868e-05 0.00000000e+00 0.00000000e+00 1.97098693e-04\n",
      " 3.45883802e-05 1.97124519e-04 1.76572115e-04 2.65529000e-04\n",
      " 1.97880282e-05 0.00000000e+00 0.00000000e+00 0.00000000e+00\n",
      " 0.00000000e+00 0.00000000e+00 2.13704092e-04 4.09564575e-05\n",
      " 3.61617553e-05 1.39729688e-04 1.19872018e-04 7.15516747e-05\n",
      " 1.03679807e-04 2.49840306e-04 0.00000000e+00 0.00000000e+00\n",
      " 0.00000000e+00 0.00000000e+00 2.10321427e-04 1.29519595e-04\n",
      " 1.32225708e-05 0.00000000e+00 2.32831615e-05 3.10493776e-05\n",
      " 5.02139045e-04 1.42154051e-04 0.00000000e+00 5.23608697e-05\n",
      " 0.00000000e+00 0.00000000e+00 0.00000000e+00 2.31639456e-04\n",
      " 0.00000000e+00 7.99272854e-05 2.60015586e-04 5.72222849e-05\n",
      " 0.00000000e+00 1.73896292e-04 0.00000000e+00 2.66710553e-04\n",
      " 1.94052238e-04 1.84946571e-04 4.02734034e-04 1.05331385e-04\n",
      " 0.00000000e+00 1.03126270e-04 0.00000000e+00 1.23882368e-04\n",
      " 1.39657919e-04 0.00000000e+00 1.71111305e-03 3.38932294e-03\n",
      " 4.11921517e-04 0.00000000e+00 3.39272782e-04 4.34491495e-03\n",
      " 0.00000000e+00 0.00000000e+00 4.45409805e-05 0.00000000e+00\n",
      " 1.55266383e-04 0.00000000e+00 0.00000000e+00 6.04830841e-05\n",
      " 1.83051482e-04 7.55072865e-05 0.00000000e+00 1.74654997e-03\n",
      " 1.05985946e-03 3.92507639e-04 0.00000000e+00 7.52323652e-03\n",
      " 1.33929650e-03 0.00000000e+00 0.00000000e+00 3.51927806e-03\n",
      " 0.00000000e+00 0.00000000e+00 2.01398339e-04 1.50808899e-05\n",
      " 1.90634550e-04 1.96158533e-04 0.00000000e+00 0.00000000e+00\n",
      " 1.88340016e-04 2.66413020e-04 0.00000000e+00 0.00000000e+00\n",
      " 0.00000000e+00 0.00000000e+00 1.26731537e-03 1.39799791e-03\n",
      " 4.04401124e-03 3.54009525e-04 1.96666832e-03 9.16139819e-03\n",
      " 3.60419501e-03 1.01404528e-02 1.04823444e-02 1.93767519e-02\n",
      " 6.08030550e-03 2.85133338e-03 7.45625749e-04 4.13032011e-03\n",
      " 4.21506945e-03 9.05549347e-03 1.50122740e-02 2.78261827e-02\n",
      " 2.04418359e-02 1.36113149e-02 1.17794435e-02 1.70538584e-02\n",
      " 1.63209948e-02 7.64057404e-03 8.07527724e-03 3.50371667e-02\n",
      " 2.08753453e-02 6.42092546e-03 4.98566982e-03 8.90360245e-03\n",
      " 0.00000000e+00 0.00000000e+00 4.02694761e-04 0.00000000e+00\n",
      " 0.00000000e+00 0.00000000e+00 7.97203229e-05 0.00000000e+00\n",
      " 0.00000000e+00 3.69934663e-04 1.16185361e-05 3.04170727e-03\n",
      " 1.02805018e-03 1.03421528e-03 3.21234220e-05 1.92739338e-04\n",
      " 5.35028185e-04 1.94865120e-04 4.24813415e-03 4.31640672e-04\n",
      " 1.87621018e-03 4.85272873e-04 6.03901546e-04 0.00000000e+00\n",
      " 3.57399477e-03 3.61522796e-03 8.61045511e-03 1.67189497e-02\n",
      " 8.51981890e-03 1.16342025e-03 8.56948055e-03 3.25848834e-03\n",
      " 5.02277560e-03 3.13743834e-03 1.50920850e-02 1.09632921e-02\n",
      " 5.54053747e-03 1.07386322e-03 4.08038176e-03 6.47509974e-03\n",
      " 8.82018677e-05 0.00000000e+00 2.16280276e-04 0.00000000e+00\n",
      " 0.00000000e+00 7.10745476e-05 8.54318378e-05 0.00000000e+00\n",
      " 0.00000000e+00 0.00000000e+00 1.37030791e-04 0.00000000e+00\n",
      " 6.35782746e-05 4.30225506e-05 4.67694276e-05 1.86051278e-04\n",
      " 0.00000000e+00 1.84113834e-04 1.38155961e-04 0.00000000e+00\n",
      " 0.00000000e+00 0.00000000e+00 0.00000000e+00 0.00000000e+00\n",
      " 6.39558642e-05 0.00000000e+00 5.46527217e-05 6.11380157e-05\n",
      " 0.00000000e+00 0.00000000e+00 0.00000000e+00 0.00000000e+00\n",
      " 0.00000000e+00 1.70377473e-04 0.00000000e+00 1.57796981e-04\n",
      " 0.00000000e+00 0.00000000e+00 0.00000000e+00 1.62174208e-04\n",
      " 1.06660672e-04 8.22523568e-06 4.48217215e-04 0.00000000e+00\n",
      " 0.00000000e+00 0.00000000e+00 1.08794528e-04 7.82269613e-05\n",
      " 3.86812897e-04 0.00000000e+00 0.00000000e+00 6.13500341e-04\n",
      " 0.00000000e+00 4.35423319e-05 2.10990495e-04 9.40727397e-03\n",
      " 0.00000000e+00 1.66605370e-04 4.05790650e-05 0.00000000e+00\n",
      " 3.93104747e-05 7.85346699e-05 0.00000000e+00 3.65287410e-05\n",
      " 2.93352148e-04 0.00000000e+00 2.49163399e-04 8.17392561e-05\n",
      " 0.00000000e+00 2.51576915e-04 1.40712383e-05 1.39924102e-02\n",
      " 0.00000000e+00 0.00000000e+00 0.00000000e+00 0.00000000e+00\n",
      " 1.12270361e-04 0.00000000e+00 0.00000000e+00 1.70534780e-04\n",
      " 2.25894716e-04 0.00000000e+00 2.79047714e-04 0.00000000e+00\n",
      " 0.00000000e+00 0.00000000e+00 0.00000000e+00 8.37932968e-05\n",
      " 0.00000000e+00 5.89403908e-05 0.00000000e+00 3.71336987e-04\n",
      " 4.36279524e-05 0.00000000e+00 5.86554375e-04 1.59579457e-02\n",
      " 7.37508686e-04 0.00000000e+00 2.39874836e-04 4.70423988e-05\n",
      " 0.00000000e+00 1.26299654e-05 0.00000000e+00 6.81204610e-05\n",
      " 1.12060180e-04 2.54820545e-04 0.00000000e+00 1.60344958e-04\n",
      " 0.00000000e+00 0.00000000e+00 3.82365558e-03 2.64707452e-02\n",
      " 7.51697608e-03 0.00000000e+00 0.00000000e+00 0.00000000e+00\n",
      " 0.00000000e+00 0.00000000e+00 0.00000000e+00 9.12994641e-05\n",
      " 2.01161713e-04 0.00000000e+00 3.29356353e-04 0.00000000e+00\n",
      " 0.00000000e+00 1.02489394e-04 0.00000000e+00 6.16924477e-04\n",
      " 0.00000000e+00 0.00000000e+00 0.00000000e+00 4.75006862e-04\n",
      " 0.00000000e+00 0.00000000e+00 1.65771398e-04 0.00000000e+00\n",
      " 4.17034614e-05 2.71000289e-05 0.00000000e+00 0.00000000e+00\n",
      " 0.00000000e+00 0.00000000e+00 1.16979257e-04 1.28943349e-04\n",
      " 0.00000000e+00 5.10054272e-04 8.36326359e-05 0.00000000e+00\n",
      " 0.00000000e+00 1.28622374e-04 2.04909945e-04 1.25530636e-04\n",
      " 0.00000000e+00 1.74002036e-04 0.00000000e+00 0.00000000e+00\n",
      " 0.00000000e+00 2.03437503e-04 1.60145890e-04 2.57894854e-04\n",
      " 0.00000000e+00 8.41602908e-05 1.90331004e-04 0.00000000e+00\n",
      " 0.00000000e+00 0.00000000e+00 2.44776475e-05 4.72353397e-05\n",
      " 0.00000000e+00 1.84457311e-04 4.36650788e-04 2.45421916e-04\n",
      " 1.86138523e-05 0.00000000e+00 0.00000000e+00 0.00000000e+00\n",
      " 0.00000000e+00 0.00000000e+00 2.46258578e-04 0.00000000e+00\n",
      " 0.00000000e+00 1.60480762e-04 1.42470338e-04 0.00000000e+00\n",
      " 1.45868304e-04 1.32091819e-04 0.00000000e+00 0.00000000e+00\n",
      " 0.00000000e+00 0.00000000e+00 0.00000000e+00 0.00000000e+00\n",
      " 3.02968710e-04 3.55856808e-04 0.00000000e+00 2.09611786e-04\n",
      " 2.06088059e-04 0.00000000e+00 0.00000000e+00 1.49968506e-04]\n"
     ]
    }
   ],
   "source": [
    "clf1p = BalancedRandomForestClassifier(n_estimators=300, max_depth=3, random_state=0)\n",
    "clf1p.fit(X1p_down, y1p_down)  \n",
    "BalancedRandomForestClassifier(...)\n",
    "print(clf1p.feature_importances_) "
   ]
  },
  {
   "cell_type": "code",
   "execution_count": 39,
   "metadata": {},
   "outputs": [
    {
     "name": "stdout",
     "output_type": "stream",
     "text": [
      "              precision    recall  f1-score   support\n",
      "\n",
      "           0  0.9998783714 0.9039751484 0.9495112831     36376\n",
      "           1  0.0297222222 0.9639639640 0.0576663972       111\n",
      "\n",
      "    accuracy                      0.9041576452     36487\n",
      "   macro avg  0.5148002968 0.9339695562 0.5035888401     36487\n",
      "weighted avg  0.9969269823 0.9041576452 0.9467981309     36487\n",
      "\n"
     ]
    }
   ],
   "source": [
    "brfc_pred1p = clf1p.predict(X1p_test)\n",
    "brfc_cr1p = classification_report(y1p_test, brfc_pred1p, digits=10)\n",
    "print(brfc_cr1p)"
   ]
  },
  {
   "cell_type": "code",
   "execution_count": 32,
   "metadata": {},
   "outputs": [
    {
     "name": "stdout",
     "output_type": "stream",
     "text": [
      "              precision    recall  f1-score   support\n",
      "\n",
      "           0  0.9998952587 0.9147210067 0.9554135878     31309\n",
      "           1  0.0147601476 0.9302325581 0.0290592081        43\n",
      "\n",
      "    accuracy                      0.9147422812     31352\n",
      "   macro avg  0.5073277032 0.9224767824 0.4922363979     31352\n",
      "weighted avg  0.9985441229 0.9147422812 0.9541430711     31352\n",
      "\n"
     ]
    }
   ],
   "source": [
    "brfc_pred3 = clf2.predict(X3_test)\n",
    "brfc_cr3 = classification_report(y3_test, brfc_pred3, digits=10)\n",
    "print(brfc_cr3)"
   ]
  },
  {
   "cell_type": "code",
   "execution_count": 34,
   "metadata": {},
   "outputs": [
    {
     "name": "stdout",
     "output_type": "stream",
     "text": [
      "              precision    recall  f1-score   support\n",
      "\n",
      "           0  0.9985684790 0.9971684627 0.9978679798     36376\n",
      "           1  0.3641975309 0.5315315315 0.4322344322       111\n",
      "\n",
      "    accuracy                      0.9957519116     36487\n",
      "   macro avg  0.6813830049 0.7643499971 0.7150512060     36487\n",
      "weighted avg  0.9966386088 0.9957519116 0.9961472211     36487\n",
      "\n"
     ]
    }
   ],
   "source": [
    "brfc_pred4 = clf.predict(X2_test)\n",
    "brfc_cr4 = classification_report(y2_test, brfc_pred4, digits=10)\n",
    "print(brfc_cr4)"
   ]
  },
  {
   "cell_type": "code",
   "execution_count": 5,
   "metadata": {},
   "outputs": [],
   "source": [
    "fif2_lst = [rec_name + '_raw.fif' for rec_name in rec_wos if rec_name[0:5] == 'chb02']"
   ]
  },
  {
   "cell_type": "code",
   "execution_count": 6,
   "metadata": {},
   "outputs": [
    {
     "name": "stdout",
     "output_type": "stream",
     "text": [
      "Opening raw data file fifch2/chb02_01_raw.fif...\n",
      "    Range : 0 ... 921599 =      0.000 ...  3599.996 secs\n",
      "Ready.\n",
      "Opening raw data file fifch2/chb02_02_raw.fif...\n",
      "    Range : 0 ... 921599 =      0.000 ...  3599.996 secs\n",
      "Ready.\n",
      "Opening raw data file fifch2/chb02_03_raw.fif...\n",
      "    Range : 0 ... 921599 =      0.000 ...  3599.996 secs\n",
      "Ready.\n",
      "Opening raw data file fifch2/chb02_04_raw.fif...\n",
      "    Range : 0 ... 921599 =      0.000 ...  3599.996 secs\n",
      "Ready.\n",
      "Opening raw data file fifch2/chb02_05_raw.fif...\n",
      "    Range : 0 ... 921599 =      0.000 ...  3599.996 secs\n",
      "Ready.\n",
      "Opening raw data file fifch2/chb02_06_raw.fif...\n",
      "    Range : 0 ... 921599 =      0.000 ...  3599.996 secs\n",
      "Ready.\n",
      "Opening raw data file fifch2/chb02_07_raw.fif...\n",
      "    Range : 0 ... 921599 =      0.000 ...  3599.996 secs\n",
      "Ready.\n",
      "Opening raw data file fifch2/chb02_08_raw.fif...\n",
      "    Range : 0 ... 921599 =      0.000 ...  3599.996 secs\n",
      "Ready.\n",
      "Opening raw data file fifch2/chb02_09_raw.fif...\n",
      "    Range : 0 ... 921599 =      0.000 ...  3599.996 secs\n",
      "Ready.\n",
      "Opening raw data file fifch2/chb02_10_raw.fif...\n",
      "    Range : 0 ... 921599 =      0.000 ...  3599.996 secs\n",
      "Ready.\n",
      "Opening raw data file fifch2/chb02_11_raw.fif...\n",
      "    Range : 0 ... 921599 =      0.000 ...  3599.996 secs\n",
      "Ready.\n",
      "Opening raw data file fifch2/chb02_12_raw.fif...\n",
      "    Range : 0 ... 921599 =      0.000 ...  3599.996 secs\n",
      "Ready.\n",
      "Opening raw data file fifch2/chb02_13_raw.fif...\n",
      "    Range : 0 ... 921599 =      0.000 ...  3599.996 secs\n",
      "Ready.\n",
      "Opening raw data file fifch2/chb02_14_raw.fif...\n",
      "    Range : 0 ... 921599 =      0.000 ...  3599.996 secs\n",
      "Ready.\n",
      "Opening raw data file fifch2/chb02_15_raw.fif...\n",
      "    Range : 0 ... 921599 =      0.000 ...  3599.996 secs\n",
      "Ready.\n",
      "Opening raw data file fifch2/chb02_16_raw.fif...\n",
      "    Range : 0 ... 245503 =      0.000 ...   958.996 secs\n",
      "Ready.\n",
      "Opening raw data file fifch2/chb02_16+_raw.fif...\n",
      "    Range : 0 ... 921599 =      0.000 ...  3599.996 secs\n",
      "Ready.\n",
      "Opening raw data file fifch2/chb02_17_raw.fif...\n",
      "    Range : 0 ... 921599 =      0.000 ...  3599.996 secs\n",
      "Ready.\n",
      "Opening raw data file fifch2/chb02_18_raw.fif...\n",
      "    Range : 0 ... 921599 =      0.000 ...  3599.996 secs\n",
      "Ready.\n",
      "Opening raw data file fifch2/chb02_19_raw.fif...\n",
      "    Range : 0 ... 921599 =      0.000 ...  3599.996 secs\n",
      "Ready.\n",
      "Opening raw data file fifch2/chb02_20_raw.fif...\n",
      "    Range : 0 ... 921599 =      0.000 ...  3599.996 secs\n",
      "Ready.\n",
      "Opening raw data file fifch2/chb02_21_raw.fif...\n",
      "    Range : 0 ... 921599 =      0.000 ...  3599.996 secs\n",
      "Ready.\n",
      "Opening raw data file fifch2/chb02_22_raw.fif...\n",
      "    Range : 0 ... 921599 =      0.000 ...  3599.996 secs\n",
      "Ready.\n",
      "Opening raw data file fifch2/chb02_23_raw.fif...\n",
      "    Range : 0 ... 921599 =      0.000 ...  3599.996 secs\n",
      "Ready.\n",
      "Opening raw data file fifch2/chb02_24_raw.fif...\n",
      "    Range : 0 ... 921599 =      0.000 ...  3599.996 secs\n",
      "Ready.\n",
      "Opening raw data file fifch2/chb02_25_raw.fif...\n",
      "    Range : 0 ... 921599 =      0.000 ...  3599.996 secs\n",
      "Ready.\n",
      "Opening raw data file fifch2/chb02_26_raw.fif...\n",
      "    Range : 0 ... 921599 =      0.000 ...  3599.996 secs\n",
      "Ready.\n",
      "Opening raw data file fifch2/chb02_27_raw.fif...\n",
      "    Range : 0 ... 921599 =      0.000 ...  3599.996 secs\n",
      "Ready.\n",
      "Opening raw data file fifch2/chb02_28_raw.fif...\n",
      "    Range : 0 ... 921599 =      0.000 ...  3599.996 secs\n",
      "Ready.\n",
      "Opening raw data file fifch2/chb02_29_raw.fif...\n",
      "    Range : 0 ... 921599 =      0.000 ...  3599.996 secs\n",
      "Ready.\n",
      "Opening raw data file fifch2/chb02_30_raw.fif...\n",
      "    Range : 0 ... 921599 =      0.000 ...  3599.996 secs\n",
      "Ready.\n",
      "Opening raw data file fifch2/chb02_31_raw.fif...\n",
      "    Range : 0 ... 921599 =      0.000 ...  3599.996 secs\n",
      "Ready.\n",
      "Opening raw data file fifch2/chb02_32_raw.fif...\n",
      "    Range : 0 ... 921599 =      0.000 ...  3599.996 secs\n",
      "Ready.\n",
      "Opening raw data file fifch2/chb02_33_raw.fif...\n",
      "    Range : 0 ... 921599 =      0.000 ...  3599.996 secs\n",
      "Ready.\n",
      "Opening raw data file fifch2/chb02_34_raw.fif...\n",
      "    Range : 0 ... 921599 =      0.000 ...  3599.996 secs\n",
      "Ready.\n",
      "Opening raw data file fifch2/chb02_35_raw.fif...\n",
      "    Range : 0 ... 921599 =      0.000 ...  3599.996 secs\n",
      "Ready.\n"
     ]
    }
   ],
   "source": [
    "\n",
    "\n",
    "raws = mne.concatenate_raws([mne.io.read_raw_fif('fifch2/' + f, preload=False) for f in fif2_lst])\n",
    "info = raws.info\n",
    "channels = raws.ch_names"
   ]
  },
  {
   "cell_type": "code",
   "execution_count": 7,
   "metadata": {},
   "outputs": [
    {
     "name": "stdout",
     "output_type": "stream",
     "text": [
      "Used Annotations descriptions: ['Nonseizure', 'Seizure']\n"
     ]
    }
   ],
   "source": [
    "\n",
    "event_id = dict(Seizure=1, Nonseizure=0)\n",
    "events_from_annot, event_dict = mne.events_from_annotations(raws, event_id=event_id, chunk_duration=1)"
   ]
  },
  {
   "cell_type": "code",
   "execution_count": 8,
   "metadata": {},
   "outputs": [
    {
     "data": {
      "text/plain": [
       "(array([[       0,        0,        0],\n",
       "        [     256,        0,        0],\n",
       "        [     512,        0,        0],\n",
       "        ...,\n",
       "        [32500736,        0,        0],\n",
       "        [32500992,        0,        0],\n",
       "        [32501248,        0,        0]]), array([125442,      0,    172]))"
      ]
     },
     "execution_count": 8,
     "metadata": {},
     "output_type": "execute_result"
    }
   ],
   "source": [
    "events_from_annot, np.count_nonzero(events_from_annot, axis=0)"
   ]
  },
  {
   "cell_type": "code",
   "execution_count": 9,
   "metadata": {},
   "outputs": [
    {
     "name": "stdout",
     "output_type": "stream",
     "text": [
      "125443 matching events found\n",
      "No baseline correction applied\n",
      "Not setting metadata\n",
      "0 projection items activated\n",
      "Loading data for 125443 events and 257 original time points ...\n",
      "36 bad epochs dropped\n"
     ]
    },
    {
     "data": {
      "text/plain": [
       "((125407, 23, 129), (125407,))"
      ]
     },
     "execution_count": 9,
     "metadata": {},
     "output_type": "execute_result"
    }
   ],
   "source": [
    "tmin, tmax = -0.5, 0.5\n",
    "epochs = mne.Epochs(raws, events_from_annot, event_id, tmin, tmax, proj=True,\n",
    "                    decim=2, baseline=None, preload=True)\n",
    "\n",
    "labels = epochs.events[:, -1]\n",
    "\n",
    "# get MEG and EEG data\n",
    "fif_epochs = epochs.copy().pick_types(meg=False, eeg=True)\n",
    "fif_data = fif_epochs.get_data().reshape(len(labels), -1)\n",
    "picks = mne.pick_types(epochs.info, meg=False, eeg=True)\n",
    "X3 = epochs.get_data()[:, picks]\n",
    "y3 = epochs.events[:, 2]\n",
    "X3.shape, y3.shape"
   ]
  },
  {
   "cell_type": "code",
   "execution_count": 10,
   "metadata": {},
   "outputs": [],
   "source": [
    "X3_2d = X3.reshape(len(X3), -1)"
   ]
  },
  {
   "cell_type": "code",
   "execution_count": 11,
   "metadata": {},
   "outputs": [],
   "source": [
    "from sklearn.model_selection import train_test_split\n",
    "X3_train, X3_test, y3_train, y3_test = train_test_split(\n",
    "X3_2d, y3, stratify=y3)"
   ]
  },
  {
   "cell_type": "code",
   "execution_count": 12,
   "metadata": {},
   "outputs": [
    {
     "data": {
      "text/plain": [
       "(0.0013715233477928042, 31352, 43)"
      ]
     },
     "execution_count": 12,
     "metadata": {},
     "output_type": "execute_result"
    }
   ],
   "source": [
    "y3_test.sum() / len(y3_test), len(y3_test), y3_test.sum()"
   ]
  },
  {
   "cell_type": "code",
   "execution_count": 13,
   "metadata": {},
   "outputs": [
    {
     "name": "stdout",
     "output_type": "stream",
     "text": [
      "Frequency of unique values of the said array:\n",
      "[[    0     1]\n",
      " [93926   129]]\n"
     ]
    }
   ],
   "source": [
    "unique_elements, counts_elements = np.unique(y3_train, return_counts=True)\n",
    "print(\"Frequency of unique values of the said array:\")\n",
    "print(np.asarray((unique_elements, counts_elements)))"
   ]
  },
  {
   "cell_type": "code",
   "execution_count": 15,
   "metadata": {},
   "outputs": [
    {
     "data": {
      "text/plain": [
       "(129, 1290)"
      ]
     },
     "execution_count": 15,
     "metadata": {},
     "output_type": "execute_result"
    }
   ],
   "source": [
    "# concatenate our training data back together\n",
    "X3_stack = np.column_stack((X3_train, y3_train))\n",
    "\n",
    "# separate minority and majority classes\n",
    "a = y3_train == 1\n",
    "seizures = X3_stack[a,:]\n",
    "nonseizures = X3_stack[~a,:]\n",
    "nonseizures_downsampled = resample(nonseizures,\n",
    "                                replace = False, # sample without replacement\n",
    "                                n_samples = int(10*len(seizures)), # match minority n\n",
    "                                random_state = 27) # reproducible results\n",
    "\n",
    "# combine minority and downsampled majority\n",
    "downsampled3 = np.vstack((seizures, nonseizures_downsampled))\n",
    "shuff_down = shuffle(downsampled3)\n",
    "\n",
    "y_down = shuff_down[:,-1]\n",
    "X_down = np.delete(shuff_down, -1, axis=1)\n",
    "# checking counts\n",
    "len(seizures), len(nonseizures_downsampled)"
   ]
  },
  {
   "cell_type": "code",
   "execution_count": 49,
   "metadata": {},
   "outputs": [],
   "source": []
  },
  {
   "cell_type": "code",
   "execution_count": 17,
   "metadata": {},
   "outputs": [
    {
     "name": "stdout",
     "output_type": "stream",
     "text": [
      "[9.64643465e-05 0.00000000e+00 0.00000000e+00 ... 0.00000000e+00\n",
      " 0.00000000e+00 0.00000000e+00]\n"
     ]
    }
   ],
   "source": [
    "clf5 = BalancedRandomForestClassifier(n_estimators=300, max_depth=3, random_state=0)\n",
    "clf5.fit(X_down, y_down)  \n",
    "BalancedRandomForestClassifier(...)\n",
    "print(clf5.feature_importances_) "
   ]
  },
  {
   "cell_type": "code",
   "execution_count": 18,
   "metadata": {},
   "outputs": [
    {
     "name": "stdout",
     "output_type": "stream",
     "text": [
      "              precision    recall  f1-score   support\n",
      "\n",
      "           0  0.9998315080 0.9476508352 0.9730421094     31309\n",
      "           1  0.0226595110 0.8837209302 0.0441860465        43\n",
      "\n",
      "    accuracy                      0.9475631539     31352\n",
      "   macro avg  0.5112455095 0.9156858827 0.5086140780     31352\n",
      "weighted avg  0.9984912938 0.9475631539 0.9717681616     31352\n",
      "\n"
     ]
    }
   ],
   "source": [
    "brfc_pred5 = clf5.predict(X3_test)\n",
    "brfc_cr5 = classification_report(y3_test, brfc_pred5, digits=10)\n",
    "print(brfc_cr5)"
   ]
  },
  {
   "cell_type": "code",
   "execution_count": 53,
   "metadata": {},
   "outputs": [
    {
     "name": "stdout",
     "output_type": "stream",
     "text": [
      "              precision    recall  f1-score   support\n",
      "\n",
      "           0  0.9995683329 0.9548603475 0.9767029877     36376\n",
      "           1  0.0552359033 0.8648648649 0.1038399135       111\n",
      "\n",
      "    accuracy                      0.9545865651     36487\n",
      "   macro avg  0.5274021181 0.9098626062 0.5402714506     36487\n",
      "weighted avg  0.9966955042 0.9545865651 0.9740475816     36487\n",
      "\n"
     ]
    }
   ],
   "source": [
    "brfc_pred5 = clf5.predict(X2_test)\n",
    "brfc_cr5 = classification_report(y2_test, brfc_pred5, digits=10)\n",
    "print(brfc_cr5)"
   ]
  },
  {
   "cell_type": "code",
   "execution_count": 54,
   "metadata": {},
   "outputs": [
    {
     "name": "stdout",
     "output_type": "stream",
     "text": [
      "              precision    recall  f1-score   support\n",
      "\n",
      "           0  0.9999565718 0.7710119207 0.8706856619     59728\n",
      "           1  0.0048748545 0.9710144928 0.0097010063        69\n",
      "\n",
      "    accuracy                      0.7712427045     59797\n",
      "   macro avg  0.5024157131 0.8710132067 0.4401933341     59797\n",
      "weighted avg  0.9988083430 0.7712427045 0.8696921682     59797\n",
      "\n"
     ]
    }
   ],
   "source": [
    "brfc_pred5 = clf5.predict(X_test)\n",
    "brfc_cr5 = classification_report(y_test, brfc_pred5, digits=10)\n",
    "print(brfc_cr5)"
   ]
  },
  {
   "cell_type": "code",
   "execution_count": 55,
   "metadata": {},
   "outputs": [
    {
     "name": "stdout",
     "output_type": "stream",
     "text": [
      "              precision    recall  f1-score   support\n",
      "\n",
      "           0  0.9993262320 0.9948257689 0.9970709221     31309\n",
      "           1  0.1195652174 0.5116279070 0.1938325991        43\n",
      "\n",
      "    accuracy                      0.9941630518     31352\n",
      "   macro avg  0.5594457247 0.7532268380 0.5954517606     31352\n",
      "weighted avg  0.9981196193 0.9941630518 0.9959692620     31352\n",
      "\n"
     ]
    }
   ],
   "source": [
    "brfc_pred = clf.predict(X3_test)\n",
    "brfc_cr = classification_report(y3_test, brfc_pred, digits=10)\n",
    "print(brfc_cr)"
   ]
  },
  {
   "cell_type": "code",
   "execution_count": 56,
   "metadata": {},
   "outputs": [
    {
     "name": "stdout",
     "output_type": "stream",
     "text": [
      "              precision    recall  f1-score   support\n",
      "\n",
      "           0  1.0000000000 0.9207576096 0.9587442007     31309\n",
      "           1  0.0170364501 1.0000000000 0.0335021426        43\n",
      "\n",
      "    accuracy                      0.9208662924     31352\n",
      "   macro avg  0.5085182250 0.9603788048 0.4961231717     31352\n",
      "weighted avg  0.9986518425 0.9208662924 0.9574752097     31352\n",
      "\n"
     ]
    }
   ],
   "source": [
    "brfc_pred2 = clf2.predict(X3_test)\n",
    "brfc_cr2 = classification_report(y3_test, brfc_pred2, digits=10)\n",
    "print(brfc_cr2)"
   ]
  },
  {
   "cell_type": "code",
   "execution_count": 11,
   "metadata": {},
   "outputs": [
    {
     "name": "stdout",
     "output_type": "stream",
     "text": [
      "145988 matching events found\n",
      "No baseline correction applied\n",
      "Not setting metadata\n",
      "0 projection items activated\n",
      "Loading data for 145988 events and 257 original time points ...\n",
      "42 bad epochs dropped\n"
     ]
    },
    {
     "data": {
      "text/plain": [
       "((145946, 23, 129), (145946,))"
      ]
     },
     "execution_count": 11,
     "metadata": {},
     "output_type": "execute_result"
    }
   ],
   "source": [
    "tmin, tmax = -0.5, 0.5\n",
    "epochs = mne.Epochs(raws, events_from_annot, event_id, tmin, tmax, proj=True,\n",
    "                    decim=2, baseline=None, preload=True)\n",
    "\n",
    "labels = epochs.events[:, -1]\n",
    "\n",
    "# get MEG and EEG data\n",
    "fif_epochs = epochs.copy().pick_types(meg=False, eeg=True)\n",
    "fif_data = fif_epochs.get_data().reshape(len(labels), -1)\n",
    "picks = mne.pick_types(epochs.info, meg=False, eeg=True)\n",
    "X = epochs.get_data()[:, picks]\n",
    "y = epochs.events[:, 2]\n",
    "X.shape, y.shape\n"
   ]
  },
  {
   "cell_type": "code",
   "execution_count": 10,
   "metadata": {
    "scrolled": true
   },
   "outputs": [
    {
     "name": "stdout",
     "output_type": "stream",
     "text": [
      "125443 matching events found\n",
      "No baseline correction applied\n",
      "Not setting metadata\n",
      "0 projection items activated\n",
      "Loading data for 125443 events and 257 original time points ...\n",
      "36 bad epochs dropped\n"
     ]
    }
   ],
   "source": [
    "tmin, tmax = -0.5, 0.5\n",
    "epochs = mne.Epochs(raws, events_from_annot, event_id, tmin, tmax, proj=True,\n",
    "                    decim=2, baseline=None, preload=True)\n",
    "\n",
    "\n",
    "\n",
    "    \n",
    "\n"
   ]
  },
  {
   "cell_type": "code",
   "execution_count": 17,
   "metadata": {},
   "outputs": [
    {
     "data": {
      "text/plain": [
       "172"
      ]
     },
     "execution_count": 17,
     "metadata": {},
     "output_type": "execute_result"
    }
   ],
   "source": [
    "\n",
    "y = epochs.events[:, 2]\n",
    "y.sum()"
   ]
  },
  {
   "cell_type": "code",
   "execution_count": 9,
   "metadata": {},
   "outputs": [],
   "source": [
    "picks = mne.pick_types(epochs.info, meg=False, eeg=True)\n",
    "X = epochs.get_data()[:, picks]"
   ]
  },
  {
   "cell_type": "code",
   "execution_count": 36,
   "metadata": {},
   "outputs": [
    {
     "ename": "NameError",
     "evalue": "name 'X3' is not defined",
     "output_type": "error",
     "traceback": [
      "\u001b[0;31m---------------------------------------------------------------------------\u001b[0m",
      "\u001b[0;31mNameError\u001b[0m                                 Traceback (most recent call last)",
      "\u001b[0;32m<ipython-input-36-8df857f76180>\u001b[0m in \u001b[0;36m<module>\u001b[0;34m\u001b[0m\n\u001b[0;32m----> 1\u001b[0;31m \u001b[0mX\u001b[0m\u001b[0;34m.\u001b[0m\u001b[0mshape\u001b[0m\u001b[0;34m,\u001b[0m \u001b[0my\u001b[0m\u001b[0;34m.\u001b[0m\u001b[0mshape\u001b[0m\u001b[0;34m,\u001b[0m \u001b[0mX3_2d\u001b[0m \u001b[0;34m=\u001b[0m \u001b[0mX3\u001b[0m\u001b[0;34m.\u001b[0m\u001b[0mreshape\u001b[0m\u001b[0;34m(\u001b[0m\u001b[0mlen\u001b[0m\u001b[0;34m(\u001b[0m\u001b[0mX3\u001b[0m\u001b[0;34m)\u001b[0m\u001b[0;34m,\u001b[0m \u001b[0;34m-\u001b[0m\u001b[0;36m1\u001b[0m\u001b[0;34m)\u001b[0m\u001b[0;34m,\u001b[0m \u001b[0my\u001b[0m\u001b[0;34m\u001b[0m\u001b[0;34m\u001b[0m\u001b[0m\n\u001b[0m",
      "\u001b[0;31mNameError\u001b[0m: name 'X3' is not defined"
     ]
    }
   ],
   "source": [
    "X.shape, y.shape, X3_2d = X3.reshape(len(X3), -1), "
   ]
  },
  {
   "cell_type": "code",
   "execution_count": 15,
   "metadata": {},
   "outputs": [
    {
     "name": "stdout",
     "output_type": "stream",
     "text": [
      "Effective window size : 1.000 (s)\n"
     ]
    }
   ],
   "source": [
    "# mne.Epochs.next()\n",
    "from mne.time_frequency import psd_array_welch\n",
    "from mne.time_frequency import psd_welch\n",
    "psds, freqs = psd_welch(epochs, fmin=1, fmax=40, n_fft=128, n_overlap=.5, n_per_seg=128, proj=False, n_jobs=1, reject_by_annotation=True, average='mean', verbose=None)\n",
    "psds /= np.sum(psds, axis=-1, keepdims=True)\n",
    "psds_rs = psds.reshape(len(psds), -1)"
   ]
  },
  {
   "cell_type": "code",
   "execution_count": 31,
   "metadata": {},
   "outputs": [],
   "source": [
    "psds /= np.sum(psds, axis=-1, keepdims=True)"
   ]
  },
  {
   "cell_type": "code",
   "execution_count": 32,
   "metadata": {},
   "outputs": [],
   "source": [
    "psds_rs = psds.reshape(len(psds), -1)"
   ]
  },
  {
   "cell_type": "code",
   "execution_count": 33,
   "metadata": {},
   "outputs": [
    {
     "data": {
      "text/plain": [
       "array([0, 0, 0, ..., 0, 0, 0])"
      ]
     },
     "execution_count": 33,
     "metadata": {},
     "output_type": "execute_result"
    }
   ],
   "source": [
    "y"
   ]
  },
  {
   "cell_type": "code",
   "execution_count": null,
   "metadata": {},
   "outputs": [],
   "source": [
    "# def create_fft(fn):\n",
    "#     sample_rate, X = scipy.io.wavfile.read(fn)\n",
    "#     fft_features = abs(scipy.fft(X)[:1000])\n",
    "#     base_fn, ext = os.path.splitext(fn)\n",
    "#     data_fn = base_fn + \".fft\"\n",
    "#     np.save(data_fn, fft_features)"
   ]
  },
  {
   "cell_type": "code",
   "execution_count": 17,
   "metadata": {},
   "outputs": [
    {
     "data": {
      "text/plain": [
       "(numpy.ndarray,\n",
       " numpy.ndarray,\n",
       " (145946, 23, 40),\n",
       " (40,),\n",
       " (145946, 920),\n",
       " (145946,))"
      ]
     },
     "execution_count": 17,
     "metadata": {},
     "output_type": "execute_result"
    }
   ],
   "source": [
    "type(psds), type(freqs), psds.shape, freqs.shape, psds_rs.shape, y.shape\n",
    "\n",
    "# if input is of type Epochs, then psds will be of shape (n_epochs, n_channels, n_freqs)"
   ]
  },
  {
   "cell_type": "code",
   "execution_count": 34,
   "metadata": {},
   "outputs": [],
   "source": [
    "from sklearn.model_selection import train_test_split\n",
    "X_train, X_test, y_train, y_test = train_test_split(\n",
    "psds_rs, y, stratify=y)"
   ]
  },
  {
   "cell_type": "code",
   "execution_count": 35,
   "metadata": {},
   "outputs": [
    {
     "data": {
      "text/plain": [
       "((94055, 920), (31352, 920), (94055,), (31352,), 129, 43)"
      ]
     },
     "execution_count": 35,
     "metadata": {},
     "output_type": "execute_result"
    }
   ],
   "source": [
    "X_train.shape, X_test.shape, y_train.shape, y_test.shape, y_train.sum(), y_test.sum()"
   ]
  },
  {
   "cell_type": "code",
   "execution_count": 36,
   "metadata": {},
   "outputs": [
    {
     "data": {
      "text/plain": [
       "(129, 645)"
      ]
     },
     "execution_count": 36,
     "metadata": {},
     "output_type": "execute_result"
    }
   ],
   "source": [
    "# concatenate our training data back together\n",
    "X_stack = np.column_stack((X_train, y_train))\n",
    "\n",
    "\n",
    "# separate minority and majority classes\n",
    "a = y_train == 1\n",
    "seizures = X_stack[a,:]\n",
    "nonseizures = X_stack[~a,:]\n",
    "nonseizures_downsampled = resample(nonseizures,\n",
    "                                replace = False, # sample without replacement\n",
    "                                n_samples = int(5*len(seizures)), # match minority n\n",
    "                                random_state = 27) # reproducible results\n",
    "\n",
    "# combine minority and downsampled majority\n",
    "downsampled = np.vstack((seizures, nonseizures_downsampled))\n",
    "\n",
    "# checking counts\n",
    "len(seizures), len(nonseizures_downsampled)"
   ]
  },
  {
   "cell_type": "code",
   "execution_count": 22,
   "metadata": {},
   "outputs": [
    {
     "data": {
      "text/plain": [
       "(array([0., 0., 0., ..., 0., 0., 0.]),\n",
       " array([1., 1., 1., 1., 1., 1., 1., 1., 1., 1., 1., 1., 1., 1., 1., 1., 1.,\n",
       "        1., 1., 1., 1., 1., 1., 1., 1., 1., 1., 1., 1., 1., 1., 1., 1., 1.,\n",
       "        1., 1., 1., 1., 1., 1., 1., 1., 1., 1., 1., 1., 1., 1., 1., 1., 1.,\n",
       "        1., 1., 1., 1., 1., 1., 1., 1., 1., 1., 1., 1., 1., 1., 1., 1., 1.,\n",
       "        1., 1., 1., 1., 1., 1., 1., 1., 1., 1., 1., 1., 1., 1., 1., 1., 1.,\n",
       "        1., 1., 1., 1., 1., 1., 1., 1., 1., 1., 1., 1., 1., 1., 1., 1., 1.,\n",
       "        1., 1., 1., 1., 1., 1., 1., 1., 1., 1., 1., 1., 1., 1., 1., 1., 1.,\n",
       "        1., 1., 1., 1., 1., 1., 1., 1., 1., 1., 0., 0., 0., 0., 0., 0., 0.,\n",
       "        0., 0., 0., 0., 0., 0., 0., 0., 0., 0., 0., 0., 0., 0., 0., 0., 0.,\n",
       "        0., 0., 0., 0., 0., 0., 0., 0., 0., 0., 0., 0., 0., 0., 0., 0., 0.,\n",
       "        0., 0., 0., 0., 0., 0., 0., 0., 0., 0., 0., 0., 0., 0., 0., 0., 0.,\n",
       "        0., 0., 0., 0., 0., 0., 0., 0., 0., 0., 0., 0., 0., 0., 0., 0., 0.,\n",
       "        0., 0., 0., 0., 0., 0., 0., 0., 0., 0., 0., 0., 0., 0., 0., 0., 0.,\n",
       "        0., 0., 0., 0., 0., 0., 0., 0., 0., 0., 0., 0., 0., 0., 0., 0., 0.,\n",
       "        0., 0., 0., 0., 0., 0., 0., 0., 0., 0., 0., 0., 0., 0., 0., 0., 0.,\n",
       "        0., 0., 0., 0., 0., 0., 0., 0., 0., 0., 0., 0., 0., 0., 0., 0., 0.,\n",
       "        0., 0., 0., 0., 0., 0., 0., 0., 0., 0., 0., 0., 0., 0., 0., 0., 0.,\n",
       "        0., 0., 0., 0., 0., 0., 0., 0., 0., 0., 0., 0., 0., 0., 0., 0., 0.,\n",
       "        0., 0., 0., 0., 0., 0., 0., 0., 0., 0., 0., 0., 0., 0., 0., 0., 0.,\n",
       "        0., 0., 0., 0., 0., 0., 0., 0., 0., 0., 0., 0., 0., 0., 0., 0., 0.,\n",
       "        0., 0., 0., 0., 0., 0., 0., 0., 0., 0., 0., 0., 0., 0., 0., 0., 0.,\n",
       "        0., 0., 0., 0., 0., 0., 0., 0., 0., 0., 0., 0., 0., 0., 0., 0., 0.,\n",
       "        0., 0., 0., 0., 0., 0., 0., 0., 0., 0., 0., 0., 0., 0., 0., 0., 0.,\n",
       "        0., 0., 0., 0., 0., 0., 0., 0., 0., 0., 0., 0., 0., 0., 0., 0., 0.,\n",
       "        0., 0., 0., 0., 0., 0., 0., 0., 0., 0., 0., 0., 0., 0., 0., 0., 0.,\n",
       "        0., 0., 0., 0., 0., 0., 0., 0., 0., 0., 0., 0., 0., 0., 0., 0., 0.,\n",
       "        0., 0., 0., 0., 0., 0., 0., 0., 0., 0., 0., 0., 0., 0., 0., 0., 0.,\n",
       "        0., 0., 0., 0., 0., 0., 0., 0., 0., 0., 0., 0., 0., 0., 0., 0., 0.,\n",
       "        0., 0., 0., 0., 0., 0., 0., 0., 0., 0., 0., 0., 0., 0., 0., 0., 0.,\n",
       "        0., 0., 0., 0., 0., 0., 0., 0., 0., 0., 0., 0., 0., 0., 0., 0., 0.,\n",
       "        0., 0., 0., 0., 0., 0., 0., 0., 0., 0., 0., 0., 0., 0., 0., 0., 0.,\n",
       "        0., 0., 0., 0., 0., 0., 0., 0., 0., 0., 0., 0., 0., 0., 0., 0., 0.,\n",
       "        0., 0., 0., 0., 0., 0., 0., 0., 0., 0., 0., 0., 0., 0., 0., 0., 0.,\n",
       "        0., 0., 0., 0., 0., 0., 0., 0., 0., 0., 0., 0., 0., 0., 0., 0., 0.,\n",
       "        0., 0., 0., 0., 0., 0., 0., 0., 0., 0., 0., 0., 0., 0., 0., 0., 0.,\n",
       "        0., 0., 0., 0., 0., 0., 0., 0., 0., 0., 0., 0., 0., 0., 0., 0., 0.,\n",
       "        0., 0., 0., 0., 0., 0., 0., 0., 0., 0., 0., 0., 0., 0., 0., 0., 0.,\n",
       "        0., 0., 0., 0., 0., 0., 0., 0., 0., 0., 0., 0., 0., 0., 0., 0., 0.,\n",
       "        0., 0., 0., 0., 0., 0., 0., 0., 0., 0., 0., 0., 0., 0., 0., 0., 0.,\n",
       "        0., 0., 0., 0., 0., 0., 0., 0., 0., 0., 0., 0., 0., 0., 0., 0., 0.,\n",
       "        0., 0., 0., 0., 0., 0., 0., 0., 0., 0., 0., 0., 0., 0., 0., 0., 0.,\n",
       "        0., 0., 0., 0., 0., 0., 0., 0., 0., 0., 0., 0., 0., 0., 0., 0., 0.,\n",
       "        0., 0., 0., 0., 0., 0., 0., 0., 0., 0., 0., 0., 0., 0., 0., 0., 0.,\n",
       "        0., 0., 0., 0., 0., 0., 0., 0., 0., 0., 0., 0., 0., 0., 0., 0., 0.,\n",
       "        0., 0., 0., 0., 0., 0., 0., 0., 0., 0., 0., 0., 0., 0., 0., 0., 0.,\n",
       "        0., 0., 0., 0., 0., 0., 0., 0., 0.]))"
      ]
     },
     "execution_count": 22,
     "metadata": {},
     "output_type": "execute_result"
    }
   ],
   "source": [
    "X_stack[:,-1], downsampled[:,-1]"
   ]
  },
  {
   "cell_type": "code",
   "execution_count": 37,
   "metadata": {},
   "outputs": [
    {
     "data": {
      "text/plain": [
       "array([0., 0., 0., 0., 0., 0., 1., 0., 0., 0., 0., 0., 0., 0., 0., 0., 1.,\n",
       "       0., 0., 1., 0., 0., 0., 1., 0., 0., 0., 0., 0., 0., 0., 0., 1., 0.,\n",
       "       1., 0., 0., 0., 0., 0., 1., 1., 0., 0., 0., 0., 0., 0., 0., 0., 0.,\n",
       "       0., 0., 0., 0., 0., 0., 0., 0., 0., 0., 1., 0., 0., 0., 0., 0., 0.,\n",
       "       1., 0., 0., 0., 0., 0., 0., 0., 1., 0., 1., 1., 0., 0., 0., 0., 0.,\n",
       "       0., 1., 0., 0., 0., 0., 1., 0., 1., 0., 1., 0., 0., 0., 1., 0., 0.,\n",
       "       0., 0., 1., 0., 0., 0., 0., 0., 1., 1., 0., 0., 0., 0., 0., 0., 0.,\n",
       "       0., 0., 0., 0., 0., 0., 0., 0., 0., 0., 1., 1., 0., 0., 0., 0., 0.,\n",
       "       0., 0., 0., 0., 0., 0., 0., 1., 1., 0., 0., 0., 0., 0., 0., 0., 1.,\n",
       "       0., 1., 1., 0., 0., 1., 0., 0., 1., 1., 1., 1., 0., 0., 0., 0., 0.,\n",
       "       0., 0., 0., 0., 0., 0., 0., 0., 0., 0., 0., 0., 0., 0., 0., 0., 0.,\n",
       "       0., 0., 0., 0., 1., 0., 1., 0., 0., 0., 1., 1., 0., 0., 0., 0., 0.,\n",
       "       0., 0., 1., 1., 0., 1., 1., 0., 0., 0., 0., 0., 0., 0., 0., 0., 0.,\n",
       "       1., 1., 0., 0., 0., 0., 0., 0., 0., 0., 0., 0., 0., 0., 0., 0., 0.,\n",
       "       0., 0., 0., 0., 0., 0., 0., 0., 0., 0., 0., 1., 0., 0., 0., 0., 0.,\n",
       "       0., 1., 0., 1., 0., 0., 0., 0., 0., 0., 0., 0., 1., 0., 0., 0., 0.,\n",
       "       0., 1., 0., 0., 0., 0., 0., 0., 0., 0., 0., 0., 0., 0., 0., 0., 0.,\n",
       "       0., 1., 1., 1., 0., 0., 0., 0., 0., 0., 0., 0., 1., 0., 0., 1., 0.,\n",
       "       0., 0., 0., 0., 0., 1., 0., 0., 0., 0., 0., 0., 0., 0., 0., 1., 0.,\n",
       "       0., 0., 1., 0., 0., 1., 0., 1., 0., 0., 0., 0., 0., 0., 0., 0., 0.,\n",
       "       0., 0., 0., 0., 0., 0., 0., 0., 0., 0., 0., 0., 1., 0., 0., 0., 0.,\n",
       "       0., 0., 0., 0., 0., 0., 0., 0., 0., 0., 0., 1., 0., 0., 0., 0., 0.,\n",
       "       0., 0., 0., 0., 1., 0., 0., 0., 0., 0., 0., 0., 0., 0., 0., 0., 0.,\n",
       "       1., 0., 0., 0., 0., 0., 0., 0., 0., 0., 1., 0., 0., 0., 1., 0., 0.,\n",
       "       0., 0., 0., 0., 0., 0., 0., 0., 0., 0., 0., 0., 0., 0., 1., 0., 0.,\n",
       "       0., 0., 0., 0., 0., 0., 1., 1., 0., 1., 1., 0., 0., 1., 0., 0., 0.,\n",
       "       0., 0., 0., 0., 0., 0., 1., 0., 0., 0., 0., 0., 0., 0., 0., 0., 1.,\n",
       "       0., 0., 0., 0., 0., 0., 0., 0., 0., 0., 0., 0., 0., 0., 0., 0., 0.,\n",
       "       0., 1., 0., 0., 1., 0., 0., 0., 1., 0., 0., 0., 0., 0., 0., 1., 1.,\n",
       "       0., 0., 0., 0., 0., 0., 0., 0., 0., 1., 1., 0., 0., 0., 1., 0., 0.,\n",
       "       0., 0., 0., 0., 0., 1., 0., 0., 0., 0., 0., 0., 0., 0., 1., 0., 0.,\n",
       "       0., 0., 0., 1., 0., 0., 0., 0., 1., 1., 0., 0., 0., 0., 1., 0., 0.,\n",
       "       0., 1., 0., 0., 0., 0., 0., 0., 0., 0., 0., 0., 0., 1., 1., 1., 0.,\n",
       "       0., 0., 0., 1., 1., 0., 1., 0., 0., 0., 0., 0., 1., 0., 0., 0., 0.,\n",
       "       0., 0., 0., 0., 1., 1., 0., 0., 0., 0., 1., 1., 1., 0., 0., 0., 0.,\n",
       "       0., 0., 0., 0., 0., 0., 0., 0., 0., 0., 0., 0., 0., 0., 0., 1., 0.,\n",
       "       0., 0., 1., 0., 0., 0., 0., 1., 0., 0., 1., 0., 0., 0., 0., 0., 0.,\n",
       "       0., 0., 0., 0., 0., 0., 0., 0., 0., 0., 0., 0., 1., 0., 1., 1., 0.,\n",
       "       0., 1., 1., 0., 0., 0., 0., 0., 0., 0., 0., 0., 0., 0., 0., 0., 1.,\n",
       "       0., 0., 0., 0., 1., 0., 0., 0., 0., 0., 0., 1., 0., 0., 0., 0., 0.,\n",
       "       0., 0., 0., 1., 0., 0., 0., 0., 0., 0., 0., 0., 0., 0., 1., 0., 0.,\n",
       "       0., 0., 1., 0., 0., 0., 0., 0., 1., 0., 0., 1., 0., 0., 1., 1., 0.,\n",
       "       0., 0., 0., 0., 1., 1., 0., 0., 0., 0., 0., 0., 1., 0., 0., 0., 0.,\n",
       "       0., 0., 0., 0., 1., 1., 1., 0., 0., 0., 1., 0., 0., 0., 0., 0., 0.,\n",
       "       0., 1., 0., 0., 0., 0., 1., 0., 0., 0., 1., 0., 0., 0., 0., 1., 0.,\n",
       "       0., 0., 0., 0., 0., 0., 0., 0., 0.])"
      ]
     },
     "execution_count": 37,
     "metadata": {},
     "output_type": "execute_result"
    }
   ],
   "source": [
    "shuff_down = shuffle(downsampled)\n",
    "shuff_down[:,-1]"
   ]
  },
  {
   "cell_type": "code",
   "execution_count": 38,
   "metadata": {},
   "outputs": [],
   "source": [
    "\n",
    "\n",
    "X7_down = np.delete(shuff_down, -1, axis=1)\n",
    "\n",
    "y7_down = shuff_down[:,-1]"
   ]
  },
  {
   "cell_type": "code",
   "execution_count": 39,
   "metadata": {},
   "outputs": [
    {
     "data": {
      "text/plain": [
       "(array([4.41566174e-04, 7.63336421e-02, 5.80971428e-02, 4.87392894e-02,\n",
       "        1.95468770e-02, 6.09813178e-04, 1.12268157e-03, 1.97392913e-02,\n",
       "        7.79977576e-05, 4.71912737e-03, 2.36503407e-03, 1.51403978e-05,\n",
       "        1.34906608e-04, 6.10428266e-03, 2.93734562e-06, 2.61620934e-02,\n",
       "        1.13646671e-03, 3.29906958e-03, 2.34578119e-04, 1.72961207e-02,\n",
       "        2.86522566e-02, 4.06085158e-04, 6.02544089e-05, 2.32821381e-04,\n",
       "        5.78783551e-03, 4.19685376e-04, 1.78107693e-05, 1.55285378e-03,\n",
       "        2.09366581e-02, 1.93978139e-04, 1.04071050e-02, 8.85990520e-02,\n",
       "        4.83017230e-04, 2.07975003e-04, 2.47503549e-03, 1.19947622e-04,\n",
       "        7.37416666e-03, 3.58390504e-03, 5.88560210e-03, 1.31079274e-05,\n",
       "        1.07971409e-03, 3.64658752e-03, 3.99212101e-04, 9.67768681e-03,\n",
       "        9.32791627e-04, 1.09332981e-04, 1.04166585e-02, 2.04692629e-02,\n",
       "        4.24821158e-03, 4.45834065e-04, 1.51472045e-04, 1.24655466e-02,\n",
       "        2.24372251e-04, 2.93426354e-04, 1.26754889e-02, 2.24952398e-02,\n",
       "        1.63620586e-04, 8.02511169e-03, 1.42391573e-03, 1.90757812e-05,\n",
       "        1.57108436e-03, 2.36006229e-03, 3.38216964e-03, 5.33478265e-03,\n",
       "        1.08636957e-04, 1.43775135e-04, 3.28087790e-02, 7.34208309e-04,\n",
       "        2.43059727e-02, 1.84446010e-03, 5.24799430e-04, 1.71768154e-03,\n",
       "        5.66896219e-02, 2.79751317e-03, 1.58621213e-03, 6.20442774e-05,\n",
       "        1.25998255e-03, 2.53725476e-04, 3.37197624e-04, 2.16835890e-03,\n",
       "        2.16686499e-04, 3.00792244e-02, 1.47847497e-04, 7.39033227e-05,\n",
       "        1.79554229e-04, 5.75193340e-03, 3.23916266e-03, 5.20093719e-04,\n",
       "        2.25352270e-03, 2.14004373e-04, 4.19467353e-03, 2.93846835e-03,\n",
       "        7.02486360e-05, 1.45623845e-03, 1.95005128e-03, 3.91647860e-03,\n",
       "        5.22842991e-03, 2.67457051e-02, 7.66367646e-04, 1.65930881e-02,\n",
       "        5.93213370e-03, 1.01479218e-02, 1.90384667e-03, 5.18522440e-04,\n",
       "        1.86225137e-04, 2.57529234e-02, 1.14579681e-04, 5.51309160e-03,\n",
       "        6.50055787e-06, 2.05363798e-06, 1.22335369e-04, 4.42506672e-04,\n",
       "        2.29583319e-02, 5.57893577e-04, 1.96375716e-04, 3.75062202e-04,\n",
       "        9.98266513e-04, 4.53434044e-06, 2.00502873e-02, 1.52480777e-03,\n",
       "        3.52592991e-03, 3.99748119e-06, 2.19649196e-02, 2.09190305e-03,\n",
       "        1.18989579e-04, 7.29780658e-02, 1.59354120e-05, 3.42778985e-05,\n",
       "        2.93602710e-03, 1.33138927e-04, 9.97070220e-04, 5.74059863e-05,\n",
       "        6.54186273e-02, 2.85657814e-03, 2.98081250e-05, 5.33027282e-03,\n",
       "        1.00416099e-04, 5.64459203e-03, 2.12066819e-03, 7.63707164e-05,\n",
       "        1.04991269e-02, 9.74953502e-05, 1.51488281e-04, 1.98702811e-02,\n",
       "        2.21556102e-03, 1.05438170e-04, 4.57868449e-03, 5.15424262e-03,\n",
       "        1.33114035e-02, 2.16217807e-02, 6.90942254e-02, 5.07224182e-03,\n",
       "        4.55145940e-06, 3.34631143e-02, 3.91533456e-04, 9.02650403e-03,\n",
       "        4.28066017e-04, 1.75429180e-05, 1.12379473e-03, 1.96813978e-03,\n",
       "        3.62122078e-03, 6.26464376e-05, 1.41323477e-03, 7.99912750e-03,\n",
       "        9.48350579e-05, 9.09150691e-04, 2.05507799e-05, 3.17338062e-02,\n",
       "        2.91118415e-02, 2.23323521e-03, 9.67384879e-06, 1.75425800e-03,\n",
       "        2.71183129e-02, 1.42312201e-04, 4.23694939e-06, 2.27067486e-02,\n",
       "        1.81589059e-05, 4.44245902e-05, 5.32173551e-02, 7.14568091e-03,\n",
       "        3.71481932e-03, 1.81955537e-03, 1.65365878e-05, 2.06011692e-03,\n",
       "        6.22815656e-03, 8.20522892e-04, 3.95912208e-02, 7.57419969e-03,\n",
       "        3.59305229e-05, 1.17634354e-02, 6.62352334e-04, 1.08928659e-04,\n",
       "        3.78691442e-03, 6.41661310e-04, 1.28580391e-03, 2.79531586e-04,\n",
       "        1.96953608e-02, 1.31627865e-03, 1.75985033e-03, 2.24891052e-05,\n",
       "        6.35951188e-02, 5.60659421e-03, 2.09837691e-05, 1.02965771e-03,\n",
       "        2.14899479e-04, 2.41897719e-04, 1.42769590e-05, 1.97593446e-03,\n",
       "        3.46864174e-04, 3.20648434e-03, 6.11130261e-04, 1.96765194e-06,\n",
       "        7.34515627e-05, 1.42152187e-03, 1.43003594e-04, 2.02796096e-03,\n",
       "        3.40995735e-03, 1.72383245e-02, 1.24415214e-04, 1.04719105e-02,\n",
       "        1.92625951e-03, 4.34122174e-05, 4.39627012e-04, 6.32488236e-04,\n",
       "        1.00456253e-04, 4.39961761e-03, 2.87341154e-04, 3.82150515e-02,\n",
       "        5.91880571e-03, 4.71465811e-04, 3.56070407e-03, 1.06448053e-02,\n",
       "        5.31285837e-02, 1.06682435e-02, 2.04768945e-04, 2.06989755e-03,\n",
       "        1.23679458e-02, 4.91559112e-03, 1.98208647e-06, 4.50671019e-05,\n",
       "        1.84492187e-03, 7.33129682e-04, 2.37072676e-02, 1.86502555e-05,\n",
       "        7.56942043e-02, 1.96013334e-02, 2.31358547e-02, 4.46033301e-02,\n",
       "        1.35167194e-03, 6.84340531e-04, 6.35345056e-02, 4.03973997e-02,\n",
       "        1.13315378e-02, 1.52433146e-04, 1.57170341e-04, 1.25835689e-04,\n",
       "        2.71852695e-03, 3.47771239e-05, 2.56714234e-03, 3.43735102e-04,\n",
       "        4.48605518e-06, 7.58190974e-03, 7.03665044e-05, 8.55743668e-02,\n",
       "        5.76001418e-03, 6.01469620e-04, 4.79566368e-05, 1.42915741e-04,\n",
       "        3.16609925e-04, 6.98658460e-03, 1.71083998e-04, 2.07729429e-04,\n",
       "        1.84971148e-03, 7.94531605e-03, 4.65066485e-03, 3.03965183e-02,\n",
       "        2.83713558e-04, 5.65715903e-04, 3.22575611e-04, 8.96094411e-05,\n",
       "        4.61269119e-03, 2.57631747e-04, 8.34169109e-05, 1.00832781e-04,\n",
       "        9.79560835e-04, 4.31762531e-03, 5.16671795e-03, 1.34614196e-04,\n",
       "        4.78110774e-05, 1.00711838e-03, 5.32803350e-04, 2.19336034e-03,\n",
       "        4.08136462e-03, 7.21003076e-04, 9.36703620e-05, 1.39965123e-04,\n",
       "        6.29822323e-04, 1.69119811e-02, 2.76492023e-04, 5.25880407e-06,\n",
       "        8.51169094e-03, 2.22744810e-03, 5.64450444e-02, 5.89117257e-04,\n",
       "        7.37884621e-03, 5.05056236e-04, 1.17363908e-03, 3.36687575e-02,\n",
       "        2.31147513e-02, 1.69861796e-03, 5.72129030e-03, 3.26178979e-05,\n",
       "        4.32167725e-03, 1.35655413e-03, 1.07070341e-03, 1.58388851e-02,\n",
       "        1.72069101e-04, 5.26828986e-03, 3.23800642e-02, 9.05971911e-03,\n",
       "        1.44905465e-02, 1.02835529e-03, 1.74976095e-02, 9.59567231e-03,\n",
       "        9.51724303e-04, 3.31708831e-04, 2.93427248e-02, 1.52764729e-04,\n",
       "        2.59061405e-03, 2.86601907e-05, 1.19420367e-02, 1.01641972e-02,\n",
       "        8.32990654e-03, 9.74816154e-04, 3.47714707e-04, 1.76679618e-05,\n",
       "        3.65078194e-05, 5.15264699e-03, 5.26587977e-04, 1.16009751e-02,\n",
       "        1.62727468e-04, 1.41289161e-04, 1.48088992e-02, 1.82976870e-02,\n",
       "        4.72977652e-04, 2.07156847e-02, 1.25737626e-02, 4.26936151e-04,\n",
       "        6.59482231e-05, 3.76322613e-03, 2.20391665e-02, 1.41744442e-05,\n",
       "        2.27443030e-05, 3.23110572e-02, 1.58833439e-03, 1.10251084e-02,\n",
       "        5.33988063e-02, 8.40057538e-03, 1.61463182e-02, 2.83741344e-02,\n",
       "        9.40609221e-05, 2.19120730e-03, 1.09623064e-02, 4.89191780e-05,\n",
       "        9.33592558e-02, 2.77708316e-05, 1.22193089e-03, 3.45939132e-04,\n",
       "        1.37179094e-03, 2.64190747e-02, 4.83909798e-03, 1.61456323e-04,\n",
       "        5.57669115e-03, 1.00716405e-02, 3.13550016e-04, 2.75495946e-03,\n",
       "        2.34417962e-02, 8.92318555e-06, 6.83629596e-03, 1.62752258e-04,\n",
       "        7.31214980e-03, 3.18972877e-04, 4.54811118e-02, 6.77558196e-04,\n",
       "        3.36565372e-03, 4.34338130e-02, 1.72805211e-04, 2.98514932e-03,\n",
       "        5.90879243e-04, 6.98358372e-02, 5.16612088e-03, 4.92671524e-04,\n",
       "        4.40016227e-03, 6.95336981e-04, 6.80475908e-05, 1.02333596e-03,\n",
       "        1.22022533e-02, 1.70219645e-02, 1.19697041e-05, 3.91986478e-02,\n",
       "        9.70211483e-05, 2.62769541e-03, 3.11462425e-03, 4.28490473e-04,\n",
       "        4.12985361e-04, 1.77331168e-05, 2.02670027e-03, 3.01336802e-02,\n",
       "        3.83178262e-04, 6.81357954e-05, 3.17580253e-04, 1.69345355e-05,\n",
       "        1.36003547e-02, 5.75454878e-03, 4.05690892e-02, 1.01617827e-02,\n",
       "        2.90905029e-03, 3.94420601e-04, 1.44758258e-02, 4.46680966e-03,\n",
       "        1.07305734e-02, 1.03080783e-04, 8.52158798e-03, 1.69298611e-04,\n",
       "        3.81552617e-05, 3.27862070e-05, 1.20506062e-04, 1.76384518e-02,\n",
       "        1.20993800e-02, 4.24530179e-03, 7.75004466e-04, 6.08632112e-04,\n",
       "        1.67811626e-03, 1.67132459e-03, 2.70850755e-03, 1.20394176e-02,\n",
       "        5.21828472e-02, 2.40432563e-02, 1.01478551e-03, 1.61241286e-03,\n",
       "        9.96880584e-04, 2.62356098e-03, 1.08257182e-02, 1.01563718e-02,\n",
       "        4.86898103e-03, 3.57066554e-04, 1.24505399e-03, 4.81540676e-03,\n",
       "        2.55236682e-04, 7.25680605e-06, 3.36865277e-05, 2.22560890e-03,\n",
       "        2.22379645e-04, 1.25038014e-04, 7.85822023e-04, 7.84722481e-04,\n",
       "        1.61455909e-04, 5.98314291e-04, 7.33057091e-05, 8.42397100e-04,\n",
       "        2.51355993e-05, 4.70948032e-03, 6.22759937e-05, 1.15397648e-02,\n",
       "        4.53136797e-04, 7.03812036e-04, 7.03452072e-06, 7.47764336e-04,\n",
       "        5.58169954e-02, 1.43325379e-04, 1.27181424e-03, 3.66863946e-03,\n",
       "        1.14625467e-02, 1.39961995e-05, 5.53684012e-02, 4.31076450e-04,\n",
       "        1.39824917e-02, 2.02023990e-04, 2.57733626e-04, 2.39924882e-02,\n",
       "        7.04012067e-03, 3.66764064e-02, 4.89965216e-03, 2.05760880e-02,\n",
       "        2.81125306e-04, 6.32712081e-03, 1.30213726e-02, 7.32774959e-03,\n",
       "        1.78964236e-05, 5.32649780e-05, 2.29837959e-05, 6.73121329e-03,\n",
       "        7.01845839e-04, 1.31187451e-01, 2.41866670e-03, 4.28703123e-04,\n",
       "        3.07549450e-05, 3.48857296e-02, 2.18547641e-02, 8.37739827e-04,\n",
       "        6.34314278e-04, 2.81067262e-04, 8.42356541e-04, 8.03525253e-03,\n",
       "        5.40866581e-03, 1.03298890e-02, 1.07986769e-02, 4.92858250e-03,\n",
       "        2.11367725e-03, 3.29301183e-05, 1.46636689e-02, 8.52541792e-03,\n",
       "        5.68137608e-04, 1.59145681e-02, 2.92237545e-04, 5.07301125e-03,\n",
       "        9.66752119e-05, 6.03095177e-03, 3.04604696e-02, 2.57485259e-03,\n",
       "        1.10222783e-06, 2.42821490e-05, 4.22304856e-04, 1.20599120e-03,\n",
       "        3.05762588e-03, 5.54007045e-02, 7.94944806e-04, 9.39625703e-05,\n",
       "        2.27280304e-05, 6.48504744e-05, 3.19324604e-03, 8.05530779e-04,\n",
       "        6.26859454e-03, 5.93297165e-06, 9.82270508e-05, 1.11238968e-04,\n",
       "        6.05605876e-03, 3.25444846e-04, 3.70107432e-05, 1.25255041e-02,\n",
       "        2.36926058e-05, 6.15125912e-03, 2.98404954e-03, 3.16476558e-04,\n",
       "        1.35156757e-03, 6.49230922e-03, 4.05767226e-03, 1.30019360e-03,\n",
       "        3.22249041e-03, 8.19684566e-04, 4.47164613e-03, 1.99597508e-05,\n",
       "        9.41358927e-06, 6.29472818e-05, 1.35836004e-04, 5.10404920e-02,\n",
       "        1.25977955e-04, 1.24272720e-04, 1.65826510e-04, 1.11623017e-04,\n",
       "        2.13459110e-02, 3.24065682e-05, 1.02736390e-04, 1.16857301e-03,\n",
       "        6.50737018e-04, 1.07166908e-03, 2.25565205e-04, 6.00205285e-04,\n",
       "        5.63542095e-03, 4.21564419e-03, 6.62168279e-06, 1.85160400e-02,\n",
       "        4.26958783e-04, 3.03347351e-03, 2.78653177e-02, 8.64122815e-03,\n",
       "        1.17501344e-02, 4.95608024e-03, 4.02062659e-03, 1.19426580e-04,\n",
       "        9.44234557e-03, 5.89659447e-05, 9.57519875e-04, 3.19474862e-03,\n",
       "        1.41496138e-05, 9.48458391e-03, 1.23900022e-02, 2.90887423e-03,\n",
       "        7.50559289e-04, 7.36343557e-04, 1.58431269e-03, 6.16645963e-04,\n",
       "        3.73155918e-03, 1.12387695e-03, 2.80980766e-03, 3.37900766e-05,\n",
       "        1.34757186e-02, 1.60473041e-03, 3.74361074e-03, 2.20908076e-02,\n",
       "        4.27653524e-03, 5.27808304e-04, 1.04622971e-04, 4.26353678e-02,\n",
       "        9.46114202e-03, 6.44423609e-04, 3.98313830e-03, 3.53812134e-06,\n",
       "        4.41061624e-02, 1.60869998e-03, 3.47294679e-03, 5.73032387e-03,\n",
       "        5.64889027e-05, 3.11211588e-02, 4.02254768e-03, 1.28508588e-03,\n",
       "        7.37009986e-04, 5.73818105e-05, 4.10217284e-04, 5.44217025e-03,\n",
       "        2.31668456e-04, 1.51042642e-02, 3.98237091e-03, 3.46808040e-03,\n",
       "        4.34475368e-04, 4.70278508e-03, 1.17981883e-02, 6.35114261e-03,\n",
       "        2.65243827e-03, 1.88870377e-04, 2.69288484e-06, 2.46092689e-03,\n",
       "        2.48032319e-05, 2.83305766e-03, 5.00668792e-05, 7.00664224e-04,\n",
       "        1.25063089e-04, 2.40416384e-04, 2.91163745e-03, 1.22398093e-02,\n",
       "        1.30912082e-05, 1.79279119e-03, 3.23152340e-03, 5.32180546e-03,\n",
       "        3.46447257e-03, 5.74116752e-05, 1.88450709e-05, 1.39823690e-03,\n",
       "        2.70806660e-03, 2.03092624e-02, 4.66197323e-02, 1.12546680e-04,\n",
       "        3.07133376e-02, 5.31798279e-03, 1.95756949e-05, 1.59885784e-03,\n",
       "        3.91729058e-04, 5.69246932e-03, 2.74343999e-05, 5.99442407e-02,\n",
       "        1.94241001e-03, 2.77218375e-02, 6.51779782e-04, 2.30646613e-04,\n",
       "        5.41783599e-03, 1.75099466e-02, 4.10774305e-04, 6.26294073e-04,\n",
       "        9.49621781e-03, 1.62425221e-04, 3.98564936e-03, 9.18514885e-04,\n",
       "        2.81127018e-04, 2.02416135e-03, 1.18252064e-03, 1.75493568e-04,\n",
       "        1.94023863e-04, 3.25772003e-03, 1.11403465e-02, 5.74672539e-05,\n",
       "        6.13663163e-03, 8.78022697e-04, 4.86645476e-02, 4.95435712e-04,\n",
       "        1.21203001e-01, 1.33540405e-03, 2.80917867e-05, 9.66189492e-06,\n",
       "        2.52509223e-04, 4.47866780e-03, 3.97136236e-04, 2.87643947e-03,\n",
       "        8.83056932e-03, 1.35930203e-05, 2.24872150e-04, 1.92303799e-05,\n",
       "        3.08183080e-05, 9.64887631e-03, 2.36219219e-04, 1.25760287e-02,\n",
       "        2.19468640e-04, 5.03584749e-02, 7.67339547e-04, 4.27077635e-05,\n",
       "        1.52904425e-02, 7.96411028e-03, 7.30645800e-05, 1.23406975e-04,\n",
       "        7.72469322e-04, 2.14844247e-03, 9.60793621e-03, 1.04432868e-03,\n",
       "        9.87177947e-04, 8.12980310e-05, 1.05542169e-02, 1.68463931e-02,\n",
       "        2.91474512e-02, 1.21693196e-02, 2.19509505e-03, 1.14022605e-03,\n",
       "        1.22818759e-02, 1.98929530e-02, 1.69370937e-04, 6.32894263e-02,\n",
       "        2.37951448e-03, 6.12376055e-03, 1.35194065e-03, 9.08025273e-04,\n",
       "        4.58097279e-03, 2.71963367e-03, 4.43683277e-02, 1.75429816e-04,\n",
       "        5.09536936e-03, 9.73410414e-04, 1.75929269e-03, 1.54539095e-02,\n",
       "        6.42917392e-05, 4.15426820e-03, 4.54741992e-04, 3.89505648e-02,\n",
       "        3.40769218e-03, 4.73413130e-04, 1.93798483e-03, 1.00684264e-03,\n",
       "        1.67221887e-04, 1.95166353e-04, 5.34993226e-05, 1.77255507e-05,\n",
       "        1.77366503e-02, 1.37008299e-03, 4.31151140e-04, 3.06493387e-03,\n",
       "        1.77930471e-05, 2.82788551e-05, 4.81638126e-04, 2.51720493e-02,\n",
       "        8.76574176e-03, 8.19559835e-02, 1.76190830e-02, 3.04322082e-04,\n",
       "        3.20021839e-04, 1.62064408e-03, 1.79459332e-04, 2.98831236e-03,\n",
       "        5.27584392e-03, 4.13163465e-04, 9.79160472e-04, 1.40023371e-04,\n",
       "        1.14933031e-02, 7.46573205e-04, 2.15674746e-02, 1.25331525e-02,\n",
       "        2.45806908e-02, 7.22658670e-03]), 129.0, 774)"
      ]
     },
     "execution_count": 39,
     "metadata": {},
     "output_type": "execute_result"
    }
   ],
   "source": [
    "X7_down[:,-1], y7_down.sum(), len(y7_down)"
   ]
  },
  {
   "cell_type": "code",
   "execution_count": 42,
   "metadata": {},
   "outputs": [],
   "source": [
    "y7_down = y7_down.astype(int)"
   ]
  },
  {
   "cell_type": "code",
   "execution_count": 43,
   "metadata": {},
   "outputs": [
    {
     "data": {
      "text/plain": [
       "((774,),\n",
       " (774, 920),\n",
       " array([0, 0, 0, 0, 0, 0, 1, 0, 0, 0, 0, 0, 0, 0, 0, 0, 1, 0, 0, 1, 0, 0,\n",
       "        0, 1, 0, 0, 0, 0, 0, 0, 0, 0, 1, 0, 1, 0, 0, 0, 0, 0, 1, 1, 0, 0,\n",
       "        0, 0, 0, 0, 0, 0, 0, 0, 0, 0, 0, 0, 0, 0, 0, 0, 0, 1, 0, 0, 0, 0,\n",
       "        0, 0, 1, 0, 0, 0, 0, 0, 0, 0, 1, 0, 1, 1, 0, 0, 0, 0, 0, 0, 1, 0,\n",
       "        0, 0, 0, 1, 0, 1, 0, 1, 0, 0, 0, 1, 0, 0, 0, 0, 1, 0, 0, 0, 0, 0,\n",
       "        1, 1, 0, 0, 0, 0, 0, 0, 0, 0, 0, 0, 0, 0, 0, 0, 0, 0, 0, 1, 1, 0,\n",
       "        0, 0, 0, 0, 0, 0, 0, 0, 0, 0, 0, 1, 1, 0, 0, 0, 0, 0, 0, 0, 1, 0,\n",
       "        1, 1, 0, 0, 1, 0, 0, 1, 1, 1, 1, 0, 0, 0, 0, 0, 0, 0, 0, 0, 0, 0,\n",
       "        0, 0, 0, 0, 0, 0, 0, 0, 0, 0, 0, 0, 0, 0, 0, 1, 0, 1, 0, 0, 0, 1,\n",
       "        1, 0, 0, 0, 0, 0, 0, 0, 1, 1, 0, 1, 1, 0, 0, 0, 0, 0, 0, 0, 0, 0,\n",
       "        0, 1, 1, 0, 0, 0, 0, 0, 0, 0, 0, 0, 0, 0, 0, 0, 0, 0, 0, 0, 0, 0,\n",
       "        0, 0, 0, 0, 0, 0, 0, 1, 0, 0, 0, 0, 0, 0, 1, 0, 1, 0, 0, 0, 0, 0,\n",
       "        0, 0, 0, 1, 0, 0, 0, 0, 0, 1, 0, 0, 0, 0, 0, 0, 0, 0, 0, 0, 0, 0,\n",
       "        0, 0, 0, 0, 1, 1, 1, 0, 0, 0, 0, 0, 0, 0, 0, 1, 0, 0, 1, 0, 0, 0,\n",
       "        0, 0, 0, 1, 0, 0, 0, 0, 0, 0, 0, 0, 0, 1, 0, 0, 0, 1, 0, 0, 1, 0,\n",
       "        1, 0, 0, 0, 0, 0, 0, 0, 0, 0, 0, 0, 0, 0, 0, 0, 0, 0, 0, 0, 0, 0,\n",
       "        1, 0, 0, 0, 0, 0, 0, 0, 0, 0, 0, 0, 0, 0, 0, 0, 1, 0, 0, 0, 0, 0,\n",
       "        0, 0, 0, 0, 1, 0, 0, 0, 0, 0, 0, 0, 0, 0, 0, 0, 0, 1, 0, 0, 0, 0,\n",
       "        0, 0, 0, 0, 0, 1, 0, 0, 0, 1, 0, 0, 0, 0, 0, 0, 0, 0, 0, 0, 0, 0,\n",
       "        0, 0, 0, 0, 1, 0, 0, 0, 0, 0, 0, 0, 0, 1, 1, 0, 1, 1, 0, 0, 1, 0,\n",
       "        0, 0, 0, 0, 0, 0, 0, 0, 1, 0, 0, 0, 0, 0, 0, 0, 0, 0, 1, 0, 0, 0,\n",
       "        0, 0, 0, 0, 0, 0, 0, 0, 0, 0, 0, 0, 0, 0, 0, 1, 0, 0, 1, 0, 0, 0,\n",
       "        1, 0, 0, 0, 0, 0, 0, 1, 1, 0, 0, 0, 0, 0, 0, 0, 0, 0, 1, 1, 0, 0,\n",
       "        0, 1, 0, 0, 0, 0, 0, 0, 0, 1, 0, 0, 0, 0, 0, 0, 0, 0, 1, 0, 0, 0,\n",
       "        0, 0, 1, 0, 0, 0, 0, 1, 1, 0, 0, 0, 0, 1, 0, 0, 0, 1, 0, 0, 0, 0,\n",
       "        0, 0, 0, 0, 0, 0, 0, 1, 1, 1, 0, 0, 0, 0, 1, 1, 0, 1, 0, 0, 0, 0,\n",
       "        0, 1, 0, 0, 0, 0, 0, 0, 0, 0, 1, 1, 0, 0, 0, 0, 1, 1, 1, 0, 0, 0,\n",
       "        0, 0, 0, 0, 0, 0, 0, 0, 0, 0, 0, 0, 0, 0, 0, 0, 1, 0, 0, 0, 1, 0,\n",
       "        0, 0, 0, 1, 0, 0, 1, 0, 0, 0, 0, 0, 0, 0, 0, 0, 0, 0, 0, 0, 0, 0,\n",
       "        0, 0, 0, 1, 0, 1, 1, 0, 0, 1, 1, 0, 0, 0, 0, 0, 0, 0, 0, 0, 0, 0,\n",
       "        0, 0, 1, 0, 0, 0, 0, 1, 0, 0, 0, 0, 0, 0, 1, 0, 0, 0, 0, 0, 0, 0,\n",
       "        0, 1, 0, 0, 0, 0, 0, 0, 0, 0, 0, 0, 1, 0, 0, 0, 0, 1, 0, 0, 0, 0,\n",
       "        0, 1, 0, 0, 1, 0, 0, 1, 1, 0, 0, 0, 0, 0, 1, 1, 0, 0, 0, 0, 0, 0,\n",
       "        1, 0, 0, 0, 0, 0, 0, 0, 0, 1, 1, 1, 0, 0, 0, 1, 0, 0, 0, 0, 0, 0,\n",
       "        0, 1, 0, 0, 0, 0, 1, 0, 0, 0, 1, 0, 0, 0, 0, 1, 0, 0, 0, 0, 0, 0,\n",
       "        0, 0, 0, 0]))"
      ]
     },
     "execution_count": 43,
     "metadata": {},
     "output_type": "execute_result"
    }
   ],
   "source": [
    "y7_down.shape, X7_down.shape, y7_down"
   ]
  },
  {
   "cell_type": "code",
   "execution_count": 45,
   "metadata": {},
   "outputs": [
    {
     "data": {
      "text/plain": [
       "array([0, 0, 0, ..., 0, 0, 0])"
      ]
     },
     "execution_count": 45,
     "metadata": {},
     "output_type": "execute_result"
    }
   ],
   "source": [
    "y_test"
   ]
  },
  {
   "cell_type": "code",
   "execution_count": 44,
   "metadata": {},
   "outputs": [
    {
     "data": {
      "text/plain": [
       "BalancedRandomForestClassifier(bootstrap=True, class_weight=None,\n",
       "                               criterion='gini', max_depth=5,\n",
       "                               max_features='auto', max_leaf_nodes=None,\n",
       "                               min_impurity_decrease=0.0, min_samples_leaf=2,\n",
       "                               min_samples_split=2,\n",
       "                               min_weight_fraction_leaf=0.0, n_estimators=500,\n",
       "                               n_jobs=1, oob_score=False, random_state=0,\n",
       "                               replacement=False, sampling_strategy='auto',\n",
       "                               verbose=0, warm_start=False)"
      ]
     },
     "execution_count": 44,
     "metadata": {},
     "output_type": "execute_result"
    }
   ],
   "source": [
    "clf7 = BalancedRandomForestClassifier(n_estimators=500, max_depth=5, random_state=0)\n",
    "clf7.fit(X7_down, y7_down)  \n",
    "\n"
   ]
  },
  {
   "cell_type": "code",
   "execution_count": 46,
   "metadata": {},
   "outputs": [
    {
     "name": "stdout",
     "output_type": "stream",
     "text": [
      "              precision    recall  f1-score   support\n",
      "\n",
      "           0  0.9998969285 0.9295410265 0.9634362327     31309\n",
      "           1  0.0178094390 0.9302325581 0.0349497597        43\n",
      "\n",
      "    accuracy                      0.9295419750     31352\n",
      "   macro avg  0.5088531837 0.9298867923 0.4991929962     31352\n",
      "weighted avg  0.9985499725 0.9295419750 0.9621627918     31352\n",
      "\n"
     ]
    }
   ],
   "source": [
    "brfc_pred7 = clf7.predict(X_test)\n",
    "brfc_cr7 = classification_report(y_test, brfc_pred7, digits=10)\n",
    "print(brfc_cr7)"
   ]
  },
  {
   "cell_type": "code",
   "execution_count": 133,
   "metadata": {},
   "outputs": [
    {
     "data": {
      "text/plain": [
       "(111, 0.0)"
      ]
     },
     "execution_count": 133,
     "metadata": {},
     "output_type": "execute_result"
    }
   ],
   "source": [
    "y_test.sum(), brfc_pred7.sum()"
   ]
  },
  {
   "cell_type": "code",
   "execution_count": null,
   "metadata": {},
   "outputs": [],
   "source": []
  }
 ],
 "metadata": {
  "kernelspec": {
   "display_name": "Python 3",
   "language": "python",
   "name": "python3"
  },
  "language_info": {
   "codemirror_mode": {
    "name": "ipython",
    "version": 3
   },
   "file_extension": ".py",
   "mimetype": "text/x-python",
   "name": "python",
   "nbconvert_exporter": "python",
   "pygments_lexer": "ipython3",
   "version": "3.6.6"
  }
 },
 "nbformat": 4,
 "nbformat_minor": 2
}
